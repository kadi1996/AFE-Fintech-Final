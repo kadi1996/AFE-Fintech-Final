{
 "cells": [
  {
   "cell_type": "code",
   "execution_count": 6,
   "metadata": {},
   "outputs": [
    {
     "name": "stdout",
     "output_type": "stream",
     "text": [
      "Collecting feedparser\n",
      "  Using cached feedparser-6.0.10-py3-none-any.whl (81 kB)\n",
      "Collecting sgmllib3k\n",
      "  Using cached sgmllib3k-1.0.0-py3-none-any.whl\n",
      "Installing collected packages: sgmllib3k, feedparser\n",
      "Successfully installed feedparser-6.0.10 sgmllib3k-1.0.0\n"
     ]
    }
   ],
   "source": [
    "!pip install feedparser"
   ]
  },
  {
   "cell_type": "code",
   "execution_count": 7,
   "metadata": {},
   "outputs": [],
   "source": [
    "# Description: This file contains the code to collect data from the web\n",
    "import feedparser\n",
    "import requests\n",
    "from bs4 import BeautifulSoup\n",
    "import re\n",
    "import pandas as pd\n",
    "from os.path import exists\n"
   ]
  },
  {
   "cell_type": "code",
   "execution_count": 10,
   "metadata": {},
   "outputs": [],
   "source": [
    "#set parameters\n",
    "pathToFile = 'inputData.csv'"
   ]
  },
  {
   "cell_type": "code",
   "execution_count": 11,
   "metadata": {},
   "outputs": [],
   "source": [
    "#check if inputData.csv exists if not create a new one\n",
    "\n",
    "if exists(pathToFile):\n",
    "    # read file into df\n",
    "    df = pd.read_csv(pathToFile)\n",
    "else:\n",
    "    # create a df with the text and the source with row for id\n",
    "    df = pd.DataFrame(columns=['text', 'source', 'time'])"
   ]
  },
  {
   "cell_type": "code",
   "execution_count": 12,
   "metadata": {},
   "outputs": [],
   "source": [
    "### Das ist ein Beispiel wie es laufen kann. je nach quelle kann es dann anders aussehen\n",
    "\n",
    "url = 'https://stockcharts.com/articles/atom.xml'\n",
    "sourceName = 'stockcharts'\n",
    "f = feedparser.parse(url)\n",
    "\n",
    "#cut feed down to 5 elements\n",
    "#f.entries = f.entries[:5]\n",
    "for entry in f.entries:\n",
    "\n",
    "    #f.entries[0].content[0].value\n",
    "    # get the content via beautifulsoup from  f\n",
    "    text = entry.content[0].value\n",
    "    #get just the text from the html and remove html tags\n",
    "    text = re.sub('<[^<]+?>', '', text)\n",
    "    soup = BeautifulSoup(text, 'html.parser')\n",
    "    #print(soup)\n",
    "    #add the text and the source to the df with .loc\n",
    "    df.loc[len(df)] = [soup, sourceName, pd.Timestamp.now()]\n"
   ]
  },
  {
   "cell_type": "code",
   "execution_count": 13,
   "metadata": {},
   "outputs": [],
   "source": [
    "#remove duplicated by text from df\n",
    "df = df.drop_duplicates(subset='text', keep=\"first\")\n",
    "#reset index\n",
    "df = df.reset_index(drop=True)\n",
    "#save file to csv\n",
    "df.to_csv(pathToFile, index=False)\n"
   ]
  },
  {
   "cell_type": "code",
   "execution_count": 14,
   "metadata": {},
   "outputs": [
    {
     "data": {
      "text/html": [
       "<div>\n",
       "<style scoped>\n",
       "    .dataframe tbody tr th:only-of-type {\n",
       "        vertical-align: middle;\n",
       "    }\n",
       "\n",
       "    .dataframe tbody tr th {\n",
       "        vertical-align: top;\n",
       "    }\n",
       "\n",
       "    .dataframe thead th {\n",
       "        text-align: right;\n",
       "    }\n",
       "</style>\n",
       "<table border=\"1\" class=\"dataframe\">\n",
       "  <thead>\n",
       "    <tr style=\"text-align: right;\">\n",
       "      <th></th>\n",
       "      <th>text</th>\n",
       "      <th>source</th>\n",
       "      <th>time</th>\n",
       "    </tr>\n",
       "  </thead>\n",
       "  <tbody>\n",
       "    <tr>\n",
       "      <th>0</th>\n",
       "      <td>In this edition of StockCharts TV's The Final ...</td>\n",
       "      <td>stockcharts</td>\n",
       "      <td>2023-11-07 10:01:35.688719</td>\n",
       "    </tr>\n",
       "    <tr>\n",
       "      <th>1</th>\n",
       "      <td>In this week's edition of The DecisionPoint Tr...</td>\n",
       "      <td>stockcharts</td>\n",
       "      <td>2023-11-07 10:01:35.688719</td>\n",
       "    </tr>\n",
       "    <tr>\n",
       "      <th>2</th>\n",
       "      <td>The traditional year-end rally may have starte...</td>\n",
       "      <td>stockcharts</td>\n",
       "      <td>2023-11-07 10:01:35.688719</td>\n",
       "    </tr>\n",
       "    <tr>\n",
       "      <th>3</th>\n",
       "      <td>Last week's sharp upward reversal in the bond ...</td>\n",
       "      <td>stockcharts</td>\n",
       "      <td>2023-11-07 10:01:35.688719</td>\n",
       "    </tr>\n",
       "    <tr>\n",
       "      <th>4</th>\n",
       "      <td>Trading isn't easy.  It requires knowledge, ex...</td>\n",
       "      <td>stockcharts</td>\n",
       "      <td>2023-11-07 10:01:35.688719</td>\n",
       "    </tr>\n",
       "    <tr>\n",
       "      <th>...</th>\n",
       "      <td>...</td>\n",
       "      <td>...</td>\n",
       "      <td>...</td>\n",
       "    </tr>\n",
       "    <tr>\n",
       "      <th>183</th>\n",
       "      <td>[In this edition of StockCharts TV's The Final...</td>\n",
       "      <td>stockcharts</td>\n",
       "      <td>2023-11-27 17:19:08.018580</td>\n",
       "    </tr>\n",
       "    <tr>\n",
       "      <th>184</th>\n",
       "      <td>[Palantir Technologies (PLTR) was a \"talked-ab...</td>\n",
       "      <td>stockcharts</td>\n",
       "      <td>2023-11-27 17:19:08.019488</td>\n",
       "    </tr>\n",
       "    <tr>\n",
       "      <th>185</th>\n",
       "      <td>[In the previous episode, TG explained that we...</td>\n",
       "      <td>stockcharts</td>\n",
       "      <td>2023-11-27 17:19:08.020157</td>\n",
       "    </tr>\n",
       "    <tr>\n",
       "      <th>186</th>\n",
       "      <td>[Sample ReportBelow is our latest Weekly Marke...</td>\n",
       "      <td>stockcharts</td>\n",
       "      <td>2023-11-27 17:19:08.020957</td>\n",
       "    </tr>\n",
       "    <tr>\n",
       "      <th>187</th>\n",
       "      <td>[Stock traders seem stunned by the recent fall...</td>\n",
       "      <td>stockcharts</td>\n",
       "      <td>2023-11-27 17:19:08.021948</td>\n",
       "    </tr>\n",
       "  </tbody>\n",
       "</table>\n",
       "<p>188 rows × 3 columns</p>\n",
       "</div>"
      ],
      "text/plain": [
       "                                                  text       source  \\\n",
       "0    In this edition of StockCharts TV's The Final ...  stockcharts   \n",
       "1    In this week's edition of The DecisionPoint Tr...  stockcharts   \n",
       "2    The traditional year-end rally may have starte...  stockcharts   \n",
       "3    Last week's sharp upward reversal in the bond ...  stockcharts   \n",
       "4    Trading isn't easy.  It requires knowledge, ex...  stockcharts   \n",
       "..                                                 ...          ...   \n",
       "183  [In this edition of StockCharts TV's The Final...  stockcharts   \n",
       "184  [Palantir Technologies (PLTR) was a \"talked-ab...  stockcharts   \n",
       "185  [In the previous episode, TG explained that we...  stockcharts   \n",
       "186  [Sample ReportBelow is our latest Weekly Marke...  stockcharts   \n",
       "187  [Stock traders seem stunned by the recent fall...  stockcharts   \n",
       "\n",
       "                           time  \n",
       "0    2023-11-07 10:01:35.688719  \n",
       "1    2023-11-07 10:01:35.688719  \n",
       "2    2023-11-07 10:01:35.688719  \n",
       "3    2023-11-07 10:01:35.688719  \n",
       "4    2023-11-07 10:01:35.688719  \n",
       "..                          ...  \n",
       "183  2023-11-27 17:19:08.018580  \n",
       "184  2023-11-27 17:19:08.019488  \n",
       "185  2023-11-27 17:19:08.020157  \n",
       "186  2023-11-27 17:19:08.020957  \n",
       "187  2023-11-27 17:19:08.021948  \n",
       "\n",
       "[188 rows x 3 columns]"
      ]
     },
     "execution_count": 14,
     "metadata": {},
     "output_type": "execute_result"
    }
   ],
   "source": [
    "df\n"
   ]
  },
  {
   "cell_type": "code",
   "execution_count": 15,
   "metadata": {},
   "outputs": [
    {
     "name": "stdout",
     "output_type": "stream",
     "text": [
      "2023-11-27 17:19:10.641719\n"
     ]
    }
   ],
   "source": [
    "print(pd.Timestamp.now())"
   ]
  },
  {
   "cell_type": "code",
   "execution_count": null,
   "metadata": {},
   "outputs": [],
   "source": []
  },
  {
   "cell_type": "code",
   "execution_count": null,
   "metadata": {},
   "outputs": [],
   "source": []
  },
  {
   "cell_type": "code",
   "execution_count": null,
   "metadata": {},
   "outputs": [],
   "source": []
  }
 ],
 "metadata": {
  "kernelspec": {
   "display_name": "Python 3.11 (tensorflow_test)",
   "language": "python",
   "name": "tensorflow"
  },
  "language_info": {
   "codemirror_mode": {
    "name": "ipython",
    "version": 3
   },
   "file_extension": ".py",
   "mimetype": "text/x-python",
   "name": "python",
   "nbconvert_exporter": "python",
   "pygments_lexer": "ipython3",
   "version": "3.10.10"
  }
 },
 "nbformat": 4,
 "nbformat_minor": 2
}
