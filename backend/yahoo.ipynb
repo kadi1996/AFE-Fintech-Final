{
 "cells": [
  {
   "cell_type": "code",
   "execution_count": 35,
   "metadata": {},
   "outputs": [],
   "source": [
    "from pandas_datareader import data as pdr\n",
    "from datetime import datetime,date\n",
    "\n",
    "import yfinance as yf\n",
    "from os.path import exists\n",
    "import pandas as pd\n",
    "from datetime import datetime \n",
    "from datetime import timedelta \n",
    "import matplotlib.pyplot as plt"
   ]
  },
  {
   "cell_type": "code",
   "execution_count": 36,
   "metadata": {},
   "outputs": [],
   "source": [
    "inputPath = 'pivot.csv'"
   ]
  },
  {
   "cell_type": "code",
   "execution_count": 37,
   "metadata": {},
   "outputs": [],
   "source": [
    "if exists(inputPath):\n",
    "    # read file into df\n",
    "    dfInput = pd.read_csv(inputPath)\n",
    "else:\n",
    "    pass"
   ]
  },
  {
   "cell_type": "code",
   "execution_count": 38,
   "metadata": {},
   "outputs": [
    {
     "name": "stdout",
     "output_type": "stream",
     "text": [
      "[*********************100%%**********************]  1 of 1 completed\n",
      "[*********************100%%**********************]  1 of 1 completed\n",
      "[*********************100%%**********************]  1 of 1 completed\n",
      "[*********************100%%**********************]  1 of 1 completed\n",
      "single positional indexer is out-of-bounds\n",
      "[*********************100%%**********************]  1 of 1 completed\n",
      "single positional indexer is out-of-bounds\n",
      "[*********************100%%**********************]  1 of 1 completed\n",
      "single positional indexer is out-of-bounds\n",
      "[*********************100%%**********************]  1 of 1 completed\n",
      "single positional indexer is out-of-bounds\n",
      "[*********************100%%**********************]  1 of 1 completed\n",
      "single positional indexer is out-of-bounds\n",
      "[*********************100%%**********************]  1 of 1 completed\n",
      "single positional indexer is out-of-bounds\n",
      "[*********************100%%**********************]  1 of 1 completed\n",
      "single positional indexer is out-of-bounds\n",
      "[*********************100%%**********************]  1 of 1 completed\n",
      "single positional indexer is out-of-bounds\n",
      "[*********************100%%**********************]  1 of 1 completed\n",
      "single positional indexer is out-of-bounds\n",
      "[*********************100%%**********************]  1 of 1 completed\n",
      "single positional indexer is out-of-bounds\n",
      "[*********************100%%**********************]  1 of 1 completed\n",
      "single positional indexer is out-of-bounds\n",
      "[*********************100%%**********************]  1 of 1 completed\n",
      "single positional indexer is out-of-bounds\n",
      "[*********************100%%**********************]  1 of 1 completed\n",
      "[*********************100%%**********************]  1 of 1 completed\n",
      "[*********************100%%**********************]  1 of 1 completed\n",
      "[*********************100%%**********************]  1 of 1 completed\n",
      "single positional indexer is out-of-bounds\n",
      "[*********************100%%**********************]  1 of 1 completed\n",
      "single positional indexer is out-of-bounds\n",
      "[*********************100%%**********************]  1 of 1 completed\n",
      "single positional indexer is out-of-bounds\n",
      "[*********************100%%**********************]  1 of 1 completed\n",
      "single positional indexer is out-of-bounds\n",
      "[*********************100%%**********************]  1 of 1 completed\n",
      "single positional indexer is out-of-bounds\n",
      "[*********************100%%**********************]  1 of 1 completed\n",
      "single positional indexer is out-of-bounds\n",
      "[*********************100%%**********************]  1 of 1 completed\n",
      "single positional indexer is out-of-bounds\n",
      "[*********************100%%**********************]  1 of 1 completed\n",
      "single positional indexer is out-of-bounds\n",
      "[*********************100%%**********************]  1 of 1 completed\n",
      "single positional indexer is out-of-bounds\n",
      "[*********************100%%**********************]  1 of 1 completed\n",
      "single positional indexer is out-of-bounds\n",
      "[*********************100%%**********************]  1 of 1 completed\n",
      "single positional indexer is out-of-bounds\n",
      "[*********************100%%**********************]  1 of 1 completed\n",
      "single positional indexer is out-of-bounds\n",
      "[*********************100%%**********************]  1 of 1 completed\n",
      "[*********************100%%**********************]  1 of 1 completed\n",
      "[*********************100%%**********************]  1 of 1 completed\n",
      "[*********************100%%**********************]  1 of 1 completed\n",
      "single positional indexer is out-of-bounds\n",
      "[*********************100%%**********************]  1 of 1 completed\n",
      "single positional indexer is out-of-bounds\n",
      "[*********************100%%**********************]  1 of 1 completed\n",
      "single positional indexer is out-of-bounds\n",
      "[*********************100%%**********************]  1 of 1 completed\n",
      "single positional indexer is out-of-bounds\n",
      "[*********************100%%**********************]  1 of 1 completed\n",
      "single positional indexer is out-of-bounds\n",
      "[*********************100%%**********************]  1 of 1 completed\n",
      "single positional indexer is out-of-bounds\n",
      "[*********************100%%**********************]  1 of 1 completed\n",
      "single positional indexer is out-of-bounds\n",
      "[*********************100%%**********************]  1 of 1 completed\n",
      "single positional indexer is out-of-bounds\n",
      "[*********************100%%**********************]  1 of 1 completed\n",
      "single positional indexer is out-of-bounds\n",
      "[*********************100%%**********************]  1 of 1 completed\n",
      "single positional indexer is out-of-bounds\n",
      "[*********************100%%**********************]  1 of 1 completed\n",
      "single positional indexer is out-of-bounds\n",
      "[*********************100%%**********************]  1 of 1 completed\n",
      "single positional indexer is out-of-bounds\n",
      "[*********************100%%**********************]  1 of 1 completed\n",
      "[*********************100%%**********************]  1 of 1 completed\n",
      "[*********************100%%**********************]  1 of 1 completed\n",
      "[*********************100%%**********************]  1 of 1 completed\n",
      "single positional indexer is out-of-bounds\n",
      "[*********************100%%**********************]  1 of 1 completed\n",
      "single positional indexer is out-of-bounds\n",
      "[*********************100%%**********************]  1 of 1 completed\n",
      "single positional indexer is out-of-bounds\n",
      "[*********************100%%**********************]  1 of 1 completed\n",
      "single positional indexer is out-of-bounds\n",
      "[*********************100%%**********************]  1 of 1 completed\n",
      "single positional indexer is out-of-bounds\n",
      "[*********************100%%**********************]  1 of 1 completed\n",
      "single positional indexer is out-of-bounds\n",
      "[*********************100%%**********************]  1 of 1 completed\n",
      "single positional indexer is out-of-bounds\n",
      "[*********************100%%**********************]  1 of 1 completed\n",
      "single positional indexer is out-of-bounds\n",
      "[*********************100%%**********************]  1 of 1 completed\n",
      "single positional indexer is out-of-bounds\n",
      "[*********************100%%**********************]  1 of 1 completed\n",
      "single positional indexer is out-of-bounds\n",
      "[*********************100%%**********************]  1 of 1 completed\n",
      "single positional indexer is out-of-bounds\n",
      "[*********************100%%**********************]  1 of 1 completed\n",
      "single positional indexer is out-of-bounds\n",
      "[*********************100%%**********************]  1 of 1 completed\n",
      "[*********************100%%**********************]  1 of 1 completed\n",
      "[*********************100%%**********************]  1 of 1 completed\n",
      "[*********************100%%**********************]  1 of 1 completed\n",
      "single positional indexer is out-of-bounds\n",
      "[*********************100%%**********************]  1 of 1 completed\n",
      "single positional indexer is out-of-bounds\n",
      "[*********************100%%**********************]  1 of 1 completed\n",
      "single positional indexer is out-of-bounds\n",
      "[*********************100%%**********************]  1 of 1 completed\n",
      "single positional indexer is out-of-bounds\n",
      "[*********************100%%**********************]  1 of 1 completed\n",
      "single positional indexer is out-of-bounds\n",
      "[*********************100%%**********************]  1 of 1 completed\n",
      "single positional indexer is out-of-bounds\n",
      "[*********************100%%**********************]  1 of 1 completed\n",
      "single positional indexer is out-of-bounds\n",
      "[*********************100%%**********************]  1 of 1 completed\n",
      "single positional indexer is out-of-bounds\n",
      "[*********************100%%**********************]  1 of 1 completed\n",
      "single positional indexer is out-of-bounds\n",
      "[*********************100%%**********************]  1 of 1 completed\n",
      "single positional indexer is out-of-bounds\n",
      "[*********************100%%**********************]  1 of 1 completed\n",
      "single positional indexer is out-of-bounds\n",
      "[*********************100%%**********************]  1 of 1 completed\n",
      "single positional indexer is out-of-bounds\n",
      "[*********************100%%**********************]  1 of 1 completed\n",
      "[*********************100%%**********************]  1 of 1 completed\n",
      "[*********************100%%**********************]  1 of 1 completed\n",
      "[*********************100%%**********************]  1 of 1 completed\n",
      "single positional indexer is out-of-bounds\n",
      "[*********************100%%**********************]  1 of 1 completed\n",
      "single positional indexer is out-of-bounds\n",
      "[*********************100%%**********************]  1 of 1 completed\n",
      "single positional indexer is out-of-bounds\n",
      "[*********************100%%**********************]  1 of 1 completed\n",
      "single positional indexer is out-of-bounds\n",
      "[*********************100%%**********************]  1 of 1 completed\n",
      "single positional indexer is out-of-bounds\n",
      "[*********************100%%**********************]  1 of 1 completed\n",
      "single positional indexer is out-of-bounds\n",
      "[*********************100%%**********************]  1 of 1 completed\n",
      "single positional indexer is out-of-bounds\n",
      "[*********************100%%**********************]  1 of 1 completed\n",
      "single positional indexer is out-of-bounds\n",
      "[*********************100%%**********************]  1 of 1 completed\n",
      "single positional indexer is out-of-bounds\n",
      "[*********************100%%**********************]  1 of 1 completed\n",
      "single positional indexer is out-of-bounds\n",
      "[*********************100%%**********************]  1 of 1 completed\n",
      "single positional indexer is out-of-bounds\n",
      "[*********************100%%**********************]  1 of 1 completed\n",
      "single positional indexer is out-of-bounds\n",
      "[*********************100%%**********************]  1 of 1 completed\n",
      "[*********************100%%**********************]  1 of 1 completed\n",
      "[*********************100%%**********************]  1 of 1 completed\n",
      "[*********************100%%**********************]  1 of 1 completed\n",
      "single positional indexer is out-of-bounds\n",
      "[*********************100%%**********************]  1 of 1 completed\n",
      "single positional indexer is out-of-bounds\n",
      "[*********************100%%**********************]  1 of 1 completed\n",
      "single positional indexer is out-of-bounds\n",
      "[*********************100%%**********************]  1 of 1 completed\n",
      "single positional indexer is out-of-bounds\n",
      "[*********************100%%**********************]  1 of 1 completed\n",
      "single positional indexer is out-of-bounds\n",
      "[*********************100%%**********************]  1 of 1 completed\n",
      "single positional indexer is out-of-bounds\n",
      "[*********************100%%**********************]  1 of 1 completed\n",
      "single positional indexer is out-of-bounds\n",
      "[*********************100%%**********************]  1 of 1 completed\n",
      "single positional indexer is out-of-bounds\n",
      "[*********************100%%**********************]  1 of 1 completed\n",
      "single positional indexer is out-of-bounds\n",
      "[*********************100%%**********************]  1 of 1 completed\n",
      "single positional indexer is out-of-bounds\n",
      "[*********************100%%**********************]  1 of 1 completed\n",
      "single positional indexer is out-of-bounds\n",
      "[*********************100%%**********************]  1 of 1 completed\n",
      "single positional indexer is out-of-bounds\n",
      "[*********************100%%**********************]  1 of 1 completed\n",
      "[*********************100%%**********************]  1 of 1 completed\n",
      "[*********************100%%**********************]  1 of 1 completed\n",
      "[*********************100%%**********************]  1 of 1 completed\n",
      "single positional indexer is out-of-bounds\n",
      "[*********************100%%**********************]  1 of 1 completed\n",
      "single positional indexer is out-of-bounds\n",
      "[*********************100%%**********************]  1 of 1 completed\n",
      "single positional indexer is out-of-bounds\n",
      "[*********************100%%**********************]  1 of 1 completed\n",
      "single positional indexer is out-of-bounds\n",
      "[*********************100%%**********************]  1 of 1 completed\n",
      "single positional indexer is out-of-bounds\n",
      "[*********************100%%**********************]  1 of 1 completed\n",
      "single positional indexer is out-of-bounds\n",
      "[*********************100%%**********************]  1 of 1 completed\n",
      "single positional indexer is out-of-bounds\n",
      "[*********************100%%**********************]  1 of 1 completed\n",
      "single positional indexer is out-of-bounds\n",
      "[*********************100%%**********************]  1 of 1 completed\n",
      "single positional indexer is out-of-bounds\n",
      "[*********************100%%**********************]  1 of 1 completed\n",
      "single positional indexer is out-of-bounds\n",
      "[*********************100%%**********************]  1 of 1 completed\n",
      "single positional indexer is out-of-bounds\n",
      "[*********************100%%**********************]  1 of 1 completed\n",
      "single positional indexer is out-of-bounds\n",
      "[*********************100%%**********************]  1 of 1 completed\n",
      "[*********************100%%**********************]  1 of 1 completed\n",
      "[*********************100%%**********************]  1 of 1 completed\n",
      "[*********************100%%**********************]  1 of 1 completed\n",
      "single positional indexer is out-of-bounds\n",
      "[*********************100%%**********************]  1 of 1 completed\n",
      "single positional indexer is out-of-bounds\n",
      "[*********************100%%**********************]  1 of 1 completed\n",
      "single positional indexer is out-of-bounds\n",
      "[*********************100%%**********************]  1 of 1 completed\n",
      "single positional indexer is out-of-bounds\n",
      "[*********************100%%**********************]  1 of 1 completed\n",
      "single positional indexer is out-of-bounds\n",
      "[*********************100%%**********************]  1 of 1 completed\n",
      "single positional indexer is out-of-bounds\n",
      "[*********************100%%**********************]  1 of 1 completed\n",
      "single positional indexer is out-of-bounds\n",
      "[*********************100%%**********************]  1 of 1 completed\n",
      "single positional indexer is out-of-bounds\n",
      "[*********************100%%**********************]  1 of 1 completed\n",
      "single positional indexer is out-of-bounds\n",
      "[*********************100%%**********************]  1 of 1 completed\n",
      "single positional indexer is out-of-bounds\n",
      "[*********************100%%**********************]  1 of 1 completed\n",
      "single positional indexer is out-of-bounds\n",
      "[*********************100%%**********************]  1 of 1 completed\n",
      "single positional indexer is out-of-bounds\n",
      "[*********************100%%**********************]  1 of 1 completed\n",
      "[*********************100%%**********************]  1 of 1 completed\n",
      "[*********************100%%**********************]  1 of 1 completed\n",
      "[*********************100%%**********************]  1 of 1 completed\n",
      "single positional indexer is out-of-bounds\n",
      "[*********************100%%**********************]  1 of 1 completed\n",
      "single positional indexer is out-of-bounds\n",
      "[*********************100%%**********************]  1 of 1 completed\n",
      "single positional indexer is out-of-bounds\n",
      "[*********************100%%**********************]  1 of 1 completed\n",
      "single positional indexer is out-of-bounds\n",
      "[*********************100%%**********************]  1 of 1 completed\n",
      "single positional indexer is out-of-bounds\n",
      "[*********************100%%**********************]  1 of 1 completed\n",
      "single positional indexer is out-of-bounds\n",
      "[*********************100%%**********************]  1 of 1 completed\n",
      "single positional indexer is out-of-bounds\n",
      "[*********************100%%**********************]  1 of 1 completed\n",
      "single positional indexer is out-of-bounds\n",
      "[*********************100%%**********************]  1 of 1 completed\n",
      "single positional indexer is out-of-bounds\n",
      "[*********************100%%**********************]  1 of 1 completed\n",
      "single positional indexer is out-of-bounds\n",
      "[*********************100%%**********************]  1 of 1 completed\n",
      "single positional indexer is out-of-bounds\n",
      "[*********************100%%**********************]  1 of 1 completed\n",
      "single positional indexer is out-of-bounds\n",
      "[*********************100%%**********************]  1 of 1 completed\n",
      "[*********************100%%**********************]  1 of 1 completed\n",
      "[*********************100%%**********************]  1 of 1 completed\n",
      "[*********************100%%**********************]  1 of 1 completed\n",
      "single positional indexer is out-of-bounds\n",
      "[*********************100%%**********************]  1 of 1 completed\n",
      "single positional indexer is out-of-bounds\n",
      "[*********************100%%**********************]  1 of 1 completed\n",
      "single positional indexer is out-of-bounds\n",
      "[*********************100%%**********************]  1 of 1 completed\n",
      "single positional indexer is out-of-bounds\n",
      "[*********************100%%**********************]  1 of 1 completed\n",
      "single positional indexer is out-of-bounds\n",
      "[*********************100%%**********************]  1 of 1 completed\n",
      "single positional indexer is out-of-bounds\n",
      "[*********************100%%**********************]  1 of 1 completed\n",
      "single positional indexer is out-of-bounds\n",
      "[*********************100%%**********************]  1 of 1 completed\n",
      "single positional indexer is out-of-bounds\n",
      "[*********************100%%**********************]  1 of 1 completed\n",
      "single positional indexer is out-of-bounds\n",
      "[*********************100%%**********************]  1 of 1 completed\n",
      "single positional indexer is out-of-bounds\n",
      "[*********************100%%**********************]  1 of 1 completed\n",
      "single positional indexer is out-of-bounds\n",
      "[*********************100%%**********************]  1 of 1 completed\n",
      "single positional indexer is out-of-bounds\n",
      "[*********************100%%**********************]  1 of 1 completed\n",
      "[*********************100%%**********************]  1 of 1 completed\n",
      "[*********************100%%**********************]  1 of 1 completed\n",
      "[*********************100%%**********************]  1 of 1 completed\n",
      "single positional indexer is out-of-bounds\n",
      "[*********************100%%**********************]  1 of 1 completed\n",
      "single positional indexer is out-of-bounds\n",
      "[*********************100%%**********************]  1 of 1 completed\n",
      "single positional indexer is out-of-bounds\n",
      "[*********************100%%**********************]  1 of 1 completed\n",
      "single positional indexer is out-of-bounds\n",
      "[*********************100%%**********************]  1 of 1 completed\n",
      "single positional indexer is out-of-bounds\n",
      "[*********************100%%**********************]  1 of 1 completed\n",
      "single positional indexer is out-of-bounds\n",
      "[*********************100%%**********************]  1 of 1 completed\n",
      "single positional indexer is out-of-bounds\n",
      "[*********************100%%**********************]  1 of 1 completed\n",
      "single positional indexer is out-of-bounds\n",
      "[*********************100%%**********************]  1 of 1 completed\n",
      "single positional indexer is out-of-bounds\n",
      "[*********************100%%**********************]  1 of 1 completed\n",
      "single positional indexer is out-of-bounds\n",
      "[*********************100%%**********************]  1 of 1 completed\n",
      "single positional indexer is out-of-bounds\n",
      "[*********************100%%**********************]  1 of 1 completed\n",
      "single positional indexer is out-of-bounds\n",
      "[*********************100%%**********************]  1 of 1 completed\n",
      "[*********************100%%**********************]  1 of 1 completed\n",
      "[*********************100%%**********************]  1 of 1 completed\n",
      "[*********************100%%**********************]  1 of 1 completed\n",
      "single positional indexer is out-of-bounds\n",
      "[*********************100%%**********************]  1 of 1 completed\n",
      "single positional indexer is out-of-bounds\n",
      "[*********************100%%**********************]  1 of 1 completed\n",
      "single positional indexer is out-of-bounds\n",
      "[*********************100%%**********************]  1 of 1 completed\n",
      "single positional indexer is out-of-bounds\n",
      "[*********************100%%**********************]  1 of 1 completed\n",
      "single positional indexer is out-of-bounds\n",
      "[*********************100%%**********************]  1 of 1 completed\n",
      "single positional indexer is out-of-bounds\n",
      "[*********************100%%**********************]  1 of 1 completed\n",
      "single positional indexer is out-of-bounds\n",
      "[*********************100%%**********************]  1 of 1 completed\n",
      "single positional indexer is out-of-bounds\n",
      "[*********************100%%**********************]  1 of 1 completed\n",
      "single positional indexer is out-of-bounds\n",
      "[*********************100%%**********************]  1 of 1 completed\n",
      "single positional indexer is out-of-bounds\n",
      "[*********************100%%**********************]  1 of 1 completed\n",
      "single positional indexer is out-of-bounds\n",
      "[*********************100%%**********************]  1 of 1 completed\n",
      "single positional indexer is out-of-bounds\n",
      "[*********************100%%**********************]  1 of 1 completed\n",
      "[*********************100%%**********************]  1 of 1 completed\n",
      "[*********************100%%**********************]  1 of 1 completed\n",
      "[*********************100%%**********************]  1 of 1 completed\n",
      "single positional indexer is out-of-bounds\n",
      "[*********************100%%**********************]  1 of 1 completed\n",
      "single positional indexer is out-of-bounds\n",
      "[*********************100%%**********************]  1 of 1 completed\n",
      "single positional indexer is out-of-bounds\n",
      "[*********************100%%**********************]  1 of 1 completed\n",
      "single positional indexer is out-of-bounds\n",
      "[*********************100%%**********************]  1 of 1 completed\n",
      "single positional indexer is out-of-bounds\n",
      "[*********************100%%**********************]  1 of 1 completed\n",
      "single positional indexer is out-of-bounds\n",
      "[*********************100%%**********************]  1 of 1 completed\n",
      "single positional indexer is out-of-bounds\n",
      "[*********************100%%**********************]  1 of 1 completed\n",
      "single positional indexer is out-of-bounds\n",
      "[*********************100%%**********************]  1 of 1 completed\n",
      "single positional indexer is out-of-bounds\n",
      "[*********************100%%**********************]  1 of 1 completed\n",
      "single positional indexer is out-of-bounds\n",
      "[*********************100%%**********************]  1 of 1 completed\n",
      "single positional indexer is out-of-bounds\n",
      "[*********************100%%**********************]  1 of 1 completed\n",
      "single positional indexer is out-of-bounds\n",
      "[*********************100%%**********************]  1 of 1 completed\n",
      "[*********************100%%**********************]  1 of 1 completed\n",
      "[*********************100%%**********************]  1 of 1 completed\n",
      "[*********************100%%**********************]  1 of 1 completed\n",
      "single positional indexer is out-of-bounds\n",
      "[*********************100%%**********************]  1 of 1 completed\n",
      "single positional indexer is out-of-bounds\n",
      "[*********************100%%**********************]  1 of 1 completed\n",
      "single positional indexer is out-of-bounds\n",
      "[*********************100%%**********************]  1 of 1 completed\n",
      "single positional indexer is out-of-bounds\n",
      "[*********************100%%**********************]  1 of 1 completed\n",
      "single positional indexer is out-of-bounds\n",
      "[*********************100%%**********************]  1 of 1 completed\n",
      "single positional indexer is out-of-bounds\n",
      "[*********************100%%**********************]  1 of 1 completed\n",
      "single positional indexer is out-of-bounds\n",
      "[*********************100%%**********************]  1 of 1 completed\n",
      "single positional indexer is out-of-bounds\n",
      "[*********************100%%**********************]  1 of 1 completed\n",
      "single positional indexer is out-of-bounds\n",
      "[*********************100%%**********************]  1 of 1 completed\n",
      "single positional indexer is out-of-bounds\n",
      "[*********************100%%**********************]  1 of 1 completed\n",
      "single positional indexer is out-of-bounds\n",
      "[*********************100%%**********************]  1 of 1 completed\n",
      "single positional indexer is out-of-bounds\n",
      "[*********************100%%**********************]  1 of 1 completed\n",
      "[*********************100%%**********************]  1 of 1 completed\n",
      "[*********************100%%**********************]  1 of 1 completed\n",
      "[*********************100%%**********************]  1 of 1 completed\n",
      "single positional indexer is out-of-bounds\n",
      "[*********************100%%**********************]  1 of 1 completed\n",
      "single positional indexer is out-of-bounds\n",
      "[*********************100%%**********************]  1 of 1 completed\n",
      "single positional indexer is out-of-bounds\n",
      "[*********************100%%**********************]  1 of 1 completed\n",
      "single positional indexer is out-of-bounds\n",
      "[*********************100%%**********************]  1 of 1 completed\n",
      "single positional indexer is out-of-bounds\n",
      "[*********************100%%**********************]  1 of 1 completed\n",
      "single positional indexer is out-of-bounds\n",
      "[*********************100%%**********************]  1 of 1 completed\n",
      "single positional indexer is out-of-bounds\n",
      "[*********************100%%**********************]  1 of 1 completed\n",
      "single positional indexer is out-of-bounds\n",
      "[*********************100%%**********************]  1 of 1 completed\n",
      "single positional indexer is out-of-bounds\n",
      "[*********************100%%**********************]  1 of 1 completed\n",
      "single positional indexer is out-of-bounds\n",
      "[*********************100%%**********************]  1 of 1 completed\n",
      "single positional indexer is out-of-bounds\n",
      "[*********************100%%**********************]  1 of 1 completed\n",
      "single positional indexer is out-of-bounds\n"
     ]
    },
    {
     "name": "stderr",
     "output_type": "stream",
     "text": [
      "Failed to get ticker '$SPX' reason: HTTPSConnectionPool(host='fc.yahoo.com', port=443): Read timed out. (read timeout=10)\n"
     ]
    },
    {
     "name": "stdout",
     "output_type": "stream",
     "text": [
      "[*********************100%%**********************]  1 of 1 completed"
     ]
    },
    {
     "name": "stderr",
     "output_type": "stream",
     "text": [
      "\n",
      "1 Failed download:\n",
      "['$SPX']: Exception('%ticker%: No timezone found, symbol may be delisted')\n"
     ]
    },
    {
     "name": "stdout",
     "output_type": "stream",
     "text": [
      "\n",
      "single positional indexer is out-of-bounds\n",
      "[*********************100%%**********************]  1 of 1 completed"
     ]
    },
    {
     "name": "stderr",
     "output_type": "stream",
     "text": [
      "\n",
      "1 Failed download:\n",
      "['$SPX']: Exception('%ticker%: No timezone found, symbol may be delisted')\n"
     ]
    },
    {
     "name": "stdout",
     "output_type": "stream",
     "text": [
      "\n",
      "single positional indexer is out-of-bounds\n",
      "[*********************100%%**********************]  1 of 1 completed"
     ]
    },
    {
     "name": "stderr",
     "output_type": "stream",
     "text": [
      "\n",
      "1 Failed download:\n",
      "['$SPX']: Exception('%ticker%: No timezone found, symbol may be delisted')\n"
     ]
    },
    {
     "name": "stdout",
     "output_type": "stream",
     "text": [
      "\n",
      "single positional indexer is out-of-bounds\n",
      "[*********************100%%**********************]  1 of 1 completed"
     ]
    },
    {
     "name": "stderr",
     "output_type": "stream",
     "text": [
      "\n",
      "1 Failed download:\n",
      "['$SPX']: Exception('%ticker%: No timezone found, symbol may be delisted')\n"
     ]
    },
    {
     "name": "stdout",
     "output_type": "stream",
     "text": [
      "\n",
      "single positional indexer is out-of-bounds\n",
      "[*********************100%%**********************]  1 of 1 completed"
     ]
    },
    {
     "name": "stderr",
     "output_type": "stream",
     "text": [
      "\n",
      "1 Failed download:\n",
      "['$SPX']: Exception('%ticker%: No timezone found, symbol may be delisted')\n"
     ]
    },
    {
     "name": "stdout",
     "output_type": "stream",
     "text": [
      "\n",
      "single positional indexer is out-of-bounds\n",
      "[*********************100%%**********************]  1 of 1 completed"
     ]
    },
    {
     "name": "stderr",
     "output_type": "stream",
     "text": [
      "\n",
      "1 Failed download:\n",
      "['$SPX']: Exception('%ticker%: No timezone found, symbol may be delisted')\n"
     ]
    },
    {
     "name": "stdout",
     "output_type": "stream",
     "text": [
      "\n",
      "single positional indexer is out-of-bounds\n",
      "[*********************100%%**********************]  1 of 1 completed"
     ]
    },
    {
     "name": "stderr",
     "output_type": "stream",
     "text": [
      "\n",
      "1 Failed download:\n",
      "['$SPX']: Exception('%ticker%: No timezone found, symbol may be delisted')\n"
     ]
    },
    {
     "name": "stdout",
     "output_type": "stream",
     "text": [
      "\n",
      "single positional indexer is out-of-bounds\n",
      "[*********************100%%**********************]  1 of 1 completed"
     ]
    },
    {
     "name": "stderr",
     "output_type": "stream",
     "text": [
      "\n",
      "1 Failed download:\n",
      "['$SPX']: Exception('%ticker%: No timezone found, symbol may be delisted')\n"
     ]
    },
    {
     "name": "stdout",
     "output_type": "stream",
     "text": [
      "\n",
      "single positional indexer is out-of-bounds\n",
      "[*********************100%%**********************]  1 of 1 completed"
     ]
    },
    {
     "name": "stderr",
     "output_type": "stream",
     "text": [
      "\n",
      "1 Failed download:\n",
      "['$SPX']: Exception('%ticker%: No timezone found, symbol may be delisted')\n"
     ]
    },
    {
     "name": "stdout",
     "output_type": "stream",
     "text": [
      "\n",
      "single positional indexer is out-of-bounds\n",
      "[*********************100%%**********************]  1 of 1 completed"
     ]
    },
    {
     "name": "stderr",
     "output_type": "stream",
     "text": [
      "\n",
      "1 Failed download:\n",
      "['$SPX']: Exception('%ticker%: No timezone found, symbol may be delisted')\n"
     ]
    },
    {
     "name": "stdout",
     "output_type": "stream",
     "text": [
      "\n",
      "single positional indexer is out-of-bounds\n",
      "[*********************100%%**********************]  1 of 1 completed"
     ]
    },
    {
     "name": "stderr",
     "output_type": "stream",
     "text": [
      "\n",
      "1 Failed download:\n",
      "['$SPX']: Exception('%ticker%: No timezone found, symbol may be delisted')\n"
     ]
    },
    {
     "name": "stdout",
     "output_type": "stream",
     "text": [
      "\n",
      "single positional indexer is out-of-bounds\n",
      "[*********************100%%**********************]  1 of 1 completed"
     ]
    },
    {
     "name": "stderr",
     "output_type": "stream",
     "text": [
      "\n",
      "1 Failed download:\n",
      "['$SPX']: Exception('%ticker%: No timezone found, symbol may be delisted')\n"
     ]
    },
    {
     "name": "stdout",
     "output_type": "stream",
     "text": [
      "\n",
      "single positional indexer is out-of-bounds\n",
      "[*********************100%%**********************]  1 of 1 completed"
     ]
    },
    {
     "name": "stderr",
     "output_type": "stream",
     "text": [
      "\n",
      "1 Failed download:\n",
      "['$SPX']: Exception('%ticker%: No timezone found, symbol may be delisted')\n"
     ]
    },
    {
     "name": "stdout",
     "output_type": "stream",
     "text": [
      "\n",
      "single positional indexer is out-of-bounds\n",
      "[*********************100%%**********************]  1 of 1 completed"
     ]
    },
    {
     "name": "stderr",
     "output_type": "stream",
     "text": [
      "\n",
      "1 Failed download:\n",
      "['$SPX']: Exception('%ticker%: No timezone found, symbol may be delisted')\n"
     ]
    },
    {
     "name": "stdout",
     "output_type": "stream",
     "text": [
      "\n",
      "single positional indexer is out-of-bounds\n",
      "[*********************100%%**********************]  1 of 1 completed"
     ]
    },
    {
     "name": "stderr",
     "output_type": "stream",
     "text": [
      "\n",
      "1 Failed download:\n",
      "['$SPX']: Exception('%ticker%: No timezone found, symbol may be delisted')\n"
     ]
    },
    {
     "name": "stdout",
     "output_type": "stream",
     "text": [
      "\n",
      "single positional indexer is out-of-bounds\n",
      "[*********************100%%**********************]  1 of 1 completed"
     ]
    },
    {
     "name": "stderr",
     "output_type": "stream",
     "text": [
      "\n",
      "1 Failed download:\n",
      "['$INDU']: Exception('%ticker%: No timezone found, symbol may be delisted')\n"
     ]
    },
    {
     "name": "stdout",
     "output_type": "stream",
     "text": [
      "\n",
      "single positional indexer is out-of-bounds\n",
      "[*********************100%%**********************]  1 of 1 completed"
     ]
    },
    {
     "name": "stderr",
     "output_type": "stream",
     "text": [
      "\n",
      "1 Failed download:\n",
      "['$INDU']: Exception('%ticker%: No timezone found, symbol may be delisted')\n"
     ]
    },
    {
     "name": "stdout",
     "output_type": "stream",
     "text": [
      "\n",
      "single positional indexer is out-of-bounds\n",
      "[*********************100%%**********************]  1 of 1 completed"
     ]
    },
    {
     "name": "stderr",
     "output_type": "stream",
     "text": [
      "\n",
      "1 Failed download:\n",
      "['$INDU']: Exception('%ticker%: No timezone found, symbol may be delisted')\n"
     ]
    },
    {
     "name": "stdout",
     "output_type": "stream",
     "text": [
      "\n",
      "single positional indexer is out-of-bounds\n",
      "[*********************100%%**********************]  1 of 1 completed"
     ]
    },
    {
     "name": "stderr",
     "output_type": "stream",
     "text": [
      "\n",
      "1 Failed download:\n",
      "['$INDU']: Exception('%ticker%: No timezone found, symbol may be delisted')\n"
     ]
    },
    {
     "name": "stdout",
     "output_type": "stream",
     "text": [
      "\n",
      "single positional indexer is out-of-bounds\n",
      "[*********************100%%**********************]  1 of 1 completed"
     ]
    },
    {
     "name": "stderr",
     "output_type": "stream",
     "text": [
      "\n",
      "1 Failed download:\n",
      "['$INDU']: Exception('%ticker%: No timezone found, symbol may be delisted')\n"
     ]
    },
    {
     "name": "stdout",
     "output_type": "stream",
     "text": [
      "\n",
      "single positional indexer is out-of-bounds\n",
      "[*********************100%%**********************]  1 of 1 completed"
     ]
    },
    {
     "name": "stderr",
     "output_type": "stream",
     "text": [
      "\n",
      "1 Failed download:\n",
      "['$INDU']: Exception('%ticker%: No timezone found, symbol may be delisted')\n"
     ]
    },
    {
     "name": "stdout",
     "output_type": "stream",
     "text": [
      "\n",
      "single positional indexer is out-of-bounds\n",
      "[*********************100%%**********************]  1 of 1 completed"
     ]
    },
    {
     "name": "stderr",
     "output_type": "stream",
     "text": [
      "\n",
      "1 Failed download:\n",
      "['$INDU']: Exception('%ticker%: No timezone found, symbol may be delisted')\n"
     ]
    },
    {
     "name": "stdout",
     "output_type": "stream",
     "text": [
      "\n",
      "single positional indexer is out-of-bounds\n",
      "[*********************100%%**********************]  1 of 1 completed"
     ]
    },
    {
     "name": "stderr",
     "output_type": "stream",
     "text": [
      "\n",
      "1 Failed download:\n",
      "['$INDU']: Exception('%ticker%: No timezone found, symbol may be delisted')\n"
     ]
    },
    {
     "name": "stdout",
     "output_type": "stream",
     "text": [
      "\n",
      "single positional indexer is out-of-bounds\n",
      "[*********************100%%**********************]  1 of 1 completed"
     ]
    },
    {
     "name": "stderr",
     "output_type": "stream",
     "text": [
      "\n",
      "1 Failed download:\n",
      "['$INDU']: Exception('%ticker%: No timezone found, symbol may be delisted')\n"
     ]
    },
    {
     "name": "stdout",
     "output_type": "stream",
     "text": [
      "\n",
      "single positional indexer is out-of-bounds\n",
      "[*********************100%%**********************]  1 of 1 completed"
     ]
    },
    {
     "name": "stderr",
     "output_type": "stream",
     "text": [
      "\n",
      "1 Failed download:\n",
      "['$INDU']: Exception('%ticker%: No timezone found, symbol may be delisted')\n"
     ]
    },
    {
     "name": "stdout",
     "output_type": "stream",
     "text": [
      "\n",
      "single positional indexer is out-of-bounds\n",
      "[*********************100%%**********************]  1 of 1 completed"
     ]
    },
    {
     "name": "stderr",
     "output_type": "stream",
     "text": [
      "\n",
      "1 Failed download:\n",
      "['$INDU']: Exception('%ticker%: No timezone found, symbol may be delisted')\n"
     ]
    },
    {
     "name": "stdout",
     "output_type": "stream",
     "text": [
      "\n",
      "single positional indexer is out-of-bounds\n",
      "[*********************100%%**********************]  1 of 1 completed"
     ]
    },
    {
     "name": "stderr",
     "output_type": "stream",
     "text": [
      "\n",
      "1 Failed download:\n",
      "['$INDU']: Exception('%ticker%: No timezone found, symbol may be delisted')\n"
     ]
    },
    {
     "name": "stdout",
     "output_type": "stream",
     "text": [
      "\n",
      "single positional indexer is out-of-bounds\n",
      "[*********************100%%**********************]  1 of 1 completed"
     ]
    },
    {
     "name": "stderr",
     "output_type": "stream",
     "text": [
      "\n",
      "1 Failed download:\n",
      "['$INDU']: Exception('%ticker%: No timezone found, symbol may be delisted')\n"
     ]
    },
    {
     "name": "stdout",
     "output_type": "stream",
     "text": [
      "\n",
      "single positional indexer is out-of-bounds\n",
      "[*********************100%%**********************]  1 of 1 completed"
     ]
    },
    {
     "name": "stderr",
     "output_type": "stream",
     "text": [
      "\n",
      "1 Failed download:\n",
      "['$INDU']: Exception('%ticker%: No timezone found, symbol may be delisted')\n"
     ]
    },
    {
     "name": "stdout",
     "output_type": "stream",
     "text": [
      "\n",
      "single positional indexer is out-of-bounds\n",
      "[*********************100%%**********************]  1 of 1 completed"
     ]
    },
    {
     "name": "stderr",
     "output_type": "stream",
     "text": [
      "\n",
      "1 Failed download:\n",
      "['$INDU']: Exception('%ticker%: No timezone found, symbol may be delisted')\n"
     ]
    },
    {
     "name": "stdout",
     "output_type": "stream",
     "text": [
      "\n",
      "single positional indexer is out-of-bounds\n",
      "[*********************100%%**********************]  1 of 1 completed"
     ]
    },
    {
     "name": "stderr",
     "output_type": "stream",
     "text": [
      "\n",
      "1 Failed download:\n",
      "['$COMPQ']: Exception('%ticker%: No timezone found, symbol may be delisted')\n"
     ]
    },
    {
     "name": "stdout",
     "output_type": "stream",
     "text": [
      "\n",
      "single positional indexer is out-of-bounds\n",
      "[*********************100%%**********************]  1 of 1 completed"
     ]
    },
    {
     "name": "stderr",
     "output_type": "stream",
     "text": [
      "\n",
      "1 Failed download:\n",
      "['$COMPQ']: Exception('%ticker%: No timezone found, symbol may be delisted')\n"
     ]
    },
    {
     "name": "stdout",
     "output_type": "stream",
     "text": [
      "\n",
      "single positional indexer is out-of-bounds\n",
      "[*********************100%%**********************]  1 of 1 completed"
     ]
    },
    {
     "name": "stderr",
     "output_type": "stream",
     "text": [
      "\n",
      "1 Failed download:\n",
      "['$COMPQ']: Exception('%ticker%: No timezone found, symbol may be delisted')\n"
     ]
    },
    {
     "name": "stdout",
     "output_type": "stream",
     "text": [
      "\n",
      "single positional indexer is out-of-bounds\n",
      "[*********************100%%**********************]  1 of 1 completed"
     ]
    },
    {
     "name": "stderr",
     "output_type": "stream",
     "text": [
      "\n",
      "1 Failed download:\n",
      "['$COMPQ']: Exception('%ticker%: No timezone found, symbol may be delisted')\n"
     ]
    },
    {
     "name": "stdout",
     "output_type": "stream",
     "text": [
      "\n",
      "single positional indexer is out-of-bounds\n",
      "[*********************100%%**********************]  1 of 1 completed"
     ]
    },
    {
     "name": "stderr",
     "output_type": "stream",
     "text": [
      "\n",
      "1 Failed download:\n",
      "['$COMPQ']: Exception('%ticker%: No timezone found, symbol may be delisted')\n"
     ]
    },
    {
     "name": "stdout",
     "output_type": "stream",
     "text": [
      "\n",
      "single positional indexer is out-of-bounds\n",
      "[*********************100%%**********************]  1 of 1 completed"
     ]
    },
    {
     "name": "stderr",
     "output_type": "stream",
     "text": [
      "\n",
      "1 Failed download:\n",
      "['$COMPQ']: Exception('%ticker%: No timezone found, symbol may be delisted')\n"
     ]
    },
    {
     "name": "stdout",
     "output_type": "stream",
     "text": [
      "\n",
      "single positional indexer is out-of-bounds\n",
      "[*********************100%%**********************]  1 of 1 completed"
     ]
    },
    {
     "name": "stderr",
     "output_type": "stream",
     "text": [
      "\n",
      "1 Failed download:\n",
      "['$COMPQ']: Exception('%ticker%: No timezone found, symbol may be delisted')\n"
     ]
    },
    {
     "name": "stdout",
     "output_type": "stream",
     "text": [
      "\n",
      "single positional indexer is out-of-bounds\n",
      "[*********************100%%**********************]  1 of 1 completed"
     ]
    },
    {
     "name": "stderr",
     "output_type": "stream",
     "text": [
      "\n",
      "1 Failed download:\n",
      "['$COMPQ']: Exception('%ticker%: No timezone found, symbol may be delisted')\n"
     ]
    },
    {
     "name": "stdout",
     "output_type": "stream",
     "text": [
      "\n",
      "single positional indexer is out-of-bounds\n",
      "[*********************100%%**********************]  1 of 1 completed"
     ]
    },
    {
     "name": "stderr",
     "output_type": "stream",
     "text": [
      "\n",
      "1 Failed download:\n",
      "['$COMPQ']: Exception('%ticker%: No timezone found, symbol may be delisted')\n"
     ]
    },
    {
     "name": "stdout",
     "output_type": "stream",
     "text": [
      "\n",
      "single positional indexer is out-of-bounds\n",
      "[*********************100%%**********************]  1 of 1 completed"
     ]
    },
    {
     "name": "stderr",
     "output_type": "stream",
     "text": [
      "\n",
      "1 Failed download:\n",
      "['$COMPQ']: Exception('%ticker%: No timezone found, symbol may be delisted')\n"
     ]
    },
    {
     "name": "stdout",
     "output_type": "stream",
     "text": [
      "\n",
      "single positional indexer is out-of-bounds\n",
      "[*********************100%%**********************]  1 of 1 completed"
     ]
    },
    {
     "name": "stderr",
     "output_type": "stream",
     "text": [
      "\n",
      "1 Failed download:\n",
      "['$COMPQ']: Exception('%ticker%: No timezone found, symbol may be delisted')\n"
     ]
    },
    {
     "name": "stdout",
     "output_type": "stream",
     "text": [
      "\n",
      "single positional indexer is out-of-bounds\n",
      "[*********************100%%**********************]  1 of 1 completed"
     ]
    },
    {
     "name": "stderr",
     "output_type": "stream",
     "text": [
      "\n",
      "1 Failed download:\n",
      "['$COMPQ']: Exception('%ticker%: No timezone found, symbol may be delisted')\n"
     ]
    },
    {
     "name": "stdout",
     "output_type": "stream",
     "text": [
      "\n",
      "single positional indexer is out-of-bounds\n",
      "[*********************100%%**********************]  1 of 1 completed"
     ]
    },
    {
     "name": "stderr",
     "output_type": "stream",
     "text": [
      "\n",
      "1 Failed download:\n",
      "['$COMPQ']: Exception('%ticker%: No timezone found, symbol may be delisted')\n"
     ]
    },
    {
     "name": "stdout",
     "output_type": "stream",
     "text": [
      "\n",
      "single positional indexer is out-of-bounds\n",
      "[*********************100%%**********************]  1 of 1 completed"
     ]
    },
    {
     "name": "stderr",
     "output_type": "stream",
     "text": [
      "\n",
      "1 Failed download:\n",
      "['$COMPQ']: Exception('%ticker%: No timezone found, symbol may be delisted')\n"
     ]
    },
    {
     "name": "stdout",
     "output_type": "stream",
     "text": [
      "\n",
      "single positional indexer is out-of-bounds\n",
      "[*********************100%%**********************]  1 of 1 completed"
     ]
    },
    {
     "name": "stderr",
     "output_type": "stream",
     "text": [
      "\n",
      "1 Failed download:\n",
      "['$COMPQ']: Exception('%ticker%: No timezone found, symbol may be delisted')\n"
     ]
    },
    {
     "name": "stdout",
     "output_type": "stream",
     "text": [
      "\n",
      "single positional indexer is out-of-bounds\n",
      "[*********************100%%**********************]  1 of 1 completed"
     ]
    },
    {
     "name": "stderr",
     "output_type": "stream",
     "text": [
      "\n",
      "1 Failed download:\n",
      "['$VIX']: Exception('%ticker%: No timezone found, symbol may be delisted')\n"
     ]
    },
    {
     "name": "stdout",
     "output_type": "stream",
     "text": [
      "\n",
      "single positional indexer is out-of-bounds\n",
      "[*********************100%%**********************]  1 of 1 completed"
     ]
    },
    {
     "name": "stderr",
     "output_type": "stream",
     "text": [
      "\n",
      "1 Failed download:\n",
      "['$VIX']: Exception('%ticker%: No timezone found, symbol may be delisted')\n"
     ]
    },
    {
     "name": "stdout",
     "output_type": "stream",
     "text": [
      "\n",
      "single positional indexer is out-of-bounds\n",
      "[*********************100%%**********************]  1 of 1 completed"
     ]
    },
    {
     "name": "stderr",
     "output_type": "stream",
     "text": [
      "\n",
      "1 Failed download:\n",
      "['$VIX']: Exception('%ticker%: No timezone found, symbol may be delisted')\n"
     ]
    },
    {
     "name": "stdout",
     "output_type": "stream",
     "text": [
      "\n",
      "single positional indexer is out-of-bounds\n",
      "[*********************100%%**********************]  1 of 1 completed"
     ]
    },
    {
     "name": "stderr",
     "output_type": "stream",
     "text": [
      "\n",
      "1 Failed download:\n",
      "['$VIX']: Exception('%ticker%: No timezone found, symbol may be delisted')\n"
     ]
    },
    {
     "name": "stdout",
     "output_type": "stream",
     "text": [
      "\n",
      "single positional indexer is out-of-bounds\n",
      "[*********************100%%**********************]  1 of 1 completed"
     ]
    },
    {
     "name": "stderr",
     "output_type": "stream",
     "text": [
      "\n",
      "1 Failed download:\n",
      "['$VIX']: Exception('%ticker%: No timezone found, symbol may be delisted')\n"
     ]
    },
    {
     "name": "stdout",
     "output_type": "stream",
     "text": [
      "\n",
      "single positional indexer is out-of-bounds\n",
      "[*********************100%%**********************]  1 of 1 completed"
     ]
    },
    {
     "name": "stderr",
     "output_type": "stream",
     "text": [
      "\n",
      "1 Failed download:\n",
      "['$VIX']: Exception('%ticker%: No timezone found, symbol may be delisted')\n"
     ]
    },
    {
     "name": "stdout",
     "output_type": "stream",
     "text": [
      "\n",
      "single positional indexer is out-of-bounds\n",
      "[*********************100%%**********************]  1 of 1 completed"
     ]
    },
    {
     "name": "stderr",
     "output_type": "stream",
     "text": [
      "\n",
      "1 Failed download:\n",
      "['$VIX']: Exception('%ticker%: No timezone found, symbol may be delisted')\n"
     ]
    },
    {
     "name": "stdout",
     "output_type": "stream",
     "text": [
      "\n",
      "single positional indexer is out-of-bounds\n",
      "[*********************100%%**********************]  1 of 1 completed"
     ]
    },
    {
     "name": "stderr",
     "output_type": "stream",
     "text": [
      "\n",
      "1 Failed download:\n",
      "['$VIX']: Exception('%ticker%: No timezone found, symbol may be delisted')\n"
     ]
    },
    {
     "name": "stdout",
     "output_type": "stream",
     "text": [
      "\n",
      "single positional indexer is out-of-bounds\n",
      "[*********************100%%**********************]  1 of 1 completed"
     ]
    },
    {
     "name": "stderr",
     "output_type": "stream",
     "text": [
      "\n",
      "1 Failed download:\n",
      "['$VIX']: Exception('%ticker%: No timezone found, symbol may be delisted')\n"
     ]
    },
    {
     "name": "stdout",
     "output_type": "stream",
     "text": [
      "\n",
      "single positional indexer is out-of-bounds\n",
      "[*********************100%%**********************]  1 of 1 completed"
     ]
    },
    {
     "name": "stderr",
     "output_type": "stream",
     "text": [
      "\n",
      "1 Failed download:\n",
      "['$VIX']: Exception('%ticker%: No timezone found, symbol may be delisted')\n"
     ]
    },
    {
     "name": "stdout",
     "output_type": "stream",
     "text": [
      "\n",
      "single positional indexer is out-of-bounds\n",
      "[*********************100%%**********************]  1 of 1 completed"
     ]
    },
    {
     "name": "stderr",
     "output_type": "stream",
     "text": [
      "\n",
      "1 Failed download:\n",
      "['$VIX']: Exception('%ticker%: No timezone found, symbol may be delisted')\n"
     ]
    },
    {
     "name": "stdout",
     "output_type": "stream",
     "text": [
      "\n",
      "single positional indexer is out-of-bounds\n",
      "[*********************100%%**********************]  1 of 1 completed"
     ]
    },
    {
     "name": "stderr",
     "output_type": "stream",
     "text": [
      "\n",
      "1 Failed download:\n",
      "['$VIX']: Exception('%ticker%: No timezone found, symbol may be delisted')\n"
     ]
    },
    {
     "name": "stdout",
     "output_type": "stream",
     "text": [
      "\n",
      "single positional indexer is out-of-bounds\n",
      "[*********************100%%**********************]  1 of 1 completed"
     ]
    },
    {
     "name": "stderr",
     "output_type": "stream",
     "text": [
      "\n",
      "1 Failed download:\n",
      "['$VIX']: Exception('%ticker%: No timezone found, symbol may be delisted')\n"
     ]
    },
    {
     "name": "stdout",
     "output_type": "stream",
     "text": [
      "\n",
      "single positional indexer is out-of-bounds\n",
      "[*********************100%%**********************]  1 of 1 completed"
     ]
    },
    {
     "name": "stderr",
     "output_type": "stream",
     "text": [
      "\n",
      "1 Failed download:\n",
      "['$VIX']: Exception('%ticker%: No timezone found, symbol may be delisted')\n"
     ]
    },
    {
     "name": "stdout",
     "output_type": "stream",
     "text": [
      "\n",
      "single positional indexer is out-of-bounds\n",
      "[*********************100%%**********************]  1 of 1 completed"
     ]
    },
    {
     "name": "stderr",
     "output_type": "stream",
     "text": [
      "\n",
      "1 Failed download:\n",
      "['$VIX']: Exception('%ticker%: No timezone found, symbol may be delisted')\n"
     ]
    },
    {
     "name": "stdout",
     "output_type": "stream",
     "text": [
      "\n",
      "single positional indexer is out-of-bounds\n",
      "[*********************100%%**********************]  1 of 1 completed\n",
      "[*********************100%%**********************]  1 of 1 completed\n",
      "[*********************100%%**********************]  1 of 1 completed\n",
      "[*********************100%%**********************]  1 of 1 completed\n",
      "single positional indexer is out-of-bounds\n",
      "[*********************100%%**********************]  1 of 1 completed\n",
      "single positional indexer is out-of-bounds\n",
      "[*********************100%%**********************]  1 of 1 completed\n",
      "single positional indexer is out-of-bounds\n",
      "[*********************100%%**********************]  1 of 1 completed\n",
      "single positional indexer is out-of-bounds\n",
      "[*********************100%%**********************]  1 of 1 completed\n",
      "single positional indexer is out-of-bounds\n",
      "[*********************100%%**********************]  1 of 1 completed\n",
      "single positional indexer is out-of-bounds\n",
      "[*********************100%%**********************]  1 of 1 completed\n",
      "single positional indexer is out-of-bounds\n",
      "[*********************100%%**********************]  1 of 1 completed\n",
      "single positional indexer is out-of-bounds\n",
      "[*********************100%%**********************]  1 of 1 completed\n",
      "single positional indexer is out-of-bounds\n",
      "[*********************100%%**********************]  1 of 1 completed\n",
      "single positional indexer is out-of-bounds\n",
      "[*********************100%%**********************]  1 of 1 completed\n",
      "single positional indexer is out-of-bounds\n",
      "[*********************100%%**********************]  1 of 1 completed\n",
      "single positional indexer is out-of-bounds\n",
      "[*********************100%%**********************]  1 of 1 completed\n",
      "[*********************100%%**********************]  1 of 1 completed\n",
      "[*********************100%%**********************]  1 of 1 completed\n",
      "[*********************100%%**********************]  1 of 1 completed\n",
      "single positional indexer is out-of-bounds\n",
      "[*********************100%%**********************]  1 of 1 completed\n",
      "single positional indexer is out-of-bounds\n",
      "[*********************100%%**********************]  1 of 1 completed\n",
      "single positional indexer is out-of-bounds\n",
      "[*********************100%%**********************]  1 of 1 completed\n",
      "single positional indexer is out-of-bounds\n",
      "[*********************100%%**********************]  1 of 1 completed\n",
      "single positional indexer is out-of-bounds\n",
      "[*********************100%%**********************]  1 of 1 completed\n",
      "single positional indexer is out-of-bounds\n",
      "[*********************100%%**********************]  1 of 1 completed\n",
      "single positional indexer is out-of-bounds\n",
      "[*********************100%%**********************]  1 of 1 completed\n",
      "single positional indexer is out-of-bounds\n",
      "[*********************100%%**********************]  1 of 1 completed\n",
      "single positional indexer is out-of-bounds\n",
      "[*********************100%%**********************]  1 of 1 completed\n",
      "single positional indexer is out-of-bounds\n",
      "[*********************100%%**********************]  1 of 1 completed\n",
      "single positional indexer is out-of-bounds\n",
      "[*********************100%%**********************]  1 of 1 completed\n",
      "single positional indexer is out-of-bounds\n",
      "[*********************100%%**********************]  1 of 1 completed\n",
      "[*********************100%%**********************]  1 of 1 completed\n",
      "[*********************100%%**********************]  1 of 1 completed\n",
      "[*********************100%%**********************]  1 of 1 completed\n",
      "single positional indexer is out-of-bounds\n",
      "[*********************100%%**********************]  1 of 1 completed\n",
      "single positional indexer is out-of-bounds\n",
      "[*********************100%%**********************]  1 of 1 completed\n",
      "single positional indexer is out-of-bounds\n",
      "[*********************100%%**********************]  1 of 1 completed\n",
      "single positional indexer is out-of-bounds\n",
      "[*********************100%%**********************]  1 of 1 completed\n",
      "single positional indexer is out-of-bounds\n",
      "[*********************100%%**********************]  1 of 1 completed\n",
      "single positional indexer is out-of-bounds\n",
      "[*********************100%%**********************]  1 of 1 completed\n",
      "single positional indexer is out-of-bounds\n",
      "[*********************100%%**********************]  1 of 1 completed\n",
      "single positional indexer is out-of-bounds\n",
      "[*********************100%%**********************]  1 of 1 completed\n",
      "single positional indexer is out-of-bounds\n",
      "[*********************100%%**********************]  1 of 1 completed\n",
      "single positional indexer is out-of-bounds\n",
      "[*********************100%%**********************]  1 of 1 completed\n",
      "single positional indexer is out-of-bounds\n",
      "[*********************100%%**********************]  1 of 1 completed\n",
      "single positional indexer is out-of-bounds\n",
      "[*********************100%%**********************]  1 of 1 completed\n",
      "[*********************100%%**********************]  1 of 1 completed\n",
      "[*********************100%%**********************]  1 of 1 completed\n",
      "[*********************100%%**********************]  1 of 1 completed\n",
      "single positional indexer is out-of-bounds\n",
      "[*********************100%%**********************]  1 of 1 completed\n",
      "single positional indexer is out-of-bounds\n",
      "[*********************100%%**********************]  1 of 1 completed\n",
      "single positional indexer is out-of-bounds\n",
      "[*********************100%%**********************]  1 of 1 completed\n",
      "single positional indexer is out-of-bounds\n",
      "[*********************100%%**********************]  1 of 1 completed\n",
      "single positional indexer is out-of-bounds\n",
      "[*********************100%%**********************]  1 of 1 completed\n",
      "single positional indexer is out-of-bounds\n",
      "[*********************100%%**********************]  1 of 1 completed\n",
      "single positional indexer is out-of-bounds\n",
      "[*********************100%%**********************]  1 of 1 completed\n",
      "single positional indexer is out-of-bounds\n",
      "[*********************100%%**********************]  1 of 1 completed\n",
      "single positional indexer is out-of-bounds\n",
      "[*********************100%%**********************]  1 of 1 completed\n",
      "single positional indexer is out-of-bounds\n",
      "[*********************100%%**********************]  1 of 1 completed\n",
      "single positional indexer is out-of-bounds\n",
      "[*********************100%%**********************]  1 of 1 completed\n",
      "single positional indexer is out-of-bounds\n",
      "[*********************100%%**********************]  1 of 1 completed\n",
      "[*********************100%%**********************]  1 of 1 completed\n",
      "[*********************100%%**********************]  1 of 1 completed\n",
      "[*********************100%%**********************]  1 of 1 completed\n",
      "single positional indexer is out-of-bounds\n",
      "[*********************100%%**********************]  1 of 1 completed\n",
      "single positional indexer is out-of-bounds\n",
      "[*********************100%%**********************]  1 of 1 completed\n",
      "single positional indexer is out-of-bounds\n",
      "[*********************100%%**********************]  1 of 1 completed\n",
      "single positional indexer is out-of-bounds\n",
      "[*********************100%%**********************]  1 of 1 completed\n",
      "single positional indexer is out-of-bounds\n",
      "[*********************100%%**********************]  1 of 1 completed\n",
      "single positional indexer is out-of-bounds\n",
      "[*********************100%%**********************]  1 of 1 completed\n",
      "single positional indexer is out-of-bounds\n",
      "[*********************100%%**********************]  1 of 1 completed\n",
      "single positional indexer is out-of-bounds\n",
      "[*********************100%%**********************]  1 of 1 completed\n",
      "single positional indexer is out-of-bounds\n",
      "[*********************100%%**********************]  1 of 1 completed\n",
      "single positional indexer is out-of-bounds\n",
      "[*********************100%%**********************]  1 of 1 completed\n",
      "single positional indexer is out-of-bounds\n",
      "[*********************100%%**********************]  1 of 1 completed\n",
      "single positional indexer is out-of-bounds\n",
      "[*********************100%%**********************]  1 of 1 completed\n",
      "[*********************100%%**********************]  1 of 1 completed\n",
      "[*********************100%%**********************]  1 of 1 completed\n",
      "[*********************100%%**********************]  1 of 1 completed\n",
      "single positional indexer is out-of-bounds\n",
      "[*********************100%%**********************]  1 of 1 completed\n",
      "single positional indexer is out-of-bounds\n",
      "[*********************100%%**********************]  1 of 1 completed\n",
      "single positional indexer is out-of-bounds\n",
      "[*********************100%%**********************]  1 of 1 completed\n",
      "single positional indexer is out-of-bounds\n",
      "[*********************100%%**********************]  1 of 1 completed\n",
      "single positional indexer is out-of-bounds\n",
      "[*********************100%%**********************]  1 of 1 completed\n",
      "single positional indexer is out-of-bounds\n",
      "[*********************100%%**********************]  1 of 1 completed\n",
      "single positional indexer is out-of-bounds\n",
      "[*********************100%%**********************]  1 of 1 completed\n",
      "single positional indexer is out-of-bounds\n",
      "[*********************100%%**********************]  1 of 1 completed\n",
      "single positional indexer is out-of-bounds\n",
      "[*********************100%%**********************]  1 of 1 completed\n",
      "single positional indexer is out-of-bounds\n",
      "[*********************100%%**********************]  1 of 1 completed\n",
      "single positional indexer is out-of-bounds\n",
      "[*********************100%%**********************]  1 of 1 completed\n",
      "single positional indexer is out-of-bounds\n",
      "[*********************100%%**********************]  1 of 1 completed\n",
      "[*********************100%%**********************]  1 of 1 completed\n",
      "[*********************100%%**********************]  1 of 1 completed\n",
      "[*********************100%%**********************]  1 of 1 completed\n",
      "single positional indexer is out-of-bounds\n",
      "[*********************100%%**********************]  1 of 1 completed\n",
      "single positional indexer is out-of-bounds\n",
      "[*********************100%%**********************]  1 of 1 completed\n",
      "single positional indexer is out-of-bounds\n",
      "[*********************100%%**********************]  1 of 1 completed\n",
      "single positional indexer is out-of-bounds\n",
      "[*********************100%%**********************]  1 of 1 completed\n",
      "single positional indexer is out-of-bounds\n",
      "[*********************100%%**********************]  1 of 1 completed\n",
      "single positional indexer is out-of-bounds\n",
      "[*********************100%%**********************]  1 of 1 completed\n",
      "single positional indexer is out-of-bounds\n",
      "[*********************100%%**********************]  1 of 1 completed\n",
      "single positional indexer is out-of-bounds\n",
      "[*********************100%%**********************]  1 of 1 completed\n",
      "single positional indexer is out-of-bounds\n",
      "[*********************100%%**********************]  1 of 1 completed\n",
      "single positional indexer is out-of-bounds\n",
      "[*********************100%%**********************]  1 of 1 completed\n",
      "single positional indexer is out-of-bounds\n",
      "[*********************100%%**********************]  1 of 1 completed\n",
      "single positional indexer is out-of-bounds\n",
      "[*********************100%%**********************]  1 of 1 completed\n",
      "[*********************100%%**********************]  1 of 1 completed\n",
      "[*********************100%%**********************]  1 of 1 completed\n",
      "[*********************100%%**********************]  1 of 1 completed\n",
      "single positional indexer is out-of-bounds\n",
      "[*********************100%%**********************]  1 of 1 completed\n",
      "single positional indexer is out-of-bounds\n",
      "[*********************100%%**********************]  1 of 1 completed\n",
      "single positional indexer is out-of-bounds\n",
      "[*********************100%%**********************]  1 of 1 completed\n",
      "single positional indexer is out-of-bounds\n",
      "[*********************100%%**********************]  1 of 1 completed\n",
      "single positional indexer is out-of-bounds\n",
      "[*********************100%%**********************]  1 of 1 completed\n",
      "single positional indexer is out-of-bounds\n",
      "[*********************100%%**********************]  1 of 1 completed\n",
      "single positional indexer is out-of-bounds\n",
      "[*********************100%%**********************]  1 of 1 completed\n",
      "single positional indexer is out-of-bounds\n",
      "[*********************100%%**********************]  1 of 1 completed\n",
      "single positional indexer is out-of-bounds\n",
      "[*********************100%%**********************]  1 of 1 completed\n",
      "single positional indexer is out-of-bounds\n",
      "[*********************100%%**********************]  1 of 1 completed\n",
      "single positional indexer is out-of-bounds\n",
      "[*********************100%%**********************]  1 of 1 completed\n",
      "single positional indexer is out-of-bounds\n",
      "[*********************100%%**********************]  1 of 1 completed\n",
      "[*********************100%%**********************]  1 of 1 completed\n",
      "[*********************100%%**********************]  1 of 1 completed\n",
      "[*********************100%%**********************]  1 of 1 completed\n",
      "single positional indexer is out-of-bounds\n",
      "[*********************100%%**********************]  1 of 1 completed\n",
      "single positional indexer is out-of-bounds\n",
      "[*********************100%%**********************]  1 of 1 completed\n",
      "single positional indexer is out-of-bounds\n",
      "[*********************100%%**********************]  1 of 1 completed\n",
      "single positional indexer is out-of-bounds\n",
      "[*********************100%%**********************]  1 of 1 completed\n",
      "single positional indexer is out-of-bounds\n",
      "[*********************100%%**********************]  1 of 1 completed\n",
      "single positional indexer is out-of-bounds\n",
      "[*********************100%%**********************]  1 of 1 completed\n",
      "single positional indexer is out-of-bounds\n",
      "[*********************100%%**********************]  1 of 1 completed\n",
      "single positional indexer is out-of-bounds\n",
      "[*********************100%%**********************]  1 of 1 completed\n",
      "single positional indexer is out-of-bounds\n",
      "[*********************100%%**********************]  1 of 1 completed\n",
      "single positional indexer is out-of-bounds\n",
      "[*********************100%%**********************]  1 of 1 completed\n",
      "single positional indexer is out-of-bounds\n",
      "[*********************100%%**********************]  1 of 1 completed\n",
      "single positional indexer is out-of-bounds\n",
      "[*********************100%%**********************]  1 of 1 completed\n",
      "[*********************100%%**********************]  1 of 1 completed\n",
      "[*********************100%%**********************]  1 of 1 completed\n",
      "[*********************100%%**********************]  1 of 1 completed\n",
      "single positional indexer is out-of-bounds\n",
      "[*********************100%%**********************]  1 of 1 completed\n",
      "single positional indexer is out-of-bounds\n",
      "[*********************100%%**********************]  1 of 1 completed\n",
      "single positional indexer is out-of-bounds\n",
      "[*********************100%%**********************]  1 of 1 completed\n",
      "single positional indexer is out-of-bounds\n",
      "[*********************100%%**********************]  1 of 1 completed\n",
      "single positional indexer is out-of-bounds\n",
      "[*********************100%%**********************]  1 of 1 completed\n",
      "single positional indexer is out-of-bounds\n",
      "[*********************100%%**********************]  1 of 1 completed\n",
      "single positional indexer is out-of-bounds\n",
      "[*********************100%%**********************]  1 of 1 completed\n",
      "single positional indexer is out-of-bounds\n",
      "[*********************100%%**********************]  1 of 1 completed\n",
      "single positional indexer is out-of-bounds\n",
      "[*********************100%%**********************]  1 of 1 completed\n",
      "single positional indexer is out-of-bounds\n",
      "[*********************100%%**********************]  1 of 1 completed\n",
      "single positional indexer is out-of-bounds\n",
      "[*********************100%%**********************]  1 of 1 completed\n",
      "single positional indexer is out-of-bounds\n",
      "[*********************100%%**********************]  1 of 1 completed\n",
      "[*********************100%%**********************]  1 of 1 completed\n",
      "[*********************100%%**********************]  1 of 1 completed\n",
      "[*********************100%%**********************]  1 of 1 completed\n",
      "single positional indexer is out-of-bounds\n",
      "[*********************100%%**********************]  1 of 1 completed\n",
      "single positional indexer is out-of-bounds\n",
      "[*********************100%%**********************]  1 of 1 completed\n",
      "single positional indexer is out-of-bounds\n",
      "[*********************100%%**********************]  1 of 1 completed\n",
      "single positional indexer is out-of-bounds\n",
      "[*********************100%%**********************]  1 of 1 completed\n",
      "single positional indexer is out-of-bounds\n",
      "[*********************100%%**********************]  1 of 1 completed\n",
      "single positional indexer is out-of-bounds\n",
      "[*********************100%%**********************]  1 of 1 completed\n",
      "single positional indexer is out-of-bounds\n",
      "[*********************100%%**********************]  1 of 1 completed\n",
      "single positional indexer is out-of-bounds\n",
      "[*********************100%%**********************]  1 of 1 completed\n",
      "single positional indexer is out-of-bounds\n",
      "[*********************100%%**********************]  1 of 1 completed\n",
      "single positional indexer is out-of-bounds\n",
      "[*********************100%%**********************]  1 of 1 completed\n",
      "single positional indexer is out-of-bounds\n",
      "[*********************100%%**********************]  1 of 1 completed\n",
      "single positional indexer is out-of-bounds\n",
      "[*********************100%%**********************]  1 of 1 completed\n",
      "[*********************100%%**********************]  1 of 1 completed\n",
      "[*********************100%%**********************]  1 of 1 completed\n",
      "[*********************100%%**********************]  1 of 1 completed\n",
      "single positional indexer is out-of-bounds\n",
      "[*********************100%%**********************]  1 of 1 completed\n",
      "single positional indexer is out-of-bounds\n",
      "[*********************100%%**********************]  1 of 1 completed\n",
      "single positional indexer is out-of-bounds\n",
      "[*********************100%%**********************]  1 of 1 completed\n",
      "single positional indexer is out-of-bounds\n",
      "[*********************100%%**********************]  1 of 1 completed\n",
      "single positional indexer is out-of-bounds\n",
      "[*********************100%%**********************]  1 of 1 completed\n",
      "single positional indexer is out-of-bounds\n",
      "[*********************100%%**********************]  1 of 1 completed\n",
      "single positional indexer is out-of-bounds\n",
      "[*********************100%%**********************]  1 of 1 completed\n",
      "single positional indexer is out-of-bounds\n",
      "[*********************100%%**********************]  1 of 1 completed\n",
      "single positional indexer is out-of-bounds\n",
      "[*********************100%%**********************]  1 of 1 completed\n",
      "single positional indexer is out-of-bounds\n",
      "[*********************100%%**********************]  1 of 1 completed\n",
      "single positional indexer is out-of-bounds\n",
      "[*********************100%%**********************]  1 of 1 completed\n",
      "single positional indexer is out-of-bounds\n",
      "[*********************100%%**********************]  1 of 1 completed\n",
      "[*********************100%%**********************]  1 of 1 completed\n",
      "[*********************100%%**********************]  1 of 1 completed\n",
      "[*********************100%%**********************]  1 of 1 completed\n",
      "single positional indexer is out-of-bounds\n",
      "[*********************100%%**********************]  1 of 1 completed\n",
      "single positional indexer is out-of-bounds\n",
      "[*********************100%%**********************]  1 of 1 completed\n",
      "single positional indexer is out-of-bounds\n",
      "[*********************100%%**********************]  1 of 1 completed\n",
      "single positional indexer is out-of-bounds\n",
      "[*********************100%%**********************]  1 of 1 completed\n",
      "single positional indexer is out-of-bounds\n",
      "[*********************100%%**********************]  1 of 1 completed\n",
      "single positional indexer is out-of-bounds\n",
      "[*********************100%%**********************]  1 of 1 completed\n",
      "single positional indexer is out-of-bounds\n",
      "[*********************100%%**********************]  1 of 1 completed\n",
      "single positional indexer is out-of-bounds\n",
      "[*********************100%%**********************]  1 of 1 completed\n",
      "single positional indexer is out-of-bounds\n",
      "[*********************100%%**********************]  1 of 1 completed\n",
      "single positional indexer is out-of-bounds\n",
      "[*********************100%%**********************]  1 of 1 completed\n",
      "single positional indexer is out-of-bounds\n",
      "[*********************100%%**********************]  1 of 1 completed\n",
      "single positional indexer is out-of-bounds\n",
      "[*********************100%%**********************]  1 of 1 completed\n",
      "[*********************100%%**********************]  1 of 1 completed\n",
      "[*********************100%%**********************]  1 of 1 completed\n",
      "[*********************100%%**********************]  1 of 1 completed\n",
      "single positional indexer is out-of-bounds\n",
      "[*********************100%%**********************]  1 of 1 completed\n",
      "single positional indexer is out-of-bounds\n",
      "[*********************100%%**********************]  1 of 1 completed\n",
      "single positional indexer is out-of-bounds\n",
      "[*********************100%%**********************]  1 of 1 completed\n",
      "single positional indexer is out-of-bounds\n",
      "[*********************100%%**********************]  1 of 1 completed\n",
      "single positional indexer is out-of-bounds\n",
      "[*********************100%%**********************]  1 of 1 completed\n",
      "single positional indexer is out-of-bounds\n",
      "[*********************100%%**********************]  1 of 1 completed\n",
      "single positional indexer is out-of-bounds\n",
      "[*********************100%%**********************]  1 of 1 completed\n",
      "single positional indexer is out-of-bounds\n",
      "[*********************100%%**********************]  1 of 1 completed\n",
      "single positional indexer is out-of-bounds\n",
      "[*********************100%%**********************]  1 of 1 completed\n",
      "single positional indexer is out-of-bounds\n",
      "[*********************100%%**********************]  1 of 1 completed\n",
      "single positional indexer is out-of-bounds\n",
      "[*********************100%%**********************]  1 of 1 completed\n",
      "single positional indexer is out-of-bounds\n",
      "[*********************100%%**********************]  1 of 1 completed\n",
      "[*********************100%%**********************]  1 of 1 completed\n",
      "[*********************100%%**********************]  1 of 1 completed\n",
      "[*********************100%%**********************]  1 of 1 completed\n",
      "single positional indexer is out-of-bounds\n",
      "[*********************100%%**********************]  1 of 1 completed\n",
      "single positional indexer is out-of-bounds\n",
      "[*********************100%%**********************]  1 of 1 completed\n",
      "single positional indexer is out-of-bounds\n",
      "[*********************100%%**********************]  1 of 1 completed\n",
      "single positional indexer is out-of-bounds\n",
      "[*********************100%%**********************]  1 of 1 completed\n",
      "single positional indexer is out-of-bounds\n",
      "[*********************100%%**********************]  1 of 1 completed\n",
      "single positional indexer is out-of-bounds\n",
      "[*********************100%%**********************]  1 of 1 completed\n",
      "single positional indexer is out-of-bounds\n",
      "[*********************100%%**********************]  1 of 1 completed\n",
      "single positional indexer is out-of-bounds\n",
      "[*********************100%%**********************]  1 of 1 completed\n",
      "single positional indexer is out-of-bounds\n",
      "[*********************100%%**********************]  1 of 1 completed\n",
      "single positional indexer is out-of-bounds\n",
      "[*********************100%%**********************]  1 of 1 completed\n",
      "single positional indexer is out-of-bounds\n",
      "[*********************100%%**********************]  1 of 1 completed\n",
      "single positional indexer is out-of-bounds\n",
      "[*********************100%%**********************]  1 of 1 completed\n",
      "[*********************100%%**********************]  1 of 1 completed\n",
      "[*********************100%%**********************]  1 of 1 completed\n",
      "[*********************100%%**********************]  1 of 1 completed\n",
      "single positional indexer is out-of-bounds\n",
      "[*********************100%%**********************]  1 of 1 completed\n",
      "single positional indexer is out-of-bounds\n",
      "[*********************100%%**********************]  1 of 1 completed\n",
      "single positional indexer is out-of-bounds\n",
      "[*********************100%%**********************]  1 of 1 completed\n",
      "single positional indexer is out-of-bounds\n",
      "[*********************100%%**********************]  1 of 1 completed\n",
      "single positional indexer is out-of-bounds\n",
      "[*********************100%%**********************]  1 of 1 completed\n",
      "single positional indexer is out-of-bounds\n",
      "[*********************100%%**********************]  1 of 1 completed\n",
      "single positional indexer is out-of-bounds\n",
      "[*********************100%%**********************]  1 of 1 completed\n",
      "single positional indexer is out-of-bounds\n",
      "[*********************100%%**********************]  1 of 1 completed\n",
      "single positional indexer is out-of-bounds\n",
      "[*********************100%%**********************]  1 of 1 completed\n",
      "single positional indexer is out-of-bounds\n",
      "[*********************100%%**********************]  1 of 1 completed\n",
      "single positional indexer is out-of-bounds\n",
      "[*********************100%%**********************]  1 of 1 completed\n",
      "single positional indexer is out-of-bounds\n",
      "[*********************100%%**********************]  1 of 1 completed\n",
      "[*********************100%%**********************]  1 of 1 completed\n",
      "[*********************100%%**********************]  1 of 1 completed\n",
      "[*********************100%%**********************]  1 of 1 completed\n",
      "single positional indexer is out-of-bounds\n",
      "[*********************100%%**********************]  1 of 1 completed\n",
      "single positional indexer is out-of-bounds\n",
      "[*********************100%%**********************]  1 of 1 completed\n",
      "single positional indexer is out-of-bounds\n",
      "[*********************100%%**********************]  1 of 1 completed\n",
      "single positional indexer is out-of-bounds\n",
      "[*********************100%%**********************]  1 of 1 completed\n",
      "single positional indexer is out-of-bounds\n",
      "[*********************100%%**********************]  1 of 1 completed\n",
      "single positional indexer is out-of-bounds\n",
      "[*********************100%%**********************]  1 of 1 completed\n",
      "single positional indexer is out-of-bounds\n",
      "[*********************100%%**********************]  1 of 1 completed\n",
      "single positional indexer is out-of-bounds\n",
      "[*********************100%%**********************]  1 of 1 completed\n",
      "single positional indexer is out-of-bounds\n",
      "[*********************100%%**********************]  1 of 1 completed\n",
      "single positional indexer is out-of-bounds\n",
      "[*********************100%%**********************]  1 of 1 completed\n",
      "single positional indexer is out-of-bounds\n",
      "[*********************100%%**********************]  1 of 1 completed\n",
      "single positional indexer is out-of-bounds\n",
      "[*********************100%%**********************]  1 of 1 completed\n",
      "[*********************100%%**********************]  1 of 1 completed\n",
      "[*********************100%%**********************]  1 of 1 completed\n",
      "[*********************100%%**********************]  1 of 1 completed\n",
      "single positional indexer is out-of-bounds\n",
      "[*********************100%%**********************]  1 of 1 completed\n",
      "single positional indexer is out-of-bounds\n",
      "[*********************100%%**********************]  1 of 1 completed\n",
      "single positional indexer is out-of-bounds\n",
      "[*********************100%%**********************]  1 of 1 completed\n",
      "single positional indexer is out-of-bounds\n",
      "[*********************100%%**********************]  1 of 1 completed\n",
      "single positional indexer is out-of-bounds\n",
      "[*********************100%%**********************]  1 of 1 completed\n",
      "single positional indexer is out-of-bounds\n",
      "[*********************100%%**********************]  1 of 1 completed\n",
      "single positional indexer is out-of-bounds\n",
      "[*********************100%%**********************]  1 of 1 completed\n",
      "single positional indexer is out-of-bounds\n",
      "[*********************100%%**********************]  1 of 1 completed\n",
      "single positional indexer is out-of-bounds\n",
      "[*********************100%%**********************]  1 of 1 completed\n",
      "single positional indexer is out-of-bounds\n",
      "[*********************100%%**********************]  1 of 1 completed\n",
      "single positional indexer is out-of-bounds\n",
      "[*********************100%%**********************]  1 of 1 completed\n",
      "single positional indexer is out-of-bounds\n",
      "[*********************100%%**********************]  1 of 1 completed\n",
      "[*********************100%%**********************]  1 of 1 completed\n",
      "[*********************100%%**********************]  1 of 1 completed\n",
      "[*********************100%%**********************]  1 of 1 completed\n",
      "single positional indexer is out-of-bounds\n",
      "[*********************100%%**********************]  1 of 1 completed\n",
      "single positional indexer is out-of-bounds\n",
      "[*********************100%%**********************]  1 of 1 completed\n",
      "single positional indexer is out-of-bounds\n",
      "[*********************100%%**********************]  1 of 1 completed\n",
      "single positional indexer is out-of-bounds\n",
      "[*********************100%%**********************]  1 of 1 completed\n",
      "single positional indexer is out-of-bounds\n",
      "[*********************100%%**********************]  1 of 1 completed\n",
      "single positional indexer is out-of-bounds\n",
      "[*********************100%%**********************]  1 of 1 completed\n",
      "single positional indexer is out-of-bounds\n",
      "[*********************100%%**********************]  1 of 1 completed\n",
      "single positional indexer is out-of-bounds\n",
      "[*********************100%%**********************]  1 of 1 completed\n",
      "single positional indexer is out-of-bounds\n",
      "[*********************100%%**********************]  1 of 1 completed\n",
      "single positional indexer is out-of-bounds\n",
      "[*********************100%%**********************]  1 of 1 completed\n",
      "single positional indexer is out-of-bounds\n",
      "[*********************100%%**********************]  1 of 1 completed\n",
      "single positional indexer is out-of-bounds\n",
      "[*********************100%%**********************]  1 of 1 completed\n",
      "[*********************100%%**********************]  1 of 1 completed\n",
      "[*********************100%%**********************]  1 of 1 completed\n",
      "[*********************100%%**********************]  1 of 1 completed\n",
      "single positional indexer is out-of-bounds\n",
      "[*********************100%%**********************]  1 of 1 completed\n",
      "single positional indexer is out-of-bounds\n",
      "[*********************100%%**********************]  1 of 1 completed\n",
      "single positional indexer is out-of-bounds\n",
      "[*********************100%%**********************]  1 of 1 completed\n",
      "single positional indexer is out-of-bounds\n",
      "[*********************100%%**********************]  1 of 1 completed\n",
      "single positional indexer is out-of-bounds\n",
      "[*********************100%%**********************]  1 of 1 completed\n",
      "single positional indexer is out-of-bounds\n",
      "[*********************100%%**********************]  1 of 1 completed\n",
      "single positional indexer is out-of-bounds\n",
      "[*********************100%%**********************]  1 of 1 completed\n",
      "single positional indexer is out-of-bounds\n",
      "[*********************100%%**********************]  1 of 1 completed\n",
      "single positional indexer is out-of-bounds\n",
      "[*********************100%%**********************]  1 of 1 completed\n",
      "single positional indexer is out-of-bounds\n",
      "[*********************100%%**********************]  1 of 1 completed\n",
      "single positional indexer is out-of-bounds\n",
      "[*********************100%%**********************]  1 of 1 completed\n",
      "single positional indexer is out-of-bounds\n",
      "[*********************100%%**********************]  1 of 1 completed\n",
      "[*********************100%%**********************]  1 of 1 completed\n",
      "[*********************100%%**********************]  1 of 1 completed\n",
      "[*********************100%%**********************]  1 of 1 completed\n",
      "single positional indexer is out-of-bounds\n",
      "[*********************100%%**********************]  1 of 1 completed\n",
      "single positional indexer is out-of-bounds\n",
      "[*********************100%%**********************]  1 of 1 completed\n",
      "single positional indexer is out-of-bounds\n",
      "[*********************100%%**********************]  1 of 1 completed\n",
      "single positional indexer is out-of-bounds\n",
      "[*********************100%%**********************]  1 of 1 completed\n",
      "single positional indexer is out-of-bounds\n",
      "[*********************100%%**********************]  1 of 1 completed\n",
      "single positional indexer is out-of-bounds\n",
      "[*********************100%%**********************]  1 of 1 completed\n",
      "single positional indexer is out-of-bounds\n",
      "[*********************100%%**********************]  1 of 1 completed\n",
      "single positional indexer is out-of-bounds\n",
      "[*********************100%%**********************]  1 of 1 completed\n",
      "single positional indexer is out-of-bounds\n",
      "[*********************100%%**********************]  1 of 1 completed\n",
      "single positional indexer is out-of-bounds\n",
      "[*********************100%%**********************]  1 of 1 completed\n",
      "single positional indexer is out-of-bounds\n",
      "[*********************100%%**********************]  1 of 1 completed\n",
      "single positional indexer is out-of-bounds\n",
      "[*********************100%%**********************]  1 of 1 completed\n",
      "[*********************100%%**********************]  1 of 1 completed\n",
      "[*********************100%%**********************]  1 of 1 completed\n",
      "[*********************100%%**********************]  1 of 1 completed\n",
      "single positional indexer is out-of-bounds\n",
      "[*********************100%%**********************]  1 of 1 completed\n",
      "single positional indexer is out-of-bounds\n",
      "[*********************100%%**********************]  1 of 1 completed\n",
      "single positional indexer is out-of-bounds\n",
      "[*********************100%%**********************]  1 of 1 completed\n",
      "single positional indexer is out-of-bounds\n",
      "[*********************100%%**********************]  1 of 1 completed\n",
      "single positional indexer is out-of-bounds\n",
      "[*********************100%%**********************]  1 of 1 completed\n",
      "single positional indexer is out-of-bounds\n",
      "[*********************100%%**********************]  1 of 1 completed\n",
      "single positional indexer is out-of-bounds\n",
      "[*********************100%%**********************]  1 of 1 completed\n",
      "single positional indexer is out-of-bounds\n",
      "[*********************100%%**********************]  1 of 1 completed\n",
      "single positional indexer is out-of-bounds\n",
      "[*********************100%%**********************]  1 of 1 completed\n",
      "single positional indexer is out-of-bounds\n",
      "[*********************100%%**********************]  1 of 1 completed\n",
      "single positional indexer is out-of-bounds\n",
      "[*********************100%%**********************]  1 of 1 completed\n",
      "single positional indexer is out-of-bounds\n",
      "[*********************100%%**********************]  1 of 1 completed\n",
      "[*********************100%%**********************]  1 of 1 completed\n",
      "[*********************100%%**********************]  1 of 1 completed\n",
      "[*********************100%%**********************]  1 of 1 completed\n",
      "single positional indexer is out-of-bounds\n",
      "[*********************100%%**********************]  1 of 1 completed\n",
      "single positional indexer is out-of-bounds\n",
      "[*********************100%%**********************]  1 of 1 completed\n",
      "single positional indexer is out-of-bounds\n",
      "[*********************100%%**********************]  1 of 1 completed\n",
      "single positional indexer is out-of-bounds\n",
      "[*********************100%%**********************]  1 of 1 completed\n",
      "single positional indexer is out-of-bounds\n",
      "[*********************100%%**********************]  1 of 1 completed\n",
      "single positional indexer is out-of-bounds\n",
      "[*********************100%%**********************]  1 of 1 completed\n",
      "single positional indexer is out-of-bounds\n",
      "[*********************100%%**********************]  1 of 1 completed\n",
      "single positional indexer is out-of-bounds\n",
      "[*********************100%%**********************]  1 of 1 completed\n",
      "single positional indexer is out-of-bounds\n",
      "[*********************100%%**********************]  1 of 1 completed\n",
      "single positional indexer is out-of-bounds\n",
      "[*********************100%%**********************]  1 of 1 completed\n",
      "single positional indexer is out-of-bounds\n",
      "[*********************100%%**********************]  1 of 1 completed\n",
      "single positional indexer is out-of-bounds\n",
      "[*********************100%%**********************]  1 of 1 completed\n",
      "[*********************100%%**********************]  1 of 1 completed\n",
      "[*********************100%%**********************]  1 of 1 completed\n",
      "[*********************100%%**********************]  1 of 1 completed\n",
      "single positional indexer is out-of-bounds\n",
      "[*********************100%%**********************]  1 of 1 completed\n",
      "single positional indexer is out-of-bounds\n",
      "[*********************100%%**********************]  1 of 1 completed\n",
      "single positional indexer is out-of-bounds\n",
      "[*********************100%%**********************]  1 of 1 completed\n",
      "single positional indexer is out-of-bounds\n",
      "[*********************100%%**********************]  1 of 1 completed\n",
      "single positional indexer is out-of-bounds\n",
      "[*********************100%%**********************]  1 of 1 completed\n",
      "single positional indexer is out-of-bounds\n",
      "[*********************100%%**********************]  1 of 1 completed\n",
      "single positional indexer is out-of-bounds\n",
      "[*********************100%%**********************]  1 of 1 completed\n",
      "single positional indexer is out-of-bounds\n",
      "[*********************100%%**********************]  1 of 1 completed\n",
      "single positional indexer is out-of-bounds\n",
      "[*********************100%%**********************]  1 of 1 completed\n",
      "single positional indexer is out-of-bounds\n",
      "[*********************100%%**********************]  1 of 1 completed\n",
      "single positional indexer is out-of-bounds\n",
      "[*********************100%%**********************]  1 of 1 completed\n",
      "single positional indexer is out-of-bounds\n",
      "[*********************100%%**********************]  1 of 1 completed\n",
      "[*********************100%%**********************]  1 of 1 completed\n",
      "[*********************100%%**********************]  1 of 1 completed\n",
      "[*********************100%%**********************]  1 of 1 completed\n",
      "single positional indexer is out-of-bounds\n",
      "[*********************100%%**********************]  1 of 1 completed\n",
      "single positional indexer is out-of-bounds\n",
      "[*********************100%%**********************]  1 of 1 completed\n",
      "single positional indexer is out-of-bounds\n",
      "[*********************100%%**********************]  1 of 1 completed\n",
      "single positional indexer is out-of-bounds\n",
      "[*********************100%%**********************]  1 of 1 completed\n",
      "single positional indexer is out-of-bounds\n",
      "[*********************100%%**********************]  1 of 1 completed\n",
      "single positional indexer is out-of-bounds\n",
      "[*********************100%%**********************]  1 of 1 completed\n",
      "single positional indexer is out-of-bounds\n",
      "[*********************100%%**********************]  1 of 1 completed\n",
      "single positional indexer is out-of-bounds\n",
      "[*********************100%%**********************]  1 of 1 completed\n",
      "single positional indexer is out-of-bounds\n",
      "[*********************100%%**********************]  1 of 1 completed\n",
      "single positional indexer is out-of-bounds\n",
      "[*********************100%%**********************]  1 of 1 completed\n",
      "single positional indexer is out-of-bounds\n",
      "[*********************100%%**********************]  1 of 1 completed\n",
      "single positional indexer is out-of-bounds\n",
      "[*********************100%%**********************]  1 of 1 completed\n",
      "[*********************100%%**********************]  1 of 1 completed\n",
      "[*********************100%%**********************]  1 of 1 completed\n",
      "[*********************100%%**********************]  1 of 1 completed\n",
      "single positional indexer is out-of-bounds\n",
      "[*********************100%%**********************]  1 of 1 completed\n",
      "single positional indexer is out-of-bounds\n",
      "[*********************100%%**********************]  1 of 1 completed\n",
      "single positional indexer is out-of-bounds\n",
      "[*********************100%%**********************]  1 of 1 completed\n",
      "single positional indexer is out-of-bounds\n",
      "[*********************100%%**********************]  1 of 1 completed\n",
      "single positional indexer is out-of-bounds\n",
      "[*********************100%%**********************]  1 of 1 completed\n",
      "single positional indexer is out-of-bounds\n",
      "[*********************100%%**********************]  1 of 1 completed\n",
      "single positional indexer is out-of-bounds\n",
      "[*********************100%%**********************]  1 of 1 completed\n",
      "single positional indexer is out-of-bounds\n",
      "[*********************100%%**********************]  1 of 1 completed\n",
      "single positional indexer is out-of-bounds\n",
      "[*********************100%%**********************]  1 of 1 completed\n",
      "single positional indexer is out-of-bounds\n",
      "[*********************100%%**********************]  1 of 1 completed\n",
      "single positional indexer is out-of-bounds\n",
      "[*********************100%%**********************]  1 of 1 completed\n",
      "single positional indexer is out-of-bounds\n",
      "[*********************100%%**********************]  1 of 1 completed\n",
      "[*********************100%%**********************]  1 of 1 completed\n",
      "[*********************100%%**********************]  1 of 1 completed\n",
      "[*********************100%%**********************]  1 of 1 completed\n",
      "single positional indexer is out-of-bounds\n",
      "[*********************100%%**********************]  1 of 1 completed\n",
      "single positional indexer is out-of-bounds\n",
      "[*********************100%%**********************]  1 of 1 completed\n",
      "single positional indexer is out-of-bounds\n",
      "[*********************100%%**********************]  1 of 1 completed\n",
      "single positional indexer is out-of-bounds\n",
      "[*********************100%%**********************]  1 of 1 completed\n",
      "single positional indexer is out-of-bounds\n",
      "[*********************100%%**********************]  1 of 1 completed\n",
      "single positional indexer is out-of-bounds\n",
      "[*********************100%%**********************]  1 of 1 completed\n",
      "single positional indexer is out-of-bounds\n",
      "[*********************100%%**********************]  1 of 1 completed\n",
      "single positional indexer is out-of-bounds\n",
      "[*********************100%%**********************]  1 of 1 completed\n",
      "single positional indexer is out-of-bounds\n",
      "[*********************100%%**********************]  1 of 1 completed\n",
      "single positional indexer is out-of-bounds\n",
      "[*********************100%%**********************]  1 of 1 completed\n",
      "single positional indexer is out-of-bounds\n",
      "[*********************100%%**********************]  1 of 1 completed\n",
      "single positional indexer is out-of-bounds\n",
      "[*********************100%%**********************]  1 of 1 completed\n",
      "[*********************100%%**********************]  1 of 1 completed\n",
      "[*********************100%%**********************]  1 of 1 completed\n",
      "[*********************100%%**********************]  1 of 1 completed\n",
      "single positional indexer is out-of-bounds\n",
      "[*********************100%%**********************]  1 of 1 completed\n",
      "single positional indexer is out-of-bounds\n",
      "[*********************100%%**********************]  1 of 1 completed\n",
      "single positional indexer is out-of-bounds\n",
      "[*********************100%%**********************]  1 of 1 completed\n",
      "single positional indexer is out-of-bounds\n",
      "[*********************100%%**********************]  1 of 1 completed\n",
      "single positional indexer is out-of-bounds\n",
      "[*********************100%%**********************]  1 of 1 completed\n",
      "single positional indexer is out-of-bounds\n",
      "[*********************100%%**********************]  1 of 1 completed\n",
      "single positional indexer is out-of-bounds\n",
      "[*********************100%%**********************]  1 of 1 completed\n",
      "single positional indexer is out-of-bounds\n",
      "[*********************100%%**********************]  1 of 1 completed\n",
      "single positional indexer is out-of-bounds\n",
      "[*********************100%%**********************]  1 of 1 completed\n",
      "single positional indexer is out-of-bounds\n",
      "[*********************100%%**********************]  1 of 1 completed\n",
      "single positional indexer is out-of-bounds\n",
      "[*********************100%%**********************]  1 of 1 completed\n",
      "single positional indexer is out-of-bounds\n",
      "[*********************100%%**********************]  1 of 1 completed"
     ]
    },
    {
     "name": "stderr",
     "output_type": "stream",
     "text": [
      "\n",
      "1 Failed download:\n",
      "['SPX']: Exception('%ticker%: No price data found, symbol may be delisted (1d 2023-11-07 10:01:35.704344 -> 2023-11-08 10:01:35.704344)')\n"
     ]
    },
    {
     "name": "stdout",
     "output_type": "stream",
     "text": [
      "\n",
      "single positional indexer is out-of-bounds\n",
      "[*********************100%%**********************]  1 of 1 completed"
     ]
    },
    {
     "name": "stderr",
     "output_type": "stream",
     "text": [
      "\n",
      "1 Failed download:\n",
      "['SPX']: Exception('%ticker%: No price data found, symbol may be delisted (1d 2023-11-07 10:01:35.704344 -> 2023-11-09 10:01:35.704344)')\n"
     ]
    },
    {
     "name": "stdout",
     "output_type": "stream",
     "text": [
      "\n",
      "single positional indexer is out-of-bounds\n",
      "[*********************100%%**********************]  1 of 1 completed"
     ]
    },
    {
     "name": "stderr",
     "output_type": "stream",
     "text": [
      "\n",
      "1 Failed download:\n",
      "['SPX']: Exception('%ticker%: No price data found, symbol may be delisted (1d 2023-11-07 10:01:35.704344 -> 2023-11-10 10:01:35.704344)')\n"
     ]
    },
    {
     "name": "stdout",
     "output_type": "stream",
     "text": [
      "\n",
      "single positional indexer is out-of-bounds\n",
      "[*********************100%%**********************]  1 of 1 completed"
     ]
    },
    {
     "name": "stderr",
     "output_type": "stream",
     "text": [
      "\n",
      "1 Failed download:\n",
      "['SPX']: Exception('%ticker%: No price data found, symbol may be delisted (1d 2023-11-07 10:01:35.704344 -> 2023-11-11 10:01:35.704344)')\n"
     ]
    },
    {
     "name": "stdout",
     "output_type": "stream",
     "text": [
      "\n",
      "single positional indexer is out-of-bounds\n",
      "[*********************100%%**********************]  1 of 1 completed"
     ]
    },
    {
     "name": "stderr",
     "output_type": "stream",
     "text": [
      "\n",
      "1 Failed download:\n",
      "['SPX']: Exception('%ticker%: No price data found, symbol may be delisted (1d 2023-11-07 10:01:35.704344 -> 2023-11-12 10:01:35.704344)')\n"
     ]
    },
    {
     "name": "stdout",
     "output_type": "stream",
     "text": [
      "\n",
      "single positional indexer is out-of-bounds\n",
      "[*********************100%%**********************]  1 of 1 completed"
     ]
    },
    {
     "name": "stderr",
     "output_type": "stream",
     "text": [
      "\n",
      "1 Failed download:\n",
      "['SPX']: Exception('%ticker%: No price data found, symbol may be delisted (1d 2023-11-07 10:01:35.704344 -> 2023-11-13 10:01:35.704344)')\n"
     ]
    },
    {
     "name": "stdout",
     "output_type": "stream",
     "text": [
      "\n",
      "single positional indexer is out-of-bounds\n",
      "[*********************100%%**********************]  1 of 1 completed"
     ]
    },
    {
     "name": "stderr",
     "output_type": "stream",
     "text": [
      "\n",
      "1 Failed download:\n",
      "['SPX']: Exception('%ticker%: No price data found, symbol may be delisted (1d 2023-11-07 10:01:35.704344 -> 2023-11-14 10:01:35.704344)')\n"
     ]
    },
    {
     "name": "stdout",
     "output_type": "stream",
     "text": [
      "\n",
      "single positional indexer is out-of-bounds\n",
      "[*********************100%%**********************]  1 of 1 completed"
     ]
    },
    {
     "name": "stderr",
     "output_type": "stream",
     "text": [
      "\n",
      "1 Failed download:\n",
      "['SPX']: Exception('%ticker%: No price data found, symbol may be delisted (1d 2023-11-07 10:01:35.704344 -> 2023-11-15 10:01:35.704344)')\n"
     ]
    },
    {
     "name": "stdout",
     "output_type": "stream",
     "text": [
      "\n",
      "single positional indexer is out-of-bounds\n",
      "[*********************100%%**********************]  1 of 1 completed"
     ]
    },
    {
     "name": "stderr",
     "output_type": "stream",
     "text": [
      "\n",
      "1 Failed download:\n",
      "['SPX']: Exception('%ticker%: No price data found, symbol may be delisted (1d 2023-11-07 10:01:35.704344 -> 2023-11-16 10:01:35.704344)')\n"
     ]
    },
    {
     "name": "stdout",
     "output_type": "stream",
     "text": [
      "\n",
      "single positional indexer is out-of-bounds\n",
      "[*********************100%%**********************]  1 of 1 completed"
     ]
    },
    {
     "name": "stderr",
     "output_type": "stream",
     "text": [
      "\n",
      "1 Failed download:\n"
     ]
    },
    {
     "name": "stdout",
     "output_type": "stream",
     "text": [
      "\n"
     ]
    },
    {
     "name": "stderr",
     "output_type": "stream",
     "text": [
      "['SPX']: Exception('%ticker%: No price data found, symbol may be delisted (1d 2023-11-07 10:01:35.704344 -> 2023-11-17 10:01:35.704344)')\n"
     ]
    },
    {
     "name": "stdout",
     "output_type": "stream",
     "text": [
      "single positional indexer is out-of-bounds\n",
      "[*********************100%%**********************]  1 of 1 completed"
     ]
    },
    {
     "name": "stderr",
     "output_type": "stream",
     "text": [
      "\n",
      "1 Failed download:\n",
      "['SPX']: Exception('%ticker%: No price data found, symbol may be delisted (1d 2023-11-07 10:01:35.704344 -> 2023-11-18 10:01:35.704344)')\n"
     ]
    },
    {
     "name": "stdout",
     "output_type": "stream",
     "text": [
      "\n",
      "single positional indexer is out-of-bounds\n",
      "[*********************100%%**********************]  1 of 1 completed"
     ]
    },
    {
     "name": "stderr",
     "output_type": "stream",
     "text": [
      "\n",
      "1 Failed download:\n",
      "['SPX']: Exception('%ticker%: No price data found, symbol may be delisted (1d 2023-11-07 10:01:35.704344 -> 2023-11-19 10:01:35.704344)')\n"
     ]
    },
    {
     "name": "stdout",
     "output_type": "stream",
     "text": [
      "\n",
      "single positional indexer is out-of-bounds\n",
      "[*********************100%%**********************]  1 of 1 completed"
     ]
    },
    {
     "name": "stderr",
     "output_type": "stream",
     "text": [
      "\n",
      "1 Failed download:\n",
      "['SPX']: Exception('%ticker%: No price data found, symbol may be delisted (1d 2023-11-07 10:01:35.704344 -> 2023-11-20 10:01:35.704344)')\n"
     ]
    },
    {
     "name": "stdout",
     "output_type": "stream",
     "text": [
      "\n",
      "single positional indexer is out-of-bounds\n",
      "[*********************100%%**********************]  1 of 1 completed"
     ]
    },
    {
     "name": "stderr",
     "output_type": "stream",
     "text": [
      "\n",
      "1 Failed download:\n",
      "['SPX']: Exception('%ticker%: No price data found, symbol may be delisted (1d 2023-11-07 10:01:35.704344 -> 2023-11-21 10:01:35.704344)')\n"
     ]
    },
    {
     "name": "stdout",
     "output_type": "stream",
     "text": [
      "\n",
      "single positional indexer is out-of-bounds\n",
      "[*********************100%%**********************]  1 of 1 completed"
     ]
    },
    {
     "name": "stderr",
     "output_type": "stream",
     "text": [
      "\n",
      "1 Failed download:\n",
      "['SPX']: Exception('%ticker%: No price data found, symbol may be delisted (1d 2023-11-07 10:01:35.704344 -> 2023-11-22 10:01:35.704344)')\n"
     ]
    },
    {
     "name": "stdout",
     "output_type": "stream",
     "text": [
      "\n",
      "single positional indexer is out-of-bounds\n",
      "[*********************100%%**********************]  1 of 1 completed"
     ]
    },
    {
     "name": "stderr",
     "output_type": "stream",
     "text": [
      "\n",
      "1 Failed download:\n",
      "['VIX']: Exception('%ticker%: No price data found, symbol may be delisted (1d 2023-11-07 10:01:35.704344 -> 2023-11-08 10:01:35.704344)')\n"
     ]
    },
    {
     "name": "stdout",
     "output_type": "stream",
     "text": [
      "\n",
      "single positional indexer is out-of-bounds\n",
      "[*********************100%%**********************]  1 of 1 completed"
     ]
    },
    {
     "name": "stderr",
     "output_type": "stream",
     "text": [
      "\n",
      "1 Failed download:\n",
      "['VIX']: Exception('%ticker%: No price data found, symbol may be delisted (1d 2023-11-07 10:01:35.704344 -> 2023-11-09 10:01:35.704344)')\n"
     ]
    },
    {
     "name": "stdout",
     "output_type": "stream",
     "text": [
      "\n",
      "single positional indexer is out-of-bounds\n",
      "[*********************100%%**********************]  1 of 1 completed"
     ]
    },
    {
     "name": "stderr",
     "output_type": "stream",
     "text": [
      "\n",
      "1 Failed download:\n",
      "['VIX']: Exception('%ticker%: No price data found, symbol may be delisted (1d 2023-11-07 10:01:35.704344 -> 2023-11-10 10:01:35.704344)')\n"
     ]
    },
    {
     "name": "stdout",
     "output_type": "stream",
     "text": [
      "\n",
      "single positional indexer is out-of-bounds\n",
      "[*********************100%%**********************]  1 of 1 completed"
     ]
    },
    {
     "name": "stderr",
     "output_type": "stream",
     "text": [
      "\n",
      "1 Failed download:\n",
      "['VIX']: Exception('%ticker%: No price data found, symbol may be delisted (1d 2023-11-07 10:01:35.704344 -> 2023-11-11 10:01:35.704344)')\n"
     ]
    },
    {
     "name": "stdout",
     "output_type": "stream",
     "text": [
      "\n",
      "single positional indexer is out-of-bounds\n",
      "[*********************100%%**********************]  1 of 1 completed"
     ]
    },
    {
     "name": "stderr",
     "output_type": "stream",
     "text": [
      "\n",
      "1 Failed download:\n",
      "['VIX']: Exception('%ticker%: No price data found, symbol may be delisted (1d 2023-11-07 10:01:35.704344 -> 2023-11-12 10:01:35.704344)')\n"
     ]
    },
    {
     "name": "stdout",
     "output_type": "stream",
     "text": [
      "\n",
      "single positional indexer is out-of-bounds\n",
      "[*********************100%%**********************]  1 of 1 completed"
     ]
    },
    {
     "name": "stderr",
     "output_type": "stream",
     "text": [
      "\n",
      "1 Failed download:\n",
      "['VIX']: Exception('%ticker%: No price data found, symbol may be delisted (1d 2023-11-07 10:01:35.704344 -> 2023-11-13 10:01:35.704344)')\n"
     ]
    },
    {
     "name": "stdout",
     "output_type": "stream",
     "text": [
      "\n",
      "single positional indexer is out-of-bounds\n",
      "[*********************100%%**********************]  1 of 1 completed"
     ]
    },
    {
     "name": "stderr",
     "output_type": "stream",
     "text": [
      "\n",
      "1 Failed download:\n",
      "['VIX']: Exception('%ticker%: No price data found, symbol may be delisted (1d 2023-11-07 10:01:35.704344 -> 2023-11-14 10:01:35.704344)')\n"
     ]
    },
    {
     "name": "stdout",
     "output_type": "stream",
     "text": [
      "\n",
      "single positional indexer is out-of-bounds\n",
      "[*********************100%%**********************]  1 of 1 completed"
     ]
    },
    {
     "name": "stderr",
     "output_type": "stream",
     "text": [
      "\n",
      "1 Failed download:\n",
      "['VIX']: Exception('%ticker%: No price data found, symbol may be delisted (1d 2023-11-07 10:01:35.704344 -> 2023-11-15 10:01:35.704344)')\n"
     ]
    },
    {
     "name": "stdout",
     "output_type": "stream",
     "text": [
      "\n",
      "single positional indexer is out-of-bounds\n",
      "[*********************100%%**********************]  1 of 1 completed"
     ]
    },
    {
     "name": "stderr",
     "output_type": "stream",
     "text": [
      "\n",
      "1 Failed download:\n",
      "['VIX']: Exception('%ticker%: No price data found, symbol may be delisted (1d 2023-11-07 10:01:35.704344 -> 2023-11-16 10:01:35.704344)')\n"
     ]
    },
    {
     "name": "stdout",
     "output_type": "stream",
     "text": [
      "\n",
      "single positional indexer is out-of-bounds\n",
      "[*********************100%%**********************]  1 of 1 completed"
     ]
    },
    {
     "name": "stderr",
     "output_type": "stream",
     "text": [
      "\n",
      "1 Failed download:\n",
      "['VIX']: Exception('%ticker%: No price data found, symbol may be delisted (1d 2023-11-07 10:01:35.704344 -> 2023-11-17 10:01:35.704344)')\n"
     ]
    },
    {
     "name": "stdout",
     "output_type": "stream",
     "text": [
      "\n",
      "single positional indexer is out-of-bounds\n",
      "[*********************100%%**********************]  1 of 1 completed"
     ]
    },
    {
     "name": "stderr",
     "output_type": "stream",
     "text": [
      "\n",
      "1 Failed download:\n",
      "['VIX']: Exception('%ticker%: No price data found, symbol may be delisted (1d 2023-11-07 10:01:35.704344 -> 2023-11-18 10:01:35.704344)')\n"
     ]
    },
    {
     "name": "stdout",
     "output_type": "stream",
     "text": [
      "\n",
      "single positional indexer is out-of-bounds\n",
      "[*********************100%%**********************]  1 of 1 completed"
     ]
    },
    {
     "name": "stderr",
     "output_type": "stream",
     "text": [
      "\n",
      "1 Failed download:\n",
      "['VIX']: Exception('%ticker%: No price data found, symbol may be delisted (1d 2023-11-07 10:01:35.704344 -> 2023-11-19 10:01:35.704344)')\n"
     ]
    },
    {
     "name": "stdout",
     "output_type": "stream",
     "text": [
      "\n",
      "single positional indexer is out-of-bounds\n",
      "[*********************100%%**********************]  1 of 1 completed"
     ]
    },
    {
     "name": "stderr",
     "output_type": "stream",
     "text": [
      "\n",
      "1 Failed download:\n",
      "['VIX']: Exception('%ticker%: No price data found, symbol may be delisted (1d 2023-11-07 10:01:35.704344 -> 2023-11-20 10:01:35.704344)')\n"
     ]
    },
    {
     "name": "stdout",
     "output_type": "stream",
     "text": [
      "\n",
      "single positional indexer is out-of-bounds\n",
      "[*********************100%%**********************]  1 of 1 completed"
     ]
    },
    {
     "name": "stderr",
     "output_type": "stream",
     "text": [
      "\n",
      "1 Failed download:\n",
      "['VIX']: Exception('%ticker%: No price data found, symbol may be delisted (1d 2023-11-07 10:01:35.704344 -> 2023-11-21 10:01:35.704344)')\n"
     ]
    },
    {
     "name": "stdout",
     "output_type": "stream",
     "text": [
      "\n",
      "single positional indexer is out-of-bounds\n",
      "[*********************100%%**********************]  1 of 1 completed"
     ]
    },
    {
     "name": "stderr",
     "output_type": "stream",
     "text": [
      "\n",
      "1 Failed download:\n",
      "['VIX']: Exception('%ticker%: No price data found, symbol may be delisted (1d 2023-11-07 10:01:35.704344 -> 2023-11-22 10:01:35.704344)')\n"
     ]
    },
    {
     "name": "stdout",
     "output_type": "stream",
     "text": [
      "\n",
      "single positional indexer is out-of-bounds\n",
      "[*********************100%%**********************]  1 of 1 completed\n",
      "[*********************100%%**********************]  1 of 1 completed\n",
      "[*********************100%%**********************]  1 of 1 completed\n",
      "[*********************100%%**********************]  1 of 1 completed\n",
      "single positional indexer is out-of-bounds\n",
      "[*********************100%%**********************]  1 of 1 completed\n",
      "single positional indexer is out-of-bounds\n",
      "[*********************100%%**********************]  1 of 1 completed\n",
      "single positional indexer is out-of-bounds\n",
      "[*********************100%%**********************]  1 of 1 completed\n",
      "single positional indexer is out-of-bounds\n",
      "[*********************100%%**********************]  1 of 1 completed\n",
      "single positional indexer is out-of-bounds\n",
      "[*********************100%%**********************]  1 of 1 completed\n",
      "single positional indexer is out-of-bounds\n",
      "[*********************100%%**********************]  1 of 1 completed\n",
      "single positional indexer is out-of-bounds\n",
      "[*********************100%%**********************]  1 of 1 completed\n",
      "single positional indexer is out-of-bounds\n",
      "[*********************100%%**********************]  1 of 1 completed\n",
      "single positional indexer is out-of-bounds\n",
      "[*********************100%%**********************]  1 of 1 completed\n",
      "single positional indexer is out-of-bounds\n",
      "[*********************100%%**********************]  1 of 1 completed\n",
      "single positional indexer is out-of-bounds\n",
      "[*********************100%%**********************]  1 of 1 completed\n",
      "single positional indexer is out-of-bounds\n",
      "[*********************100%%**********************]  1 of 1 completed\n",
      "[*********************100%%**********************]  1 of 1 completed\n",
      "[*********************100%%**********************]  1 of 1 completed\n",
      "[*********************100%%**********************]  1 of 1 completed\n",
      "single positional indexer is out-of-bounds\n",
      "[*********************100%%**********************]  1 of 1 completed\n",
      "single positional indexer is out-of-bounds\n",
      "[*********************100%%**********************]  1 of 1 completed\n",
      "single positional indexer is out-of-bounds\n",
      "[*********************100%%**********************]  1 of 1 completed\n",
      "single positional indexer is out-of-bounds\n",
      "[*********************100%%**********************]  1 of 1 completed\n",
      "single positional indexer is out-of-bounds\n",
      "[*********************100%%**********************]  1 of 1 completed\n",
      "single positional indexer is out-of-bounds\n",
      "[*********************100%%**********************]  1 of 1 completed\n",
      "single positional indexer is out-of-bounds\n",
      "[*********************100%%**********************]  1 of 1 completed\n",
      "single positional indexer is out-of-bounds\n",
      "[*********************100%%**********************]  1 of 1 completed\n",
      "single positional indexer is out-of-bounds\n",
      "[*********************100%%**********************]  1 of 1 completed\n",
      "single positional indexer is out-of-bounds\n",
      "[*********************100%%**********************]  1 of 1 completed\n",
      "single positional indexer is out-of-bounds\n",
      "[*********************100%%**********************]  1 of 1 completed\n",
      "single positional indexer is out-of-bounds\n",
      "[*********************100%%**********************]  1 of 1 completed"
     ]
    },
    {
     "name": "stderr",
     "output_type": "stream",
     "text": [
      "\n",
      "1 Failed download:\n",
      "['WORK']: Exception('%ticker%: No timezone found, symbol may be delisted')\n"
     ]
    },
    {
     "name": "stdout",
     "output_type": "stream",
     "text": [
      "\n",
      "single positional indexer is out-of-bounds\n",
      "[*********************100%%**********************]  1 of 1 completed"
     ]
    },
    {
     "name": "stderr",
     "output_type": "stream",
     "text": [
      "\n",
      "1 Failed download:\n",
      "['WORK']: Exception('%ticker%: No timezone found, symbol may be delisted')\n"
     ]
    },
    {
     "name": "stdout",
     "output_type": "stream",
     "text": [
      "\n",
      "single positional indexer is out-of-bounds\n",
      "[*********************100%%**********************]  1 of 1 completed"
     ]
    },
    {
     "name": "stderr",
     "output_type": "stream",
     "text": [
      "\n",
      "1 Failed download:\n",
      "['WORK']: Exception('%ticker%: No timezone found, symbol may be delisted')\n"
     ]
    },
    {
     "name": "stdout",
     "output_type": "stream",
     "text": [
      "\n",
      "single positional indexer is out-of-bounds\n",
      "[*********************100%%**********************]  1 of 1 completed"
     ]
    },
    {
     "name": "stderr",
     "output_type": "stream",
     "text": [
      "\n",
      "1 Failed download:\n",
      "['WORK']: Exception('%ticker%: No timezone found, symbol may be delisted')\n"
     ]
    },
    {
     "name": "stdout",
     "output_type": "stream",
     "text": [
      "\n",
      "single positional indexer is out-of-bounds\n",
      "[*********************100%%**********************]  1 of 1 completed"
     ]
    },
    {
     "name": "stderr",
     "output_type": "stream",
     "text": [
      "\n",
      "1 Failed download:\n",
      "['WORK']: Exception('%ticker%: No timezone found, symbol may be delisted')\n"
     ]
    },
    {
     "name": "stdout",
     "output_type": "stream",
     "text": [
      "\n",
      "single positional indexer is out-of-bounds\n",
      "[*********************100%%**********************]  1 of 1 completed"
     ]
    },
    {
     "name": "stderr",
     "output_type": "stream",
     "text": [
      "\n",
      "1 Failed download:\n",
      "['WORK']: Exception('%ticker%: No timezone found, symbol may be delisted')\n"
     ]
    },
    {
     "name": "stdout",
     "output_type": "stream",
     "text": [
      "\n",
      "single positional indexer is out-of-bounds\n",
      "[*********************100%%**********************]  1 of 1 completed"
     ]
    },
    {
     "name": "stderr",
     "output_type": "stream",
     "text": [
      "\n",
      "1 Failed download:\n",
      "['WORK']: Exception('%ticker%: No timezone found, symbol may be delisted')\n"
     ]
    },
    {
     "name": "stdout",
     "output_type": "stream",
     "text": [
      "\n",
      "single positional indexer is out-of-bounds\n",
      "[*********************100%%**********************]  1 of 1 completed"
     ]
    },
    {
     "name": "stderr",
     "output_type": "stream",
     "text": [
      "\n",
      "1 Failed download:\n",
      "['WORK']: Exception('%ticker%: No timezone found, symbol may be delisted')\n"
     ]
    },
    {
     "name": "stdout",
     "output_type": "stream",
     "text": [
      "\n",
      "single positional indexer is out-of-bounds\n",
      "[*********************100%%**********************]  1 of 1 completed"
     ]
    },
    {
     "name": "stderr",
     "output_type": "stream",
     "text": [
      "\n",
      "1 Failed download:\n",
      "['WORK']: Exception('%ticker%: No timezone found, symbol may be delisted')\n"
     ]
    },
    {
     "name": "stdout",
     "output_type": "stream",
     "text": [
      "\n",
      "single positional indexer is out-of-bounds\n",
      "[*********************100%%**********************]  1 of 1 completed"
     ]
    },
    {
     "name": "stderr",
     "output_type": "stream",
     "text": [
      "\n",
      "1 Failed download:\n",
      "['WORK']: Exception('%ticker%: No timezone found, symbol may be delisted')\n"
     ]
    },
    {
     "name": "stdout",
     "output_type": "stream",
     "text": [
      "\n",
      "single positional indexer is out-of-bounds\n",
      "[*********************100%%**********************]  1 of 1 completed"
     ]
    },
    {
     "name": "stderr",
     "output_type": "stream",
     "text": [
      "\n",
      "1 Failed download:\n",
      "['WORK']: Exception('%ticker%: No timezone found, symbol may be delisted')\n"
     ]
    },
    {
     "name": "stdout",
     "output_type": "stream",
     "text": [
      "\n",
      "single positional indexer is out-of-bounds\n",
      "[*********************100%%**********************]  1 of 1 completed"
     ]
    },
    {
     "name": "stderr",
     "output_type": "stream",
     "text": [
      "\n",
      "1 Failed download:\n",
      "['WORK']: Exception('%ticker%: No timezone found, symbol may be delisted')\n"
     ]
    },
    {
     "name": "stdout",
     "output_type": "stream",
     "text": [
      "\n",
      "single positional indexer is out-of-bounds\n",
      "[*********************100%%**********************]  1 of 1 completed"
     ]
    },
    {
     "name": "stderr",
     "output_type": "stream",
     "text": [
      "\n",
      "1 Failed download:\n",
      "['WORK']: Exception('%ticker%: No timezone found, symbol may be delisted')\n"
     ]
    },
    {
     "name": "stdout",
     "output_type": "stream",
     "text": [
      "\n",
      "single positional indexer is out-of-bounds\n",
      "[*********************100%%**********************]  1 of 1 completed"
     ]
    },
    {
     "name": "stderr",
     "output_type": "stream",
     "text": [
      "\n",
      "1 Failed download:\n",
      "['WORK']: Exception('%ticker%: No timezone found, symbol may be delisted')\n"
     ]
    },
    {
     "name": "stdout",
     "output_type": "stream",
     "text": [
      "\n",
      "single positional indexer is out-of-bounds\n",
      "[*********************100%%**********************]  1 of 1 completed"
     ]
    },
    {
     "name": "stderr",
     "output_type": "stream",
     "text": [
      "\n",
      "1 Failed download:\n",
      "['WORK']: Exception('%ticker%: No timezone found, symbol may be delisted')\n"
     ]
    },
    {
     "name": "stdout",
     "output_type": "stream",
     "text": [
      "\n",
      "single positional indexer is out-of-bounds\n",
      "[*********************100%%**********************]  1 of 1 completed\n",
      "[*********************100%%**********************]  1 of 1 completed\n",
      "[*********************100%%**********************]  1 of 1 completed\n",
      "[*********************100%%**********************]  1 of 1 completed\n",
      "single positional indexer is out-of-bounds\n",
      "[*********************100%%**********************]  1 of 1 completed\n",
      "single positional indexer is out-of-bounds\n",
      "[*********************100%%**********************]  1 of 1 completed\n",
      "single positional indexer is out-of-bounds\n",
      "[*********************100%%**********************]  1 of 1 completed\n",
      "single positional indexer is out-of-bounds\n",
      "[*********************100%%**********************]  1 of 1 completed\n",
      "single positional indexer is out-of-bounds\n",
      "[*********************100%%**********************]  1 of 1 completed\n",
      "single positional indexer is out-of-bounds\n",
      "[*********************100%%**********************]  1 of 1 completed\n",
      "single positional indexer is out-of-bounds\n",
      "[*********************100%%**********************]  1 of 1 completed\n",
      "single positional indexer is out-of-bounds\n",
      "[*********************100%%**********************]  1 of 1 completed\n",
      "single positional indexer is out-of-bounds\n",
      "[*********************100%%**********************]  1 of 1 completed\n",
      "single positional indexer is out-of-bounds\n",
      "[*********************100%%**********************]  1 of 1 completed\n",
      "single positional indexer is out-of-bounds\n",
      "[*********************100%%**********************]  1 of 1 completed\n",
      "single positional indexer is out-of-bounds\n",
      "[*********************100%%**********************]  1 of 1 completed"
     ]
    },
    {
     "name": "stderr",
     "output_type": "stream",
     "text": [
      "\n",
      "1 Failed download:\n",
      "['FB']: Exception('%ticker%: No timezone found, symbol may be delisted')\n"
     ]
    },
    {
     "name": "stdout",
     "output_type": "stream",
     "text": [
      "\n",
      "single positional indexer is out-of-bounds\n",
      "[*********************100%%**********************]  1 of 1 completed"
     ]
    },
    {
     "name": "stderr",
     "output_type": "stream",
     "text": [
      "\n",
      "1 Failed download:\n"
     ]
    },
    {
     "name": "stdout",
     "output_type": "stream",
     "text": [
      "\n"
     ]
    },
    {
     "name": "stderr",
     "output_type": "stream",
     "text": [
      "['FB']: Exception('%ticker%: No timezone found, symbol may be delisted')\n"
     ]
    },
    {
     "name": "stdout",
     "output_type": "stream",
     "text": [
      "single positional indexer is out-of-bounds\n",
      "[*********************100%%**********************]  1 of 1 completed"
     ]
    },
    {
     "name": "stderr",
     "output_type": "stream",
     "text": [
      "\n",
      "1 Failed download:\n",
      "['FB']: Exception('%ticker%: No timezone found, symbol may be delisted')\n"
     ]
    },
    {
     "name": "stdout",
     "output_type": "stream",
     "text": [
      "\n",
      "single positional indexer is out-of-bounds\n",
      "[*********************100%%**********************]  1 of 1 completed"
     ]
    },
    {
     "name": "stderr",
     "output_type": "stream",
     "text": [
      "\n",
      "1 Failed download:\n",
      "['FB']: Exception('%ticker%: No timezone found, symbol may be delisted')\n"
     ]
    },
    {
     "name": "stdout",
     "output_type": "stream",
     "text": [
      "\n",
      "single positional indexer is out-of-bounds\n",
      "[*********************100%%**********************]  1 of 1 completed"
     ]
    },
    {
     "name": "stderr",
     "output_type": "stream",
     "text": [
      "\n",
      "1 Failed download:\n",
      "['FB']: Exception('%ticker%: No timezone found, symbol may be delisted')\n"
     ]
    },
    {
     "name": "stdout",
     "output_type": "stream",
     "text": [
      "\n",
      "single positional indexer is out-of-bounds\n",
      "[*********************100%%**********************]  1 of 1 completed"
     ]
    },
    {
     "name": "stderr",
     "output_type": "stream",
     "text": [
      "\n",
      "1 Failed download:\n",
      "['FB']: Exception('%ticker%: No timezone found, symbol may be delisted')\n"
     ]
    },
    {
     "name": "stdout",
     "output_type": "stream",
     "text": [
      "\n",
      "single positional indexer is out-of-bounds\n",
      "[*********************100%%**********************]  1 of 1 completed"
     ]
    },
    {
     "name": "stderr",
     "output_type": "stream",
     "text": [
      "\n",
      "1 Failed download:\n",
      "['FB']: Exception('%ticker%: No timezone found, symbol may be delisted')\n"
     ]
    },
    {
     "name": "stdout",
     "output_type": "stream",
     "text": [
      "\n",
      "single positional indexer is out-of-bounds\n",
      "[*********************100%%**********************]  1 of 1 completed"
     ]
    },
    {
     "name": "stderr",
     "output_type": "stream",
     "text": [
      "\n",
      "1 Failed download:\n",
      "['FB']: Exception('%ticker%: No timezone found, symbol may be delisted')\n"
     ]
    },
    {
     "name": "stdout",
     "output_type": "stream",
     "text": [
      "\n",
      "single positional indexer is out-of-bounds\n",
      "[*********************100%%**********************]  1 of 1 completed"
     ]
    },
    {
     "name": "stderr",
     "output_type": "stream",
     "text": [
      "\n",
      "1 Failed download:\n",
      "['FB']: Exception('%ticker%: No timezone found, symbol may be delisted')\n"
     ]
    },
    {
     "name": "stdout",
     "output_type": "stream",
     "text": [
      "\n",
      "single positional indexer is out-of-bounds\n",
      "[*********************100%%**********************]  1 of 1 completed"
     ]
    },
    {
     "name": "stderr",
     "output_type": "stream",
     "text": [
      "\n",
      "1 Failed download:\n",
      "['FB']: Exception('%ticker%: No timezone found, symbol may be delisted')\n"
     ]
    },
    {
     "name": "stdout",
     "output_type": "stream",
     "text": [
      "\n",
      "single positional indexer is out-of-bounds\n",
      "[*********************100%%**********************]  1 of 1 completed"
     ]
    },
    {
     "name": "stderr",
     "output_type": "stream",
     "text": [
      "\n",
      "1 Failed download:\n",
      "['FB']: Exception('%ticker%: No timezone found, symbol may be delisted')\n"
     ]
    },
    {
     "name": "stdout",
     "output_type": "stream",
     "text": [
      "\n",
      "single positional indexer is out-of-bounds\n",
      "[*********************100%%**********************]  1 of 1 completed"
     ]
    },
    {
     "name": "stderr",
     "output_type": "stream",
     "text": [
      "\n",
      "1 Failed download:\n",
      "['FB']: Exception('%ticker%: No timezone found, symbol may be delisted')\n"
     ]
    },
    {
     "name": "stdout",
     "output_type": "stream",
     "text": [
      "\n",
      "single positional indexer is out-of-bounds\n",
      "[*********************100%%**********************]  1 of 1 completed"
     ]
    },
    {
     "name": "stderr",
     "output_type": "stream",
     "text": [
      "\n",
      "1 Failed download:\n",
      "['FB']: Exception('%ticker%: No timezone found, symbol may be delisted')\n"
     ]
    },
    {
     "name": "stdout",
     "output_type": "stream",
     "text": [
      "\n",
      "single positional indexer is out-of-bounds\n",
      "[*********************100%%**********************]  1 of 1 completed"
     ]
    },
    {
     "name": "stderr",
     "output_type": "stream",
     "text": [
      "\n",
      "1 Failed download:\n",
      "['FB']: Exception('%ticker%: No timezone found, symbol may be delisted')\n"
     ]
    },
    {
     "name": "stdout",
     "output_type": "stream",
     "text": [
      "\n",
      "single positional indexer is out-of-bounds\n",
      "[*********************100%%**********************]  1 of 1 completed"
     ]
    },
    {
     "name": "stderr",
     "output_type": "stream",
     "text": [
      "\n",
      "1 Failed download:\n",
      "['FB']: Exception('%ticker%: No timezone found, symbol may be delisted')\n"
     ]
    },
    {
     "name": "stdout",
     "output_type": "stream",
     "text": [
      "\n",
      "single positional indexer is out-of-bounds\n",
      "[*********************100%%**********************]  1 of 1 completed"
     ]
    },
    {
     "name": "stderr",
     "output_type": "stream",
     "text": [
      "\n",
      "1 Failed download:\n",
      "['MAERSK']: Exception('%ticker%: No timezone found, symbol may be delisted')\n"
     ]
    },
    {
     "name": "stdout",
     "output_type": "stream",
     "text": [
      "\n",
      "single positional indexer is out-of-bounds\n",
      "[*********************100%%**********************]  1 of 1 completed"
     ]
    },
    {
     "name": "stderr",
     "output_type": "stream",
     "text": [
      "\n",
      "1 Failed download:\n",
      "['MAERSK']: Exception('%ticker%: No timezone found, symbol may be delisted')\n"
     ]
    },
    {
     "name": "stdout",
     "output_type": "stream",
     "text": [
      "\n",
      "single positional indexer is out-of-bounds\n",
      "[*********************100%%**********************]  1 of 1 completed"
     ]
    },
    {
     "name": "stderr",
     "output_type": "stream",
     "text": [
      "\n",
      "1 Failed download:\n",
      "['MAERSK']: Exception('%ticker%: No timezone found, symbol may be delisted')\n"
     ]
    },
    {
     "name": "stdout",
     "output_type": "stream",
     "text": [
      "\n",
      "single positional indexer is out-of-bounds\n",
      "[*********************100%%**********************]  1 of 1 completed"
     ]
    },
    {
     "name": "stderr",
     "output_type": "stream",
     "text": [
      "\n",
      "1 Failed download:\n",
      "['MAERSK']: Exception('%ticker%: No timezone found, symbol may be delisted')\n"
     ]
    },
    {
     "name": "stdout",
     "output_type": "stream",
     "text": [
      "\n",
      "single positional indexer is out-of-bounds\n",
      "[*********************100%%**********************]  1 of 1 completed"
     ]
    },
    {
     "name": "stderr",
     "output_type": "stream",
     "text": [
      "\n",
      "1 Failed download:\n",
      "['MAERSK']: Exception('%ticker%: No timezone found, symbol may be delisted')\n"
     ]
    },
    {
     "name": "stdout",
     "output_type": "stream",
     "text": [
      "\n",
      "single positional indexer is out-of-bounds\n",
      "[*********************100%%**********************]  1 of 1 completed"
     ]
    },
    {
     "name": "stderr",
     "output_type": "stream",
     "text": [
      "\n",
      "1 Failed download:\n",
      "['MAERSK']: Exception('%ticker%: No timezone found, symbol may be delisted')\n"
     ]
    },
    {
     "name": "stdout",
     "output_type": "stream",
     "text": [
      "\n",
      "single positional indexer is out-of-bounds\n",
      "[*********************100%%**********************]  1 of 1 completed"
     ]
    },
    {
     "name": "stderr",
     "output_type": "stream",
     "text": [
      "\n",
      "1 Failed download:\n",
      "['MAERSK']: Exception('%ticker%: No timezone found, symbol may be delisted')\n"
     ]
    },
    {
     "name": "stdout",
     "output_type": "stream",
     "text": [
      "\n",
      "single positional indexer is out-of-bounds\n",
      "[*********************100%%**********************]  1 of 1 completed"
     ]
    },
    {
     "name": "stderr",
     "output_type": "stream",
     "text": [
      "\n",
      "1 Failed download:\n",
      "['MAERSK']: Exception('%ticker%: No timezone found, symbol may be delisted')\n"
     ]
    },
    {
     "name": "stdout",
     "output_type": "stream",
     "text": [
      "\n",
      "single positional indexer is out-of-bounds\n",
      "[*********************100%%**********************]  1 of 1 completed"
     ]
    },
    {
     "name": "stderr",
     "output_type": "stream",
     "text": [
      "\n",
      "1 Failed download:\n",
      "['MAERSK']: Exception('%ticker%: No timezone found, symbol may be delisted')\n"
     ]
    },
    {
     "name": "stdout",
     "output_type": "stream",
     "text": [
      "\n",
      "single positional indexer is out-of-bounds\n",
      "[*********************100%%**********************]  1 of 1 completed"
     ]
    },
    {
     "name": "stderr",
     "output_type": "stream",
     "text": [
      "\n",
      "1 Failed download:\n",
      "['MAERSK']: Exception('%ticker%: No timezone found, symbol may be delisted')\n"
     ]
    },
    {
     "name": "stdout",
     "output_type": "stream",
     "text": [
      "\n",
      "single positional indexer is out-of-bounds\n",
      "[*********************100%%**********************]  1 of 1 completed"
     ]
    },
    {
     "name": "stderr",
     "output_type": "stream",
     "text": [
      "\n",
      "1 Failed download:\n",
      "['MAERSK']: Exception('%ticker%: No timezone found, symbol may be delisted')\n"
     ]
    },
    {
     "name": "stdout",
     "output_type": "stream",
     "text": [
      "\n",
      "single positional indexer is out-of-bounds\n",
      "[*********************100%%**********************]  1 of 1 completed"
     ]
    },
    {
     "name": "stderr",
     "output_type": "stream",
     "text": [
      "\n",
      "1 Failed download:\n",
      "['MAERSK']: Exception('%ticker%: No timezone found, symbol may be delisted')\n"
     ]
    },
    {
     "name": "stdout",
     "output_type": "stream",
     "text": [
      "\n",
      "single positional indexer is out-of-bounds\n",
      "[*********************100%%**********************]  1 of 1 completed"
     ]
    },
    {
     "name": "stderr",
     "output_type": "stream",
     "text": [
      "\n",
      "1 Failed download:\n",
      "['MAERSK']: Exception('%ticker%: No timezone found, symbol may be delisted')\n"
     ]
    },
    {
     "name": "stdout",
     "output_type": "stream",
     "text": [
      "\n",
      "single positional indexer is out-of-bounds\n",
      "[*********************100%%**********************]  1 of 1 completed"
     ]
    },
    {
     "name": "stderr",
     "output_type": "stream",
     "text": [
      "\n",
      "1 Failed download:\n",
      "['MAERSK']: Exception('%ticker%: No timezone found, symbol may be delisted')\n"
     ]
    },
    {
     "name": "stdout",
     "output_type": "stream",
     "text": [
      "\n",
      "single positional indexer is out-of-bounds\n",
      "[*********************100%%**********************]  1 of 1 completed"
     ]
    },
    {
     "name": "stderr",
     "output_type": "stream",
     "text": [
      "\n",
      "1 Failed download:\n",
      "['MAERSK']: Exception('%ticker%: No timezone found, symbol may be delisted')\n"
     ]
    },
    {
     "name": "stdout",
     "output_type": "stream",
     "text": [
      "\n",
      "single positional indexer is out-of-bounds\n",
      "[*********************100%%**********************]  1 of 1 completed\n",
      "[*********************100%%**********************]  1 of 1 completed\n",
      "[*********************100%%**********************]  1 of 1 completed\n",
      "[*********************100%%**********************]  1 of 1 completed\n",
      "single positional indexer is out-of-bounds\n",
      "[*********************100%%**********************]  1 of 1 completed\n",
      "single positional indexer is out-of-bounds\n",
      "[*********************100%%**********************]  1 of 1 completed\n",
      "single positional indexer is out-of-bounds\n",
      "[*********************100%%**********************]  1 of 1 completed\n",
      "single positional indexer is out-of-bounds\n",
      "[*********************100%%**********************]  1 of 1 completed\n",
      "single positional indexer is out-of-bounds\n",
      "[*********************100%%**********************]  1 of 1 completed\n",
      "single positional indexer is out-of-bounds\n",
      "[*********************100%%**********************]  1 of 1 completed\n",
      "single positional indexer is out-of-bounds\n",
      "[*********************100%%**********************]  1 of 1 completed\n",
      "single positional indexer is out-of-bounds\n",
      "[*********************100%%**********************]  1 of 1 completed\n",
      "single positional indexer is out-of-bounds\n",
      "[*********************100%%**********************]  1 of 1 completed\n",
      "single positional indexer is out-of-bounds\n",
      "[*********************100%%**********************]  1 of 1 completed\n",
      "single positional indexer is out-of-bounds\n",
      "[*********************100%%**********************]  1 of 1 completed\n",
      "single positional indexer is out-of-bounds\n",
      "[*********************100%%**********************]  1 of 1 completed\n",
      "[*********************100%%**********************]  1 of 1 completed\n",
      "[*********************100%%**********************]  1 of 1 completed\n",
      "[*********************100%%**********************]  1 of 1 completed\n",
      "single positional indexer is out-of-bounds\n",
      "[*********************100%%**********************]  1 of 1 completed\n",
      "single positional indexer is out-of-bounds\n",
      "[*********************100%%**********************]  1 of 1 completed\n",
      "single positional indexer is out-of-bounds\n",
      "[*********************100%%**********************]  1 of 1 completed\n",
      "single positional indexer is out-of-bounds\n",
      "[*********************100%%**********************]  1 of 1 completed\n",
      "single positional indexer is out-of-bounds\n",
      "[*********************100%%**********************]  1 of 1 completed\n",
      "single positional indexer is out-of-bounds\n",
      "[*********************100%%**********************]  1 of 1 completed\n",
      "single positional indexer is out-of-bounds\n",
      "[*********************100%%**********************]  1 of 1 completed\n",
      "single positional indexer is out-of-bounds\n",
      "[*********************100%%**********************]  1 of 1 completed\n",
      "single positional indexer is out-of-bounds\n",
      "[*********************100%%**********************]  1 of 1 completed\n",
      "single positional indexer is out-of-bounds\n",
      "[*********************100%%**********************]  1 of 1 completed\n",
      "single positional indexer is out-of-bounds\n",
      "[*********************100%%**********************]  1 of 1 completed\n",
      "single positional indexer is out-of-bounds\n",
      "[*********************100%%**********************]  1 of 1 completed\n",
      "[*********************100%%**********************]  1 of 1 completed\n",
      "[*********************100%%**********************]  1 of 1 completed\n",
      "[*********************100%%**********************]  1 of 1 completed\n",
      "single positional indexer is out-of-bounds\n",
      "[*********************100%%**********************]  1 of 1 completed\n",
      "single positional indexer is out-of-bounds\n",
      "[*********************100%%**********************]  1 of 1 completed\n",
      "single positional indexer is out-of-bounds\n",
      "[*********************100%%**********************]  1 of 1 completed\n",
      "single positional indexer is out-of-bounds\n",
      "[*********************100%%**********************]  1 of 1 completed\n",
      "single positional indexer is out-of-bounds\n",
      "[*********************100%%**********************]  1 of 1 completed\n",
      "single positional indexer is out-of-bounds\n",
      "[*********************100%%**********************]  1 of 1 completed\n",
      "single positional indexer is out-of-bounds\n",
      "[*********************100%%**********************]  1 of 1 completed\n",
      "single positional indexer is out-of-bounds\n",
      "[*********************100%%**********************]  1 of 1 completed\n",
      "single positional indexer is out-of-bounds\n",
      "[*********************100%%**********************]  1 of 1 completed\n",
      "single positional indexer is out-of-bounds\n",
      "[*********************100%%**********************]  1 of 1 completed\n",
      "single positional indexer is out-of-bounds\n",
      "[*********************100%%**********************]  1 of 1 completed\n",
      "single positional indexer is out-of-bounds\n",
      "[*********************100%%**********************]  1 of 1 completed\n",
      "[*********************100%%**********************]  1 of 1 completed\n",
      "[*********************100%%**********************]  1 of 1 completed\n",
      "[*********************100%%**********************]  1 of 1 completed\n",
      "single positional indexer is out-of-bounds\n",
      "[*********************100%%**********************]  1 of 1 completed\n",
      "single positional indexer is out-of-bounds\n",
      "[*********************100%%**********************]  1 of 1 completed\n",
      "single positional indexer is out-of-bounds\n",
      "[*********************100%%**********************]  1 of 1 completed\n",
      "single positional indexer is out-of-bounds\n",
      "[*********************100%%**********************]  1 of 1 completed\n",
      "single positional indexer is out-of-bounds\n",
      "[*********************100%%**********************]  1 of 1 completed\n",
      "single positional indexer is out-of-bounds\n",
      "[*********************100%%**********************]  1 of 1 completed\n",
      "single positional indexer is out-of-bounds\n",
      "[*********************100%%**********************]  1 of 1 completed\n",
      "single positional indexer is out-of-bounds\n",
      "[*********************100%%**********************]  1 of 1 completed\n",
      "single positional indexer is out-of-bounds\n",
      "[*********************100%%**********************]  1 of 1 completed\n",
      "single positional indexer is out-of-bounds\n",
      "[*********************100%%**********************]  1 of 1 completed\n",
      "single positional indexer is out-of-bounds\n",
      "[*********************100%%**********************]  1 of 1 completed\n",
      "single positional indexer is out-of-bounds\n",
      "[*********************100%%**********************]  1 of 1 completed\n",
      "[*********************100%%**********************]  1 of 1 completed\n",
      "[*********************100%%**********************]  1 of 1 completed\n",
      "[*********************100%%**********************]  1 of 1 completed\n",
      "single positional indexer is out-of-bounds\n",
      "[*********************100%%**********************]  1 of 1 completed\n",
      "single positional indexer is out-of-bounds\n",
      "[*********************100%%**********************]  1 of 1 completed\n",
      "single positional indexer is out-of-bounds\n",
      "[*********************100%%**********************]  1 of 1 completed\n",
      "single positional indexer is out-of-bounds\n",
      "[*********************100%%**********************]  1 of 1 completed\n",
      "single positional indexer is out-of-bounds\n",
      "[*********************100%%**********************]  1 of 1 completed\n",
      "single positional indexer is out-of-bounds\n",
      "[*********************100%%**********************]  1 of 1 completed\n",
      "single positional indexer is out-of-bounds\n",
      "[*********************100%%**********************]  1 of 1 completed\n",
      "single positional indexer is out-of-bounds\n",
      "[*********************100%%**********************]  1 of 1 completed\n",
      "single positional indexer is out-of-bounds\n",
      "[*********************100%%**********************]  1 of 1 completed\n",
      "single positional indexer is out-of-bounds\n",
      "[*********************100%%**********************]  1 of 1 completed\n",
      "single positional indexer is out-of-bounds\n",
      "[*********************100%%**********************]  1 of 1 completed\n",
      "single positional indexer is out-of-bounds\n",
      "[*********************100%%**********************]  4 of 4 completed"
     ]
    },
    {
     "name": "stderr",
     "output_type": "stream",
     "text": [
      "\n",
      "4 Failed downloads:\n",
      "['SVB']: Exception('%ticker%: No price data found, symbol may be delisted (1d 2023-11-07 10:25:28.994540 -> 2023-11-08 10:25:28.994540)')\n",
      "['GROUP', '(SIVB)', 'FINANCIAL']: Exception('%ticker%: No timezone found, symbol may be delisted')\n"
     ]
    },
    {
     "name": "stdout",
     "output_type": "stream",
     "text": [
      "\n",
      "single positional indexer is out-of-bounds\n",
      "[*********************100%%**********************]  4 of 4 completed"
     ]
    },
    {
     "name": "stderr",
     "output_type": "stream",
     "text": [
      "\n",
      "4 Failed downloads:\n",
      "['FINANCIAL', 'GROUP', '(SIVB)']: Exception('%ticker%: No timezone found, symbol may be delisted')\n",
      "['SVB']: Exception('%ticker%: No price data found, symbol may be delisted (1d 2023-11-07 10:25:28.994540 -> 2023-11-09 10:25:28.994540)')\n"
     ]
    },
    {
     "name": "stdout",
     "output_type": "stream",
     "text": [
      "\n",
      "single positional indexer is out-of-bounds\n",
      "[*********************100%%**********************]  4 of 4 completed"
     ]
    },
    {
     "name": "stderr",
     "output_type": "stream",
     "text": [
      "\n",
      "4 Failed downloads:\n",
      "['FINANCIAL', 'GROUP', '(SIVB)']: Exception('%ticker%: No timezone found, symbol may be delisted')\n",
      "['SVB']: Exception('%ticker%: No price data found, symbol may be delisted (1d 2023-11-07 10:25:28.994540 -> 2023-11-10 10:25:28.994540)')\n"
     ]
    },
    {
     "name": "stdout",
     "output_type": "stream",
     "text": [
      "\n",
      "single positional indexer is out-of-bounds\n",
      "[*********************100%%**********************]  3 of 4 completed"
     ]
    },
    {
     "name": "stderr",
     "output_type": "stream",
     "text": [
      "\n",
      "4 Failed downloads:\n",
      "['FINANCIAL', 'GROUP', '(SIVB)']: Exception('%ticker%: No timezone found, symbol may be delisted')\n",
      "['SVB']: Exception('%ticker%: No price data found, symbol may be delisted (1d 2023-11-07 10:25:28.994540 -> 2023-11-11 10:25:28.994540)')\n"
     ]
    },
    {
     "name": "stdout",
     "output_type": "stream",
     "text": [
      "\n",
      "single positional indexer is out-of-bounds\n",
      "[*********************100%%**********************]  4 of 4 completed"
     ]
    },
    {
     "name": "stderr",
     "output_type": "stream",
     "text": [
      "\n",
      "4 Failed downloads:\n",
      "['FINANCIAL', 'GROUP', '(SIVB)']: Exception('%ticker%: No timezone found, symbol may be delisted')\n",
      "['SVB']: Exception('%ticker%: No price data found, symbol may be delisted (1d 2023-11-07 10:25:28.994540 -> 2023-11-12 10:25:28.994540)')\n"
     ]
    },
    {
     "name": "stdout",
     "output_type": "stream",
     "text": [
      "\n",
      "single positional indexer is out-of-bounds\n",
      "[*********************100%%**********************]  4 of 4 completed"
     ]
    },
    {
     "name": "stderr",
     "output_type": "stream",
     "text": [
      "\n",
      "4 Failed downloads:\n",
      "['FINANCIAL', 'GROUP', '(SIVB)']: Exception('%ticker%: No timezone found, symbol may be delisted')\n",
      "['SVB']: Exception('%ticker%: No price data found, symbol may be delisted (1d 2023-11-07 10:25:28.994540 -> 2023-11-13 10:25:28.994540)')\n"
     ]
    },
    {
     "name": "stdout",
     "output_type": "stream",
     "text": [
      "\n",
      "single positional indexer is out-of-bounds\n",
      "[*********************100%%**********************]  4 of 4 completed"
     ]
    },
    {
     "name": "stderr",
     "output_type": "stream",
     "text": [
      "\n",
      "4 Failed downloads:\n",
      "['FINANCIAL', 'GROUP', '(SIVB)']: Exception('%ticker%: No timezone found, symbol may be delisted')\n"
     ]
    },
    {
     "name": "stdout",
     "output_type": "stream",
     "text": [
      "\n"
     ]
    },
    {
     "name": "stderr",
     "output_type": "stream",
     "text": [
      "['SVB']: Exception('%ticker%: No price data found, symbol may be delisted (1d 2023-11-07 10:25:28.994540 -> 2023-11-14 10:25:28.994540)')\n"
     ]
    },
    {
     "name": "stdout",
     "output_type": "stream",
     "text": [
      "single positional indexer is out-of-bounds\n",
      "[*********************100%%**********************]  4 of 4 completed"
     ]
    },
    {
     "name": "stderr",
     "output_type": "stream",
     "text": [
      "\n",
      "4 Failed downloads:\n",
      "['FINANCIAL', 'GROUP', '(SIVB)']: Exception('%ticker%: No timezone found, symbol may be delisted')\n",
      "['SVB']: Exception('%ticker%: No price data found, symbol may be delisted (1d 2023-11-07 10:25:28.994540 -> 2023-11-15 10:25:28.994540)')\n"
     ]
    },
    {
     "name": "stdout",
     "output_type": "stream",
     "text": [
      "\n",
      "single positional indexer is out-of-bounds\n",
      "[*********************100%%**********************]  4 of 4 completed"
     ]
    },
    {
     "name": "stderr",
     "output_type": "stream",
     "text": [
      "\n",
      "4 Failed downloads:\n",
      "['FINANCIAL', 'GROUP', '(SIVB)']: Exception('%ticker%: No timezone found, symbol may be delisted')\n",
      "['SVB']: Exception('%ticker%: No price data found, symbol may be delisted (1d 2023-11-07 10:25:28.994540 -> 2023-11-16 10:25:28.994540)')\n"
     ]
    },
    {
     "name": "stdout",
     "output_type": "stream",
     "text": [
      "\n",
      "single positional indexer is out-of-bounds\n",
      "[*********************100%%**********************]  4 of 4 completed"
     ]
    },
    {
     "name": "stderr",
     "output_type": "stream",
     "text": [
      "\n",
      "4 Failed downloads:\n",
      "['FINANCIAL', 'GROUP', '(SIVB)']: Exception('%ticker%: No timezone found, symbol may be delisted')\n",
      "['SVB']: Exception('%ticker%: No price data found, symbol may be delisted (1d 2023-11-07 10:25:28.994540 -> 2023-11-17 10:25:28.994540)')\n"
     ]
    },
    {
     "name": "stdout",
     "output_type": "stream",
     "text": [
      "\n",
      "single positional indexer is out-of-bounds\n",
      "[*********************100%%**********************]  3 of 4 completed"
     ]
    },
    {
     "name": "stderr",
     "output_type": "stream",
     "text": [
      "\n",
      "4 Failed downloads:\n",
      "['FINANCIAL', 'GROUP', '(SIVB)']: Exception('%ticker%: No timezone found, symbol may be delisted')\n",
      "['SVB']: Exception('%ticker%: No price data found, symbol may be delisted (1d 2023-11-07 10:25:28.994540 -> 2023-11-18 10:25:28.994540)')\n"
     ]
    },
    {
     "name": "stdout",
     "output_type": "stream",
     "text": [
      "\n",
      "single positional indexer is out-of-bounds\n",
      "[*********************100%%**********************]  4 of 4 completed"
     ]
    },
    {
     "name": "stderr",
     "output_type": "stream",
     "text": [
      "\n",
      "4 Failed downloads:\n",
      "['FINANCIAL', 'GROUP', '(SIVB)']: Exception('%ticker%: No timezone found, symbol may be delisted')\n",
      "['SVB']: Exception('%ticker%: No price data found, symbol may be delisted (1d 2023-11-07 10:25:28.994540 -> 2023-11-19 10:25:28.994540)')\n"
     ]
    },
    {
     "name": "stdout",
     "output_type": "stream",
     "text": [
      "\n",
      "single positional indexer is out-of-bounds\n",
      "[*********************100%%**********************]  4 of 4 completed"
     ]
    },
    {
     "name": "stderr",
     "output_type": "stream",
     "text": [
      "\n",
      "4 Failed downloads:\n",
      "['FINANCIAL', 'GROUP', '(SIVB)']: Exception('%ticker%: No timezone found, symbol may be delisted')\n",
      "['SVB']: Exception('%ticker%: No price data found, symbol may be delisted (1d 2023-11-07 10:25:28.994540 -> 2023-11-20 10:25:28.994540)')\n"
     ]
    },
    {
     "name": "stdout",
     "output_type": "stream",
     "text": [
      "\n",
      "single positional indexer is out-of-bounds\n",
      "[*********************100%%**********************]  4 of 4 completed"
     ]
    },
    {
     "name": "stderr",
     "output_type": "stream",
     "text": [
      "\n",
      "4 Failed downloads:\n",
      "['FINANCIAL', 'GROUP', '(SIVB)']: Exception('%ticker%: No timezone found, symbol may be delisted')\n",
      "['SVB']: Exception('%ticker%: No price data found, symbol may be delisted (1d 2023-11-07 10:25:28.994540 -> 2023-11-21 10:25:28.994540)')\n"
     ]
    },
    {
     "name": "stdout",
     "output_type": "stream",
     "text": [
      "\n",
      "single positional indexer is out-of-bounds\n",
      "[*********************100%%**********************]  4 of 4 completed"
     ]
    },
    {
     "name": "stderr",
     "output_type": "stream",
     "text": [
      "\n",
      "4 Failed downloads:\n",
      "['FINANCIAL', 'GROUP', '(SIVB)']: Exception('%ticker%: No timezone found, symbol may be delisted')\n",
      "['SVB']: Exception('%ticker%: No price data found, symbol may be delisted (1d 2023-11-07 10:25:28.994540 -> 2023-11-22 10:25:28.994540)')\n"
     ]
    },
    {
     "name": "stdout",
     "output_type": "stream",
     "text": [
      "\n",
      "single positional indexer is out-of-bounds\n",
      "[*********************100%%**********************]  1 of 1 completed\n",
      "[*********************100%%**********************]  1 of 1 completed\n",
      "[*********************100%%**********************]  1 of 1 completed\n",
      "[*********************100%%**********************]  1 of 1 completed\n",
      "single positional indexer is out-of-bounds\n",
      "[*********************100%%**********************]  1 of 1 completed\n",
      "single positional indexer is out-of-bounds\n",
      "[*********************100%%**********************]  1 of 1 completed\n",
      "single positional indexer is out-of-bounds\n",
      "[*********************100%%**********************]  1 of 1 completed\n",
      "single positional indexer is out-of-bounds\n",
      "[*********************100%%**********************]  1 of 1 completed\n",
      "single positional indexer is out-of-bounds\n",
      "[*********************100%%**********************]  1 of 1 completed\n",
      "single positional indexer is out-of-bounds\n",
      "[*********************100%%**********************]  1 of 1 completed\n",
      "single positional indexer is out-of-bounds\n",
      "[*********************100%%**********************]  1 of 1 completed\n",
      "single positional indexer is out-of-bounds\n",
      "[*********************100%%**********************]  1 of 1 completed\n",
      "single positional indexer is out-of-bounds\n",
      "[*********************100%%**********************]  1 of 1 completed\n",
      "single positional indexer is out-of-bounds\n",
      "[*********************100%%**********************]  1 of 1 completed\n",
      "single positional indexer is out-of-bounds\n",
      "[*********************100%%**********************]  1 of 1 completed\n",
      "single positional indexer is out-of-bounds\n",
      "[*********************100%%**********************]  1 of 1 completed\n",
      "[*********************100%%**********************]  1 of 1 completed\n",
      "[*********************100%%**********************]  1 of 1 completed\n",
      "[*********************100%%**********************]  1 of 1 completed\n",
      "single positional indexer is out-of-bounds\n",
      "[*********************100%%**********************]  1 of 1 completed\n",
      "single positional indexer is out-of-bounds\n",
      "[*********************100%%**********************]  1 of 1 completed\n",
      "single positional indexer is out-of-bounds\n",
      "[*********************100%%**********************]  1 of 1 completed\n",
      "single positional indexer is out-of-bounds\n",
      "[*********************100%%**********************]  1 of 1 completed\n",
      "single positional indexer is out-of-bounds\n",
      "[*********************100%%**********************]  1 of 1 completed\n",
      "single positional indexer is out-of-bounds\n",
      "[*********************100%%**********************]  1 of 1 completed\n",
      "single positional indexer is out-of-bounds\n",
      "[*********************100%%**********************]  1 of 1 completed\n",
      "single positional indexer is out-of-bounds\n",
      "[*********************100%%**********************]  1 of 1 completed\n",
      "single positional indexer is out-of-bounds\n",
      "[*********************100%%**********************]  1 of 1 completed\n",
      "single positional indexer is out-of-bounds\n",
      "[*********************100%%**********************]  1 of 1 completed\n",
      "single positional indexer is out-of-bounds\n",
      "[*********************100%%**********************]  1 of 1 completed\n",
      "single positional indexer is out-of-bounds\n",
      "[*********************100%%**********************]  1 of 1 completed\n",
      "[*********************100%%**********************]  1 of 1 completed\n",
      "[*********************100%%**********************]  1 of 1 completed\n",
      "[*********************100%%**********************]  1 of 1 completed\n",
      "single positional indexer is out-of-bounds\n",
      "[*********************100%%**********************]  1 of 1 completed\n",
      "single positional indexer is out-of-bounds\n",
      "[*********************100%%**********************]  1 of 1 completed\n",
      "single positional indexer is out-of-bounds\n",
      "[*********************100%%**********************]  1 of 1 completed\n",
      "single positional indexer is out-of-bounds\n",
      "[*********************100%%**********************]  1 of 1 completed\n",
      "single positional indexer is out-of-bounds\n",
      "[*********************100%%**********************]  1 of 1 completed\n",
      "single positional indexer is out-of-bounds\n",
      "[*********************100%%**********************]  1 of 1 completed\n",
      "single positional indexer is out-of-bounds\n",
      "[*********************100%%**********************]  1 of 1 completed\n",
      "single positional indexer is out-of-bounds\n",
      "[*********************100%%**********************]  1 of 1 completed\n",
      "single positional indexer is out-of-bounds\n",
      "[*********************100%%**********************]  1 of 1 completed\n",
      "single positional indexer is out-of-bounds\n",
      "[*********************100%%**********************]  1 of 1 completed\n",
      "single positional indexer is out-of-bounds\n",
      "[*********************100%%**********************]  1 of 1 completed\n",
      "single positional indexer is out-of-bounds\n",
      "[*********************100%%**********************]  1 of 1 completed\n",
      "[*********************100%%**********************]  1 of 1 completed\n",
      "[*********************100%%**********************]  1 of 1 completed\n",
      "[*********************100%%**********************]  1 of 1 completed\n",
      "single positional indexer is out-of-bounds\n",
      "[*********************100%%**********************]  1 of 1 completed\n",
      "single positional indexer is out-of-bounds\n",
      "[*********************100%%**********************]  1 of 1 completed\n",
      "single positional indexer is out-of-bounds\n",
      "[*********************100%%**********************]  1 of 1 completed\n",
      "single positional indexer is out-of-bounds\n",
      "[*********************100%%**********************]  1 of 1 completed\n",
      "single positional indexer is out-of-bounds\n",
      "[*********************100%%**********************]  1 of 1 completed\n",
      "single positional indexer is out-of-bounds\n",
      "[*********************100%%**********************]  1 of 1 completed\n",
      "single positional indexer is out-of-bounds\n",
      "[*********************100%%**********************]  1 of 1 completed\n",
      "single positional indexer is out-of-bounds\n",
      "[*********************100%%**********************]  1 of 1 completed\n",
      "single positional indexer is out-of-bounds\n",
      "[*********************100%%**********************]  1 of 1 completed\n",
      "single positional indexer is out-of-bounds\n",
      "[*********************100%%**********************]  1 of 1 completed\n",
      "single positional indexer is out-of-bounds\n",
      "[*********************100%%**********************]  1 of 1 completed\n",
      "single positional indexer is out-of-bounds\n",
      "[*********************100%%**********************]  1 of 1 completed\n",
      "[*********************100%%**********************]  1 of 1 completed\n",
      "[*********************100%%**********************]  1 of 1 completed\n",
      "[*********************100%%**********************]  1 of 1 completed\n",
      "single positional indexer is out-of-bounds\n",
      "[*********************100%%**********************]  1 of 1 completed\n",
      "single positional indexer is out-of-bounds\n",
      "[*********************100%%**********************]  1 of 1 completed\n",
      "single positional indexer is out-of-bounds\n",
      "[*********************100%%**********************]  1 of 1 completed\n",
      "single positional indexer is out-of-bounds\n",
      "[*********************100%%**********************]  1 of 1 completed\n",
      "single positional indexer is out-of-bounds\n",
      "[*********************100%%**********************]  1 of 1 completed\n",
      "single positional indexer is out-of-bounds\n",
      "[*********************100%%**********************]  1 of 1 completed\n",
      "single positional indexer is out-of-bounds\n",
      "[*********************100%%**********************]  1 of 1 completed\n",
      "single positional indexer is out-of-bounds\n",
      "[*********************100%%**********************]  1 of 1 completed\n",
      "single positional indexer is out-of-bounds\n",
      "[*********************100%%**********************]  1 of 1 completed\n",
      "single positional indexer is out-of-bounds\n",
      "[*********************100%%**********************]  1 of 1 completed\n",
      "single positional indexer is out-of-bounds\n",
      "[*********************100%%**********************]  1 of 1 completed\n",
      "single positional indexer is out-of-bounds\n",
      "[*********************100%%**********************]  1 of 1 completed\n",
      "[*********************100%%**********************]  1 of 1 completed\n",
      "[*********************100%%**********************]  1 of 1 completed\n",
      "[*********************100%%**********************]  1 of 1 completed\n",
      "single positional indexer is out-of-bounds\n",
      "[*********************100%%**********************]  1 of 1 completed\n",
      "single positional indexer is out-of-bounds\n",
      "[*********************100%%**********************]  1 of 1 completed\n",
      "single positional indexer is out-of-bounds\n",
      "[*********************100%%**********************]  1 of 1 completed\n",
      "single positional indexer is out-of-bounds\n",
      "[*********************100%%**********************]  1 of 1 completed\n",
      "single positional indexer is out-of-bounds\n",
      "[*********************100%%**********************]  1 of 1 completed\n",
      "single positional indexer is out-of-bounds\n",
      "[*********************100%%**********************]  1 of 1 completed\n",
      "single positional indexer is out-of-bounds\n",
      "[*********************100%%**********************]  1 of 1 completed\n",
      "single positional indexer is out-of-bounds\n",
      "[*********************100%%**********************]  1 of 1 completed\n",
      "single positional indexer is out-of-bounds\n",
      "[*********************100%%**********************]  1 of 1 completed\n",
      "single positional indexer is out-of-bounds\n",
      "[*********************100%%**********************]  1 of 1 completed\n",
      "single positional indexer is out-of-bounds\n",
      "[*********************100%%**********************]  1 of 1 completed\n",
      "single positional indexer is out-of-bounds\n",
      "[*********************100%%**********************]  1 of 1 completed\n",
      "[*********************100%%**********************]  1 of 1 completed\n",
      "[*********************100%%**********************]  1 of 1 completed\n",
      "[*********************100%%**********************]  1 of 1 completed\n",
      "single positional indexer is out-of-bounds\n",
      "[*********************100%%**********************]  1 of 1 completed\n",
      "single positional indexer is out-of-bounds\n",
      "[*********************100%%**********************]  1 of 1 completed\n",
      "single positional indexer is out-of-bounds\n",
      "[*********************100%%**********************]  1 of 1 completed\n",
      "single positional indexer is out-of-bounds\n",
      "[*********************100%%**********************]  1 of 1 completed\n",
      "single positional indexer is out-of-bounds\n",
      "[*********************100%%**********************]  1 of 1 completed\n",
      "single positional indexer is out-of-bounds\n",
      "[*********************100%%**********************]  1 of 1 completed\n",
      "single positional indexer is out-of-bounds\n",
      "[*********************100%%**********************]  1 of 1 completed\n",
      "single positional indexer is out-of-bounds\n",
      "[*********************100%%**********************]  1 of 1 completed\n",
      "single positional indexer is out-of-bounds\n",
      "[*********************100%%**********************]  1 of 1 completed\n",
      "single positional indexer is out-of-bounds\n",
      "[*********************100%%**********************]  1 of 1 completed\n",
      "single positional indexer is out-of-bounds\n",
      "[*********************100%%**********************]  1 of 1 completed\n",
      "single positional indexer is out-of-bounds\n",
      "[*********************100%%**********************]  1 of 1 completed"
     ]
    },
    {
     "name": "stderr",
     "output_type": "stream",
     "text": [
      "\n",
      "1 Failed download:\n",
      "['SHLDQ']: Exception('%ticker%: No timezone found, symbol may be delisted')\n"
     ]
    },
    {
     "name": "stdout",
     "output_type": "stream",
     "text": [
      "\n",
      "single positional indexer is out-of-bounds\n",
      "[*********************100%%**********************]  1 of 1 completed"
     ]
    },
    {
     "name": "stderr",
     "output_type": "stream",
     "text": [
      "\n",
      "1 Failed download:\n",
      "['SHLDQ']: Exception('%ticker%: No timezone found, symbol may be delisted')\n"
     ]
    },
    {
     "name": "stdout",
     "output_type": "stream",
     "text": [
      "\n",
      "single positional indexer is out-of-bounds\n",
      "[*********************100%%**********************]  1 of 1 completed"
     ]
    },
    {
     "name": "stderr",
     "output_type": "stream",
     "text": [
      "\n",
      "1 Failed download:\n",
      "['SHLDQ']: Exception('%ticker%: No timezone found, symbol may be delisted')\n"
     ]
    },
    {
     "name": "stdout",
     "output_type": "stream",
     "text": [
      "\n",
      "single positional indexer is out-of-bounds\n",
      "[*********************100%%**********************]  1 of 1 completed"
     ]
    },
    {
     "name": "stderr",
     "output_type": "stream",
     "text": [
      "\n",
      "1 Failed download:\n",
      "['SHLDQ']: Exception('%ticker%: No timezone found, symbol may be delisted')\n"
     ]
    },
    {
     "name": "stdout",
     "output_type": "stream",
     "text": [
      "\n",
      "single positional indexer is out-of-bounds\n",
      "[*********************100%%**********************]  1 of 1 completed"
     ]
    },
    {
     "name": "stderr",
     "output_type": "stream",
     "text": [
      "\n",
      "1 Failed download:\n",
      "['SHLDQ']: Exception('%ticker%: No timezone found, symbol may be delisted')\n"
     ]
    },
    {
     "name": "stdout",
     "output_type": "stream",
     "text": [
      "\n",
      "single positional indexer is out-of-bounds\n",
      "[*********************100%%**********************]  1 of 1 completed"
     ]
    },
    {
     "name": "stderr",
     "output_type": "stream",
     "text": [
      "\n",
      "1 Failed download:\n",
      "['SHLDQ']: Exception('%ticker%: No timezone found, symbol may be delisted')\n"
     ]
    },
    {
     "name": "stdout",
     "output_type": "stream",
     "text": [
      "\n",
      "single positional indexer is out-of-bounds\n",
      "[*********************100%%**********************]  1 of 1 completed"
     ]
    },
    {
     "name": "stderr",
     "output_type": "stream",
     "text": [
      "\n",
      "1 Failed download:\n",
      "['SHLDQ']: Exception('%ticker%: No timezone found, symbol may be delisted')\n"
     ]
    },
    {
     "name": "stdout",
     "output_type": "stream",
     "text": [
      "\n",
      "single positional indexer is out-of-bounds\n",
      "[*********************100%%**********************]  1 of 1 completed"
     ]
    },
    {
     "name": "stderr",
     "output_type": "stream",
     "text": [
      "\n",
      "1 Failed download:\n",
      "['SHLDQ']: Exception('%ticker%: No timezone found, symbol may be delisted')\n"
     ]
    },
    {
     "name": "stdout",
     "output_type": "stream",
     "text": [
      "\n",
      "single positional indexer is out-of-bounds\n",
      "[*********************100%%**********************]  1 of 1 completed"
     ]
    },
    {
     "name": "stderr",
     "output_type": "stream",
     "text": [
      "\n",
      "1 Failed download:\n",
      "['SHLDQ']: Exception('%ticker%: No timezone found, symbol may be delisted')\n"
     ]
    },
    {
     "name": "stdout",
     "output_type": "stream",
     "text": [
      "\n",
      "single positional indexer is out-of-bounds\n",
      "[*********************100%%**********************]  1 of 1 completed"
     ]
    },
    {
     "name": "stderr",
     "output_type": "stream",
     "text": [
      "\n",
      "1 Failed download:\n",
      "['SHLDQ']: Exception('%ticker%: No timezone found, symbol may be delisted')\n"
     ]
    },
    {
     "name": "stdout",
     "output_type": "stream",
     "text": [
      "\n",
      "single positional indexer is out-of-bounds\n",
      "[*********************100%%**********************]  1 of 1 completed"
     ]
    },
    {
     "name": "stderr",
     "output_type": "stream",
     "text": [
      "\n",
      "1 Failed download:\n",
      "['SHLDQ']: Exception('%ticker%: No timezone found, symbol may be delisted')\n"
     ]
    },
    {
     "name": "stdout",
     "output_type": "stream",
     "text": [
      "\n",
      "single positional indexer is out-of-bounds\n",
      "[*********************100%%**********************]  1 of 1 completed"
     ]
    },
    {
     "name": "stderr",
     "output_type": "stream",
     "text": [
      "\n",
      "1 Failed download:\n",
      "['SHLDQ']: Exception('%ticker%: No timezone found, symbol may be delisted')\n"
     ]
    },
    {
     "name": "stdout",
     "output_type": "stream",
     "text": [
      "\n",
      "single positional indexer is out-of-bounds\n",
      "[*********************100%%**********************]  1 of 1 completed"
     ]
    },
    {
     "name": "stderr",
     "output_type": "stream",
     "text": [
      "\n",
      "1 Failed download:\n",
      "['SHLDQ']: Exception('%ticker%: No timezone found, symbol may be delisted')\n"
     ]
    },
    {
     "name": "stdout",
     "output_type": "stream",
     "text": [
      "\n",
      "single positional indexer is out-of-bounds\n",
      "[*********************100%%**********************]  1 of 1 completed"
     ]
    },
    {
     "name": "stderr",
     "output_type": "stream",
     "text": [
      "\n",
      "1 Failed download:\n",
      "['SHLDQ']: Exception('%ticker%: No timezone found, symbol may be delisted')\n"
     ]
    },
    {
     "name": "stdout",
     "output_type": "stream",
     "text": [
      "\n",
      "single positional indexer is out-of-bounds\n",
      "[*********************100%%**********************]  1 of 1 completed"
     ]
    },
    {
     "name": "stderr",
     "output_type": "stream",
     "text": [
      "\n",
      "1 Failed download:\n",
      "['SHLDQ']: Exception('%ticker%: No timezone found, symbol may be delisted')\n"
     ]
    },
    {
     "name": "stdout",
     "output_type": "stream",
     "text": [
      "\n",
      "single positional indexer is out-of-bounds\n",
      "[*********************100%%**********************]  1 of 1 completed\n",
      "[*********************100%%**********************]  1 of 1 completed\n",
      "[*********************100%%**********************]  1 of 1 completed\n",
      "[*********************100%%**********************]  1 of 1 completed\n",
      "single positional indexer is out-of-bounds\n",
      "[*********************100%%**********************]  1 of 1 completed\n",
      "single positional indexer is out-of-bounds\n",
      "[*********************100%%**********************]  1 of 1 completed\n",
      "single positional indexer is out-of-bounds\n",
      "[*********************100%%**********************]  1 of 1 completed\n",
      "single positional indexer is out-of-bounds\n",
      "[*********************100%%**********************]  1 of 1 completed\n",
      "single positional indexer is out-of-bounds\n",
      "[*********************100%%**********************]  1 of 1 completed\n",
      "single positional indexer is out-of-bounds\n",
      "[*********************100%%**********************]  1 of 1 completed\n",
      "single positional indexer is out-of-bounds\n",
      "[*********************100%%**********************]  1 of 1 completed\n",
      "single positional indexer is out-of-bounds\n",
      "[*********************100%%**********************]  1 of 1 completed\n",
      "single positional indexer is out-of-bounds\n",
      "[*********************100%%**********************]  1 of 1 completed\n",
      "single positional indexer is out-of-bounds\n",
      "[*********************100%%**********************]  1 of 1 completed\n",
      "single positional indexer is out-of-bounds\n",
      "[*********************100%%**********************]  1 of 1 completed\n",
      "single positional indexer is out-of-bounds\n",
      "[*********************100%%**********************]  1 of 1 completed"
     ]
    },
    {
     "name": "stderr",
     "output_type": "stream",
     "text": [
      "\n",
      "1 Failed download:\n",
      "['TWX']: Exception('%ticker%: No price data found, symbol may be delisted (1d 2023-11-07 10:26:24.136575 -> 2023-11-08 10:26:24.136575)')\n"
     ]
    },
    {
     "name": "stdout",
     "output_type": "stream",
     "text": [
      "\n",
      "single positional indexer is out-of-bounds\n",
      "[*********************100%%**********************]  1 of 1 completed"
     ]
    },
    {
     "name": "stderr",
     "output_type": "stream",
     "text": [
      "\n",
      "1 Failed download:\n",
      "['TWX']: Exception('%ticker%: No price data found, symbol may be delisted (1d 2023-11-07 10:26:24.136575 -> 2023-11-09 10:26:24.136575)')\n"
     ]
    },
    {
     "name": "stdout",
     "output_type": "stream",
     "text": [
      "\n",
      "single positional indexer is out-of-bounds\n",
      "[*********************100%%**********************]  1 of 1 completed"
     ]
    },
    {
     "name": "stderr",
     "output_type": "stream",
     "text": [
      "\n",
      "1 Failed download:\n",
      "['TWX']: Exception('%ticker%: No price data found, symbol may be delisted (1d 2023-11-07 10:26:24.136575 -> 2023-11-10 10:26:24.136575)')\n"
     ]
    },
    {
     "name": "stdout",
     "output_type": "stream",
     "text": [
      "\n",
      "single positional indexer is out-of-bounds\n",
      "[*********************100%%**********************]  1 of 1 completed"
     ]
    },
    {
     "name": "stderr",
     "output_type": "stream",
     "text": [
      "\n",
      "1 Failed download:\n",
      "['TWX']: Exception('%ticker%: No price data found, symbol may be delisted (1d 2023-11-07 10:26:24.136575 -> 2023-11-11 10:26:24.136575)')\n"
     ]
    },
    {
     "name": "stdout",
     "output_type": "stream",
     "text": [
      "\n",
      "single positional indexer is out-of-bounds\n",
      "[*********************100%%**********************]  1 of 1 completed"
     ]
    },
    {
     "name": "stderr",
     "output_type": "stream",
     "text": [
      "\n",
      "1 Failed download:\n",
      "['TWX']: Exception('%ticker%: No price data found, symbol may be delisted (1d 2023-11-07 10:26:24.136575 -> 2023-11-12 10:26:24.136575)')\n"
     ]
    },
    {
     "name": "stdout",
     "output_type": "stream",
     "text": [
      "\n",
      "single positional indexer is out-of-bounds\n",
      "[*********************100%%**********************]  1 of 1 completed"
     ]
    },
    {
     "name": "stderr",
     "output_type": "stream",
     "text": [
      "\n",
      "1 Failed download:\n",
      "['TWX']: Exception('%ticker%: No price data found, symbol may be delisted (1d 2023-11-07 10:26:24.136575 -> 2023-11-13 10:26:24.136575)')\n"
     ]
    },
    {
     "name": "stdout",
     "output_type": "stream",
     "text": [
      "\n",
      "single positional indexer is out-of-bounds\n",
      "[*********************100%%**********************]  1 of 1 completed"
     ]
    },
    {
     "name": "stderr",
     "output_type": "stream",
     "text": [
      "\n",
      "1 Failed download:\n",
      "['TWX']: Exception('%ticker%: No price data found, symbol may be delisted (1d 2023-11-07 10:26:24.136575 -> 2023-11-14 10:26:24.136575)')\n"
     ]
    },
    {
     "name": "stdout",
     "output_type": "stream",
     "text": [
      "\n",
      "single positional indexer is out-of-bounds\n",
      "[*********************100%%**********************]  1 of 1 completed"
     ]
    },
    {
     "name": "stderr",
     "output_type": "stream",
     "text": [
      "\n",
      "1 Failed download:\n",
      "['TWX']: Exception('%ticker%: No price data found, symbol may be delisted (1d 2023-11-07 10:26:24.136575 -> 2023-11-15 10:26:24.136575)')\n"
     ]
    },
    {
     "name": "stdout",
     "output_type": "stream",
     "text": [
      "\n",
      "single positional indexer is out-of-bounds\n",
      "[*********************100%%**********************]  1 of 1 completed"
     ]
    },
    {
     "name": "stderr",
     "output_type": "stream",
     "text": [
      "\n",
      "1 Failed download:\n",
      "['TWX']: Exception('%ticker%: No price data found, symbol may be delisted (1d 2023-11-07 10:26:24.136575 -> 2023-11-16 10:26:24.136575)')\n"
     ]
    },
    {
     "name": "stdout",
     "output_type": "stream",
     "text": [
      "\n",
      "single positional indexer is out-of-bounds\n",
      "[*********************100%%**********************]  1 of 1 completed"
     ]
    },
    {
     "name": "stderr",
     "output_type": "stream",
     "text": [
      "\n",
      "1 Failed download:\n",
      "['TWX']: Exception('%ticker%: No price data found, symbol may be delisted (1d 2023-11-07 10:26:24.136575 -> 2023-11-17 10:26:24.136575)')\n"
     ]
    },
    {
     "name": "stdout",
     "output_type": "stream",
     "text": [
      "\n",
      "single positional indexer is out-of-bounds\n",
      "[*********************100%%**********************]  1 of 1 completed"
     ]
    },
    {
     "name": "stderr",
     "output_type": "stream",
     "text": [
      "\n",
      "1 Failed download:\n",
      "['TWX']: Exception('%ticker%: No price data found, symbol may be delisted (1d 2023-11-07 10:26:24.136575 -> 2023-11-18 10:26:24.136575)')\n"
     ]
    },
    {
     "name": "stdout",
     "output_type": "stream",
     "text": [
      "\n",
      "single positional indexer is out-of-bounds\n",
      "[*********************100%%**********************]  1 of 1 completed"
     ]
    },
    {
     "name": "stderr",
     "output_type": "stream",
     "text": [
      "\n",
      "1 Failed download:\n",
      "['TWX']: Exception('%ticker%: No price data found, symbol may be delisted (1d 2023-11-07 10:26:24.136575 -> 2023-11-19 10:26:24.136575)')\n"
     ]
    },
    {
     "name": "stdout",
     "output_type": "stream",
     "text": [
      "\n",
      "single positional indexer is out-of-bounds\n",
      "[*********************100%%**********************]  1 of 1 completed"
     ]
    },
    {
     "name": "stderr",
     "output_type": "stream",
     "text": [
      "\n",
      "1 Failed download:\n",
      "['TWX']: Exception('%ticker%: No price data found, symbol may be delisted (1d 2023-11-07 10:26:24.136575 -> 2023-11-20 10:26:24.136575)')\n"
     ]
    },
    {
     "name": "stdout",
     "output_type": "stream",
     "text": [
      "\n",
      "single positional indexer is out-of-bounds\n",
      "[*********************100%%**********************]  1 of 1 completed"
     ]
    },
    {
     "name": "stderr",
     "output_type": "stream",
     "text": [
      "\n",
      "1 Failed download:\n",
      "['TWX']: Exception('%ticker%: No price data found, symbol may be delisted (1d 2023-11-07 10:26:24.136575 -> 2023-11-21 10:26:24.136575)')\n"
     ]
    },
    {
     "name": "stdout",
     "output_type": "stream",
     "text": [
      "\n",
      "single positional indexer is out-of-bounds\n",
      "[*********************100%%**********************]  1 of 1 completed"
     ]
    },
    {
     "name": "stderr",
     "output_type": "stream",
     "text": [
      "\n",
      "1 Failed download:\n",
      "['TWX']: Exception('%ticker%: No price data found, symbol may be delisted (1d 2023-11-07 10:26:24.136575 -> 2023-11-22 10:26:24.136575)')\n"
     ]
    },
    {
     "name": "stdout",
     "output_type": "stream",
     "text": [
      "\n",
      "single positional indexer is out-of-bounds\n",
      "[*********************100%%**********************]  1 of 1 completed\n",
      "[*********************100%%**********************]  1 of 1 completed\n",
      "[*********************100%%**********************]  1 of 1 completed\n",
      "[*********************100%%**********************]  1 of 1 completed\n",
      "single positional indexer is out-of-bounds\n",
      "[*********************100%%**********************]  1 of 1 completed\n",
      "single positional indexer is out-of-bounds\n",
      "[*********************100%%**********************]  1 of 1 completed\n",
      "single positional indexer is out-of-bounds\n",
      "[*********************100%%**********************]  1 of 1 completed\n",
      "single positional indexer is out-of-bounds\n",
      "[*********************100%%**********************]  1 of 1 completed\n",
      "single positional indexer is out-of-bounds\n",
      "[*********************100%%**********************]  1 of 1 completed\n",
      "single positional indexer is out-of-bounds\n",
      "[*********************100%%**********************]  1 of 1 completed\n",
      "single positional indexer is out-of-bounds\n",
      "[*********************100%%**********************]  1 of 1 completed\n",
      "single positional indexer is out-of-bounds\n",
      "[*********************100%%**********************]  1 of 1 completed\n",
      "single positional indexer is out-of-bounds\n",
      "[*********************100%%**********************]  1 of 1 completed\n",
      "single positional indexer is out-of-bounds\n",
      "[*********************100%%**********************]  1 of 1 completed\n",
      "single positional indexer is out-of-bounds\n",
      "[*********************100%%**********************]  1 of 1 completed\n",
      "single positional indexer is out-of-bounds\n",
      "[*********************100%%**********************]  1 of 1 completed\n",
      "[*********************100%%**********************]  1 of 1 completed\n",
      "[*********************100%%**********************]  1 of 1 completed\n",
      "[*********************100%%**********************]  1 of 1 completed\n",
      "single positional indexer is out-of-bounds\n",
      "[*********************100%%**********************]  1 of 1 completed\n",
      "single positional indexer is out-of-bounds\n",
      "[*********************100%%**********************]  1 of 1 completed\n",
      "single positional indexer is out-of-bounds\n",
      "[*********************100%%**********************]  1 of 1 completed\n",
      "single positional indexer is out-of-bounds\n",
      "[*********************100%%**********************]  1 of 1 completed\n",
      "single positional indexer is out-of-bounds\n",
      "[*********************100%%**********************]  1 of 1 completed\n",
      "single positional indexer is out-of-bounds\n",
      "[*********************100%%**********************]  1 of 1 completed\n",
      "single positional indexer is out-of-bounds\n",
      "[*********************100%%**********************]  1 of 1 completed\n",
      "single positional indexer is out-of-bounds\n",
      "[*********************100%%**********************]  1 of 1 completed\n",
      "single positional indexer is out-of-bounds\n",
      "[*********************100%%**********************]  1 of 1 completed\n",
      "single positional indexer is out-of-bounds\n",
      "[*********************100%%**********************]  1 of 1 completed\n",
      "single positional indexer is out-of-bounds\n",
      "[*********************100%%**********************]  1 of 1 completed\n",
      "single positional indexer is out-of-bounds\n",
      "[*********************100%%**********************]  1 of 1 completed\n",
      "[*********************100%%**********************]  1 of 1 completed\n",
      "[*********************100%%**********************]  1 of 1 completed\n",
      "[*********************100%%**********************]  1 of 1 completed\n",
      "single positional indexer is out-of-bounds\n",
      "[*********************100%%**********************]  1 of 1 completed\n",
      "single positional indexer is out-of-bounds\n",
      "[*********************100%%**********************]  1 of 1 completed\n",
      "single positional indexer is out-of-bounds\n",
      "[*********************100%%**********************]  1 of 1 completed\n",
      "single positional indexer is out-of-bounds\n",
      "[*********************100%%**********************]  1 of 1 completed\n",
      "single positional indexer is out-of-bounds\n",
      "[*********************100%%**********************]  1 of 1 completed\n",
      "single positional indexer is out-of-bounds\n",
      "[*********************100%%**********************]  1 of 1 completed\n",
      "single positional indexer is out-of-bounds\n",
      "[*********************100%%**********************]  1 of 1 completed\n",
      "single positional indexer is out-of-bounds\n",
      "[*********************100%%**********************]  1 of 1 completed\n",
      "single positional indexer is out-of-bounds\n",
      "[*********************100%%**********************]  1 of 1 completed\n",
      "single positional indexer is out-of-bounds\n",
      "[*********************100%%**********************]  1 of 1 completed\n",
      "single positional indexer is out-of-bounds\n",
      "[*********************100%%**********************]  1 of 1 completed\n",
      "single positional indexer is out-of-bounds\n",
      "[*********************100%%**********************]  1 of 1 completed"
     ]
    },
    {
     "name": "stderr",
     "output_type": "stream",
     "text": [
      "\n",
      "1 Failed download:\n",
      "['BBBY']: Exception('%ticker%: No timezone found, symbol may be delisted')\n"
     ]
    },
    {
     "name": "stdout",
     "output_type": "stream",
     "text": [
      "\n",
      "single positional indexer is out-of-bounds\n",
      "[*********************100%%**********************]  1 of 1 completed"
     ]
    },
    {
     "name": "stderr",
     "output_type": "stream",
     "text": [
      "\n",
      "1 Failed download:\n",
      "['BBBY']: Exception('%ticker%: No timezone found, symbol may be delisted')\n"
     ]
    },
    {
     "name": "stdout",
     "output_type": "stream",
     "text": [
      "\n",
      "single positional indexer is out-of-bounds\n",
      "[*********************100%%**********************]  1 of 1 completed"
     ]
    },
    {
     "name": "stderr",
     "output_type": "stream",
     "text": [
      "\n",
      "1 Failed download:\n",
      "['BBBY']: Exception('%ticker%: No timezone found, symbol may be delisted')\n"
     ]
    },
    {
     "name": "stdout",
     "output_type": "stream",
     "text": [
      "\n",
      "single positional indexer is out-of-bounds\n",
      "[*********************100%%**********************]  1 of 1 completed"
     ]
    },
    {
     "name": "stderr",
     "output_type": "stream",
     "text": [
      "\n",
      "1 Failed download:\n",
      "['BBBY']: Exception('%ticker%: No timezone found, symbol may be delisted')\n"
     ]
    },
    {
     "name": "stdout",
     "output_type": "stream",
     "text": [
      "\n",
      "single positional indexer is out-of-bounds\n",
      "[*********************100%%**********************]  1 of 1 completed"
     ]
    },
    {
     "name": "stderr",
     "output_type": "stream",
     "text": [
      "\n",
      "1 Failed download:\n",
      "['BBBY']: Exception('%ticker%: No timezone found, symbol may be delisted')\n"
     ]
    },
    {
     "name": "stdout",
     "output_type": "stream",
     "text": [
      "\n",
      "single positional indexer is out-of-bounds\n",
      "[*********************100%%**********************]  1 of 1 completed"
     ]
    },
    {
     "name": "stderr",
     "output_type": "stream",
     "text": [
      "\n",
      "1 Failed download:\n",
      "['BBBY']: Exception('%ticker%: No timezone found, symbol may be delisted')\n"
     ]
    },
    {
     "name": "stdout",
     "output_type": "stream",
     "text": [
      "\n",
      "single positional indexer is out-of-bounds\n",
      "[*********************100%%**********************]  1 of 1 completed"
     ]
    },
    {
     "name": "stderr",
     "output_type": "stream",
     "text": [
      "\n",
      "1 Failed download:\n",
      "['BBBY']: Exception('%ticker%: No timezone found, symbol may be delisted')\n"
     ]
    },
    {
     "name": "stdout",
     "output_type": "stream",
     "text": [
      "\n",
      "single positional indexer is out-of-bounds\n",
      "[*********************100%%**********************]  1 of 1 completed"
     ]
    },
    {
     "name": "stderr",
     "output_type": "stream",
     "text": [
      "\n",
      "1 Failed download:\n",
      "['BBBY']: Exception('%ticker%: No timezone found, symbol may be delisted')\n"
     ]
    },
    {
     "name": "stdout",
     "output_type": "stream",
     "text": [
      "\n",
      "single positional indexer is out-of-bounds\n",
      "[*********************100%%**********************]  1 of 1 completed"
     ]
    },
    {
     "name": "stderr",
     "output_type": "stream",
     "text": [
      "\n",
      "1 Failed download:\n",
      "['BBBY']: Exception('%ticker%: No timezone found, symbol may be delisted')\n"
     ]
    },
    {
     "name": "stdout",
     "output_type": "stream",
     "text": [
      "\n",
      "single positional indexer is out-of-bounds\n",
      "[*********************100%%**********************]  1 of 1 completed"
     ]
    },
    {
     "name": "stderr",
     "output_type": "stream",
     "text": [
      "\n",
      "1 Failed download:\n",
      "['BBBY']: Exception('%ticker%: No timezone found, symbol may be delisted')\n"
     ]
    },
    {
     "name": "stdout",
     "output_type": "stream",
     "text": [
      "\n",
      "single positional indexer is out-of-bounds\n",
      "[*********************100%%**********************]  1 of 1 completed"
     ]
    },
    {
     "name": "stderr",
     "output_type": "stream",
     "text": [
      "\n",
      "1 Failed download:\n",
      "['BBBY']: Exception('%ticker%: No timezone found, symbol may be delisted')\n"
     ]
    },
    {
     "name": "stdout",
     "output_type": "stream",
     "text": [
      "\n",
      "single positional indexer is out-of-bounds\n",
      "[*********************100%%**********************]  1 of 1 completed"
     ]
    },
    {
     "name": "stderr",
     "output_type": "stream",
     "text": [
      "\n",
      "1 Failed download:\n",
      "['BBBY']: Exception('%ticker%: No timezone found, symbol may be delisted')\n"
     ]
    },
    {
     "name": "stdout",
     "output_type": "stream",
     "text": [
      "\n",
      "single positional indexer is out-of-bounds\n",
      "[*********************100%%**********************]  1 of 1 completed"
     ]
    },
    {
     "name": "stderr",
     "output_type": "stream",
     "text": [
      "\n",
      "1 Failed download:\n",
      "['BBBY']: Exception('%ticker%: No timezone found, symbol may be delisted')\n"
     ]
    },
    {
     "name": "stdout",
     "output_type": "stream",
     "text": [
      "\n",
      "single positional indexer is out-of-bounds\n",
      "[*********************100%%**********************]  1 of 1 completed"
     ]
    },
    {
     "name": "stderr",
     "output_type": "stream",
     "text": [
      "\n",
      "1 Failed download:\n",
      "['BBBY']: Exception('%ticker%: No timezone found, symbol may be delisted')\n"
     ]
    },
    {
     "name": "stdout",
     "output_type": "stream",
     "text": [
      "\n",
      "single positional indexer is out-of-bounds\n",
      "[*********************100%%**********************]  1 of 1 completed"
     ]
    },
    {
     "name": "stderr",
     "output_type": "stream",
     "text": [
      "\n",
      "1 Failed download:\n",
      "['BBBY']: Exception('%ticker%: No timezone found, symbol may be delisted')\n"
     ]
    },
    {
     "name": "stdout",
     "output_type": "stream",
     "text": [
      "\n",
      "single positional indexer is out-of-bounds\n",
      "[*********************100%%**********************]  1 of 1 completed\n",
      "[*********************100%%**********************]  1 of 1 completed\n",
      "[*********************100%%**********************]  1 of 1 completed\n",
      "[*********************100%%**********************]  1 of 1 completed\n",
      "single positional indexer is out-of-bounds\n",
      "[*********************100%%**********************]  1 of 1 completed\n",
      "single positional indexer is out-of-bounds\n",
      "[*********************100%%**********************]  1 of 1 completed\n",
      "single positional indexer is out-of-bounds\n",
      "[*********************100%%**********************]  1 of 1 completed\n",
      "single positional indexer is out-of-bounds\n",
      "[*********************100%%**********************]  1 of 1 completed\n",
      "single positional indexer is out-of-bounds\n",
      "[*********************100%%**********************]  1 of 1 completed\n",
      "single positional indexer is out-of-bounds\n",
      "[*********************100%%**********************]  1 of 1 completed\n",
      "single positional indexer is out-of-bounds\n",
      "[*********************100%%**********************]  1 of 1 completed\n",
      "single positional indexer is out-of-bounds\n",
      "[*********************100%%**********************]  1 of 1 completed\n",
      "single positional indexer is out-of-bounds\n",
      "[*********************100%%**********************]  1 of 1 completed\n",
      "single positional indexer is out-of-bounds\n",
      "[*********************100%%**********************]  1 of 1 completed\n",
      "single positional indexer is out-of-bounds\n",
      "[*********************100%%**********************]  1 of 1 completed\n",
      "single positional indexer is out-of-bounds\n",
      "[*********************100%%**********************]  1 of 1 completed\n",
      "[*********************100%%**********************]  1 of 1 completed\n",
      "[*********************100%%**********************]  1 of 1 completed\n",
      "[*********************100%%**********************]  1 of 1 completed\n",
      "single positional indexer is out-of-bounds\n",
      "[*********************100%%**********************]  1 of 1 completed\n",
      "single positional indexer is out-of-bounds\n",
      "[*********************100%%**********************]  1 of 1 completed\n",
      "single positional indexer is out-of-bounds\n",
      "[*********************100%%**********************]  1 of 1 completed\n",
      "single positional indexer is out-of-bounds\n",
      "[*********************100%%**********************]  1 of 1 completed\n",
      "single positional indexer is out-of-bounds\n",
      "[*********************100%%**********************]  1 of 1 completed\n",
      "single positional indexer is out-of-bounds\n",
      "[*********************100%%**********************]  1 of 1 completed\n",
      "single positional indexer is out-of-bounds\n",
      "[*********************100%%**********************]  1 of 1 completed\n",
      "single positional indexer is out-of-bounds\n",
      "[*********************100%%**********************]  1 of 1 completed\n",
      "single positional indexer is out-of-bounds\n",
      "[*********************100%%**********************]  1 of 1 completed\n",
      "single positional indexer is out-of-bounds\n",
      "[*********************100%%**********************]  1 of 1 completed\n",
      "single positional indexer is out-of-bounds\n",
      "[*********************100%%**********************]  1 of 1 completed\n",
      "single positional indexer is out-of-bounds\n",
      "[*********************100%%**********************]  1 of 1 completed\n",
      "[*********************100%%**********************]  1 of 1 completed\n",
      "[*********************100%%**********************]  1 of 1 completed\n",
      "[*********************100%%**********************]  1 of 1 completed\n",
      "single positional indexer is out-of-bounds\n",
      "[*********************100%%**********************]  1 of 1 completed\n",
      "single positional indexer is out-of-bounds\n",
      "[*********************100%%**********************]  1 of 1 completed\n",
      "single positional indexer is out-of-bounds\n",
      "[*********************100%%**********************]  1 of 1 completed\n",
      "single positional indexer is out-of-bounds\n",
      "[*********************100%%**********************]  1 of 1 completed\n",
      "single positional indexer is out-of-bounds\n",
      "[*********************100%%**********************]  1 of 1 completed\n",
      "single positional indexer is out-of-bounds\n",
      "[*********************100%%**********************]  1 of 1 completed\n",
      "single positional indexer is out-of-bounds\n",
      "[*********************100%%**********************]  1 of 1 completed\n",
      "single positional indexer is out-of-bounds\n",
      "[*********************100%%**********************]  1 of 1 completed\n",
      "single positional indexer is out-of-bounds\n",
      "[*********************100%%**********************]  1 of 1 completed\n",
      "single positional indexer is out-of-bounds\n",
      "[*********************100%%**********************]  1 of 1 completed\n",
      "single positional indexer is out-of-bounds\n",
      "[*********************100%%**********************]  1 of 1 completed\n",
      "single positional indexer is out-of-bounds\n",
      "[*********************100%%**********************]  1 of 1 completed"
     ]
    },
    {
     "name": "stderr",
     "output_type": "stream",
     "text": [
      "\n",
      "1 Failed download:\n",
      "['BKS']: Exception('%ticker%: No timezone found, symbol may be delisted')\n"
     ]
    },
    {
     "name": "stdout",
     "output_type": "stream",
     "text": [
      "\n",
      "single positional indexer is out-of-bounds\n",
      "[*********************100%%**********************]  1 of 1 completed"
     ]
    },
    {
     "name": "stderr",
     "output_type": "stream",
     "text": [
      "\n",
      "1 Failed download:\n",
      "['BKS']: Exception('%ticker%: No timezone found, symbol may be delisted')\n"
     ]
    },
    {
     "name": "stdout",
     "output_type": "stream",
     "text": [
      "\n",
      "single positional indexer is out-of-bounds\n",
      "[*********************100%%**********************]  1 of 1 completed"
     ]
    },
    {
     "name": "stderr",
     "output_type": "stream",
     "text": [
      "\n",
      "1 Failed download:\n",
      "['BKS']: Exception('%ticker%: No timezone found, symbol may be delisted')\n"
     ]
    },
    {
     "name": "stdout",
     "output_type": "stream",
     "text": [
      "\n",
      "single positional indexer is out-of-bounds\n",
      "[*********************100%%**********************]  1 of 1 completed"
     ]
    },
    {
     "name": "stderr",
     "output_type": "stream",
     "text": [
      "\n",
      "1 Failed download:\n",
      "['BKS']: Exception('%ticker%: No timezone found, symbol may be delisted')\n"
     ]
    },
    {
     "name": "stdout",
     "output_type": "stream",
     "text": [
      "\n",
      "single positional indexer is out-of-bounds\n",
      "[*********************100%%**********************]  1 of 1 completed"
     ]
    },
    {
     "name": "stderr",
     "output_type": "stream",
     "text": [
      "\n",
      "1 Failed download:\n",
      "['BKS']: Exception('%ticker%: No timezone found, symbol may be delisted')\n"
     ]
    },
    {
     "name": "stdout",
     "output_type": "stream",
     "text": [
      "\n",
      "single positional indexer is out-of-bounds\n",
      "[*********************100%%**********************]  1 of 1 completed"
     ]
    },
    {
     "name": "stderr",
     "output_type": "stream",
     "text": [
      "\n",
      "1 Failed download:\n",
      "['BKS']: Exception('%ticker%: No timezone found, symbol may be delisted')\n"
     ]
    },
    {
     "name": "stdout",
     "output_type": "stream",
     "text": [
      "\n",
      "single positional indexer is out-of-bounds\n",
      "[*********************100%%**********************]  1 of 1 completed"
     ]
    },
    {
     "name": "stderr",
     "output_type": "stream",
     "text": [
      "\n",
      "1 Failed download:\n",
      "['BKS']: Exception('%ticker%: No timezone found, symbol may be delisted')\n"
     ]
    },
    {
     "name": "stdout",
     "output_type": "stream",
     "text": [
      "\n",
      "single positional indexer is out-of-bounds\n",
      "[*********************100%%**********************]  1 of 1 completed"
     ]
    },
    {
     "name": "stderr",
     "output_type": "stream",
     "text": [
      "\n",
      "1 Failed download:\n",
      "['BKS']: Exception('%ticker%: No timezone found, symbol may be delisted')\n"
     ]
    },
    {
     "name": "stdout",
     "output_type": "stream",
     "text": [
      "\n",
      "single positional indexer is out-of-bounds\n",
      "[*********************100%%**********************]  1 of 1 completed"
     ]
    },
    {
     "name": "stderr",
     "output_type": "stream",
     "text": [
      "\n",
      "1 Failed download:\n",
      "['BKS']: Exception('%ticker%: No timezone found, symbol may be delisted')\n"
     ]
    },
    {
     "name": "stdout",
     "output_type": "stream",
     "text": [
      "\n",
      "single positional indexer is out-of-bounds\n",
      "[*********************100%%**********************]  1 of 1 completed"
     ]
    },
    {
     "name": "stderr",
     "output_type": "stream",
     "text": [
      "\n",
      "1 Failed download:\n",
      "['BKS']: Exception('%ticker%: No timezone found, symbol may be delisted')\n"
     ]
    },
    {
     "name": "stdout",
     "output_type": "stream",
     "text": [
      "\n",
      "single positional indexer is out-of-bounds\n",
      "[*********************100%%**********************]  1 of 1 completed"
     ]
    },
    {
     "name": "stderr",
     "output_type": "stream",
     "text": [
      "\n",
      "1 Failed download:\n",
      "['BKS']: Exception('%ticker%: No timezone found, symbol may be delisted')\n"
     ]
    },
    {
     "name": "stdout",
     "output_type": "stream",
     "text": [
      "\n",
      "single positional indexer is out-of-bounds\n",
      "[*********************100%%**********************]  1 of 1 completed"
     ]
    },
    {
     "name": "stderr",
     "output_type": "stream",
     "text": [
      "\n",
      "1 Failed download:\n",
      "['BKS']: Exception('%ticker%: No timezone found, symbol may be delisted')\n"
     ]
    },
    {
     "name": "stdout",
     "output_type": "stream",
     "text": [
      "\n",
      "single positional indexer is out-of-bounds\n",
      "[*********************100%%**********************]  1 of 1 completed"
     ]
    },
    {
     "name": "stderr",
     "output_type": "stream",
     "text": [
      "\n",
      "1 Failed download:\n",
      "['BKS']: Exception('%ticker%: No timezone found, symbol may be delisted')\n"
     ]
    },
    {
     "name": "stdout",
     "output_type": "stream",
     "text": [
      "\n",
      "single positional indexer is out-of-bounds\n",
      "[*********************100%%**********************]  1 of 1 completed"
     ]
    },
    {
     "name": "stderr",
     "output_type": "stream",
     "text": [
      "\n",
      "1 Failed download:\n",
      "['BKS']: Exception('%ticker%: No timezone found, symbol may be delisted')\n"
     ]
    },
    {
     "name": "stdout",
     "output_type": "stream",
     "text": [
      "\n",
      "single positional indexer is out-of-bounds\n",
      "[*********************100%%**********************]  1 of 1 completed"
     ]
    },
    {
     "name": "stderr",
     "output_type": "stream",
     "text": [
      "\n",
      "1 Failed download:\n",
      "['BKS']: Exception('%ticker%: No timezone found, symbol may be delisted')\n"
     ]
    },
    {
     "name": "stdout",
     "output_type": "stream",
     "text": [
      "\n",
      "single positional indexer is out-of-bounds\n",
      "[*********************100%%**********************]  1 of 1 completed\n",
      "[*********************100%%**********************]  1 of 1 completed\n",
      "[*********************100%%**********************]  1 of 1 completed\n",
      "[*********************100%%**********************]  1 of 1 completed\n",
      "single positional indexer is out-of-bounds\n",
      "[*********************100%%**********************]  1 of 1 completed\n",
      "single positional indexer is out-of-bounds\n",
      "[*********************100%%**********************]  1 of 1 completed\n",
      "single positional indexer is out-of-bounds\n",
      "[*********************100%%**********************]  1 of 1 completed\n",
      "single positional indexer is out-of-bounds\n",
      "[*********************100%%**********************]  1 of 1 completed\n",
      "single positional indexer is out-of-bounds\n",
      "[*********************100%%**********************]  1 of 1 completed\n",
      "single positional indexer is out-of-bounds\n",
      "[*********************100%%**********************]  1 of 1 completed\n",
      "single positional indexer is out-of-bounds\n",
      "[*********************100%%**********************]  1 of 1 completed\n",
      "single positional indexer is out-of-bounds\n",
      "[*********************100%%**********************]  1 of 1 completed\n",
      "single positional indexer is out-of-bounds\n",
      "[*********************100%%**********************]  1 of 1 completed\n",
      "single positional indexer is out-of-bounds\n",
      "[*********************100%%**********************]  1 of 1 completed\n",
      "single positional indexer is out-of-bounds\n",
      "[*********************100%%**********************]  1 of 1 completed\n",
      "single positional indexer is out-of-bounds\n",
      "[*********************100%%**********************]  1 of 1 completed\n",
      "[*********************100%%**********************]  1 of 1 completed\n",
      "[*********************100%%**********************]  1 of 1 completed\n",
      "[*********************100%%**********************]  1 of 1 completed\n",
      "single positional indexer is out-of-bounds\n",
      "[*********************100%%**********************]  1 of 1 completed\n",
      "single positional indexer is out-of-bounds\n",
      "[*********************100%%**********************]  1 of 1 completed\n",
      "single positional indexer is out-of-bounds\n",
      "[*********************100%%**********************]  1 of 1 completed\n",
      "single positional indexer is out-of-bounds\n",
      "[*********************100%%**********************]  1 of 1 completed\n",
      "single positional indexer is out-of-bounds\n",
      "[*********************100%%**********************]  1 of 1 completed\n",
      "single positional indexer is out-of-bounds\n",
      "[*********************100%%**********************]  1 of 1 completed\n",
      "single positional indexer is out-of-bounds\n",
      "[*********************100%%**********************]  1 of 1 completed\n",
      "single positional indexer is out-of-bounds\n",
      "[*********************100%%**********************]  1 of 1 completed\n",
      "single positional indexer is out-of-bounds\n",
      "[*********************100%%**********************]  1 of 1 completed\n",
      "single positional indexer is out-of-bounds\n",
      "[*********************100%%**********************]  1 of 1 completed\n",
      "single positional indexer is out-of-bounds\n",
      "[*********************100%%**********************]  1 of 1 completed\n",
      "single positional indexer is out-of-bounds\n",
      "[*********************100%%**********************]  1 of 1 completed\n",
      "[*********************100%%**********************]  1 of 1 completed\n",
      "[*********************100%%**********************]  1 of 1 completed\n",
      "[*********************100%%**********************]  1 of 1 completed\n",
      "single positional indexer is out-of-bounds\n",
      "[*********************100%%**********************]  1 of 1 completed\n",
      "single positional indexer is out-of-bounds\n",
      "[*********************100%%**********************]  1 of 1 completed\n",
      "single positional indexer is out-of-bounds\n",
      "[*********************100%%**********************]  1 of 1 completed\n",
      "single positional indexer is out-of-bounds\n",
      "[*********************100%%**********************]  1 of 1 completed\n",
      "single positional indexer is out-of-bounds\n",
      "[*********************100%%**********************]  1 of 1 completed\n",
      "single positional indexer is out-of-bounds\n",
      "[*********************100%%**********************]  1 of 1 completed\n",
      "single positional indexer is out-of-bounds\n",
      "[*********************100%%**********************]  1 of 1 completed\n",
      "single positional indexer is out-of-bounds\n",
      "[*********************100%%**********************]  1 of 1 completed\n",
      "single positional indexer is out-of-bounds\n",
      "[*********************100%%**********************]  1 of 1 completed\n",
      "single positional indexer is out-of-bounds\n",
      "[*********************100%%**********************]  1 of 1 completed\n",
      "single positional indexer is out-of-bounds\n",
      "[*********************100%%**********************]  1 of 1 completed\n",
      "single positional indexer is out-of-bounds\n",
      "[*********************100%%**********************]  1 of 1 completed"
     ]
    },
    {
     "name": "stderr",
     "output_type": "stream",
     "text": [
      "\n",
      "1 Failed download:\n",
      "['FDO']: Exception('%ticker%: No price data found, symbol may be delisted (1d 2023-11-07 10:28:27.506424 -> 2023-11-08 10:28:27.506424)')\n"
     ]
    },
    {
     "name": "stdout",
     "output_type": "stream",
     "text": [
      "\n",
      "single positional indexer is out-of-bounds\n",
      "[*********************100%%**********************]  1 of 1 completed"
     ]
    },
    {
     "name": "stderr",
     "output_type": "stream",
     "text": [
      "\n",
      "1 Failed download:\n",
      "['FDO']: Exception('%ticker%: No price data found, symbol may be delisted (1d 2023-11-07 10:28:27.506424 -> 2023-11-09 10:28:27.506424)')\n"
     ]
    },
    {
     "name": "stdout",
     "output_type": "stream",
     "text": [
      "\n",
      "single positional indexer is out-of-bounds\n",
      "[*********************100%%**********************]  1 of 1 completed"
     ]
    },
    {
     "name": "stderr",
     "output_type": "stream",
     "text": [
      "\n",
      "1 Failed download:\n",
      "['FDO']: Exception('%ticker%: No price data found, symbol may be delisted (1d 2023-11-07 10:28:27.506424 -> 2023-11-10 10:28:27.506424)')\n"
     ]
    },
    {
     "name": "stdout",
     "output_type": "stream",
     "text": [
      "\n",
      "single positional indexer is out-of-bounds\n",
      "[*********************100%%**********************]  1 of 1 completed"
     ]
    },
    {
     "name": "stderr",
     "output_type": "stream",
     "text": [
      "\n",
      "1 Failed download:\n",
      "['FDO']: Exception('%ticker%: No price data found, symbol may be delisted (1d 2023-11-07 10:28:27.506424 -> 2023-11-11 10:28:27.506424)')\n"
     ]
    },
    {
     "name": "stdout",
     "output_type": "stream",
     "text": [
      "\n",
      "single positional indexer is out-of-bounds\n",
      "[*********************100%%**********************]  1 of 1 completed"
     ]
    },
    {
     "name": "stderr",
     "output_type": "stream",
     "text": [
      "\n",
      "1 Failed download:\n",
      "['FDO']: Exception('%ticker%: No price data found, symbol may be delisted (1d 2023-11-07 10:28:27.506424 -> 2023-11-12 10:28:27.506424)')\n"
     ]
    },
    {
     "name": "stdout",
     "output_type": "stream",
     "text": [
      "\n",
      "single positional indexer is out-of-bounds\n",
      "[*********************100%%**********************]  1 of 1 completed"
     ]
    },
    {
     "name": "stderr",
     "output_type": "stream",
     "text": [
      "\n",
      "1 Failed download:\n",
      "['FDO']: Exception('%ticker%: No price data found, symbol may be delisted (1d 2023-11-07 10:28:27.506424 -> 2023-11-13 10:28:27.506424)')\n"
     ]
    },
    {
     "name": "stdout",
     "output_type": "stream",
     "text": [
      "\n",
      "single positional indexer is out-of-bounds\n",
      "[*********************100%%**********************]  1 of 1 completed"
     ]
    },
    {
     "name": "stderr",
     "output_type": "stream",
     "text": [
      "\n",
      "1 Failed download:\n",
      "['FDO']: Exception('%ticker%: No price data found, symbol may be delisted (1d 2023-11-07 10:28:27.506424 -> 2023-11-14 10:28:27.506424)')\n"
     ]
    },
    {
     "name": "stdout",
     "output_type": "stream",
     "text": [
      "\n",
      "single positional indexer is out-of-bounds\n",
      "[*********************100%%**********************]  1 of 1 completed"
     ]
    },
    {
     "name": "stderr",
     "output_type": "stream",
     "text": [
      "\n",
      "1 Failed download:\n",
      "['FDO']: Exception('%ticker%: No price data found, symbol may be delisted (1d 2023-11-07 10:28:27.506424 -> 2023-11-15 10:28:27.506424)')\n"
     ]
    },
    {
     "name": "stdout",
     "output_type": "stream",
     "text": [
      "\n",
      "single positional indexer is out-of-bounds\n",
      "[*********************100%%**********************]  1 of 1 completed"
     ]
    },
    {
     "name": "stderr",
     "output_type": "stream",
     "text": [
      "\n",
      "1 Failed download:\n",
      "['FDO']: Exception('%ticker%: No price data found, symbol may be delisted (1d 2023-11-07 10:28:27.506424 -> 2023-11-16 10:28:27.506424)')\n"
     ]
    },
    {
     "name": "stdout",
     "output_type": "stream",
     "text": [
      "\n",
      "single positional indexer is out-of-bounds\n",
      "[*********************100%%**********************]  1 of 1 completed"
     ]
    },
    {
     "name": "stderr",
     "output_type": "stream",
     "text": [
      "\n",
      "1 Failed download:\n",
      "['FDO']: Exception('%ticker%: No price data found, symbol may be delisted (1d 2023-11-07 10:28:27.506424 -> 2023-11-17 10:28:27.506424)')\n"
     ]
    },
    {
     "name": "stdout",
     "output_type": "stream",
     "text": [
      "\n",
      "single positional indexer is out-of-bounds\n",
      "[*********************100%%**********************]  1 of 1 completed"
     ]
    },
    {
     "name": "stderr",
     "output_type": "stream",
     "text": [
      "\n",
      "1 Failed download:\n",
      "['FDO']: Exception('%ticker%: No price data found, symbol may be delisted (1d 2023-11-07 10:28:27.506424 -> 2023-11-18 10:28:27.506424)')\n"
     ]
    },
    {
     "name": "stdout",
     "output_type": "stream",
     "text": [
      "\n",
      "single positional indexer is out-of-bounds\n",
      "[*********************100%%**********************]  1 of 1 completed"
     ]
    },
    {
     "name": "stderr",
     "output_type": "stream",
     "text": [
      "\n",
      "1 Failed download:\n",
      "['FDO']: Exception('%ticker%: No price data found, symbol may be delisted (1d 2023-11-07 10:28:27.506424 -> 2023-11-19 10:28:27.506424)')\n"
     ]
    },
    {
     "name": "stdout",
     "output_type": "stream",
     "text": [
      "\n",
      "single positional indexer is out-of-bounds\n",
      "[*********************100%%**********************]  1 of 1 completed"
     ]
    },
    {
     "name": "stderr",
     "output_type": "stream",
     "text": [
      "\n",
      "1 Failed download:\n",
      "['FDO']: Exception('%ticker%: No price data found, symbol may be delisted (1d 2023-11-07 10:28:27.506424 -> 2023-11-20 10:28:27.506424)')\n"
     ]
    },
    {
     "name": "stdout",
     "output_type": "stream",
     "text": [
      "\n",
      "single positional indexer is out-of-bounds\n",
      "[*********************100%%**********************]  1 of 1 completed"
     ]
    },
    {
     "name": "stderr",
     "output_type": "stream",
     "text": [
      "\n",
      "1 Failed download:\n",
      "['FDO']: Exception('%ticker%: No price data found, symbol may be delisted (1d 2023-11-07 10:28:27.506424 -> 2023-11-21 10:28:27.506424)')\n"
     ]
    },
    {
     "name": "stdout",
     "output_type": "stream",
     "text": [
      "\n",
      "single positional indexer is out-of-bounds\n",
      "[*********************100%%**********************]  1 of 1 completed"
     ]
    },
    {
     "name": "stderr",
     "output_type": "stream",
     "text": [
      "\n",
      "1 Failed download:\n",
      "['FDO']: Exception('%ticker%: No price data found, symbol may be delisted (1d 2023-11-07 10:28:27.506424 -> 2023-11-22 10:28:27.506424)')\n"
     ]
    },
    {
     "name": "stdout",
     "output_type": "stream",
     "text": [
      "\n",
      "single positional indexer is out-of-bounds\n",
      "[*********************100%%**********************]  1 of 1 completed"
     ]
    },
    {
     "name": "stderr",
     "output_type": "stream",
     "text": [
      "\n",
      "1 Failed download:\n",
      "['BBRY']: Exception('%ticker%: No price data found, symbol may be delisted (1d 2023-11-07 10:28:27.506424 -> 2023-11-08 10:28:27.506424)')\n"
     ]
    },
    {
     "name": "stdout",
     "output_type": "stream",
     "text": [
      "\n",
      "single positional indexer is out-of-bounds\n",
      "[*********************100%%**********************]  1 of 1 completed"
     ]
    },
    {
     "name": "stderr",
     "output_type": "stream",
     "text": [
      "\n",
      "1 Failed download:\n"
     ]
    },
    {
     "name": "stdout",
     "output_type": "stream",
     "text": [
      "\n"
     ]
    },
    {
     "name": "stderr",
     "output_type": "stream",
     "text": [
      "['BBRY']: Exception('%ticker%: No price data found, symbol may be delisted (1d 2023-11-07 10:28:27.506424 -> 2023-11-09 10:28:27.506424)')\n"
     ]
    },
    {
     "name": "stdout",
     "output_type": "stream",
     "text": [
      "single positional indexer is out-of-bounds\n",
      "[*********************100%%**********************]  1 of 1 completed"
     ]
    },
    {
     "name": "stderr",
     "output_type": "stream",
     "text": [
      "\n",
      "1 Failed download:\n"
     ]
    },
    {
     "name": "stdout",
     "output_type": "stream",
     "text": [
      "\n"
     ]
    },
    {
     "name": "stderr",
     "output_type": "stream",
     "text": [
      "['BBRY']: Exception('%ticker%: No price data found, symbol may be delisted (1d 2023-11-07 10:28:27.506424 -> 2023-11-10 10:28:27.506424)')\n"
     ]
    },
    {
     "name": "stdout",
     "output_type": "stream",
     "text": [
      "single positional indexer is out-of-bounds\n",
      "[*********************100%%**********************]  1 of 1 completed"
     ]
    },
    {
     "name": "stderr",
     "output_type": "stream",
     "text": [
      "\n",
      "1 Failed download:\n",
      "['BBRY']: Exception('%ticker%: No price data found, symbol may be delisted (1d 2023-11-07 10:28:27.506424 -> 2023-11-11 10:28:27.506424)')\n"
     ]
    },
    {
     "name": "stdout",
     "output_type": "stream",
     "text": [
      "\n",
      "single positional indexer is out-of-bounds\n",
      "[*********************100%%**********************]  1 of 1 completed"
     ]
    },
    {
     "name": "stderr",
     "output_type": "stream",
     "text": [
      "\n",
      "1 Failed download:\n",
      "['BBRY']: Exception('%ticker%: No price data found, symbol may be delisted (1d 2023-11-07 10:28:27.506424 -> 2023-11-12 10:28:27.506424)')\n"
     ]
    },
    {
     "name": "stdout",
     "output_type": "stream",
     "text": [
      "\n",
      "single positional indexer is out-of-bounds\n",
      "[*********************100%%**********************]  1 of 1 completed"
     ]
    },
    {
     "name": "stderr",
     "output_type": "stream",
     "text": [
      "\n",
      "1 Failed download:\n",
      "['BBRY']: Exception('%ticker%: No price data found, symbol may be delisted (1d 2023-11-07 10:28:27.506424 -> 2023-11-13 10:28:27.506424)')\n"
     ]
    },
    {
     "name": "stdout",
     "output_type": "stream",
     "text": [
      "\n",
      "single positional indexer is out-of-bounds\n",
      "[*********************100%%**********************]  1 of 1 completed"
     ]
    },
    {
     "name": "stderr",
     "output_type": "stream",
     "text": [
      "\n",
      "1 Failed download:\n",
      "['BBRY']: Exception('%ticker%: No price data found, symbol may be delisted (1d 2023-11-07 10:28:27.506424 -> 2023-11-14 10:28:27.506424)')\n"
     ]
    },
    {
     "name": "stdout",
     "output_type": "stream",
     "text": [
      "\n",
      "single positional indexer is out-of-bounds\n",
      "[*********************100%%**********************]  1 of 1 completed"
     ]
    },
    {
     "name": "stderr",
     "output_type": "stream",
     "text": [
      "\n",
      "1 Failed download:\n",
      "['BBRY']: Exception('%ticker%: No price data found, symbol may be delisted (1d 2023-11-07 10:28:27.506424 -> 2023-11-15 10:28:27.506424)')\n"
     ]
    },
    {
     "name": "stdout",
     "output_type": "stream",
     "text": [
      "\n",
      "single positional indexer is out-of-bounds\n",
      "[*********************100%%**********************]  1 of 1 completed"
     ]
    },
    {
     "name": "stderr",
     "output_type": "stream",
     "text": [
      "\n",
      "1 Failed download:\n",
      "['BBRY']: Exception('%ticker%: No price data found, symbol may be delisted (1d 2023-11-07 10:28:27.506424 -> 2023-11-16 10:28:27.506424)')\n"
     ]
    },
    {
     "name": "stdout",
     "output_type": "stream",
     "text": [
      "\n",
      "single positional indexer is out-of-bounds\n",
      "[*********************100%%**********************]  1 of 1 completed"
     ]
    },
    {
     "name": "stderr",
     "output_type": "stream",
     "text": [
      "\n",
      "1 Failed download:\n",
      "['BBRY']: Exception('%ticker%: No price data found, symbol may be delisted (1d 2023-11-07 10:28:27.506424 -> 2023-11-17 10:28:27.506424)')\n"
     ]
    },
    {
     "name": "stdout",
     "output_type": "stream",
     "text": [
      "\n",
      "single positional indexer is out-of-bounds\n",
      "[*********************100%%**********************]  1 of 1 completed"
     ]
    },
    {
     "name": "stderr",
     "output_type": "stream",
     "text": [
      "\n",
      "1 Failed download:\n",
      "['BBRY']: Exception('%ticker%: No price data found, symbol may be delisted (1d 2023-11-07 10:28:27.506424 -> 2023-11-18 10:28:27.506424)')\n"
     ]
    },
    {
     "name": "stdout",
     "output_type": "stream",
     "text": [
      "\n",
      "single positional indexer is out-of-bounds\n",
      "[*********************100%%**********************]  1 of 1 completed"
     ]
    },
    {
     "name": "stderr",
     "output_type": "stream",
     "text": [
      "\n",
      "1 Failed download:\n",
      "['BBRY']: Exception('%ticker%: No price data found, symbol may be delisted (1d 2023-11-07 10:28:27.506424 -> 2023-11-19 10:28:27.506424)')\n"
     ]
    },
    {
     "name": "stdout",
     "output_type": "stream",
     "text": [
      "\n",
      "single positional indexer is out-of-bounds\n",
      "[*********************100%%**********************]  1 of 1 completed"
     ]
    },
    {
     "name": "stderr",
     "output_type": "stream",
     "text": [
      "\n",
      "1 Failed download:\n",
      "['BBRY']: Exception('%ticker%: No price data found, symbol may be delisted (1d 2023-11-07 10:28:27.506424 -> 2023-11-20 10:28:27.506424)')\n"
     ]
    },
    {
     "name": "stdout",
     "output_type": "stream",
     "text": [
      "\n",
      "single positional indexer is out-of-bounds\n",
      "[*********************100%%**********************]  1 of 1 completed"
     ]
    },
    {
     "name": "stderr",
     "output_type": "stream",
     "text": [
      "\n",
      "1 Failed download:\n",
      "['BBRY']: Exception('%ticker%: No price data found, symbol may be delisted (1d 2023-11-07 10:28:27.506424 -> 2023-11-21 10:28:27.506424)')\n"
     ]
    },
    {
     "name": "stdout",
     "output_type": "stream",
     "text": [
      "\n",
      "single positional indexer is out-of-bounds\n",
      "[*********************100%%**********************]  1 of 1 completed"
     ]
    },
    {
     "name": "stderr",
     "output_type": "stream",
     "text": [
      "\n",
      "1 Failed download:\n",
      "['BBRY']: Exception('%ticker%: No price data found, symbol may be delisted (1d 2023-11-07 10:28:27.506424 -> 2023-11-22 10:28:27.506424)')\n"
     ]
    },
    {
     "name": "stdout",
     "output_type": "stream",
     "text": [
      "\n",
      "single positional indexer is out-of-bounds\n",
      "[*********************100%%**********************]  1 of 1 completed\n",
      "[*********************100%%**********************]  1 of 1 completed\n",
      "[*********************100%%**********************]  1 of 1 completed\n",
      "[*********************100%%**********************]  1 of 1 completed\n",
      "single positional indexer is out-of-bounds\n",
      "[*********************100%%**********************]  1 of 1 completed\n",
      "single positional indexer is out-of-bounds\n",
      "[*********************100%%**********************]  1 of 1 completed\n",
      "single positional indexer is out-of-bounds\n",
      "[*********************100%%**********************]  1 of 1 completed\n",
      "single positional indexer is out-of-bounds\n",
      "[*********************100%%**********************]  1 of 1 completed\n",
      "single positional indexer is out-of-bounds\n",
      "[*********************100%%**********************]  1 of 1 completed\n",
      "single positional indexer is out-of-bounds\n",
      "[*********************100%%**********************]  1 of 1 completed\n",
      "single positional indexer is out-of-bounds\n",
      "[*********************100%%**********************]  1 of 1 completed\n",
      "single positional indexer is out-of-bounds\n",
      "[*********************100%%**********************]  1 of 1 completed\n",
      "single positional indexer is out-of-bounds\n",
      "[*********************100%%**********************]  1 of 1 completed\n",
      "single positional indexer is out-of-bounds\n",
      "[*********************100%%**********************]  1 of 1 completed\n",
      "single positional indexer is out-of-bounds\n",
      "[*********************100%%**********************]  1 of 1 completed\n",
      "single positional indexer is out-of-bounds\n",
      "[*********************100%%**********************]  1 of 1 completed\n",
      "[*********************100%%**********************]  1 of 1 completed\n",
      "[*********************100%%**********************]  1 of 1 completed\n",
      "[*********************100%%**********************]  1 of 1 completed\n",
      "single positional indexer is out-of-bounds\n",
      "[*********************100%%**********************]  1 of 1 completed\n",
      "single positional indexer is out-of-bounds\n",
      "[*********************100%%**********************]  1 of 1 completed\n",
      "single positional indexer is out-of-bounds\n",
      "[*********************100%%**********************]  1 of 1 completed\n",
      "single positional indexer is out-of-bounds\n",
      "[*********************100%%**********************]  1 of 1 completed\n",
      "single positional indexer is out-of-bounds\n",
      "[*********************100%%**********************]  1 of 1 completed\n",
      "single positional indexer is out-of-bounds\n",
      "[*********************100%%**********************]  1 of 1 completed\n",
      "single positional indexer is out-of-bounds\n",
      "[*********************100%%**********************]  1 of 1 completed\n",
      "single positional indexer is out-of-bounds\n",
      "[*********************100%%**********************]  1 of 1 completed\n",
      "single positional indexer is out-of-bounds\n",
      "[*********************100%%**********************]  1 of 1 completed\n",
      "single positional indexer is out-of-bounds\n",
      "[*********************100%%**********************]  1 of 1 completed\n",
      "single positional indexer is out-of-bounds\n",
      "[*********************100%%**********************]  1 of 1 completed\n",
      "single positional indexer is out-of-bounds\n",
      "[*********************100%%**********************]  1 of 1 completed\n",
      "[*********************100%%**********************]  1 of 1 completed\n",
      "[*********************100%%**********************]  1 of 1 completed\n",
      "[*********************100%%**********************]  1 of 1 completed\n",
      "single positional indexer is out-of-bounds\n",
      "[*********************100%%**********************]  1 of 1 completed\n",
      "single positional indexer is out-of-bounds\n",
      "[*********************100%%**********************]  1 of 1 completed\n",
      "single positional indexer is out-of-bounds\n",
      "[*********************100%%**********************]  1 of 1 completed\n",
      "single positional indexer is out-of-bounds\n",
      "[*********************100%%**********************]  1 of 1 completed\n",
      "single positional indexer is out-of-bounds\n",
      "[*********************100%%**********************]  1 of 1 completed\n",
      "single positional indexer is out-of-bounds\n",
      "[*********************100%%**********************]  1 of 1 completed\n",
      "single positional indexer is out-of-bounds\n",
      "[*********************100%%**********************]  1 of 1 completed\n",
      "single positional indexer is out-of-bounds\n",
      "[*********************100%%**********************]  1 of 1 completed\n",
      "single positional indexer is out-of-bounds\n",
      "[*********************100%%**********************]  1 of 1 completed\n",
      "single positional indexer is out-of-bounds\n",
      "[*********************100%%**********************]  1 of 1 completed\n",
      "single positional indexer is out-of-bounds\n",
      "[*********************100%%**********************]  1 of 1 completed\n",
      "single positional indexer is out-of-bounds\n",
      "[*********************100%%**********************]  1 of 1 completed\n",
      "[*********************100%%**********************]  1 of 1 completed\n",
      "[*********************100%%**********************]  1 of 1 completed\n",
      "[*********************100%%**********************]  1 of 1 completed\n",
      "single positional indexer is out-of-bounds\n",
      "[*********************100%%**********************]  1 of 1 completed\n",
      "single positional indexer is out-of-bounds\n",
      "[*********************100%%**********************]  1 of 1 completed\n",
      "single positional indexer is out-of-bounds\n",
      "[*********************100%%**********************]  1 of 1 completed\n",
      "single positional indexer is out-of-bounds\n",
      "[*********************100%%**********************]  1 of 1 completed\n",
      "single positional indexer is out-of-bounds\n",
      "[*********************100%%**********************]  1 of 1 completed\n",
      "single positional indexer is out-of-bounds\n",
      "[*********************100%%**********************]  1 of 1 completed\n",
      "single positional indexer is out-of-bounds\n",
      "[*********************100%%**********************]  1 of 1 completed\n",
      "single positional indexer is out-of-bounds\n",
      "[*********************100%%**********************]  1 of 1 completed\n",
      "single positional indexer is out-of-bounds\n",
      "[*********************100%%**********************]  1 of 1 completed\n",
      "single positional indexer is out-of-bounds\n",
      "[*********************100%%**********************]  1 of 1 completed\n",
      "single positional indexer is out-of-bounds\n",
      "[*********************100%%**********************]  1 of 1 completed\n",
      "single positional indexer is out-of-bounds\n",
      "[*********************100%%**********************]  1 of 1 completed"
     ]
    },
    {
     "name": "stderr",
     "output_type": "stream",
     "text": [
      "\n",
      "1 Failed download:\n",
      "['RHT']: Exception('%ticker%: No timezone found, symbol may be delisted')\n"
     ]
    },
    {
     "name": "stdout",
     "output_type": "stream",
     "text": [
      "\n",
      "single positional indexer is out-of-bounds\n",
      "[*********************100%%**********************]  1 of 1 completed"
     ]
    },
    {
     "name": "stderr",
     "output_type": "stream",
     "text": [
      "\n",
      "1 Failed download:\n",
      "['RHT']: Exception('%ticker%: No timezone found, symbol may be delisted')\n"
     ]
    },
    {
     "name": "stdout",
     "output_type": "stream",
     "text": [
      "\n",
      "single positional indexer is out-of-bounds\n",
      "[*********************100%%**********************]  1 of 1 completed"
     ]
    },
    {
     "name": "stderr",
     "output_type": "stream",
     "text": [
      "\n",
      "1 Failed download:\n",
      "['RHT']: Exception('%ticker%: No timezone found, symbol may be delisted')\n"
     ]
    },
    {
     "name": "stdout",
     "output_type": "stream",
     "text": [
      "\n",
      "single positional indexer is out-of-bounds\n",
      "[*********************100%%**********************]  1 of 1 completed"
     ]
    },
    {
     "name": "stderr",
     "output_type": "stream",
     "text": [
      "\n",
      "1 Failed download:\n",
      "['RHT']: Exception('%ticker%: No timezone found, symbol may be delisted')\n"
     ]
    },
    {
     "name": "stdout",
     "output_type": "stream",
     "text": [
      "\n",
      "single positional indexer is out-of-bounds\n",
      "[*********************100%%**********************]  1 of 1 completed"
     ]
    },
    {
     "name": "stderr",
     "output_type": "stream",
     "text": [
      "\n",
      "1 Failed download:\n",
      "['RHT']: Exception('%ticker%: No timezone found, symbol may be delisted')\n"
     ]
    },
    {
     "name": "stdout",
     "output_type": "stream",
     "text": [
      "\n",
      "single positional indexer is out-of-bounds\n",
      "[*********************100%%**********************]  1 of 1 completed"
     ]
    },
    {
     "name": "stderr",
     "output_type": "stream",
     "text": [
      "\n",
      "1 Failed download:\n",
      "['RHT']: Exception('%ticker%: No timezone found, symbol may be delisted')\n"
     ]
    },
    {
     "name": "stdout",
     "output_type": "stream",
     "text": [
      "\n",
      "single positional indexer is out-of-bounds\n",
      "[*********************100%%**********************]  1 of 1 completed"
     ]
    },
    {
     "name": "stderr",
     "output_type": "stream",
     "text": [
      "\n",
      "1 Failed download:\n",
      "['RHT']: Exception('%ticker%: No timezone found, symbol may be delisted')\n"
     ]
    },
    {
     "name": "stdout",
     "output_type": "stream",
     "text": [
      "\n",
      "single positional indexer is out-of-bounds\n",
      "[*********************100%%**********************]  1 of 1 completed"
     ]
    },
    {
     "name": "stderr",
     "output_type": "stream",
     "text": [
      "\n",
      "1 Failed download:\n",
      "['RHT']: Exception('%ticker%: No timezone found, symbol may be delisted')\n"
     ]
    },
    {
     "name": "stdout",
     "output_type": "stream",
     "text": [
      "\n",
      "single positional indexer is out-of-bounds\n",
      "[*********************100%%**********************]  1 of 1 completed"
     ]
    },
    {
     "name": "stderr",
     "output_type": "stream",
     "text": [
      "\n",
      "1 Failed download:\n",
      "['RHT']: Exception('%ticker%: No timezone found, symbol may be delisted')\n"
     ]
    },
    {
     "name": "stdout",
     "output_type": "stream",
     "text": [
      "\n",
      "single positional indexer is out-of-bounds\n",
      "[*********************100%%**********************]  1 of 1 completed"
     ]
    },
    {
     "name": "stderr",
     "output_type": "stream",
     "text": [
      "\n",
      "1 Failed download:\n",
      "['RHT']: Exception('%ticker%: No timezone found, symbol may be delisted')\n"
     ]
    },
    {
     "name": "stdout",
     "output_type": "stream",
     "text": [
      "\n",
      "single positional indexer is out-of-bounds\n",
      "[*********************100%%**********************]  1 of 1 completed"
     ]
    },
    {
     "name": "stderr",
     "output_type": "stream",
     "text": [
      "\n",
      "1 Failed download:\n",
      "['RHT']: Exception('%ticker%: No timezone found, symbol may be delisted')\n"
     ]
    },
    {
     "name": "stdout",
     "output_type": "stream",
     "text": [
      "\n",
      "single positional indexer is out-of-bounds\n",
      "[*********************100%%**********************]  1 of 1 completed"
     ]
    },
    {
     "name": "stderr",
     "output_type": "stream",
     "text": [
      "\n",
      "1 Failed download:\n",
      "['RHT']: Exception('%ticker%: No timezone found, symbol may be delisted')\n"
     ]
    },
    {
     "name": "stdout",
     "output_type": "stream",
     "text": [
      "\n",
      "single positional indexer is out-of-bounds\n",
      "[*********************100%%**********************]  1 of 1 completed"
     ]
    },
    {
     "name": "stderr",
     "output_type": "stream",
     "text": [
      "\n",
      "1 Failed download:\n",
      "['RHT']: Exception('%ticker%: No timezone found, symbol may be delisted')\n"
     ]
    },
    {
     "name": "stdout",
     "output_type": "stream",
     "text": [
      "\n",
      "single positional indexer is out-of-bounds\n",
      "[*********************100%%**********************]  1 of 1 completed"
     ]
    },
    {
     "name": "stderr",
     "output_type": "stream",
     "text": [
      "\n",
      "1 Failed download:\n",
      "['RHT']: Exception('%ticker%: No timezone found, symbol may be delisted')\n"
     ]
    },
    {
     "name": "stdout",
     "output_type": "stream",
     "text": [
      "\n",
      "single positional indexer is out-of-bounds\n",
      "[*********************100%%**********************]  1 of 1 completed"
     ]
    },
    {
     "name": "stderr",
     "output_type": "stream",
     "text": [
      "\n",
      "1 Failed download:\n",
      "['RHT']: Exception('%ticker%: No timezone found, symbol may be delisted')\n"
     ]
    },
    {
     "name": "stdout",
     "output_type": "stream",
     "text": [
      "\n",
      "single positional indexer is out-of-bounds\n",
      "[*********************100%%**********************]  1 of 1 completed"
     ]
    },
    {
     "name": "stderr",
     "output_type": "stream",
     "text": [
      "\n",
      "1 Failed download:\n",
      "['COV']: Exception('%ticker%: No price data found, symbol may be delisted (1d 2023-11-07 10:28:27.512596 -> 2023-11-08 10:28:27.512596)')\n"
     ]
    },
    {
     "name": "stdout",
     "output_type": "stream",
     "text": [
      "\n",
      "single positional indexer is out-of-bounds\n",
      "[*********************100%%**********************]  1 of 1 completed"
     ]
    },
    {
     "name": "stderr",
     "output_type": "stream",
     "text": [
      "\n",
      "1 Failed download:\n",
      "['COV']: Exception('%ticker%: No price data found, symbol may be delisted (1d 2023-11-07 10:28:27.512596 -> 2023-11-09 10:28:27.512596)')\n"
     ]
    },
    {
     "name": "stdout",
     "output_type": "stream",
     "text": [
      "\n",
      "single positional indexer is out-of-bounds\n",
      "[*********************100%%**********************]  1 of 1 completed"
     ]
    },
    {
     "name": "stderr",
     "output_type": "stream",
     "text": [
      "\n",
      "1 Failed download:\n",
      "['COV']: Exception('%ticker%: No price data found, symbol may be delisted (1d 2023-11-07 10:28:27.512596 -> 2023-11-10 10:28:27.512596)')\n"
     ]
    },
    {
     "name": "stdout",
     "output_type": "stream",
     "text": [
      "\n",
      "single positional indexer is out-of-bounds\n",
      "[*********************100%%**********************]  1 of 1 completed"
     ]
    },
    {
     "name": "stderr",
     "output_type": "stream",
     "text": [
      "\n",
      "1 Failed download:\n",
      "['COV']: Exception('%ticker%: No price data found, symbol may be delisted (1d 2023-11-07 10:28:27.512596 -> 2023-11-11 10:28:27.512596)')\n"
     ]
    },
    {
     "name": "stdout",
     "output_type": "stream",
     "text": [
      "\n",
      "single positional indexer is out-of-bounds\n",
      "[*********************100%%**********************]  1 of 1 completed"
     ]
    },
    {
     "name": "stderr",
     "output_type": "stream",
     "text": [
      "\n",
      "1 Failed download:\n",
      "['COV']: Exception('%ticker%: No price data found, symbol may be delisted (1d 2023-11-07 10:28:27.512596 -> 2023-11-12 10:28:27.512596)')\n"
     ]
    },
    {
     "name": "stdout",
     "output_type": "stream",
     "text": [
      "\n",
      "single positional indexer is out-of-bounds\n",
      "[*********************100%%**********************]  1 of 1 completed"
     ]
    },
    {
     "name": "stderr",
     "output_type": "stream",
     "text": [
      "\n",
      "1 Failed download:\n",
      "['COV']: Exception('%ticker%: No price data found, symbol may be delisted (1d 2023-11-07 10:28:27.512596 -> 2023-11-13 10:28:27.512596)')\n"
     ]
    },
    {
     "name": "stdout",
     "output_type": "stream",
     "text": [
      "\n",
      "single positional indexer is out-of-bounds\n",
      "[*********************100%%**********************]  1 of 1 completed"
     ]
    },
    {
     "name": "stderr",
     "output_type": "stream",
     "text": [
      "\n",
      "1 Failed download:\n",
      "['COV']: Exception('%ticker%: No price data found, symbol may be delisted (1d 2023-11-07 10:28:27.512596 -> 2023-11-14 10:28:27.512596)')\n"
     ]
    },
    {
     "name": "stdout",
     "output_type": "stream",
     "text": [
      "\n",
      "single positional indexer is out-of-bounds\n",
      "[*********************100%%**********************]  1 of 1 completed"
     ]
    },
    {
     "name": "stderr",
     "output_type": "stream",
     "text": [
      "\n",
      "1 Failed download:\n",
      "['COV']: Exception('%ticker%: No price data found, symbol may be delisted (1d 2023-11-07 10:28:27.512596 -> 2023-11-15 10:28:27.512596)')\n"
     ]
    },
    {
     "name": "stdout",
     "output_type": "stream",
     "text": [
      "\n",
      "single positional indexer is out-of-bounds\n",
      "[*********************100%%**********************]  1 of 1 completed"
     ]
    },
    {
     "name": "stderr",
     "output_type": "stream",
     "text": [
      "\n",
      "1 Failed download:\n",
      "['COV']: Exception('%ticker%: No price data found, symbol may be delisted (1d 2023-11-07 10:28:27.512596 -> 2023-11-16 10:28:27.512596)')\n"
     ]
    },
    {
     "name": "stdout",
     "output_type": "stream",
     "text": [
      "\n",
      "single positional indexer is out-of-bounds\n",
      "[*********************100%%**********************]  1 of 1 completed"
     ]
    },
    {
     "name": "stderr",
     "output_type": "stream",
     "text": [
      "\n",
      "1 Failed download:\n",
      "['COV']: Exception('%ticker%: No price data found, symbol may be delisted (1d 2023-11-07 10:28:27.512596 -> 2023-11-17 10:28:27.512596)')\n"
     ]
    },
    {
     "name": "stdout",
     "output_type": "stream",
     "text": [
      "\n",
      "single positional indexer is out-of-bounds\n",
      "[*********************100%%**********************]  1 of 1 completed"
     ]
    },
    {
     "name": "stderr",
     "output_type": "stream",
     "text": [
      "\n",
      "1 Failed download:\n",
      "['COV']: Exception('%ticker%: No price data found, symbol may be delisted (1d 2023-11-07 10:28:27.512596 -> 2023-11-18 10:28:27.512596)')\n"
     ]
    },
    {
     "name": "stdout",
     "output_type": "stream",
     "text": [
      "\n",
      "single positional indexer is out-of-bounds\n",
      "[*********************100%%**********************]  1 of 1 completed"
     ]
    },
    {
     "name": "stderr",
     "output_type": "stream",
     "text": [
      "\n",
      "1 Failed download:\n",
      "['COV']: Exception('%ticker%: No price data found, symbol may be delisted (1d 2023-11-07 10:28:27.512596 -> 2023-11-19 10:28:27.512596)')\n"
     ]
    },
    {
     "name": "stdout",
     "output_type": "stream",
     "text": [
      "\n",
      "single positional indexer is out-of-bounds\n",
      "[*********************100%%**********************]  1 of 1 completed"
     ]
    },
    {
     "name": "stderr",
     "output_type": "stream",
     "text": [
      "\n",
      "1 Failed download:\n",
      "['COV']: Exception('%ticker%: No price data found, symbol may be delisted (1d 2023-11-07 10:28:27.512596 -> 2023-11-20 10:28:27.512596)')\n"
     ]
    },
    {
     "name": "stdout",
     "output_type": "stream",
     "text": [
      "\n",
      "single positional indexer is out-of-bounds\n",
      "[*********************100%%**********************]  1 of 1 completed"
     ]
    },
    {
     "name": "stderr",
     "output_type": "stream",
     "text": [
      "\n",
      "1 Failed download:\n",
      "['COV']: Exception('%ticker%: No price data found, symbol may be delisted (1d 2023-11-07 10:28:27.512596 -> 2023-11-21 10:28:27.512596)')\n"
     ]
    },
    {
     "name": "stdout",
     "output_type": "stream",
     "text": [
      "\n",
      "single positional indexer is out-of-bounds\n",
      "[*********************100%%**********************]  1 of 1 completed"
     ]
    },
    {
     "name": "stderr",
     "output_type": "stream",
     "text": [
      "\n",
      "1 Failed download:\n",
      "['COV']: Exception('%ticker%: No price data found, symbol may be delisted (1d 2023-11-07 10:28:27.512596 -> 2023-11-22 10:28:27.512596)')\n"
     ]
    },
    {
     "name": "stdout",
     "output_type": "stream",
     "text": [
      "\n",
      "single positional indexer is out-of-bounds\n",
      "[*********************100%%**********************]  1 of 1 completed\n",
      "[*********************100%%**********************]  1 of 1 completed\n",
      "[*********************100%%**********************]  1 of 1 completed\n",
      "[*********************100%%**********************]  1 of 1 completed\n",
      "single positional indexer is out-of-bounds\n",
      "[*********************100%%**********************]  1 of 1 completed\n",
      "single positional indexer is out-of-bounds\n",
      "[*********************100%%**********************]  1 of 1 completed\n",
      "single positional indexer is out-of-bounds\n",
      "[*********************100%%**********************]  1 of 1 completed\n",
      "single positional indexer is out-of-bounds\n",
      "[*********************100%%**********************]  1 of 1 completed\n",
      "single positional indexer is out-of-bounds\n",
      "[*********************100%%**********************]  1 of 1 completed\n",
      "single positional indexer is out-of-bounds\n",
      "[*********************100%%**********************]  1 of 1 completed\n",
      "single positional indexer is out-of-bounds\n",
      "[*********************100%%**********************]  1 of 1 completed\n",
      "single positional indexer is out-of-bounds\n",
      "[*********************100%%**********************]  1 of 1 completed\n",
      "single positional indexer is out-of-bounds\n",
      "[*********************100%%**********************]  1 of 1 completed\n",
      "single positional indexer is out-of-bounds\n",
      "[*********************100%%**********************]  1 of 1 completed\n",
      "single positional indexer is out-of-bounds\n",
      "[*********************100%%**********************]  1 of 1 completed\n",
      "single positional indexer is out-of-bounds\n",
      "[*********************100%%**********************]  1 of 1 completed"
     ]
    },
    {
     "name": "stderr",
     "output_type": "stream",
     "text": [
      "\n",
      "1 Failed download:\n",
      "['LAYN']: Exception('%ticker%: No price data found, symbol may be delisted (1d 2023-11-07 10:28:27.512596 -> 2023-11-08 10:28:27.512596)')\n"
     ]
    },
    {
     "name": "stdout",
     "output_type": "stream",
     "text": [
      "\n",
      "single positional indexer is out-of-bounds\n",
      "[*********************100%%**********************]  1 of 1 completed"
     ]
    },
    {
     "name": "stderr",
     "output_type": "stream",
     "text": [
      "\n",
      "1 Failed download:\n",
      "['LAYN']: Exception('%ticker%: No price data found, symbol may be delisted (1d 2023-11-07 10:28:27.512596 -> 2023-11-09 10:28:27.512596)')\n"
     ]
    },
    {
     "name": "stdout",
     "output_type": "stream",
     "text": [
      "\n",
      "single positional indexer is out-of-bounds\n",
      "[*********************100%%**********************]  1 of 1 completed"
     ]
    },
    {
     "name": "stderr",
     "output_type": "stream",
     "text": [
      "\n",
      "1 Failed download:\n",
      "['LAYN']: Exception('%ticker%: No price data found, symbol may be delisted (1d 2023-11-07 10:28:27.512596 -> 2023-11-10 10:28:27.512596)')\n"
     ]
    },
    {
     "name": "stdout",
     "output_type": "stream",
     "text": [
      "\n",
      "single positional indexer is out-of-bounds\n",
      "[*********************100%%**********************]  1 of 1 completed"
     ]
    },
    {
     "name": "stderr",
     "output_type": "stream",
     "text": [
      "\n",
      "1 Failed download:\n",
      "['LAYN']: Exception('%ticker%: No price data found, symbol may be delisted (1d 2023-11-07 10:28:27.512596 -> 2023-11-11 10:28:27.512596)')\n"
     ]
    },
    {
     "name": "stdout",
     "output_type": "stream",
     "text": [
      "\n",
      "single positional indexer is out-of-bounds\n",
      "[*********************100%%**********************]  1 of 1 completed"
     ]
    },
    {
     "name": "stderr",
     "output_type": "stream",
     "text": [
      "\n",
      "1 Failed download:\n",
      "['LAYN']: Exception('%ticker%: No price data found, symbol may be delisted (1d 2023-11-07 10:28:27.512596 -> 2023-11-12 10:28:27.512596)')\n"
     ]
    },
    {
     "name": "stdout",
     "output_type": "stream",
     "text": [
      "\n",
      "single positional indexer is out-of-bounds\n",
      "[*********************100%%**********************]  1 of 1 completed"
     ]
    },
    {
     "name": "stderr",
     "output_type": "stream",
     "text": [
      "\n",
      "1 Failed download:\n",
      "['LAYN']: Exception('%ticker%: No price data found, symbol may be delisted (1d 2023-11-07 10:28:27.512596 -> 2023-11-13 10:28:27.512596)')\n"
     ]
    },
    {
     "name": "stdout",
     "output_type": "stream",
     "text": [
      "\n",
      "single positional indexer is out-of-bounds\n",
      "[*********************100%%**********************]  1 of 1 completed"
     ]
    },
    {
     "name": "stderr",
     "output_type": "stream",
     "text": [
      "\n",
      "1 Failed download:\n",
      "['LAYN']: Exception('%ticker%: No price data found, symbol may be delisted (1d 2023-11-07 10:28:27.512596 -> 2023-11-14 10:28:27.512596)')\n"
     ]
    },
    {
     "name": "stdout",
     "output_type": "stream",
     "text": [
      "\n",
      "single positional indexer is out-of-bounds\n",
      "[*********************100%%**********************]  1 of 1 completed"
     ]
    },
    {
     "name": "stderr",
     "output_type": "stream",
     "text": [
      "\n",
      "1 Failed download:\n",
      "['LAYN']: Exception('%ticker%: No price data found, symbol may be delisted (1d 2023-11-07 10:28:27.512596 -> 2023-11-15 10:28:27.512596)')\n"
     ]
    },
    {
     "name": "stdout",
     "output_type": "stream",
     "text": [
      "\n",
      "single positional indexer is out-of-bounds\n",
      "[*********************100%%**********************]  1 of 1 completed"
     ]
    },
    {
     "name": "stderr",
     "output_type": "stream",
     "text": [
      "\n",
      "1 Failed download:\n",
      "['LAYN']: Exception('%ticker%: No price data found, symbol may be delisted (1d 2023-11-07 10:28:27.512596 -> 2023-11-16 10:28:27.512596)')\n"
     ]
    },
    {
     "name": "stdout",
     "output_type": "stream",
     "text": [
      "\n",
      "single positional indexer is out-of-bounds\n",
      "[*********************100%%**********************]  1 of 1 completed"
     ]
    },
    {
     "name": "stderr",
     "output_type": "stream",
     "text": [
      "\n",
      "1 Failed download:\n",
      "['LAYN']: Exception('%ticker%: No price data found, symbol may be delisted (1d 2023-11-07 10:28:27.512596 -> 2023-11-17 10:28:27.512596)')\n"
     ]
    },
    {
     "name": "stdout",
     "output_type": "stream",
     "text": [
      "\n",
      "single positional indexer is out-of-bounds\n",
      "[*********************100%%**********************]  1 of 1 completed"
     ]
    },
    {
     "name": "stderr",
     "output_type": "stream",
     "text": [
      "\n",
      "1 Failed download:\n",
      "['LAYN']: Exception('%ticker%: No price data found, symbol may be delisted (1d 2023-11-07 10:28:27.512596 -> 2023-11-18 10:28:27.512596)')\n"
     ]
    },
    {
     "name": "stdout",
     "output_type": "stream",
     "text": [
      "\n",
      "single positional indexer is out-of-bounds\n",
      "[*********************100%%**********************]  1 of 1 completed"
     ]
    },
    {
     "name": "stderr",
     "output_type": "stream",
     "text": [
      "\n",
      "1 Failed download:\n",
      "['LAYN']: Exception('%ticker%: No price data found, symbol may be delisted (1d 2023-11-07 10:28:27.512596 -> 2023-11-19 10:28:27.512596)')\n"
     ]
    },
    {
     "name": "stdout",
     "output_type": "stream",
     "text": [
      "\n",
      "single positional indexer is out-of-bounds\n",
      "[*********************100%%**********************]  1 of 1 completed"
     ]
    },
    {
     "name": "stderr",
     "output_type": "stream",
     "text": [
      "\n",
      "1 Failed download:\n",
      "['LAYN']: Exception('%ticker%: No price data found, symbol may be delisted (1d 2023-11-07 10:28:27.512596 -> 2023-11-20 10:28:27.512596)')\n"
     ]
    },
    {
     "name": "stdout",
     "output_type": "stream",
     "text": [
      "\n",
      "single positional indexer is out-of-bounds\n",
      "[*********************100%%**********************]  1 of 1 completed"
     ]
    },
    {
     "name": "stderr",
     "output_type": "stream",
     "text": [
      "\n",
      "1 Failed download:\n",
      "['LAYN']: Exception('%ticker%: No price data found, symbol may be delisted (1d 2023-11-07 10:28:27.512596 -> 2023-11-21 10:28:27.512596)')\n"
     ]
    },
    {
     "name": "stdout",
     "output_type": "stream",
     "text": [
      "\n",
      "single positional indexer is out-of-bounds\n",
      "[*********************100%%**********************]  1 of 1 completed"
     ]
    },
    {
     "name": "stderr",
     "output_type": "stream",
     "text": [
      "\n",
      "1 Failed download:\n",
      "['LAYN']: Exception('%ticker%: No price data found, symbol may be delisted (1d 2023-11-07 10:28:27.512596 -> 2023-11-22 10:28:27.512596)')\n"
     ]
    },
    {
     "name": "stdout",
     "output_type": "stream",
     "text": [
      "\n",
      "single positional indexer is out-of-bounds\n",
      "[*********************100%%**********************]  1 of 1 completed\n",
      "[*********************100%%**********************]  1 of 1 completed\n",
      "[*********************100%%**********************]  1 of 1 completed\n",
      "[*********************100%%**********************]  1 of 1 completed\n",
      "single positional indexer is out-of-bounds\n",
      "[*********************100%%**********************]  1 of 1 completed\n",
      "single positional indexer is out-of-bounds\n",
      "[*********************100%%**********************]  1 of 1 completed\n",
      "single positional indexer is out-of-bounds\n",
      "[*********************100%%**********************]  1 of 1 completed\n",
      "single positional indexer is out-of-bounds\n",
      "[*********************100%%**********************]  1 of 1 completed\n",
      "single positional indexer is out-of-bounds\n",
      "[*********************100%%**********************]  1 of 1 completed\n",
      "single positional indexer is out-of-bounds\n",
      "[*********************100%%**********************]  1 of 1 completed\n",
      "single positional indexer is out-of-bounds\n",
      "[*********************100%%**********************]  1 of 1 completed\n",
      "single positional indexer is out-of-bounds\n",
      "[*********************100%%**********************]  1 of 1 completed\n",
      "single positional indexer is out-of-bounds\n",
      "[*********************100%%**********************]  1 of 1 completed\n",
      "single positional indexer is out-of-bounds\n",
      "[*********************100%%**********************]  1 of 1 completed\n",
      "single positional indexer is out-of-bounds\n",
      "[*********************100%%**********************]  1 of 1 completed\n",
      "single positional indexer is out-of-bounds\n",
      "[*********************100%%**********************]  1 of 1 completed\n",
      "[*********************100%%**********************]  1 of 1 completed\n",
      "[*********************100%%**********************]  1 of 1 completed\n",
      "[*********************100%%**********************]  1 of 1 completed\n",
      "single positional indexer is out-of-bounds\n",
      "[*********************100%%**********************]  1 of 1 completed\n",
      "single positional indexer is out-of-bounds\n",
      "[*********************100%%**********************]  1 of 1 completed\n",
      "single positional indexer is out-of-bounds\n",
      "[*********************100%%**********************]  1 of 1 completed\n",
      "single positional indexer is out-of-bounds\n",
      "[*********************100%%**********************]  1 of 1 completed\n",
      "single positional indexer is out-of-bounds\n",
      "[*********************100%%**********************]  1 of 1 completed\n",
      "single positional indexer is out-of-bounds\n",
      "[*********************100%%**********************]  1 of 1 completed\n",
      "single positional indexer is out-of-bounds\n",
      "[*********************100%%**********************]  1 of 1 completed\n",
      "single positional indexer is out-of-bounds\n",
      "[*********************100%%**********************]  1 of 1 completed\n",
      "single positional indexer is out-of-bounds\n",
      "[*********************100%%**********************]  1 of 1 completed\n",
      "single positional indexer is out-of-bounds\n",
      "[*********************100%%**********************]  1 of 1 completed\n",
      "single positional indexer is out-of-bounds\n",
      "[*********************100%%**********************]  1 of 1 completed\n",
      "single positional indexer is out-of-bounds\n",
      "[*********************100%%**********************]  1 of 1 completed\n",
      "[*********************100%%**********************]  1 of 1 completed\n",
      "[*********************100%%**********************]  1 of 1 completed\n",
      "[*********************100%%**********************]  1 of 1 completed\n",
      "single positional indexer is out-of-bounds\n",
      "[*********************100%%**********************]  1 of 1 completed\n",
      "single positional indexer is out-of-bounds\n",
      "[*********************100%%**********************]  1 of 1 completed\n",
      "single positional indexer is out-of-bounds\n",
      "[*********************100%%**********************]  1 of 1 completed\n",
      "single positional indexer is out-of-bounds\n",
      "[*********************100%%**********************]  1 of 1 completed\n",
      "single positional indexer is out-of-bounds\n",
      "[*********************100%%**********************]  1 of 1 completed\n",
      "single positional indexer is out-of-bounds\n",
      "[*********************100%%**********************]  1 of 1 completed\n",
      "single positional indexer is out-of-bounds\n",
      "[*********************100%%**********************]  1 of 1 completed\n",
      "single positional indexer is out-of-bounds\n",
      "[*********************100%%**********************]  1 of 1 completed\n",
      "single positional indexer is out-of-bounds\n",
      "[*********************100%%**********************]  1 of 1 completed\n",
      "single positional indexer is out-of-bounds\n",
      "[*********************100%%**********************]  1 of 1 completed\n",
      "single positional indexer is out-of-bounds\n",
      "[*********************100%%**********************]  1 of 1 completed\n",
      "single positional indexer is out-of-bounds\n",
      "[*********************100%%**********************]  1 of 1 completed"
     ]
    },
    {
     "name": "stderr",
     "output_type": "stream",
     "text": [
      "\n",
      "1 Failed download:\n",
      "['FNSR']: Exception('%ticker%: No timezone found, symbol may be delisted')\n"
     ]
    },
    {
     "name": "stdout",
     "output_type": "stream",
     "text": [
      "\n",
      "single positional indexer is out-of-bounds\n",
      "[*********************100%%**********************]  1 of 1 completed"
     ]
    },
    {
     "name": "stderr",
     "output_type": "stream",
     "text": [
      "\n",
      "1 Failed download:\n",
      "['FNSR']: Exception('%ticker%: No timezone found, symbol may be delisted')\n"
     ]
    },
    {
     "name": "stdout",
     "output_type": "stream",
     "text": [
      "\n",
      "single positional indexer is out-of-bounds\n",
      "[*********************100%%**********************]  1 of 1 completed"
     ]
    },
    {
     "name": "stderr",
     "output_type": "stream",
     "text": [
      "\n",
      "1 Failed download:\n",
      "['FNSR']: Exception('%ticker%: No timezone found, symbol may be delisted')\n"
     ]
    },
    {
     "name": "stdout",
     "output_type": "stream",
     "text": [
      "\n",
      "single positional indexer is out-of-bounds\n",
      "[*********************100%%**********************]  1 of 1 completed"
     ]
    },
    {
     "name": "stderr",
     "output_type": "stream",
     "text": [
      "\n",
      "1 Failed download:\n",
      "['FNSR']: Exception('%ticker%: No timezone found, symbol may be delisted')\n"
     ]
    },
    {
     "name": "stdout",
     "output_type": "stream",
     "text": [
      "\n",
      "single positional indexer is out-of-bounds\n",
      "[*********************100%%**********************]  1 of 1 completed"
     ]
    },
    {
     "name": "stderr",
     "output_type": "stream",
     "text": [
      "\n",
      "1 Failed download:\n",
      "['FNSR']: Exception('%ticker%: No timezone found, symbol may be delisted')\n"
     ]
    },
    {
     "name": "stdout",
     "output_type": "stream",
     "text": [
      "\n",
      "single positional indexer is out-of-bounds\n",
      "[*********************100%%**********************]  1 of 1 completed"
     ]
    },
    {
     "name": "stderr",
     "output_type": "stream",
     "text": [
      "\n",
      "1 Failed download:\n",
      "['FNSR']: Exception('%ticker%: No timezone found, symbol may be delisted')\n"
     ]
    },
    {
     "name": "stdout",
     "output_type": "stream",
     "text": [
      "\n",
      "single positional indexer is out-of-bounds\n",
      "[*********************100%%**********************]  1 of 1 completed"
     ]
    },
    {
     "name": "stderr",
     "output_type": "stream",
     "text": [
      "\n",
      "1 Failed download:\n",
      "['FNSR']: Exception('%ticker%: No timezone found, symbol may be delisted')\n"
     ]
    },
    {
     "name": "stdout",
     "output_type": "stream",
     "text": [
      "\n",
      "single positional indexer is out-of-bounds\n",
      "[*********************100%%**********************]  1 of 1 completed"
     ]
    },
    {
     "name": "stderr",
     "output_type": "stream",
     "text": [
      "\n",
      "1 Failed download:\n",
      "['FNSR']: Exception('%ticker%: No timezone found, symbol may be delisted')\n"
     ]
    },
    {
     "name": "stdout",
     "output_type": "stream",
     "text": [
      "\n",
      "single positional indexer is out-of-bounds\n",
      "[*********************100%%**********************]  1 of 1 completed"
     ]
    },
    {
     "name": "stderr",
     "output_type": "stream",
     "text": [
      "\n",
      "1 Failed download:\n",
      "['FNSR']: Exception('%ticker%: No timezone found, symbol may be delisted')\n"
     ]
    },
    {
     "name": "stdout",
     "output_type": "stream",
     "text": [
      "\n",
      "single positional indexer is out-of-bounds\n",
      "[*********************100%%**********************]  1 of 1 completed"
     ]
    },
    {
     "name": "stderr",
     "output_type": "stream",
     "text": [
      "\n",
      "1 Failed download:\n",
      "['FNSR']: Exception('%ticker%: No timezone found, symbol may be delisted')\n"
     ]
    },
    {
     "name": "stdout",
     "output_type": "stream",
     "text": [
      "\n",
      "single positional indexer is out-of-bounds\n",
      "[*********************100%%**********************]  1 of 1 completed"
     ]
    },
    {
     "name": "stderr",
     "output_type": "stream",
     "text": [
      "\n",
      "1 Failed download:\n",
      "['FNSR']: Exception('%ticker%: No timezone found, symbol may be delisted')\n"
     ]
    },
    {
     "name": "stdout",
     "output_type": "stream",
     "text": [
      "\n",
      "single positional indexer is out-of-bounds\n",
      "[*********************100%%**********************]  1 of 1 completed"
     ]
    },
    {
     "name": "stderr",
     "output_type": "stream",
     "text": [
      "\n",
      "1 Failed download:\n",
      "['FNSR']: Exception('%ticker%: No timezone found, symbol may be delisted')\n"
     ]
    },
    {
     "name": "stdout",
     "output_type": "stream",
     "text": [
      "\n",
      "single positional indexer is out-of-bounds\n",
      "[*********************100%%**********************]  1 of 1 completed"
     ]
    },
    {
     "name": "stderr",
     "output_type": "stream",
     "text": [
      "\n",
      "1 Failed download:\n",
      "['FNSR']: Exception('%ticker%: No timezone found, symbol may be delisted')\n"
     ]
    },
    {
     "name": "stdout",
     "output_type": "stream",
     "text": [
      "\n",
      "single positional indexer is out-of-bounds\n",
      "[*********************100%%**********************]  1 of 1 completed"
     ]
    },
    {
     "name": "stderr",
     "output_type": "stream",
     "text": [
      "\n",
      "1 Failed download:\n",
      "['FNSR']: Exception('%ticker%: No timezone found, symbol may be delisted')\n"
     ]
    },
    {
     "name": "stdout",
     "output_type": "stream",
     "text": [
      "\n",
      "single positional indexer is out-of-bounds\n",
      "[*********************100%%**********************]  1 of 1 completed"
     ]
    },
    {
     "name": "stderr",
     "output_type": "stream",
     "text": [
      "\n",
      "1 Failed download:\n",
      "['FNSR']: Exception('%ticker%: No timezone found, symbol may be delisted')\n"
     ]
    },
    {
     "name": "stdout",
     "output_type": "stream",
     "text": [
      "\n",
      "single positional indexer is out-of-bounds\n",
      "[*********************100%%**********************]  1 of 1 completed\n",
      "[*********************100%%**********************]  1 of 1 completed\n",
      "[*********************100%%**********************]  1 of 1 completed\n",
      "[*********************100%%**********************]  1 of 1 completed\n",
      "single positional indexer is out-of-bounds\n",
      "[*********************100%%**********************]  1 of 1 completed\n",
      "single positional indexer is out-of-bounds\n",
      "[*********************100%%**********************]  1 of 1 completed\n",
      "single positional indexer is out-of-bounds\n",
      "[*********************100%%**********************]  1 of 1 completed\n",
      "single positional indexer is out-of-bounds\n",
      "[*********************100%%**********************]  1 of 1 completed\n",
      "single positional indexer is out-of-bounds\n",
      "[*********************100%%**********************]  1 of 1 completed\n",
      "single positional indexer is out-of-bounds\n",
      "[*********************100%%**********************]  1 of 1 completed\n",
      "single positional indexer is out-of-bounds\n",
      "[*********************100%%**********************]  1 of 1 completed\n",
      "single positional indexer is out-of-bounds\n",
      "[*********************100%%**********************]  1 of 1 completed\n",
      "single positional indexer is out-of-bounds\n",
      "[*********************100%%**********************]  1 of 1 completed\n",
      "single positional indexer is out-of-bounds\n",
      "[*********************100%%**********************]  1 of 1 completed\n",
      "single positional indexer is out-of-bounds\n",
      "[*********************100%%**********************]  1 of 1 completed\n",
      "single positional indexer is out-of-bounds\n",
      "[*********************100%%**********************]  1 of 1 completed\n",
      "[*********************100%%**********************]  1 of 1 completed\n",
      "[*********************100%%**********************]  1 of 1 completed\n",
      "[*********************100%%**********************]  1 of 1 completed\n",
      "single positional indexer is out-of-bounds\n",
      "[*********************100%%**********************]  1 of 1 completed\n",
      "single positional indexer is out-of-bounds\n",
      "[*********************100%%**********************]  1 of 1 completed\n",
      "single positional indexer is out-of-bounds\n",
      "[*********************100%%**********************]  1 of 1 completed\n",
      "single positional indexer is out-of-bounds\n",
      "[*********************100%%**********************]  1 of 1 completed\n",
      "single positional indexer is out-of-bounds\n",
      "[*********************100%%**********************]  1 of 1 completed\n",
      "single positional indexer is out-of-bounds\n",
      "[*********************100%%**********************]  1 of 1 completed\n",
      "single positional indexer is out-of-bounds\n",
      "[*********************100%%**********************]  1 of 1 completed\n",
      "single positional indexer is out-of-bounds\n",
      "[*********************100%%**********************]  1 of 1 completed\n",
      "single positional indexer is out-of-bounds\n",
      "[*********************100%%**********************]  1 of 1 completed\n",
      "single positional indexer is out-of-bounds\n",
      "[*********************100%%**********************]  1 of 1 completed\n",
      "single positional indexer is out-of-bounds\n",
      "[*********************100%%**********************]  1 of 1 completed\n",
      "single positional indexer is out-of-bounds\n",
      "[*********************100%%**********************]  1 of 1 completed\n",
      "[*********************100%%**********************]  1 of 1 completed\n",
      "[*********************100%%**********************]  1 of 1 completed\n",
      "[*********************100%%**********************]  1 of 1 completed\n",
      "single positional indexer is out-of-bounds\n",
      "[*********************100%%**********************]  1 of 1 completed\n",
      "single positional indexer is out-of-bounds\n",
      "[*********************100%%**********************]  1 of 1 completed\n",
      "single positional indexer is out-of-bounds\n",
      "[*********************100%%**********************]  1 of 1 completed\n",
      "single positional indexer is out-of-bounds\n",
      "[*********************100%%**********************]  1 of 1 completed\n",
      "single positional indexer is out-of-bounds\n",
      "[*********************100%%**********************]  1 of 1 completed\n",
      "single positional indexer is out-of-bounds\n",
      "[*********************100%%**********************]  1 of 1 completed\n",
      "single positional indexer is out-of-bounds\n",
      "[*********************100%%**********************]  1 of 1 completed\n",
      "single positional indexer is out-of-bounds\n",
      "[*********************100%%**********************]  1 of 1 completed\n",
      "single positional indexer is out-of-bounds\n",
      "[*********************100%%**********************]  1 of 1 completed\n",
      "single positional indexer is out-of-bounds\n",
      "[*********************100%%**********************]  1 of 1 completed\n",
      "single positional indexer is out-of-bounds\n",
      "[*********************100%%**********************]  1 of 1 completed\n",
      "single positional indexer is out-of-bounds\n",
      "[*********************100%%**********************]  1 of 1 completed\n",
      "[*********************100%%**********************]  1 of 1 completed\n",
      "[*********************100%%**********************]  1 of 1 completed\n",
      "[*********************100%%**********************]  1 of 1 completed\n",
      "single positional indexer is out-of-bounds\n",
      "[*********************100%%**********************]  1 of 1 completed\n",
      "single positional indexer is out-of-bounds\n",
      "[*********************100%%**********************]  1 of 1 completed\n",
      "single positional indexer is out-of-bounds\n",
      "[*********************100%%**********************]  1 of 1 completed\n",
      "single positional indexer is out-of-bounds\n",
      "[*********************100%%**********************]  1 of 1 completed\n",
      "single positional indexer is out-of-bounds\n",
      "[*********************100%%**********************]  1 of 1 completed\n",
      "single positional indexer is out-of-bounds\n",
      "[*********************100%%**********************]  1 of 1 completed\n",
      "single positional indexer is out-of-bounds\n",
      "[*********************100%%**********************]  1 of 1 completed\n",
      "single positional indexer is out-of-bounds\n",
      "[*********************100%%**********************]  1 of 1 completed\n",
      "single positional indexer is out-of-bounds\n",
      "[*********************100%%**********************]  1 of 1 completed\n",
      "single positional indexer is out-of-bounds\n",
      "[*********************100%%**********************]  1 of 1 completed\n",
      "single positional indexer is out-of-bounds\n",
      "[*********************100%%**********************]  1 of 1 completed\n",
      "single positional indexer is out-of-bounds\n",
      "[*********************100%%**********************]  1 of 1 completed\n",
      "[*********************100%%**********************]  1 of 1 completed\n",
      "[*********************100%%**********************]  1 of 1 completed\n",
      "[*********************100%%**********************]  1 of 1 completed\n",
      "single positional indexer is out-of-bounds\n",
      "[*********************100%%**********************]  1 of 1 completed\n",
      "single positional indexer is out-of-bounds\n",
      "[*********************100%%**********************]  1 of 1 completed\n",
      "single positional indexer is out-of-bounds\n",
      "[*********************100%%**********************]  1 of 1 completed\n",
      "single positional indexer is out-of-bounds\n",
      "[*********************100%%**********************]  1 of 1 completed\n",
      "single positional indexer is out-of-bounds\n",
      "[*********************100%%**********************]  1 of 1 completed\n",
      "single positional indexer is out-of-bounds\n",
      "[*********************100%%**********************]  1 of 1 completed\n",
      "single positional indexer is out-of-bounds\n",
      "[*********************100%%**********************]  1 of 1 completed\n",
      "single positional indexer is out-of-bounds\n",
      "[*********************100%%**********************]  1 of 1 completed\n",
      "single positional indexer is out-of-bounds\n",
      "[*********************100%%**********************]  1 of 1 completed\n",
      "single positional indexer is out-of-bounds\n",
      "[*********************100%%**********************]  1 of 1 completed\n",
      "single positional indexer is out-of-bounds\n",
      "[*********************100%%**********************]  1 of 1 completed\n",
      "single positional indexer is out-of-bounds\n",
      "[*********************100%%**********************]  1 of 1 completed\n",
      "[*********************100%%**********************]  1 of 1 completed\n",
      "[*********************100%%**********************]  1 of 1 completed\n",
      "[*********************100%%**********************]  1 of 1 completed\n",
      "single positional indexer is out-of-bounds\n",
      "[*********************100%%**********************]  1 of 1 completed\n",
      "single positional indexer is out-of-bounds\n",
      "[*********************100%%**********************]  1 of 1 completed\n",
      "single positional indexer is out-of-bounds\n",
      "[*********************100%%**********************]  1 of 1 completed\n",
      "single positional indexer is out-of-bounds\n",
      "[*********************100%%**********************]  1 of 1 completed\n",
      "single positional indexer is out-of-bounds\n",
      "[*********************100%%**********************]  1 of 1 completed\n",
      "single positional indexer is out-of-bounds\n",
      "[*********************100%%**********************]  1 of 1 completed\n",
      "single positional indexer is out-of-bounds\n",
      "[*********************100%%**********************]  1 of 1 completed\n",
      "single positional indexer is out-of-bounds\n",
      "[*********************100%%**********************]  1 of 1 completed\n",
      "single positional indexer is out-of-bounds\n",
      "[*********************100%%**********************]  1 of 1 completed\n",
      "single positional indexer is out-of-bounds\n",
      "[*********************100%%**********************]  1 of 1 completed\n",
      "single positional indexer is out-of-bounds\n",
      "[*********************100%%**********************]  1 of 1 completed\n",
      "single positional indexer is out-of-bounds\n",
      "[*********************100%%**********************]  1 of 1 completed\n",
      "[*********************100%%**********************]  1 of 1 completed\n",
      "[*********************100%%**********************]  1 of 1 completed\n",
      "[*********************100%%**********************]  1 of 1 completed\n",
      "single positional indexer is out-of-bounds\n",
      "[*********************100%%**********************]  1 of 1 completed\n",
      "single positional indexer is out-of-bounds\n",
      "[*********************100%%**********************]  1 of 1 completed\n",
      "single positional indexer is out-of-bounds\n",
      "[*********************100%%**********************]  1 of 1 completed\n",
      "single positional indexer is out-of-bounds\n",
      "[*********************100%%**********************]  1 of 1 completed\n",
      "single positional indexer is out-of-bounds\n",
      "[*********************100%%**********************]  1 of 1 completed\n",
      "single positional indexer is out-of-bounds\n",
      "[*********************100%%**********************]  1 of 1 completed\n",
      "single positional indexer is out-of-bounds\n",
      "[*********************100%%**********************]  1 of 1 completed\n",
      "single positional indexer is out-of-bounds\n",
      "[*********************100%%**********************]  1 of 1 completed\n",
      "single positional indexer is out-of-bounds\n",
      "[*********************100%%**********************]  1 of 1 completed\n",
      "single positional indexer is out-of-bounds\n",
      "[*********************100%%**********************]  1 of 1 completed\n",
      "single positional indexer is out-of-bounds\n",
      "[*********************100%%**********************]  1 of 1 completed\n",
      "single positional indexer is out-of-bounds\n",
      "[*********************100%%**********************]  1 of 1 completed\n",
      "[*********************100%%**********************]  1 of 1 completed\n",
      "[*********************100%%**********************]  1 of 1 completed\n",
      "[*********************100%%**********************]  1 of 1 completed\n",
      "single positional indexer is out-of-bounds\n",
      "[*********************100%%**********************]  1 of 1 completed\n",
      "single positional indexer is out-of-bounds\n",
      "[*********************100%%**********************]  1 of 1 completed\n",
      "single positional indexer is out-of-bounds\n",
      "[*********************100%%**********************]  1 of 1 completed\n",
      "single positional indexer is out-of-bounds\n",
      "[*********************100%%**********************]  1 of 1 completed\n",
      "single positional indexer is out-of-bounds\n",
      "[*********************100%%**********************]  1 of 1 completed\n",
      "single positional indexer is out-of-bounds\n",
      "[*********************100%%**********************]  1 of 1 completed\n",
      "single positional indexer is out-of-bounds\n",
      "[*********************100%%**********************]  1 of 1 completed\n",
      "single positional indexer is out-of-bounds\n",
      "[*********************100%%**********************]  1 of 1 completed\n",
      "single positional indexer is out-of-bounds\n",
      "[*********************100%%**********************]  1 of 1 completed\n",
      "single positional indexer is out-of-bounds\n",
      "[*********************100%%**********************]  1 of 1 completed\n",
      "single positional indexer is out-of-bounds\n",
      "[*********************100%%**********************]  1 of 1 completed\n",
      "single positional indexer is out-of-bounds\n",
      "[*********************100%%**********************]  1 of 1 completed\n",
      "[*********************100%%**********************]  1 of 1 completed\n",
      "[*********************100%%**********************]  1 of 1 completed\n",
      "[*********************100%%**********************]  1 of 1 completed\n",
      "single positional indexer is out-of-bounds\n",
      "[*********************100%%**********************]  1 of 1 completed\n",
      "single positional indexer is out-of-bounds\n",
      "[*********************100%%**********************]  1 of 1 completed\n",
      "single positional indexer is out-of-bounds\n",
      "[*********************100%%**********************]  1 of 1 completed\n",
      "single positional indexer is out-of-bounds\n",
      "[*********************100%%**********************]  1 of 1 completed\n",
      "single positional indexer is out-of-bounds\n",
      "[*********************100%%**********************]  1 of 1 completed\n",
      "single positional indexer is out-of-bounds\n",
      "[*********************100%%**********************]  1 of 1 completed\n",
      "single positional indexer is out-of-bounds\n",
      "[*********************100%%**********************]  1 of 1 completed\n",
      "single positional indexer is out-of-bounds\n",
      "[*********************100%%**********************]  1 of 1 completed\n",
      "single positional indexer is out-of-bounds\n",
      "[*********************100%%**********************]  1 of 1 completed\n",
      "single positional indexer is out-of-bounds\n",
      "[*********************100%%**********************]  1 of 1 completed\n",
      "single positional indexer is out-of-bounds\n",
      "[*********************100%%**********************]  1 of 1 completed\n",
      "single positional indexer is out-of-bounds\n",
      "[*********************100%%**********************]  1 of 1 completed\n",
      "[*********************100%%**********************]  1 of 1 completed\n",
      "[*********************100%%**********************]  1 of 1 completed\n",
      "[*********************100%%**********************]  1 of 1 completed\n",
      "single positional indexer is out-of-bounds\n",
      "[*********************100%%**********************]  1 of 1 completed\n",
      "single positional indexer is out-of-bounds\n",
      "[*********************100%%**********************]  1 of 1 completed\n",
      "single positional indexer is out-of-bounds\n",
      "[*********************100%%**********************]  1 of 1 completed\n",
      "single positional indexer is out-of-bounds\n",
      "[*********************100%%**********************]  1 of 1 completed\n",
      "single positional indexer is out-of-bounds\n",
      "[*********************100%%**********************]  1 of 1 completed\n",
      "single positional indexer is out-of-bounds\n",
      "[*********************100%%**********************]  1 of 1 completed\n",
      "single positional indexer is out-of-bounds\n",
      "[*********************100%%**********************]  1 of 1 completed\n",
      "single positional indexer is out-of-bounds\n",
      "[*********************100%%**********************]  1 of 1 completed\n",
      "single positional indexer is out-of-bounds\n",
      "[*********************100%%**********************]  1 of 1 completed\n",
      "single positional indexer is out-of-bounds\n",
      "[*********************100%%**********************]  1 of 1 completed\n",
      "single positional indexer is out-of-bounds\n",
      "[*********************100%%**********************]  1 of 1 completed\n",
      "single positional indexer is out-of-bounds\n",
      "[*********************100%%**********************]  1 of 1 completed\n",
      "[*********************100%%**********************]  1 of 1 completed\n",
      "[*********************100%%**********************]  1 of 1 completed\n",
      "[*********************100%%**********************]  1 of 1 completed\n",
      "single positional indexer is out-of-bounds\n",
      "[*********************100%%**********************]  1 of 1 completed\n",
      "single positional indexer is out-of-bounds\n",
      "[*********************100%%**********************]  1 of 1 completed\n",
      "single positional indexer is out-of-bounds\n",
      "[*********************100%%**********************]  1 of 1 completed\n",
      "single positional indexer is out-of-bounds\n",
      "[*********************100%%**********************]  1 of 1 completed\n",
      "single positional indexer is out-of-bounds\n",
      "[*********************100%%**********************]  1 of 1 completed\n",
      "single positional indexer is out-of-bounds\n",
      "[*********************100%%**********************]  1 of 1 completed\n",
      "single positional indexer is out-of-bounds\n",
      "[*********************100%%**********************]  1 of 1 completed\n",
      "single positional indexer is out-of-bounds\n",
      "[*********************100%%**********************]  1 of 1 completed\n",
      "single positional indexer is out-of-bounds\n",
      "[*********************100%%**********************]  1 of 1 completed\n",
      "single positional indexer is out-of-bounds\n",
      "[*********************100%%**********************]  1 of 1 completed\n",
      "single positional indexer is out-of-bounds\n",
      "[*********************100%%**********************]  1 of 1 completed\n",
      "single positional indexer is out-of-bounds\n",
      "[*********************100%%**********************]  1 of 1 completed\n",
      "[*********************100%%**********************]  1 of 1 completed\n",
      "[*********************100%%**********************]  1 of 1 completed\n",
      "[*********************100%%**********************]  1 of 1 completed\n",
      "single positional indexer is out-of-bounds\n",
      "[*********************100%%**********************]  1 of 1 completed\n",
      "single positional indexer is out-of-bounds\n",
      "[*********************100%%**********************]  1 of 1 completed\n",
      "single positional indexer is out-of-bounds\n",
      "[*********************100%%**********************]  1 of 1 completed\n",
      "single positional indexer is out-of-bounds\n",
      "[*********************100%%**********************]  1 of 1 completed\n",
      "single positional indexer is out-of-bounds\n",
      "[*********************100%%**********************]  1 of 1 completed\n",
      "single positional indexer is out-of-bounds\n",
      "[*********************100%%**********************]  1 of 1 completed\n",
      "single positional indexer is out-of-bounds\n",
      "[*********************100%%**********************]  1 of 1 completed\n",
      "single positional indexer is out-of-bounds\n",
      "[*********************100%%**********************]  1 of 1 completed\n",
      "single positional indexer is out-of-bounds\n",
      "[*********************100%%**********************]  1 of 1 completed\n",
      "single positional indexer is out-of-bounds\n",
      "[*********************100%%**********************]  1 of 1 completed\n",
      "single positional indexer is out-of-bounds\n",
      "[*********************100%%**********************]  1 of 1 completed\n",
      "single positional indexer is out-of-bounds\n",
      "[*********************100%%**********************]  1 of 1 completed"
     ]
    },
    {
     "name": "stderr",
     "output_type": "stream",
     "text": [
      "\n",
      "1 Failed download:\n",
      "['SPX']: Exception('%ticker%: No price data found, symbol may be delisted (1d 2023-11-07 10:29:45.755626 -> 2023-11-08 10:29:45.755626)')\n"
     ]
    },
    {
     "name": "stdout",
     "output_type": "stream",
     "text": [
      "\n",
      "single positional indexer is out-of-bounds\n",
      "[*********************100%%**********************]  1 of 1 completed"
     ]
    },
    {
     "name": "stderr",
     "output_type": "stream",
     "text": [
      "\n",
      "1 Failed download:\n",
      "['SPX']: Exception('%ticker%: No price data found, symbol may be delisted (1d 2023-11-07 10:29:45.755626 -> 2023-11-09 10:29:45.755626)')\n"
     ]
    },
    {
     "name": "stdout",
     "output_type": "stream",
     "text": [
      "\n",
      "single positional indexer is out-of-bounds\n",
      "[*********************100%%**********************]  1 of 1 completed"
     ]
    },
    {
     "name": "stderr",
     "output_type": "stream",
     "text": [
      "\n",
      "1 Failed download:\n",
      "['SPX']: Exception('%ticker%: No price data found, symbol may be delisted (1d 2023-11-07 10:29:45.755626 -> 2023-11-10 10:29:45.755626)')\n"
     ]
    },
    {
     "name": "stdout",
     "output_type": "stream",
     "text": [
      "\n",
      "single positional indexer is out-of-bounds\n",
      "[*********************100%%**********************]  1 of 1 completed"
     ]
    },
    {
     "name": "stderr",
     "output_type": "stream",
     "text": [
      "\n",
      "1 Failed download:\n",
      "['SPX']: Exception('%ticker%: No price data found, symbol may be delisted (1d 2023-11-07 10:29:45.755626 -> 2023-11-11 10:29:45.755626)')\n"
     ]
    },
    {
     "name": "stdout",
     "output_type": "stream",
     "text": [
      "\n",
      "single positional indexer is out-of-bounds\n",
      "[*********************100%%**********************]  1 of 1 completed"
     ]
    },
    {
     "name": "stderr",
     "output_type": "stream",
     "text": [
      "\n",
      "1 Failed download:\n",
      "['SPX']: Exception('%ticker%: No price data found, symbol may be delisted (1d 2023-11-07 10:29:45.755626 -> 2023-11-12 10:29:45.755626)')\n"
     ]
    },
    {
     "name": "stdout",
     "output_type": "stream",
     "text": [
      "\n",
      "single positional indexer is out-of-bounds\n",
      "[*********************100%%**********************]  1 of 1 completed"
     ]
    },
    {
     "name": "stderr",
     "output_type": "stream",
     "text": [
      "\n",
      "1 Failed download:\n",
      "['SPX']: Exception('%ticker%: No price data found, symbol may be delisted (1d 2023-11-07 10:29:45.755626 -> 2023-11-13 10:29:45.755626)')\n"
     ]
    },
    {
     "name": "stdout",
     "output_type": "stream",
     "text": [
      "\n",
      "single positional indexer is out-of-bounds\n",
      "[*********************100%%**********************]  1 of 1 completed"
     ]
    },
    {
     "name": "stderr",
     "output_type": "stream",
     "text": [
      "\n",
      "1 Failed download:\n",
      "['SPX']: Exception('%ticker%: No price data found, symbol may be delisted (1d 2023-11-07 10:29:45.755626 -> 2023-11-14 10:29:45.755626)')\n"
     ]
    },
    {
     "name": "stdout",
     "output_type": "stream",
     "text": [
      "\n",
      "single positional indexer is out-of-bounds\n",
      "[*********************100%%**********************]  1 of 1 completed"
     ]
    },
    {
     "name": "stderr",
     "output_type": "stream",
     "text": [
      "\n",
      "1 Failed download:\n",
      "['SPX']: Exception('%ticker%: No price data found, symbol may be delisted (1d 2023-11-07 10:29:45.755626 -> 2023-11-15 10:29:45.755626)')\n"
     ]
    },
    {
     "name": "stdout",
     "output_type": "stream",
     "text": [
      "\n",
      "single positional indexer is out-of-bounds\n",
      "[*********************100%%**********************]  1 of 1 completed"
     ]
    },
    {
     "name": "stderr",
     "output_type": "stream",
     "text": [
      "\n",
      "1 Failed download:\n",
      "['SPX']: Exception('%ticker%: No price data found, symbol may be delisted (1d 2023-11-07 10:29:45.755626 -> 2023-11-16 10:29:45.755626)')\n"
     ]
    },
    {
     "name": "stdout",
     "output_type": "stream",
     "text": [
      "\n",
      "single positional indexer is out-of-bounds\n",
      "[*********************100%%**********************]  1 of 1 completed"
     ]
    },
    {
     "name": "stderr",
     "output_type": "stream",
     "text": [
      "\n",
      "1 Failed download:\n",
      "['SPX']: Exception('%ticker%: No price data found, symbol may be delisted (1d 2023-11-07 10:29:45.755626 -> 2023-11-17 10:29:45.755626)')\n"
     ]
    },
    {
     "name": "stdout",
     "output_type": "stream",
     "text": [
      "\n",
      "single positional indexer is out-of-bounds\n",
      "[*********************100%%**********************]  1 of 1 completed"
     ]
    },
    {
     "name": "stderr",
     "output_type": "stream",
     "text": [
      "\n",
      "1 Failed download:\n",
      "['SPX']: Exception('%ticker%: No price data found, symbol may be delisted (1d 2023-11-07 10:29:45.755626 -> 2023-11-18 10:29:45.755626)')\n"
     ]
    },
    {
     "name": "stdout",
     "output_type": "stream",
     "text": [
      "\n",
      "single positional indexer is out-of-bounds\n",
      "[*********************100%%**********************]  1 of 1 completed"
     ]
    },
    {
     "name": "stderr",
     "output_type": "stream",
     "text": [
      "\n",
      "1 Failed download:\n",
      "['SPX']: Exception('%ticker%: No price data found, symbol may be delisted (1d 2023-11-07 10:29:45.755626 -> 2023-11-19 10:29:45.755626)')\n"
     ]
    },
    {
     "name": "stdout",
     "output_type": "stream",
     "text": [
      "\n",
      "single positional indexer is out-of-bounds\n",
      "[*********************100%%**********************]  1 of 1 completed"
     ]
    },
    {
     "name": "stderr",
     "output_type": "stream",
     "text": [
      "\n",
      "1 Failed download:\n"
     ]
    },
    {
     "name": "stdout",
     "output_type": "stream",
     "text": [
      "\n"
     ]
    },
    {
     "name": "stderr",
     "output_type": "stream",
     "text": [
      "['SPX']: Exception('%ticker%: No price data found, symbol may be delisted (1d 2023-11-07 10:29:45.755626 -> 2023-11-20 10:29:45.755626)')\n"
     ]
    },
    {
     "name": "stdout",
     "output_type": "stream",
     "text": [
      "single positional indexer is out-of-bounds\n",
      "[*********************100%%**********************]  1 of 1 completed"
     ]
    },
    {
     "name": "stderr",
     "output_type": "stream",
     "text": [
      "\n",
      "1 Failed download:\n",
      "['SPX']: Exception('%ticker%: No price data found, symbol may be delisted (1d 2023-11-07 10:29:45.755626 -> 2023-11-21 10:29:45.755626)')\n"
     ]
    },
    {
     "name": "stdout",
     "output_type": "stream",
     "text": [
      "\n",
      "single positional indexer is out-of-bounds\n",
      "[*********************100%%**********************]  1 of 1 completed"
     ]
    },
    {
     "name": "stderr",
     "output_type": "stream",
     "text": [
      "\n",
      "1 Failed download:\n",
      "['SPX']: Exception('%ticker%: No price data found, symbol may be delisted (1d 2023-11-07 10:29:45.755626 -> 2023-11-22 10:29:45.755626)')\n"
     ]
    },
    {
     "name": "stdout",
     "output_type": "stream",
     "text": [
      "\n",
      "single positional indexer is out-of-bounds\n",
      "[*********************100%%**********************]  1 of 1 completed\n",
      "[*********************100%%**********************]  1 of 1 completed\n",
      "[*********************100%%**********************]  1 of 1 completed\n",
      "[*********************100%%**********************]  1 of 1 completed\n",
      "single positional indexer is out-of-bounds\n",
      "[*********************100%%**********************]  1 of 1 completed\n",
      "single positional indexer is out-of-bounds\n",
      "[*********************100%%**********************]  1 of 1 completed\n",
      "single positional indexer is out-of-bounds\n",
      "[*********************100%%**********************]  1 of 1 completed\n",
      "single positional indexer is out-of-bounds\n",
      "[*********************100%%**********************]  1 of 1 completed\n",
      "single positional indexer is out-of-bounds\n",
      "[*********************100%%**********************]  1 of 1 completed\n",
      "single positional indexer is out-of-bounds\n",
      "[*********************100%%**********************]  1 of 1 completed\n",
      "single positional indexer is out-of-bounds\n",
      "[*********************100%%**********************]  1 of 1 completed\n",
      "single positional indexer is out-of-bounds\n",
      "[*********************100%%**********************]  1 of 1 completed\n",
      "single positional indexer is out-of-bounds\n",
      "[*********************100%%**********************]  1 of 1 completed\n",
      "single positional indexer is out-of-bounds\n",
      "[*********************100%%**********************]  1 of 1 completed\n",
      "single positional indexer is out-of-bounds\n",
      "[*********************100%%**********************]  1 of 1 completed\n",
      "single positional indexer is out-of-bounds\n",
      "[*********************100%%**********************]  1 of 1 completed\n",
      "[*********************100%%**********************]  1 of 1 completed\n",
      "[*********************100%%**********************]  1 of 1 completed\n",
      "[*********************100%%**********************]  1 of 1 completed\n",
      "single positional indexer is out-of-bounds\n",
      "[*********************100%%**********************]  1 of 1 completed\n",
      "single positional indexer is out-of-bounds\n",
      "[*********************100%%**********************]  1 of 1 completed\n",
      "single positional indexer is out-of-bounds\n",
      "[*********************100%%**********************]  1 of 1 completed\n",
      "single positional indexer is out-of-bounds\n",
      "[*********************100%%**********************]  1 of 1 completed\n",
      "single positional indexer is out-of-bounds\n",
      "[*********************100%%**********************]  1 of 1 completed\n",
      "single positional indexer is out-of-bounds\n",
      "[*********************100%%**********************]  1 of 1 completed\n",
      "single positional indexer is out-of-bounds\n",
      "[*********************100%%**********************]  1 of 1 completed\n",
      "single positional indexer is out-of-bounds\n",
      "[*********************100%%**********************]  1 of 1 completed\n",
      "single positional indexer is out-of-bounds\n",
      "[*********************100%%**********************]  1 of 1 completed\n",
      "single positional indexer is out-of-bounds\n",
      "[*********************100%%**********************]  1 of 1 completed\n",
      "single positional indexer is out-of-bounds\n",
      "[*********************100%%**********************]  1 of 1 completed\n",
      "single positional indexer is out-of-bounds\n",
      "[*********************100%%**********************]  1 of 1 completed\n",
      "[*********************100%%**********************]  1 of 1 completed\n",
      "[*********************100%%**********************]  1 of 1 completed\n",
      "[*********************100%%**********************]  1 of 1 completed\n",
      "single positional indexer is out-of-bounds\n",
      "[*********************100%%**********************]  1 of 1 completed\n",
      "single positional indexer is out-of-bounds\n",
      "[*********************100%%**********************]  1 of 1 completed\n",
      "single positional indexer is out-of-bounds\n",
      "[*********************100%%**********************]  1 of 1 completed\n",
      "single positional indexer is out-of-bounds\n",
      "[*********************100%%**********************]  1 of 1 completed\n",
      "single positional indexer is out-of-bounds\n",
      "[*********************100%%**********************]  1 of 1 completed\n",
      "single positional indexer is out-of-bounds\n",
      "[*********************100%%**********************]  1 of 1 completed\n",
      "single positional indexer is out-of-bounds\n",
      "[*********************100%%**********************]  1 of 1 completed\n",
      "single positional indexer is out-of-bounds\n",
      "[*********************100%%**********************]  1 of 1 completed\n",
      "single positional indexer is out-of-bounds\n",
      "[*********************100%%**********************]  1 of 1 completed\n",
      "single positional indexer is out-of-bounds\n",
      "[*********************100%%**********************]  1 of 1 completed\n",
      "single positional indexer is out-of-bounds\n",
      "[*********************100%%**********************]  1 of 1 completed\n",
      "single positional indexer is out-of-bounds\n",
      "[*********************100%%**********************]  1 of 1 completed\n",
      "[*********************100%%**********************]  1 of 1 completed\n",
      "[*********************100%%**********************]  1 of 1 completed\n",
      "[*********************100%%**********************]  1 of 1 completed\n",
      "single positional indexer is out-of-bounds\n",
      "[*********************100%%**********************]  1 of 1 completed\n",
      "single positional indexer is out-of-bounds\n",
      "[*********************100%%**********************]  1 of 1 completed\n",
      "single positional indexer is out-of-bounds\n",
      "[*********************100%%**********************]  1 of 1 completed\n",
      "single positional indexer is out-of-bounds\n",
      "[*********************100%%**********************]  1 of 1 completed\n",
      "single positional indexer is out-of-bounds\n",
      "[*********************100%%**********************]  1 of 1 completed\n",
      "single positional indexer is out-of-bounds\n",
      "[*********************100%%**********************]  1 of 1 completed\n",
      "single positional indexer is out-of-bounds\n",
      "[*********************100%%**********************]  1 of 1 completed\n",
      "single positional indexer is out-of-bounds\n",
      "[*********************100%%**********************]  1 of 1 completed\n",
      "single positional indexer is out-of-bounds\n",
      "[*********************100%%**********************]  1 of 1 completed\n",
      "single positional indexer is out-of-bounds\n",
      "[*********************100%%**********************]  1 of 1 completed\n",
      "single positional indexer is out-of-bounds\n",
      "[*********************100%%**********************]  1 of 1 completed\n",
      "single positional indexer is out-of-bounds\n",
      "[*********************100%%**********************]  1 of 1 completed\n",
      "[*********************100%%**********************]  1 of 1 completed\n",
      "[*********************100%%**********************]  1 of 1 completed\n",
      "[*********************100%%**********************]  1 of 1 completed\n",
      "single positional indexer is out-of-bounds\n",
      "[*********************100%%**********************]  1 of 1 completed\n",
      "single positional indexer is out-of-bounds\n",
      "[*********************100%%**********************]  1 of 1 completed\n",
      "single positional indexer is out-of-bounds\n",
      "[*********************100%%**********************]  1 of 1 completed\n",
      "single positional indexer is out-of-bounds\n",
      "[*********************100%%**********************]  1 of 1 completed\n",
      "single positional indexer is out-of-bounds\n",
      "[*********************100%%**********************]  1 of 1 completed\n",
      "single positional indexer is out-of-bounds\n",
      "[*********************100%%**********************]  1 of 1 completed\n",
      "single positional indexer is out-of-bounds\n",
      "[*********************100%%**********************]  1 of 1 completed\n",
      "single positional indexer is out-of-bounds\n",
      "[*********************100%%**********************]  1 of 1 completed\n",
      "single positional indexer is out-of-bounds\n",
      "[*********************100%%**********************]  1 of 1 completed\n",
      "single positional indexer is out-of-bounds\n",
      "[*********************100%%**********************]  1 of 1 completed\n",
      "single positional indexer is out-of-bounds\n",
      "[*********************100%%**********************]  1 of 1 completed\n",
      "single positional indexer is out-of-bounds\n",
      "[*********************100%%**********************]  1 of 1 completed\n",
      "[*********************100%%**********************]  1 of 1 completed\n",
      "[*********************100%%**********************]  1 of 1 completed\n",
      "[*********************100%%**********************]  1 of 1 completed\n",
      "single positional indexer is out-of-bounds\n",
      "[*********************100%%**********************]  1 of 1 completed\n",
      "single positional indexer is out-of-bounds\n",
      "[*********************100%%**********************]  1 of 1 completed\n",
      "single positional indexer is out-of-bounds\n",
      "[*********************100%%**********************]  1 of 1 completed\n",
      "single positional indexer is out-of-bounds\n",
      "[*********************100%%**********************]  1 of 1 completed\n",
      "single positional indexer is out-of-bounds\n",
      "[*********************100%%**********************]  1 of 1 completed\n",
      "single positional indexer is out-of-bounds\n",
      "[*********************100%%**********************]  1 of 1 completed\n",
      "single positional indexer is out-of-bounds\n",
      "[*********************100%%**********************]  1 of 1 completed\n",
      "single positional indexer is out-of-bounds\n",
      "[*********************100%%**********************]  1 of 1 completed\n",
      "single positional indexer is out-of-bounds\n",
      "[*********************100%%**********************]  1 of 1 completed\n",
      "single positional indexer is out-of-bounds\n",
      "[*********************100%%**********************]  1 of 1 completed\n",
      "single positional indexer is out-of-bounds\n",
      "[*********************100%%**********************]  1 of 1 completed\n",
      "single positional indexer is out-of-bounds\n",
      "[*********************100%%**********************]  1 of 1 completed\n",
      "[*********************100%%**********************]  1 of 1 completed\n",
      "[*********************100%%**********************]  1 of 1 completed\n",
      "[*********************100%%**********************]  1 of 1 completed\n",
      "single positional indexer is out-of-bounds\n",
      "[*********************100%%**********************]  1 of 1 completed\n",
      "single positional indexer is out-of-bounds\n",
      "[*********************100%%**********************]  1 of 1 completed\n",
      "single positional indexer is out-of-bounds\n",
      "[*********************100%%**********************]  1 of 1 completed\n",
      "single positional indexer is out-of-bounds\n",
      "[*********************100%%**********************]  1 of 1 completed\n",
      "single positional indexer is out-of-bounds\n",
      "[*********************100%%**********************]  1 of 1 completed\n",
      "single positional indexer is out-of-bounds\n",
      "[*********************100%%**********************]  1 of 1 completed\n",
      "single positional indexer is out-of-bounds\n",
      "[*********************100%%**********************]  1 of 1 completed\n",
      "single positional indexer is out-of-bounds\n",
      "[*********************100%%**********************]  1 of 1 completed\n",
      "single positional indexer is out-of-bounds\n",
      "[*********************100%%**********************]  1 of 1 completed\n",
      "single positional indexer is out-of-bounds\n",
      "[*********************100%%**********************]  1 of 1 completed\n",
      "single positional indexer is out-of-bounds\n",
      "[*********************100%%**********************]  1 of 1 completed\n",
      "single positional indexer is out-of-bounds\n",
      "[*********************100%%**********************]  1 of 1 completed\n",
      "[*********************100%%**********************]  1 of 1 completed\n",
      "[*********************100%%**********************]  1 of 1 completed\n",
      "[*********************100%%**********************]  1 of 1 completed\n",
      "single positional indexer is out-of-bounds\n",
      "[*********************100%%**********************]  1 of 1 completed\n",
      "single positional indexer is out-of-bounds\n",
      "[*********************100%%**********************]  1 of 1 completed\n",
      "single positional indexer is out-of-bounds\n",
      "[*********************100%%**********************]  1 of 1 completed\n",
      "single positional indexer is out-of-bounds\n",
      "[*********************100%%**********************]  1 of 1 completed\n",
      "single positional indexer is out-of-bounds\n",
      "[*********************100%%**********************]  1 of 1 completed\n",
      "single positional indexer is out-of-bounds\n",
      "[*********************100%%**********************]  1 of 1 completed\n",
      "single positional indexer is out-of-bounds\n",
      "[*********************100%%**********************]  1 of 1 completed\n",
      "single positional indexer is out-of-bounds\n",
      "[*********************100%%**********************]  1 of 1 completed\n",
      "single positional indexer is out-of-bounds\n",
      "[*********************100%%**********************]  1 of 1 completed\n",
      "single positional indexer is out-of-bounds\n",
      "[*********************100%%**********************]  1 of 1 completed\n",
      "single positional indexer is out-of-bounds\n",
      "[*********************100%%**********************]  1 of 1 completed\n",
      "single positional indexer is out-of-bounds\n",
      "[*********************100%%**********************]  1 of 1 completed\n",
      "[*********************100%%**********************]  1 of 1 completed\n",
      "[*********************100%%**********************]  1 of 1 completed\n",
      "[*********************100%%**********************]  1 of 1 completed\n",
      "single positional indexer is out-of-bounds\n",
      "[*********************100%%**********************]  1 of 1 completed\n",
      "single positional indexer is out-of-bounds\n",
      "[*********************100%%**********************]  1 of 1 completed\n",
      "single positional indexer is out-of-bounds\n",
      "[*********************100%%**********************]  1 of 1 completed\n",
      "single positional indexer is out-of-bounds\n",
      "[*********************100%%**********************]  1 of 1 completed\n",
      "single positional indexer is out-of-bounds\n",
      "[*********************100%%**********************]  1 of 1 completed\n",
      "single positional indexer is out-of-bounds\n",
      "[*********************100%%**********************]  1 of 1 completed\n",
      "single positional indexer is out-of-bounds\n",
      "[*********************100%%**********************]  1 of 1 completed\n",
      "single positional indexer is out-of-bounds\n",
      "[*********************100%%**********************]  1 of 1 completed\n",
      "single positional indexer is out-of-bounds\n",
      "[*********************100%%**********************]  1 of 1 completed\n",
      "single positional indexer is out-of-bounds\n",
      "[*********************100%%**********************]  1 of 1 completed\n",
      "single positional indexer is out-of-bounds\n",
      "[*********************100%%**********************]  1 of 1 completed\n",
      "single positional indexer is out-of-bounds\n",
      "[*********************100%%**********************]  1 of 1 completed\n",
      "[*********************100%%**********************]  1 of 1 completed\n",
      "[*********************100%%**********************]  1 of 1 completed\n",
      "[*********************100%%**********************]  1 of 1 completed\n",
      "single positional indexer is out-of-bounds\n",
      "[*********************100%%**********************]  1 of 1 completed\n",
      "single positional indexer is out-of-bounds\n",
      "[*********************100%%**********************]  1 of 1 completed\n",
      "single positional indexer is out-of-bounds\n",
      "[*********************100%%**********************]  1 of 1 completed\n",
      "single positional indexer is out-of-bounds\n",
      "[*********************100%%**********************]  1 of 1 completed\n",
      "single positional indexer is out-of-bounds\n",
      "[*********************100%%**********************]  1 of 1 completed\n",
      "single positional indexer is out-of-bounds\n",
      "[*********************100%%**********************]  1 of 1 completed\n",
      "single positional indexer is out-of-bounds\n",
      "[*********************100%%**********************]  1 of 1 completed\n",
      "single positional indexer is out-of-bounds\n",
      "[*********************100%%**********************]  1 of 1 completed\n",
      "single positional indexer is out-of-bounds\n",
      "[*********************100%%**********************]  1 of 1 completed\n",
      "single positional indexer is out-of-bounds\n",
      "[*********************100%%**********************]  1 of 1 completed\n",
      "single positional indexer is out-of-bounds\n",
      "[*********************100%%**********************]  1 of 1 completed\n",
      "single positional indexer is out-of-bounds\n",
      "[*********************100%%**********************]  1 of 1 completed\n",
      "[*********************100%%**********************]  1 of 1 completed\n",
      "[*********************100%%**********************]  1 of 1 completed\n",
      "[*********************100%%**********************]  1 of 1 completed\n",
      "single positional indexer is out-of-bounds\n",
      "[*********************100%%**********************]  1 of 1 completed\n",
      "single positional indexer is out-of-bounds\n",
      "[*********************100%%**********************]  1 of 1 completed\n",
      "single positional indexer is out-of-bounds\n",
      "[*********************100%%**********************]  1 of 1 completed\n",
      "single positional indexer is out-of-bounds\n",
      "[*********************100%%**********************]  1 of 1 completed\n",
      "single positional indexer is out-of-bounds\n",
      "[*********************100%%**********************]  1 of 1 completed\n",
      "single positional indexer is out-of-bounds\n",
      "[*********************100%%**********************]  1 of 1 completed\n",
      "single positional indexer is out-of-bounds\n",
      "[*********************100%%**********************]  1 of 1 completed\n",
      "single positional indexer is out-of-bounds\n",
      "[*********************100%%**********************]  1 of 1 completed\n",
      "single positional indexer is out-of-bounds\n",
      "[*********************100%%**********************]  1 of 1 completed\n",
      "single positional indexer is out-of-bounds\n",
      "[*********************100%%**********************]  1 of 1 completed\n",
      "single positional indexer is out-of-bounds\n",
      "[*********************100%%**********************]  1 of 1 completed\n",
      "single positional indexer is out-of-bounds\n",
      "[*********************100%%**********************]  1 of 1 completed\n",
      "[*********************100%%**********************]  1 of 1 completed\n",
      "[*********************100%%**********************]  1 of 1 completed\n",
      "[*********************100%%**********************]  1 of 1 completed\n",
      "single positional indexer is out-of-bounds\n",
      "[*********************100%%**********************]  1 of 1 completed\n",
      "single positional indexer is out-of-bounds\n",
      "[*********************100%%**********************]  1 of 1 completed\n",
      "single positional indexer is out-of-bounds\n",
      "[*********************100%%**********************]  1 of 1 completed\n",
      "single positional indexer is out-of-bounds\n",
      "[*********************100%%**********************]  1 of 1 completed\n",
      "single positional indexer is out-of-bounds\n",
      "[*********************100%%**********************]  1 of 1 completed\n",
      "single positional indexer is out-of-bounds\n",
      "[*********************100%%**********************]  1 of 1 completed\n",
      "single positional indexer is out-of-bounds\n",
      "[*********************100%%**********************]  1 of 1 completed\n",
      "single positional indexer is out-of-bounds\n",
      "[*********************100%%**********************]  1 of 1 completed\n",
      "single positional indexer is out-of-bounds\n",
      "[*********************100%%**********************]  1 of 1 completed\n",
      "single positional indexer is out-of-bounds\n",
      "[*********************100%%**********************]  1 of 1 completed\n",
      "single positional indexer is out-of-bounds\n",
      "[*********************100%%**********************]  1 of 1 completed\n",
      "single positional indexer is out-of-bounds\n",
      "[*********************100%%**********************]  1 of 1 completed\n",
      "[*********************100%%**********************]  1 of 1 completed\n",
      "[*********************100%%**********************]  1 of 1 completed\n",
      "[*********************100%%**********************]  1 of 1 completed\n",
      "single positional indexer is out-of-bounds\n",
      "[*********************100%%**********************]  1 of 1 completed\n",
      "single positional indexer is out-of-bounds\n",
      "[*********************100%%**********************]  1 of 1 completed\n",
      "single positional indexer is out-of-bounds\n",
      "[*********************100%%**********************]  1 of 1 completed\n",
      "single positional indexer is out-of-bounds\n",
      "[*********************100%%**********************]  1 of 1 completed\n",
      "single positional indexer is out-of-bounds\n",
      "[*********************100%%**********************]  1 of 1 completed\n",
      "single positional indexer is out-of-bounds\n",
      "[*********************100%%**********************]  1 of 1 completed\n",
      "single positional indexer is out-of-bounds\n",
      "[*********************100%%**********************]  1 of 1 completed\n",
      "single positional indexer is out-of-bounds\n",
      "[*********************100%%**********************]  1 of 1 completed\n",
      "single positional indexer is out-of-bounds\n",
      "[*********************100%%**********************]  1 of 1 completed\n",
      "single positional indexer is out-of-bounds\n",
      "[*********************100%%**********************]  1 of 1 completed\n",
      "single positional indexer is out-of-bounds\n",
      "[*********************100%%**********************]  1 of 1 completed\n",
      "single positional indexer is out-of-bounds\n",
      "[*********************100%%**********************]  1 of 1 completed"
     ]
    },
    {
     "name": "stderr",
     "output_type": "stream",
     "text": [
      "\n",
      "1 Failed download:\n",
      "['SPX']: Exception('%ticker%: No price data found, symbol may be delisted (1d 2023-11-07 10:29:45.763665 -> 2023-11-08 10:29:45.763665)')\n"
     ]
    },
    {
     "name": "stdout",
     "output_type": "stream",
     "text": [
      "\n",
      "single positional indexer is out-of-bounds\n",
      "[*********************100%%**********************]  1 of 1 completed"
     ]
    },
    {
     "name": "stderr",
     "output_type": "stream",
     "text": [
      "\n",
      "1 Failed download:\n",
      "['SPX']: Exception('%ticker%: No price data found, symbol may be delisted (1d 2023-11-07 10:29:45.763665 -> 2023-11-09 10:29:45.763665)')\n"
     ]
    },
    {
     "name": "stdout",
     "output_type": "stream",
     "text": [
      "\n",
      "single positional indexer is out-of-bounds\n",
      "[*********************100%%**********************]  1 of 1 completed"
     ]
    },
    {
     "name": "stderr",
     "output_type": "stream",
     "text": [
      "\n",
      "1 Failed download:\n",
      "['SPX']: Exception('%ticker%: No price data found, symbol may be delisted (1d 2023-11-07 10:29:45.763665 -> 2023-11-10 10:29:45.763665)')\n"
     ]
    },
    {
     "name": "stdout",
     "output_type": "stream",
     "text": [
      "\n",
      "single positional indexer is out-of-bounds\n",
      "[*********************100%%**********************]  1 of 1 completed"
     ]
    },
    {
     "name": "stderr",
     "output_type": "stream",
     "text": [
      "\n",
      "1 Failed download:\n",
      "['SPX']: Exception('%ticker%: No price data found, symbol may be delisted (1d 2023-11-07 10:29:45.763665 -> 2023-11-11 10:29:45.763665)')\n"
     ]
    },
    {
     "name": "stdout",
     "output_type": "stream",
     "text": [
      "\n",
      "single positional indexer is out-of-bounds\n",
      "[*********************100%%**********************]  1 of 1 completed"
     ]
    },
    {
     "name": "stderr",
     "output_type": "stream",
     "text": [
      "\n",
      "1 Failed download:\n",
      "['SPX']: Exception('%ticker%: No price data found, symbol may be delisted (1d 2023-11-07 10:29:45.763665 -> 2023-11-12 10:29:45.763665)')\n"
     ]
    },
    {
     "name": "stdout",
     "output_type": "stream",
     "text": [
      "\n",
      "single positional indexer is out-of-bounds\n",
      "[*********************100%%**********************]  1 of 1 completed"
     ]
    },
    {
     "name": "stderr",
     "output_type": "stream",
     "text": [
      "\n",
      "1 Failed download:\n",
      "['SPX']: Exception('%ticker%: No price data found, symbol may be delisted (1d 2023-11-07 10:29:45.763665 -> 2023-11-13 10:29:45.763665)')\n"
     ]
    },
    {
     "name": "stdout",
     "output_type": "stream",
     "text": [
      "\n",
      "single positional indexer is out-of-bounds\n",
      "[*********************100%%**********************]  1 of 1 completed"
     ]
    },
    {
     "name": "stderr",
     "output_type": "stream",
     "text": [
      "\n",
      "1 Failed download:\n",
      "['SPX']: Exception('%ticker%: No price data found, symbol may be delisted (1d 2023-11-07 10:29:45.763665 -> 2023-11-14 10:29:45.763665)')\n"
     ]
    },
    {
     "name": "stdout",
     "output_type": "stream",
     "text": [
      "\n",
      "single positional indexer is out-of-bounds\n",
      "[*********************100%%**********************]  1 of 1 completed"
     ]
    },
    {
     "name": "stderr",
     "output_type": "stream",
     "text": [
      "\n",
      "1 Failed download:\n",
      "['SPX']: Exception('%ticker%: No price data found, symbol may be delisted (1d 2023-11-07 10:29:45.763665 -> 2023-11-15 10:29:45.763665)')\n"
     ]
    },
    {
     "name": "stdout",
     "output_type": "stream",
     "text": [
      "\n",
      "single positional indexer is out-of-bounds\n",
      "[*********************100%%**********************]  1 of 1 completed"
     ]
    },
    {
     "name": "stderr",
     "output_type": "stream",
     "text": [
      "\n",
      "1 Failed download:\n",
      "['SPX']: Exception('%ticker%: No price data found, symbol may be delisted (1d 2023-11-07 10:29:45.763665 -> 2023-11-16 10:29:45.763665)')\n"
     ]
    },
    {
     "name": "stdout",
     "output_type": "stream",
     "text": [
      "\n",
      "single positional indexer is out-of-bounds\n",
      "[*********************100%%**********************]  1 of 1 completed"
     ]
    },
    {
     "name": "stderr",
     "output_type": "stream",
     "text": [
      "\n",
      "1 Failed download:\n",
      "['SPX']: Exception('%ticker%: No price data found, symbol may be delisted (1d 2023-11-07 10:29:45.763665 -> 2023-11-17 10:29:45.763665)')\n"
     ]
    },
    {
     "name": "stdout",
     "output_type": "stream",
     "text": [
      "\n",
      "single positional indexer is out-of-bounds\n",
      "[*********************100%%**********************]  1 of 1 completed"
     ]
    },
    {
     "name": "stderr",
     "output_type": "stream",
     "text": [
      "\n",
      "1 Failed download:\n",
      "['SPX']: Exception('%ticker%: No price data found, symbol may be delisted (1d 2023-11-07 10:29:45.763665 -> 2023-11-18 10:29:45.763665)')\n"
     ]
    },
    {
     "name": "stdout",
     "output_type": "stream",
     "text": [
      "\n",
      "single positional indexer is out-of-bounds\n",
      "[*********************100%%**********************]  1 of 1 completed"
     ]
    },
    {
     "name": "stderr",
     "output_type": "stream",
     "text": [
      "\n",
      "1 Failed download:\n",
      "['SPX']: Exception('%ticker%: No price data found, symbol may be delisted (1d 2023-11-07 10:29:45.763665 -> 2023-11-19 10:29:45.763665)')\n"
     ]
    },
    {
     "name": "stdout",
     "output_type": "stream",
     "text": [
      "\n",
      "single positional indexer is out-of-bounds\n",
      "[*********************100%%**********************]  1 of 1 completed"
     ]
    },
    {
     "name": "stderr",
     "output_type": "stream",
     "text": [
      "\n",
      "1 Failed download:\n",
      "['SPX']: Exception('%ticker%: No price data found, symbol may be delisted (1d 2023-11-07 10:29:45.763665 -> 2023-11-20 10:29:45.763665)')\n"
     ]
    },
    {
     "name": "stdout",
     "output_type": "stream",
     "text": [
      "\n",
      "single positional indexer is out-of-bounds\n",
      "[*********************100%%**********************]  1 of 1 completed"
     ]
    },
    {
     "name": "stderr",
     "output_type": "stream",
     "text": [
      "\n",
      "1 Failed download:\n",
      "['SPX']: Exception('%ticker%: No price data found, symbol may be delisted (1d 2023-11-07 10:29:45.763665 -> 2023-11-21 10:29:45.763665)')\n"
     ]
    },
    {
     "name": "stdout",
     "output_type": "stream",
     "text": [
      "\n",
      "single positional indexer is out-of-bounds\n",
      "[*********************100%%**********************]  1 of 1 completed"
     ]
    },
    {
     "name": "stderr",
     "output_type": "stream",
     "text": [
      "\n",
      "1 Failed download:\n",
      "['SPX']: Exception('%ticker%: No price data found, symbol may be delisted (1d 2023-11-07 10:29:45.763665 -> 2023-11-22 10:29:45.763665)')\n"
     ]
    },
    {
     "name": "stdout",
     "output_type": "stream",
     "text": [
      "\n",
      "single positional indexer is out-of-bounds\n",
      "[*********************100%%**********************]  1 of 1 completed\n",
      "[*********************100%%**********************]  1 of 1 completed\n",
      "[*********************100%%**********************]  1 of 1 completed\n",
      "[*********************100%%**********************]  1 of 1 completed\n",
      "single positional indexer is out-of-bounds\n",
      "[*********************100%%**********************]  1 of 1 completed\n",
      "single positional indexer is out-of-bounds\n",
      "[*********************100%%**********************]  1 of 1 completed\n",
      "single positional indexer is out-of-bounds\n",
      "[*********************100%%**********************]  1 of 1 completed\n",
      "single positional indexer is out-of-bounds\n",
      "[*********************100%%**********************]  1 of 1 completed\n",
      "single positional indexer is out-of-bounds\n",
      "[*********************100%%**********************]  1 of 1 completed\n",
      "single positional indexer is out-of-bounds\n",
      "[*********************100%%**********************]  1 of 1 completed\n",
      "single positional indexer is out-of-bounds\n",
      "[*********************100%%**********************]  1 of 1 completed\n",
      "single positional indexer is out-of-bounds\n",
      "[*********************100%%**********************]  1 of 1 completed\n",
      "single positional indexer is out-of-bounds\n",
      "[*********************100%%**********************]  1 of 1 completed\n",
      "single positional indexer is out-of-bounds\n",
      "[*********************100%%**********************]  1 of 1 completed\n",
      "single positional indexer is out-of-bounds\n",
      "[*********************100%%**********************]  1 of 1 completed\n",
      "single positional indexer is out-of-bounds\n",
      "[*********************100%%**********************]  1 of 1 completed\n",
      "[*********************100%%**********************]  1 of 1 completed\n",
      "[*********************100%%**********************]  1 of 1 completed\n",
      "[*********************100%%**********************]  1 of 1 completed\n",
      "single positional indexer is out-of-bounds\n",
      "[*********************100%%**********************]  1 of 1 completed\n",
      "single positional indexer is out-of-bounds\n",
      "[*********************100%%**********************]  1 of 1 completed\n",
      "single positional indexer is out-of-bounds\n",
      "[*********************100%%**********************]  1 of 1 completed\n",
      "single positional indexer is out-of-bounds\n",
      "[*********************100%%**********************]  1 of 1 completed\n",
      "single positional indexer is out-of-bounds\n",
      "[*********************100%%**********************]  1 of 1 completed\n",
      "single positional indexer is out-of-bounds\n",
      "[*********************100%%**********************]  1 of 1 completed\n",
      "single positional indexer is out-of-bounds\n",
      "[*********************100%%**********************]  1 of 1 completed\n",
      "single positional indexer is out-of-bounds\n",
      "[*********************100%%**********************]  1 of 1 completed\n",
      "single positional indexer is out-of-bounds\n",
      "[*********************100%%**********************]  1 of 1 completed\n",
      "single positional indexer is out-of-bounds\n",
      "[*********************100%%**********************]  1 of 1 completed\n",
      "single positional indexer is out-of-bounds\n",
      "[*********************100%%**********************]  1 of 1 completed\n",
      "single positional indexer is out-of-bounds\n",
      "[*********************100%%**********************]  1 of 1 completed\n",
      "[*********************100%%**********************]  1 of 1 completed\n",
      "[*********************100%%**********************]  1 of 1 completed\n",
      "[*********************100%%**********************]  1 of 1 completed\n",
      "single positional indexer is out-of-bounds\n",
      "[*********************100%%**********************]  1 of 1 completed\n",
      "single positional indexer is out-of-bounds\n",
      "[*********************100%%**********************]  1 of 1 completed\n",
      "single positional indexer is out-of-bounds\n",
      "[*********************100%%**********************]  1 of 1 completed\n",
      "single positional indexer is out-of-bounds\n",
      "[*********************100%%**********************]  1 of 1 completed\n",
      "single positional indexer is out-of-bounds\n",
      "[*********************100%%**********************]  1 of 1 completed\n",
      "single positional indexer is out-of-bounds\n",
      "[*********************100%%**********************]  1 of 1 completed\n",
      "single positional indexer is out-of-bounds\n",
      "[*********************100%%**********************]  1 of 1 completed\n",
      "single positional indexer is out-of-bounds\n",
      "[*********************100%%**********************]  1 of 1 completed\n",
      "single positional indexer is out-of-bounds\n",
      "[*********************100%%**********************]  1 of 1 completed\n",
      "single positional indexer is out-of-bounds\n",
      "[*********************100%%**********************]  1 of 1 completed\n",
      "single positional indexer is out-of-bounds\n",
      "[*********************100%%**********************]  1 of 1 completed\n",
      "single positional indexer is out-of-bounds\n",
      "[*********************100%%**********************]  1 of 1 completed\n",
      "[*********************100%%**********************]  1 of 1 completed\n",
      "[*********************100%%**********************]  1 of 1 completed\n",
      "[*********************100%%**********************]  1 of 1 completed\n",
      "single positional indexer is out-of-bounds\n",
      "[*********************100%%**********************]  1 of 1 completed\n",
      "single positional indexer is out-of-bounds\n",
      "[*********************100%%**********************]  1 of 1 completed\n",
      "single positional indexer is out-of-bounds\n",
      "[*********************100%%**********************]  1 of 1 completed\n",
      "single positional indexer is out-of-bounds\n",
      "[*********************100%%**********************]  1 of 1 completed\n",
      "single positional indexer is out-of-bounds\n",
      "[*********************100%%**********************]  1 of 1 completed\n",
      "single positional indexer is out-of-bounds\n",
      "[*********************100%%**********************]  1 of 1 completed\n",
      "single positional indexer is out-of-bounds\n",
      "[*********************100%%**********************]  1 of 1 completed\n",
      "single positional indexer is out-of-bounds\n",
      "[*********************100%%**********************]  1 of 1 completed\n",
      "single positional indexer is out-of-bounds\n",
      "[*********************100%%**********************]  1 of 1 completed\n",
      "single positional indexer is out-of-bounds\n",
      "[*********************100%%**********************]  1 of 1 completed\n",
      "single positional indexer is out-of-bounds\n",
      "[*********************100%%**********************]  1 of 1 completed\n",
      "single positional indexer is out-of-bounds\n",
      "[*********************100%%**********************]  1 of 1 completed\n",
      "[*********************100%%**********************]  1 of 1 completed\n",
      "[*********************100%%**********************]  1 of 1 completed\n",
      "[*********************100%%**********************]  1 of 1 completed\n",
      "single positional indexer is out-of-bounds\n",
      "[*********************100%%**********************]  1 of 1 completed\n",
      "single positional indexer is out-of-bounds\n",
      "[*********************100%%**********************]  1 of 1 completed\n",
      "single positional indexer is out-of-bounds\n",
      "[*********************100%%**********************]  1 of 1 completed\n",
      "single positional indexer is out-of-bounds\n",
      "[*********************100%%**********************]  1 of 1 completed\n",
      "single positional indexer is out-of-bounds\n",
      "[*********************100%%**********************]  1 of 1 completed\n",
      "single positional indexer is out-of-bounds\n",
      "[*********************100%%**********************]  1 of 1 completed\n",
      "single positional indexer is out-of-bounds\n",
      "[*********************100%%**********************]  1 of 1 completed\n",
      "single positional indexer is out-of-bounds\n",
      "[*********************100%%**********************]  1 of 1 completed\n",
      "single positional indexer is out-of-bounds\n",
      "[*********************100%%**********************]  1 of 1 completed\n",
      "single positional indexer is out-of-bounds\n",
      "[*********************100%%**********************]  1 of 1 completed\n",
      "single positional indexer is out-of-bounds\n",
      "[*********************100%%**********************]  1 of 1 completed\n",
      "single positional indexer is out-of-bounds\n",
      "[*********************100%%**********************]  1 of 1 completed\n",
      "[*********************100%%**********************]  1 of 1 completed\n",
      "[*********************100%%**********************]  1 of 1 completed\n",
      "[*********************100%%**********************]  1 of 1 completed\n",
      "single positional indexer is out-of-bounds\n",
      "[*********************100%%**********************]  1 of 1 completed\n",
      "single positional indexer is out-of-bounds\n",
      "[*********************100%%**********************]  1 of 1 completed\n",
      "single positional indexer is out-of-bounds\n",
      "[*********************100%%**********************]  1 of 1 completed\n",
      "single positional indexer is out-of-bounds\n",
      "[*********************100%%**********************]  1 of 1 completed\n",
      "single positional indexer is out-of-bounds\n",
      "[*********************100%%**********************]  1 of 1 completed\n",
      "single positional indexer is out-of-bounds\n",
      "[*********************100%%**********************]  1 of 1 completed\n",
      "single positional indexer is out-of-bounds\n",
      "[*********************100%%**********************]  1 of 1 completed\n",
      "single positional indexer is out-of-bounds\n",
      "[*********************100%%**********************]  1 of 1 completed\n",
      "single positional indexer is out-of-bounds\n",
      "[*********************100%%**********************]  1 of 1 completed\n",
      "single positional indexer is out-of-bounds\n",
      "[*********************100%%**********************]  1 of 1 completed\n",
      "single positional indexer is out-of-bounds\n",
      "[*********************100%%**********************]  1 of 1 completed\n",
      "single positional indexer is out-of-bounds\n",
      "[*********************100%%**********************]  1 of 1 completed\n",
      "[*********************100%%**********************]  1 of 1 completed\n",
      "[*********************100%%**********************]  1 of 1 completed\n",
      "[*********************100%%**********************]  1 of 1 completed\n",
      "single positional indexer is out-of-bounds\n",
      "[*********************100%%**********************]  1 of 1 completed\n",
      "single positional indexer is out-of-bounds\n",
      "[*********************100%%**********************]  1 of 1 completed\n",
      "single positional indexer is out-of-bounds\n",
      "[*********************100%%**********************]  1 of 1 completed\n",
      "single positional indexer is out-of-bounds\n",
      "[*********************100%%**********************]  1 of 1 completed\n",
      "single positional indexer is out-of-bounds\n",
      "[*********************100%%**********************]  1 of 1 completed\n",
      "single positional indexer is out-of-bounds\n",
      "[*********************100%%**********************]  1 of 1 completed\n",
      "single positional indexer is out-of-bounds\n",
      "[*********************100%%**********************]  1 of 1 completed\n",
      "single positional indexer is out-of-bounds\n",
      "[*********************100%%**********************]  1 of 1 completed\n",
      "single positional indexer is out-of-bounds\n",
      "[*********************100%%**********************]  1 of 1 completed\n",
      "single positional indexer is out-of-bounds\n",
      "[*********************100%%**********************]  1 of 1 completed\n",
      "single positional indexer is out-of-bounds\n",
      "[*********************100%%**********************]  1 of 1 completed\n",
      "single positional indexer is out-of-bounds\n",
      "[*********************100%%**********************]  1 of 1 completed\n",
      "[*********************100%%**********************]  1 of 1 completed\n",
      "[*********************100%%**********************]  1 of 1 completed\n",
      "[*********************100%%**********************]  1 of 1 completed\n",
      "single positional indexer is out-of-bounds\n",
      "[*********************100%%**********************]  1 of 1 completed\n",
      "single positional indexer is out-of-bounds\n",
      "[*********************100%%**********************]  1 of 1 completed\n",
      "single positional indexer is out-of-bounds\n",
      "[*********************100%%**********************]  1 of 1 completed\n",
      "single positional indexer is out-of-bounds\n",
      "[*********************100%%**********************]  1 of 1 completed\n",
      "single positional indexer is out-of-bounds\n",
      "[*********************100%%**********************]  1 of 1 completed\n",
      "single positional indexer is out-of-bounds\n",
      "[*********************100%%**********************]  1 of 1 completed\n",
      "single positional indexer is out-of-bounds\n",
      "[*********************100%%**********************]  1 of 1 completed\n",
      "single positional indexer is out-of-bounds\n",
      "[*********************100%%**********************]  1 of 1 completed\n",
      "single positional indexer is out-of-bounds\n",
      "[*********************100%%**********************]  1 of 1 completed\n",
      "single positional indexer is out-of-bounds\n",
      "[*********************100%%**********************]  1 of 1 completed\n",
      "single positional indexer is out-of-bounds\n",
      "[*********************100%%**********************]  1 of 1 completed\n",
      "single positional indexer is out-of-bounds\n",
      "[*********************100%%**********************]  1 of 1 completed\n",
      "[*********************100%%**********************]  1 of 1 completed\n",
      "[*********************100%%**********************]  1 of 1 completed\n",
      "[*********************100%%**********************]  1 of 1 completed\n",
      "single positional indexer is out-of-bounds\n",
      "[*********************100%%**********************]  1 of 1 completed\n",
      "single positional indexer is out-of-bounds\n",
      "[*********************100%%**********************]  1 of 1 completed\n",
      "single positional indexer is out-of-bounds\n",
      "[*********************100%%**********************]  1 of 1 completed\n",
      "single positional indexer is out-of-bounds\n",
      "[*********************100%%**********************]  1 of 1 completed\n",
      "single positional indexer is out-of-bounds\n",
      "[*********************100%%**********************]  1 of 1 completed\n",
      "single positional indexer is out-of-bounds\n",
      "[*********************100%%**********************]  1 of 1 completed\n",
      "single positional indexer is out-of-bounds\n",
      "[*********************100%%**********************]  1 of 1 completed\n",
      "single positional indexer is out-of-bounds\n",
      "[*********************100%%**********************]  1 of 1 completed\n",
      "single positional indexer is out-of-bounds\n",
      "[*********************100%%**********************]  1 of 1 completed\n",
      "single positional indexer is out-of-bounds\n",
      "[*********************100%%**********************]  1 of 1 completed\n",
      "single positional indexer is out-of-bounds\n",
      "[*********************100%%**********************]  1 of 1 completed\n",
      "single positional indexer is out-of-bounds\n",
      "[*********************100%%**********************]  1 of 1 completed"
     ]
    },
    {
     "name": "stderr",
     "output_type": "stream",
     "text": [
      "\n",
      "1 Failed download:\n",
      "['UK:BATS']: Exception('%ticker%: No timezone found, symbol may be delisted')\n"
     ]
    },
    {
     "name": "stdout",
     "output_type": "stream",
     "text": [
      "\n",
      "single positional indexer is out-of-bounds\n",
      "[*********************100%%**********************]  1 of 1 completed"
     ]
    },
    {
     "name": "stderr",
     "output_type": "stream",
     "text": [
      "\n",
      "1 Failed download:\n",
      "['UK:BATS']: Exception('%ticker%: No timezone found, symbol may be delisted')\n"
     ]
    },
    {
     "name": "stdout",
     "output_type": "stream",
     "text": [
      "\n",
      "single positional indexer is out-of-bounds\n",
      "[*********************100%%**********************]  1 of 1 completed"
     ]
    },
    {
     "name": "stderr",
     "output_type": "stream",
     "text": [
      "\n",
      "1 Failed download:\n",
      "['UK:BATS']: Exception('%ticker%: No timezone found, symbol may be delisted')\n"
     ]
    },
    {
     "name": "stdout",
     "output_type": "stream",
     "text": [
      "\n",
      "single positional indexer is out-of-bounds\n",
      "[*********************100%%**********************]  1 of 1 completed"
     ]
    },
    {
     "name": "stderr",
     "output_type": "stream",
     "text": [
      "\n",
      "1 Failed download:\n",
      "['UK:BATS']: Exception('%ticker%: No timezone found, symbol may be delisted')\n"
     ]
    },
    {
     "name": "stdout",
     "output_type": "stream",
     "text": [
      "\n",
      "single positional indexer is out-of-bounds\n",
      "[*********************100%%**********************]  1 of 1 completed"
     ]
    },
    {
     "name": "stderr",
     "output_type": "stream",
     "text": [
      "\n",
      "1 Failed download:\n",
      "['UK:BATS']: Exception('%ticker%: No timezone found, symbol may be delisted')\n"
     ]
    },
    {
     "name": "stdout",
     "output_type": "stream",
     "text": [
      "\n",
      "single positional indexer is out-of-bounds\n",
      "[*********************100%%**********************]  1 of 1 completed"
     ]
    },
    {
     "name": "stderr",
     "output_type": "stream",
     "text": [
      "\n",
      "1 Failed download:\n",
      "['UK:BATS']: Exception('%ticker%: No timezone found, symbol may be delisted')\n"
     ]
    },
    {
     "name": "stdout",
     "output_type": "stream",
     "text": [
      "\n",
      "single positional indexer is out-of-bounds\n",
      "[*********************100%%**********************]  1 of 1 completed"
     ]
    },
    {
     "name": "stderr",
     "output_type": "stream",
     "text": [
      "\n",
      "1 Failed download:\n",
      "['UK:BATS']: Exception('%ticker%: No timezone found, symbol may be delisted')\n"
     ]
    },
    {
     "name": "stdout",
     "output_type": "stream",
     "text": [
      "\n",
      "single positional indexer is out-of-bounds\n",
      "[*********************100%%**********************]  1 of 1 completed"
     ]
    },
    {
     "name": "stderr",
     "output_type": "stream",
     "text": [
      "\n",
      "1 Failed download:\n",
      "['UK:BATS']: Exception('%ticker%: No timezone found, symbol may be delisted')\n"
     ]
    },
    {
     "name": "stdout",
     "output_type": "stream",
     "text": [
      "\n",
      "single positional indexer is out-of-bounds\n",
      "[*********************100%%**********************]  1 of 1 completed"
     ]
    },
    {
     "name": "stderr",
     "output_type": "stream",
     "text": [
      "\n",
      "1 Failed download:\n",
      "['UK:BATS']: Exception('%ticker%: No timezone found, symbol may be delisted')\n"
     ]
    },
    {
     "name": "stdout",
     "output_type": "stream",
     "text": [
      "\n",
      "single positional indexer is out-of-bounds\n",
      "[*********************100%%**********************]  1 of 1 completed"
     ]
    },
    {
     "name": "stderr",
     "output_type": "stream",
     "text": [
      "\n",
      "1 Failed download:\n",
      "['UK:BATS']: Exception('%ticker%: No timezone found, symbol may be delisted')\n"
     ]
    },
    {
     "name": "stdout",
     "output_type": "stream",
     "text": [
      "\n",
      "single positional indexer is out-of-bounds\n",
      "[*********************100%%**********************]  1 of 1 completed"
     ]
    },
    {
     "name": "stderr",
     "output_type": "stream",
     "text": [
      "\n",
      "1 Failed download:\n",
      "['UK:BATS']: Exception('%ticker%: No timezone found, symbol may be delisted')\n"
     ]
    },
    {
     "name": "stdout",
     "output_type": "stream",
     "text": [
      "\n",
      "single positional indexer is out-of-bounds\n",
      "[*********************100%%**********************]  1 of 1 completed"
     ]
    },
    {
     "name": "stderr",
     "output_type": "stream",
     "text": [
      "\n",
      "1 Failed download:\n",
      "['UK:BATS']: Exception('%ticker%: No timezone found, symbol may be delisted')\n"
     ]
    },
    {
     "name": "stdout",
     "output_type": "stream",
     "text": [
      "\n",
      "single positional indexer is out-of-bounds\n",
      "[*********************100%%**********************]  1 of 1 completed"
     ]
    },
    {
     "name": "stderr",
     "output_type": "stream",
     "text": [
      "\n",
      "1 Failed download:\n",
      "['UK:BATS']: Exception('%ticker%: No timezone found, symbol may be delisted')\n"
     ]
    },
    {
     "name": "stdout",
     "output_type": "stream",
     "text": [
      "\n",
      "single positional indexer is out-of-bounds\n",
      "[*********************100%%**********************]  1 of 1 completed"
     ]
    },
    {
     "name": "stderr",
     "output_type": "stream",
     "text": [
      "\n",
      "1 Failed download:\n",
      "['UK:BATS']: Exception('%ticker%: No timezone found, symbol may be delisted')\n"
     ]
    },
    {
     "name": "stdout",
     "output_type": "stream",
     "text": [
      "\n",
      "single positional indexer is out-of-bounds\n",
      "[*********************100%%**********************]  1 of 1 completed"
     ]
    },
    {
     "name": "stderr",
     "output_type": "stream",
     "text": [
      "\n",
      "1 Failed download:\n",
      "['UK:BATS']: Exception('%ticker%: No timezone found, symbol may be delisted')\n"
     ]
    },
    {
     "name": "stdout",
     "output_type": "stream",
     "text": [
      "\n",
      "single positional indexer is out-of-bounds\n",
      "[*********************100%%**********************]  1 of 1 completed\n",
      "[*********************100%%**********************]  1 of 1 completed\n",
      "[*********************100%%**********************]  1 of 1 completed\n",
      "[*********************100%%**********************]  1 of 1 completed\n",
      "single positional indexer is out-of-bounds\n",
      "[*********************100%%**********************]  1 of 1 completed\n",
      "single positional indexer is out-of-bounds\n",
      "[*********************100%%**********************]  1 of 1 completed\n",
      "single positional indexer is out-of-bounds\n",
      "[*********************100%%**********************]  1 of 1 completed\n",
      "single positional indexer is out-of-bounds\n",
      "[*********************100%%**********************]  1 of 1 completed\n",
      "single positional indexer is out-of-bounds\n",
      "[*********************100%%**********************]  1 of 1 completed\n",
      "single positional indexer is out-of-bounds\n",
      "[*********************100%%**********************]  1 of 1 completed\n",
      "single positional indexer is out-of-bounds\n",
      "[*********************100%%**********************]  1 of 1 completed\n",
      "single positional indexer is out-of-bounds\n",
      "[*********************100%%**********************]  1 of 1 completed\n",
      "single positional indexer is out-of-bounds\n",
      "[*********************100%%**********************]  1 of 1 completed\n",
      "single positional indexer is out-of-bounds\n",
      "[*********************100%%**********************]  1 of 1 completed\n",
      "single positional indexer is out-of-bounds\n",
      "[*********************100%%**********************]  1 of 1 completed\n",
      "single positional indexer is out-of-bounds\n",
      "[*********************100%%**********************]  1 of 1 completed"
     ]
    },
    {
     "name": "stderr",
     "output_type": "stream",
     "text": [
      "\n",
      "1 Failed download:\n",
      "['CRGX']: Exception(\"%ticker%: Data doesn't exist for startDate = 1699370985, endDate = 1699457385\")\n"
     ]
    },
    {
     "name": "stdout",
     "output_type": "stream",
     "text": [
      "\n",
      "single positional indexer is out-of-bounds\n",
      "[*********************100%%**********************]  1 of 1 completed"
     ]
    },
    {
     "name": "stderr",
     "output_type": "stream",
     "text": [
      "\n",
      "1 Failed download:\n",
      "['CRGX']: Exception(\"%ticker%: Data doesn't exist for startDate = 1699370985, endDate = 1699543785\")\n"
     ]
    },
    {
     "name": "stdout",
     "output_type": "stream",
     "text": [
      "\n",
      "single positional indexer is out-of-bounds\n",
      "[*********************100%%**********************]  1 of 1 completed"
     ]
    },
    {
     "name": "stderr",
     "output_type": "stream",
     "text": [
      "\n",
      "1 Failed download:\n",
      "['CRGX']: Exception(\"%ticker%: Data doesn't exist for startDate = 1699370985, endDate = 1699630185\")\n"
     ]
    },
    {
     "name": "stdout",
     "output_type": "stream",
     "text": [
      "\n",
      "single positional indexer is out-of-bounds\n",
      "[*********************100%%**********************]  1 of 1 completed"
     ]
    },
    {
     "name": "stderr",
     "output_type": "stream",
     "text": [
      "\n",
      "1 Failed download:\n",
      "['CRGX']: Exception(\"%ticker%: Data doesn't exist for startDate = 1699370985, endDate = 1699716585\")\n"
     ]
    },
    {
     "name": "stdout",
     "output_type": "stream",
     "text": [
      "\n",
      "single positional indexer is out-of-bounds\n",
      "[*********************100%%**********************]  1 of 1 completed"
     ]
    },
    {
     "name": "stderr",
     "output_type": "stream",
     "text": [
      "\n",
      "1 Failed download:\n",
      "['CRGX']: Exception(\"%ticker%: Data doesn't exist for startDate = 1699370985, endDate = 1699802985\")\n"
     ]
    },
    {
     "name": "stdout",
     "output_type": "stream",
     "text": [
      "\n",
      "single positional indexer is out-of-bounds\n",
      "[*********************100%%**********************]  1 of 1 completed\n",
      "single positional indexer is out-of-bounds\n",
      "[*********************100%%**********************]  1 of 1 completed\n",
      "single positional indexer is out-of-bounds\n",
      "[*********************100%%**********************]  1 of 1 completed\n",
      "single positional indexer is out-of-bounds\n",
      "[*********************100%%**********************]  1 of 1 completed\n",
      "single positional indexer is out-of-bounds\n",
      "[*********************100%%**********************]  1 of 1 completed\n",
      "single positional indexer is out-of-bounds\n",
      "[*********************100%%**********************]  1 of 1 completed\n",
      "single positional indexer is out-of-bounds\n",
      "[*********************100%%**********************]  1 of 1 completed\n",
      "single positional indexer is out-of-bounds\n",
      "[*********************100%%**********************]  1 of 1 completed\n",
      "single positional indexer is out-of-bounds\n",
      "[*********************100%%**********************]  1 of 1 completed\n",
      "single positional indexer is out-of-bounds\n",
      "[*********************100%%**********************]  1 of 1 completed\n",
      "single positional indexer is out-of-bounds\n",
      "[*********************100%%**********************]  1 of 1 completed\n",
      "[*********************100%%**********************]  1 of 1 completed\n",
      "[*********************100%%**********************]  1 of 1 completed\n",
      "[*********************100%%**********************]  1 of 1 completed\n",
      "single positional indexer is out-of-bounds\n",
      "[*********************100%%**********************]  1 of 1 completed\n",
      "single positional indexer is out-of-bounds\n",
      "[*********************100%%**********************]  1 of 1 completed\n",
      "single positional indexer is out-of-bounds\n",
      "[*********************100%%**********************]  1 of 1 completed\n",
      "single positional indexer is out-of-bounds\n",
      "[*********************100%%**********************]  1 of 1 completed\n",
      "single positional indexer is out-of-bounds\n",
      "[*********************100%%**********************]  1 of 1 completed\n",
      "single positional indexer is out-of-bounds\n",
      "[*********************100%%**********************]  1 of 1 completed\n",
      "single positional indexer is out-of-bounds\n",
      "[*********************100%%**********************]  1 of 1 completed\n",
      "single positional indexer is out-of-bounds\n",
      "[*********************100%%**********************]  1 of 1 completed\n",
      "single positional indexer is out-of-bounds\n",
      "[*********************100%%**********************]  1 of 1 completed\n",
      "single positional indexer is out-of-bounds\n",
      "[*********************100%%**********************]  1 of 1 completed\n",
      "single positional indexer is out-of-bounds\n",
      "[*********************100%%**********************]  1 of 1 completed\n",
      "single positional indexer is out-of-bounds\n",
      "[*********************100%%**********************]  1 of 1 completed\n",
      "[*********************100%%**********************]  1 of 1 completed\n",
      "[*********************100%%**********************]  1 of 1 completed\n",
      "[*********************100%%**********************]  1 of 1 completed\n",
      "single positional indexer is out-of-bounds\n",
      "[*********************100%%**********************]  1 of 1 completed\n",
      "single positional indexer is out-of-bounds\n",
      "[*********************100%%**********************]  1 of 1 completed\n",
      "single positional indexer is out-of-bounds\n",
      "[*********************100%%**********************]  1 of 1 completed\n",
      "single positional indexer is out-of-bounds\n",
      "[*********************100%%**********************]  1 of 1 completed\n",
      "single positional indexer is out-of-bounds\n",
      "[*********************100%%**********************]  1 of 1 completed\n",
      "single positional indexer is out-of-bounds\n",
      "[*********************100%%**********************]  1 of 1 completed\n",
      "single positional indexer is out-of-bounds\n",
      "[*********************100%%**********************]  1 of 1 completed\n",
      "single positional indexer is out-of-bounds\n",
      "[*********************100%%**********************]  1 of 1 completed\n",
      "single positional indexer is out-of-bounds\n",
      "[*********************100%%**********************]  1 of 1 completed\n",
      "single positional indexer is out-of-bounds\n",
      "[*********************100%%**********************]  1 of 1 completed\n",
      "single positional indexer is out-of-bounds\n",
      "[*********************100%%**********************]  1 of 1 completed\n",
      "single positional indexer is out-of-bounds\n",
      "[*********************100%%**********************]  1 of 1 completed\n",
      "[*********************100%%**********************]  1 of 1 completed\n",
      "[*********************100%%**********************]  1 of 1 completed\n",
      "[*********************100%%**********************]  1 of 1 completed\n",
      "single positional indexer is out-of-bounds\n",
      "[*********************100%%**********************]  1 of 1 completed\n",
      "single positional indexer is out-of-bounds\n",
      "[*********************100%%**********************]  1 of 1 completed\n",
      "single positional indexer is out-of-bounds\n",
      "[*********************100%%**********************]  1 of 1 completed\n",
      "single positional indexer is out-of-bounds\n",
      "[*********************100%%**********************]  1 of 1 completed\n",
      "single positional indexer is out-of-bounds\n",
      "[*********************100%%**********************]  1 of 1 completed\n",
      "single positional indexer is out-of-bounds\n",
      "[*********************100%%**********************]  1 of 1 completed\n",
      "single positional indexer is out-of-bounds\n",
      "[*********************100%%**********************]  1 of 1 completed\n",
      "single positional indexer is out-of-bounds\n",
      "[*********************100%%**********************]  1 of 1 completed\n",
      "single positional indexer is out-of-bounds\n",
      "[*********************100%%**********************]  1 of 1 completed\n",
      "single positional indexer is out-of-bounds\n",
      "[*********************100%%**********************]  1 of 1 completed\n",
      "single positional indexer is out-of-bounds\n",
      "[*********************100%%**********************]  1 of 1 completed\n",
      "single positional indexer is out-of-bounds\n",
      "[*********************100%%**********************]  1 of 1 completed\n",
      "[*********************100%%**********************]  1 of 1 completed\n",
      "[*********************100%%**********************]  1 of 1 completed\n",
      "[*********************100%%**********************]  1 of 1 completed\n",
      "single positional indexer is out-of-bounds\n",
      "[*********************100%%**********************]  1 of 1 completed\n",
      "single positional indexer is out-of-bounds\n",
      "[*********************100%%**********************]  1 of 1 completed\n",
      "single positional indexer is out-of-bounds\n",
      "[*********************100%%**********************]  1 of 1 completed\n",
      "single positional indexer is out-of-bounds\n",
      "[*********************100%%**********************]  1 of 1 completed\n",
      "single positional indexer is out-of-bounds\n",
      "[*********************100%%**********************]  1 of 1 completed\n",
      "single positional indexer is out-of-bounds\n",
      "[*********************100%%**********************]  1 of 1 completed\n",
      "single positional indexer is out-of-bounds\n",
      "[*********************100%%**********************]  1 of 1 completed\n",
      "single positional indexer is out-of-bounds\n",
      "[*********************100%%**********************]  1 of 1 completed\n",
      "single positional indexer is out-of-bounds\n",
      "[*********************100%%**********************]  1 of 1 completed\n",
      "single positional indexer is out-of-bounds\n",
      "[*********************100%%**********************]  1 of 1 completed\n",
      "single positional indexer is out-of-bounds\n",
      "[*********************100%%**********************]  1 of 1 completed\n",
      "single positional indexer is out-of-bounds\n",
      "[*********************100%%**********************]  1 of 1 completed\n",
      "[*********************100%%**********************]  1 of 1 completed\n",
      "[*********************100%%**********************]  1 of 1 completed\n",
      "[*********************100%%**********************]  1 of 1 completed\n",
      "single positional indexer is out-of-bounds\n",
      "[*********************100%%**********************]  1 of 1 completed\n",
      "single positional indexer is out-of-bounds\n",
      "[*********************100%%**********************]  1 of 1 completed\n",
      "single positional indexer is out-of-bounds\n",
      "[*********************100%%**********************]  1 of 1 completed\n",
      "single positional indexer is out-of-bounds\n",
      "[*********************100%%**********************]  1 of 1 completed\n",
      "single positional indexer is out-of-bounds\n",
      "[*********************100%%**********************]  1 of 1 completed\n",
      "single positional indexer is out-of-bounds\n",
      "[*********************100%%**********************]  1 of 1 completed\n",
      "single positional indexer is out-of-bounds\n",
      "[*********************100%%**********************]  1 of 1 completed\n",
      "single positional indexer is out-of-bounds\n",
      "[*********************100%%**********************]  1 of 1 completed\n",
      "single positional indexer is out-of-bounds\n",
      "[*********************100%%**********************]  1 of 1 completed\n",
      "single positional indexer is out-of-bounds\n",
      "[*********************100%%**********************]  1 of 1 completed\n",
      "single positional indexer is out-of-bounds\n",
      "[*********************100%%**********************]  1 of 1 completed\n",
      "single positional indexer is out-of-bounds\n",
      "[*********************100%%**********************]  1 of 1 completed\n",
      "[*********************100%%**********************]  1 of 1 completed\n",
      "[*********************100%%**********************]  1 of 1 completed\n",
      "[*********************100%%**********************]  1 of 1 completed\n",
      "single positional indexer is out-of-bounds\n",
      "[*********************100%%**********************]  1 of 1 completed\n",
      "single positional indexer is out-of-bounds\n",
      "[*********************100%%**********************]  1 of 1 completed\n",
      "single positional indexer is out-of-bounds\n",
      "[*********************100%%**********************]  1 of 1 completed\n",
      "single positional indexer is out-of-bounds\n",
      "[*********************100%%**********************]  1 of 1 completed\n",
      "single positional indexer is out-of-bounds\n",
      "[*********************100%%**********************]  1 of 1 completed\n",
      "single positional indexer is out-of-bounds\n",
      "[*********************100%%**********************]  1 of 1 completed\n",
      "single positional indexer is out-of-bounds\n",
      "[*********************100%%**********************]  1 of 1 completed\n",
      "single positional indexer is out-of-bounds\n",
      "[*********************100%%**********************]  1 of 1 completed\n",
      "single positional indexer is out-of-bounds\n",
      "[*********************100%%**********************]  1 of 1 completed\n",
      "single positional indexer is out-of-bounds\n",
      "[*********************100%%**********************]  1 of 1 completed\n",
      "single positional indexer is out-of-bounds\n",
      "[*********************100%%**********************]  1 of 1 completed\n",
      "single positional indexer is out-of-bounds\n",
      "[*********************100%%**********************]  1 of 1 completed"
     ]
    },
    {
     "name": "stderr",
     "output_type": "stream",
     "text": [
      "\n",
      "1 Failed download:\n",
      "['SPX']: Exception('%ticker%: No price data found, symbol may be delisted (1d 2023-11-07 10:29:45.772448 -> 2023-11-08 10:29:45.772448)')\n"
     ]
    },
    {
     "name": "stdout",
     "output_type": "stream",
     "text": [
      "\n",
      "single positional indexer is out-of-bounds\n",
      "[*********************100%%**********************]  1 of 1 completed"
     ]
    },
    {
     "name": "stderr",
     "output_type": "stream",
     "text": [
      "\n",
      "1 Failed download:\n",
      "['SPX']: Exception('%ticker%: No price data found, symbol may be delisted (1d 2023-11-07 10:29:45.772448 -> 2023-11-09 10:29:45.772448)')\n"
     ]
    },
    {
     "name": "stdout",
     "output_type": "stream",
     "text": [
      "\n",
      "single positional indexer is out-of-bounds\n",
      "[*********************100%%**********************]  1 of 1 completed"
     ]
    },
    {
     "name": "stderr",
     "output_type": "stream",
     "text": [
      "\n",
      "1 Failed download:\n",
      "['SPX']: Exception('%ticker%: No price data found, symbol may be delisted (1d 2023-11-07 10:29:45.772448 -> 2023-11-10 10:29:45.772448)')\n"
     ]
    },
    {
     "name": "stdout",
     "output_type": "stream",
     "text": [
      "\n",
      "single positional indexer is out-of-bounds\n",
      "[*********************100%%**********************]  1 of 1 completed"
     ]
    },
    {
     "name": "stderr",
     "output_type": "stream",
     "text": [
      "\n",
      "1 Failed download:\n",
      "['SPX']: Exception('%ticker%: No price data found, symbol may be delisted (1d 2023-11-07 10:29:45.772448 -> 2023-11-11 10:29:45.772448)')\n"
     ]
    },
    {
     "name": "stdout",
     "output_type": "stream",
     "text": [
      "\n",
      "single positional indexer is out-of-bounds\n",
      "[*********************100%%**********************]  1 of 1 completed"
     ]
    },
    {
     "name": "stderr",
     "output_type": "stream",
     "text": [
      "\n",
      "1 Failed download:\n",
      "['SPX']: Exception('%ticker%: No price data found, symbol may be delisted (1d 2023-11-07 10:29:45.772448 -> 2023-11-12 10:29:45.772448)')\n"
     ]
    },
    {
     "name": "stdout",
     "output_type": "stream",
     "text": [
      "\n",
      "single positional indexer is out-of-bounds\n",
      "[*********************100%%**********************]  1 of 1 completed"
     ]
    },
    {
     "name": "stderr",
     "output_type": "stream",
     "text": [
      "\n",
      "1 Failed download:\n",
      "['SPX']: Exception('%ticker%: No price data found, symbol may be delisted (1d 2023-11-07 10:29:45.772448 -> 2023-11-13 10:29:45.772448)')\n"
     ]
    },
    {
     "name": "stdout",
     "output_type": "stream",
     "text": [
      "\n",
      "single positional indexer is out-of-bounds\n",
      "[*********************100%%**********************]  1 of 1 completed"
     ]
    },
    {
     "name": "stderr",
     "output_type": "stream",
     "text": [
      "\n",
      "1 Failed download:\n"
     ]
    },
    {
     "name": "stdout",
     "output_type": "stream",
     "text": [
      "\n"
     ]
    },
    {
     "name": "stderr",
     "output_type": "stream",
     "text": [
      "['SPX']: Exception('%ticker%: No price data found, symbol may be delisted (1d 2023-11-07 10:29:45.772448 -> 2023-11-14 10:29:45.772448)')\n"
     ]
    },
    {
     "name": "stdout",
     "output_type": "stream",
     "text": [
      "single positional indexer is out-of-bounds\n",
      "[*********************100%%**********************]  1 of 1 completed"
     ]
    },
    {
     "name": "stderr",
     "output_type": "stream",
     "text": [
      "\n",
      "1 Failed download:\n",
      "['SPX']: Exception('%ticker%: No price data found, symbol may be delisted (1d 2023-11-07 10:29:45.772448 -> 2023-11-15 10:29:45.772448)')\n"
     ]
    },
    {
     "name": "stdout",
     "output_type": "stream",
     "text": [
      "\n",
      "single positional indexer is out-of-bounds\n",
      "[*********************100%%**********************]  1 of 1 completed"
     ]
    },
    {
     "name": "stderr",
     "output_type": "stream",
     "text": [
      "\n",
      "1 Failed download:\n",
      "['SPX']: Exception('%ticker%: No price data found, symbol may be delisted (1d 2023-11-07 10:29:45.772448 -> 2023-11-16 10:29:45.772448)')\n"
     ]
    },
    {
     "name": "stdout",
     "output_type": "stream",
     "text": [
      "\n",
      "single positional indexer is out-of-bounds\n",
      "[*********************100%%**********************]  1 of 1 completed"
     ]
    },
    {
     "name": "stderr",
     "output_type": "stream",
     "text": [
      "\n",
      "1 Failed download:\n",
      "['SPX']: Exception('%ticker%: No price data found, symbol may be delisted (1d 2023-11-07 10:29:45.772448 -> 2023-11-17 10:29:45.772448)')\n"
     ]
    },
    {
     "name": "stdout",
     "output_type": "stream",
     "text": [
      "\n",
      "single positional indexer is out-of-bounds\n",
      "[*********************100%%**********************]  1 of 1 completed"
     ]
    },
    {
     "name": "stderr",
     "output_type": "stream",
     "text": [
      "\n",
      "1 Failed download:\n",
      "['SPX']: Exception('%ticker%: No price data found, symbol may be delisted (1d 2023-11-07 10:29:45.772448 -> 2023-11-18 10:29:45.772448)')\n"
     ]
    },
    {
     "name": "stdout",
     "output_type": "stream",
     "text": [
      "\n",
      "single positional indexer is out-of-bounds\n",
      "[*********************100%%**********************]  1 of 1 completed"
     ]
    },
    {
     "name": "stderr",
     "output_type": "stream",
     "text": [
      "\n",
      "1 Failed download:\n",
      "['SPX']: Exception('%ticker%: No price data found, symbol may be delisted (1d 2023-11-07 10:29:45.772448 -> 2023-11-19 10:29:45.772448)')\n"
     ]
    },
    {
     "name": "stdout",
     "output_type": "stream",
     "text": [
      "\n",
      "single positional indexer is out-of-bounds\n",
      "[*********************100%%**********************]  1 of 1 completed"
     ]
    },
    {
     "name": "stderr",
     "output_type": "stream",
     "text": [
      "\n",
      "1 Failed download:\n",
      "['SPX']: Exception('%ticker%: No price data found, symbol may be delisted (1d 2023-11-07 10:29:45.772448 -> 2023-11-20 10:29:45.772448)')\n"
     ]
    },
    {
     "name": "stdout",
     "output_type": "stream",
     "text": [
      "\n",
      "single positional indexer is out-of-bounds\n",
      "[*********************100%%**********************]  1 of 1 completed"
     ]
    },
    {
     "name": "stderr",
     "output_type": "stream",
     "text": [
      "\n",
      "1 Failed download:\n",
      "['SPX']: Exception('%ticker%: No price data found, symbol may be delisted (1d 2023-11-07 10:29:45.772448 -> 2023-11-21 10:29:45.772448)')\n"
     ]
    },
    {
     "name": "stdout",
     "output_type": "stream",
     "text": [
      "\n",
      "single positional indexer is out-of-bounds\n",
      "[*********************100%%**********************]  1 of 1 completed"
     ]
    },
    {
     "name": "stderr",
     "output_type": "stream",
     "text": [
      "\n",
      "1 Failed download:\n",
      "['SPX']: Exception('%ticker%: No price data found, symbol may be delisted (1d 2023-11-07 10:29:45.772448 -> 2023-11-22 10:29:45.772448)')\n"
     ]
    },
    {
     "name": "stdout",
     "output_type": "stream",
     "text": [
      "\n",
      "single positional indexer is out-of-bounds\n",
      "[*********************100%%**********************]  1 of 1 completed"
     ]
    },
    {
     "name": "stderr",
     "output_type": "stream",
     "text": [
      "\n",
      "1 Failed download:\n",
      "['INDU']: Exception('%ticker%: No price data found, symbol may be delisted (1d 2023-11-27 17:19:08.010571 -> 2023-11-28 17:19:08.010571)')\n"
     ]
    },
    {
     "name": "stdout",
     "output_type": "stream",
     "text": [
      "\n",
      "single positional indexer is out-of-bounds\n",
      "[*********************100%%**********************]  1 of 1 completed"
     ]
    },
    {
     "name": "stderr",
     "output_type": "stream",
     "text": [
      "\n",
      "1 Failed download:\n",
      "['INDU']: Exception('%ticker%: No price data found, symbol may be delisted (1d 2023-11-27 17:19:08.010571 -> 2023-11-29 17:19:08.010571)')\n"
     ]
    },
    {
     "name": "stdout",
     "output_type": "stream",
     "text": [
      "\n",
      "single positional indexer is out-of-bounds\n",
      "[*********************100%%**********************]  1 of 1 completed"
     ]
    },
    {
     "name": "stderr",
     "output_type": "stream",
     "text": [
      "\n",
      "1 Failed download:\n",
      "['INDU']: Exception('%ticker%: No price data found, symbol may be delisted (1d 2023-11-27 17:19:08.010571 -> 2023-11-30 17:19:08.010571)')\n"
     ]
    },
    {
     "name": "stdout",
     "output_type": "stream",
     "text": [
      "\n",
      "single positional indexer is out-of-bounds\n",
      "[*********************100%%**********************]  1 of 1 completed"
     ]
    },
    {
     "name": "stderr",
     "output_type": "stream",
     "text": [
      "\n",
      "1 Failed download:\n",
      "['INDU']: Exception('%ticker%: No price data found, symbol may be delisted (1d 2023-11-27 17:19:08.010571 -> 2023-12-01 17:19:08.010571)')\n"
     ]
    },
    {
     "name": "stdout",
     "output_type": "stream",
     "text": [
      "\n",
      "single positional indexer is out-of-bounds\n",
      "[*********************100%%**********************]  1 of 1 completed"
     ]
    },
    {
     "name": "stderr",
     "output_type": "stream",
     "text": [
      "\n",
      "1 Failed download:\n",
      "['INDU']: Exception('%ticker%: No price data found, symbol may be delisted (1d 2023-11-27 17:19:08.010571 -> 2023-12-02 17:19:08.010571)')\n"
     ]
    },
    {
     "name": "stdout",
     "output_type": "stream",
     "text": [
      "\n",
      "single positional indexer is out-of-bounds\n",
      "[*********************100%%**********************]  1 of 1 completed"
     ]
    },
    {
     "name": "stderr",
     "output_type": "stream",
     "text": [
      "\n",
      "1 Failed download:\n",
      "['INDU']: Exception('%ticker%: No price data found, symbol may be delisted (1d 2023-11-27 17:19:08.010571 -> 2023-12-03 17:19:08.010571)')\n"
     ]
    },
    {
     "name": "stdout",
     "output_type": "stream",
     "text": [
      "\n",
      "single positional indexer is out-of-bounds\n",
      "[*********************100%%**********************]  1 of 1 completed"
     ]
    },
    {
     "name": "stderr",
     "output_type": "stream",
     "text": [
      "\n",
      "1 Failed download:\n",
      "['INDU']: Exception('%ticker%: No price data found, symbol may be delisted (1d 2023-11-27 17:19:08.010571 -> 2023-12-04 17:19:08.010571)')\n"
     ]
    },
    {
     "name": "stdout",
     "output_type": "stream",
     "text": [
      "\n",
      "single positional indexer is out-of-bounds\n",
      "[*********************100%%**********************]  1 of 1 completed"
     ]
    },
    {
     "name": "stderr",
     "output_type": "stream",
     "text": [
      "\n",
      "1 Failed download:\n",
      "['INDU']: Exception('%ticker%: No price data found, symbol may be delisted (1d 2023-11-27 17:19:08.010571 -> 2023-12-05 17:19:08.010571)')\n"
     ]
    },
    {
     "name": "stdout",
     "output_type": "stream",
     "text": [
      "\n",
      "single positional indexer is out-of-bounds\n",
      "[*********************100%%**********************]  1 of 1 completed"
     ]
    },
    {
     "name": "stderr",
     "output_type": "stream",
     "text": [
      "\n",
      "1 Failed download:\n",
      "['INDU']: Exception('%ticker%: No price data found, symbol may be delisted (1d 2023-11-27 17:19:08.010571 -> 2023-12-06 17:19:08.010571)')\n"
     ]
    },
    {
     "name": "stdout",
     "output_type": "stream",
     "text": [
      "\n",
      "single positional indexer is out-of-bounds\n",
      "[*********************100%%**********************]  1 of 1 completed"
     ]
    },
    {
     "name": "stderr",
     "output_type": "stream",
     "text": [
      "\n",
      "1 Failed download:\n",
      "['INDU']: Exception('%ticker%: No price data found, symbol may be delisted (1d 2023-11-27 17:19:08.010571 -> 2023-12-07 17:19:08.010571)')\n"
     ]
    },
    {
     "name": "stdout",
     "output_type": "stream",
     "text": [
      "\n",
      "single positional indexer is out-of-bounds\n",
      "[*********************100%%**********************]  1 of 1 completed"
     ]
    },
    {
     "name": "stderr",
     "output_type": "stream",
     "text": [
      "\n",
      "1 Failed download:\n",
      "['INDU']: Exception('%ticker%: No price data found, symbol may be delisted (1d 2023-11-27 17:19:08.010571 -> 2023-12-08 17:19:08.010571)')\n"
     ]
    },
    {
     "name": "stdout",
     "output_type": "stream",
     "text": [
      "\n",
      "single positional indexer is out-of-bounds\n",
      "[*********************100%%**********************]  1 of 1 completed"
     ]
    },
    {
     "name": "stderr",
     "output_type": "stream",
     "text": [
      "\n",
      "1 Failed download:\n",
      "['INDU']: Exception('%ticker%: No price data found, symbol may be delisted (1d 2023-11-27 17:19:08.010571 -> 2023-12-09 17:19:08.010571)')\n"
     ]
    },
    {
     "name": "stdout",
     "output_type": "stream",
     "text": [
      "\n",
      "single positional indexer is out-of-bounds\n",
      "[*********************100%%**********************]  1 of 1 completed"
     ]
    },
    {
     "name": "stderr",
     "output_type": "stream",
     "text": [
      "\n",
      "1 Failed download:\n",
      "['INDU']: Exception('%ticker%: No price data found, symbol may be delisted (1d 2023-11-27 17:19:08.010571 -> 2023-12-10 17:19:08.010571)')\n"
     ]
    },
    {
     "name": "stdout",
     "output_type": "stream",
     "text": [
      "\n",
      "single positional indexer is out-of-bounds\n",
      "[*********************100%%**********************]  1 of 1 completed"
     ]
    },
    {
     "name": "stderr",
     "output_type": "stream",
     "text": [
      "\n",
      "1 Failed download:\n",
      "['INDU']: Exception('%ticker%: No price data found, symbol may be delisted (1d 2023-11-27 17:19:08.010571 -> 2023-12-11 17:19:08.010571)')\n"
     ]
    },
    {
     "name": "stdout",
     "output_type": "stream",
     "text": [
      "\n",
      "single positional indexer is out-of-bounds\n",
      "[*********************100%%**********************]  1 of 1 completed"
     ]
    },
    {
     "name": "stderr",
     "output_type": "stream",
     "text": [
      "\n",
      "1 Failed download:\n",
      "['INDU']: Exception('%ticker%: No price data found, symbol may be delisted (1d 2023-11-27 17:19:08.010571 -> 2023-12-12 17:19:08.010571)')\n"
     ]
    },
    {
     "name": "stdout",
     "output_type": "stream",
     "text": [
      "\n",
      "single positional indexer is out-of-bounds\n",
      "[*********************100%%**********************]  1 of 1 completed\n",
      "[*********************100%%**********************]  1 of 1 completed\n",
      "[*********************100%%**********************]  1 of 1 completed\n",
      "[*********************100%%**********************]  1 of 1 completed\n",
      "[*********************100%%**********************]  1 of 1 completed\n",
      "single positional indexer is out-of-bounds\n",
      "[*********************100%%**********************]  1 of 1 completed\n",
      "single positional indexer is out-of-bounds\n",
      "[*********************100%%**********************]  1 of 1 completed\n",
      "single positional indexer is out-of-bounds\n",
      "[*********************100%%**********************]  1 of 1 completed\n",
      "single positional indexer is out-of-bounds\n",
      "[*********************100%%**********************]  1 of 1 completed\n",
      "single positional indexer is out-of-bounds\n",
      "[*********************100%%**********************]  1 of 1 completed\n",
      "single positional indexer is out-of-bounds\n",
      "[*********************100%%**********************]  1 of 1 completed\n",
      "single positional indexer is out-of-bounds\n",
      "[*********************100%%**********************]  1 of 1 completed\n",
      "single positional indexer is out-of-bounds\n",
      "[*********************100%%**********************]  1 of 1 completed\n",
      "single positional indexer is out-of-bounds\n",
      "[*********************100%%**********************]  1 of 1 completed\n",
      "single positional indexer is out-of-bounds\n",
      "[*********************100%%**********************]  1 of 1 completed\n",
      "single positional indexer is out-of-bounds\n",
      "[*********************100%%**********************]  1 of 1 completed\n",
      "[*********************100%%**********************]  1 of 1 completed\n",
      "[*********************100%%**********************]  1 of 1 completed\n",
      "[*********************100%%**********************]  1 of 1 completed\n",
      "[*********************100%%**********************]  1 of 1 completed\n",
      "single positional indexer is out-of-bounds\n",
      "[*********************100%%**********************]  1 of 1 completed\n",
      "single positional indexer is out-of-bounds\n",
      "[*********************100%%**********************]  1 of 1 completed\n",
      "single positional indexer is out-of-bounds\n",
      "[*********************100%%**********************]  1 of 1 completed\n",
      "single positional indexer is out-of-bounds\n",
      "[*********************100%%**********************]  1 of 1 completed\n",
      "single positional indexer is out-of-bounds\n",
      "[*********************100%%**********************]  1 of 1 completed\n",
      "single positional indexer is out-of-bounds\n",
      "[*********************100%%**********************]  1 of 1 completed\n",
      "single positional indexer is out-of-bounds\n",
      "[*********************100%%**********************]  1 of 1 completed\n",
      "single positional indexer is out-of-bounds\n",
      "[*********************100%%**********************]  1 of 1 completed\n",
      "single positional indexer is out-of-bounds\n",
      "[*********************100%%**********************]  1 of 1 completed\n",
      "single positional indexer is out-of-bounds\n",
      "[*********************100%%**********************]  1 of 1 completed\n",
      "single positional indexer is out-of-bounds\n",
      "[*********************100%%**********************]  1 of 1 completed\n",
      "[*********************100%%**********************]  1 of 1 completed\n",
      "[*********************100%%**********************]  1 of 1 completed\n",
      "[*********************100%%**********************]  1 of 1 completed\n",
      "[*********************100%%**********************]  1 of 1 completed\n",
      "single positional indexer is out-of-bounds\n",
      "[*********************100%%**********************]  1 of 1 completed\n",
      "single positional indexer is out-of-bounds\n",
      "[*********************100%%**********************]  1 of 1 completed\n",
      "single positional indexer is out-of-bounds\n",
      "[*********************100%%**********************]  1 of 1 completed\n",
      "single positional indexer is out-of-bounds\n",
      "[*********************100%%**********************]  1 of 1 completed\n",
      "single positional indexer is out-of-bounds\n",
      "[*********************100%%**********************]  1 of 1 completed\n",
      "single positional indexer is out-of-bounds\n",
      "[*********************100%%**********************]  1 of 1 completed\n",
      "single positional indexer is out-of-bounds\n",
      "[*********************100%%**********************]  1 of 1 completed\n",
      "single positional indexer is out-of-bounds\n",
      "[*********************100%%**********************]  1 of 1 completed\n",
      "single positional indexer is out-of-bounds\n",
      "[*********************100%%**********************]  1 of 1 completed\n",
      "single positional indexer is out-of-bounds\n",
      "[*********************100%%**********************]  1 of 1 completed\n",
      "single positional indexer is out-of-bounds\n",
      "[*********************100%%**********************]  1 of 1 completed\n",
      "[*********************100%%**********************]  1 of 1 completed\n",
      "[*********************100%%**********************]  1 of 1 completed\n",
      "[*********************100%%**********************]  1 of 1 completed\n",
      "[*********************100%%**********************]  1 of 1 completed\n",
      "single positional indexer is out-of-bounds\n",
      "[*********************100%%**********************]  1 of 1 completed\n",
      "single positional indexer is out-of-bounds\n",
      "[*********************100%%**********************]  1 of 1 completed\n",
      "single positional indexer is out-of-bounds\n",
      "[*********************100%%**********************]  1 of 1 completed\n",
      "single positional indexer is out-of-bounds\n",
      "[*********************100%%**********************]  1 of 1 completed\n",
      "single positional indexer is out-of-bounds\n",
      "[*********************100%%**********************]  1 of 1 completed\n",
      "single positional indexer is out-of-bounds\n",
      "[*********************100%%**********************]  1 of 1 completed\n",
      "single positional indexer is out-of-bounds\n",
      "[*********************100%%**********************]  1 of 1 completed\n",
      "single positional indexer is out-of-bounds\n",
      "[*********************100%%**********************]  1 of 1 completed\n",
      "single positional indexer is out-of-bounds\n",
      "[*********************100%%**********************]  1 of 1 completed\n",
      "single positional indexer is out-of-bounds\n",
      "[*********************100%%**********************]  1 of 1 completed\n",
      "single positional indexer is out-of-bounds\n",
      "[*********************100%%**********************]  1 of 1 completed\n",
      "[*********************100%%**********************]  1 of 1 completed\n",
      "[*********************100%%**********************]  1 of 1 completed\n",
      "[*********************100%%**********************]  1 of 1 completed\n",
      "[*********************100%%**********************]  1 of 1 completed\n",
      "single positional indexer is out-of-bounds\n",
      "[*********************100%%**********************]  1 of 1 completed\n",
      "single positional indexer is out-of-bounds\n",
      "[*********************100%%**********************]  1 of 1 completed\n",
      "single positional indexer is out-of-bounds\n",
      "[*********************100%%**********************]  1 of 1 completed\n",
      "single positional indexer is out-of-bounds\n",
      "[*********************100%%**********************]  1 of 1 completed\n",
      "single positional indexer is out-of-bounds\n",
      "[*********************100%%**********************]  1 of 1 completed\n",
      "single positional indexer is out-of-bounds\n",
      "[*********************100%%**********************]  1 of 1 completed\n",
      "single positional indexer is out-of-bounds\n",
      "[*********************100%%**********************]  1 of 1 completed\n",
      "single positional indexer is out-of-bounds\n",
      "[*********************100%%**********************]  1 of 1 completed\n",
      "single positional indexer is out-of-bounds\n",
      "[*********************100%%**********************]  1 of 1 completed\n",
      "single positional indexer is out-of-bounds\n",
      "[*********************100%%**********************]  1 of 1 completed\n",
      "single positional indexer is out-of-bounds\n",
      "[*********************100%%**********************]  1 of 1 completed\n",
      "[*********************100%%**********************]  1 of 1 completed\n",
      "[*********************100%%**********************]  1 of 1 completed\n",
      "[*********************100%%**********************]  1 of 1 completed\n",
      "[*********************100%%**********************]  1 of 1 completed\n",
      "single positional indexer is out-of-bounds\n",
      "[*********************100%%**********************]  1 of 1 completed\n",
      "single positional indexer is out-of-bounds\n",
      "[*********************100%%**********************]  1 of 1 completed\n",
      "single positional indexer is out-of-bounds\n",
      "[*********************100%%**********************]  1 of 1 completed\n",
      "single positional indexer is out-of-bounds\n",
      "[*********************100%%**********************]  1 of 1 completed\n",
      "single positional indexer is out-of-bounds\n",
      "[*********************100%%**********************]  1 of 1 completed\n",
      "single positional indexer is out-of-bounds\n",
      "[*********************100%%**********************]  1 of 1 completed\n",
      "single positional indexer is out-of-bounds\n",
      "[*********************100%%**********************]  1 of 1 completed\n",
      "single positional indexer is out-of-bounds\n",
      "[*********************100%%**********************]  1 of 1 completed\n",
      "single positional indexer is out-of-bounds\n",
      "[*********************100%%**********************]  1 of 1 completed\n",
      "single positional indexer is out-of-bounds\n",
      "[*********************100%%**********************]  1 of 1 completed\n",
      "single positional indexer is out-of-bounds\n",
      "[*********************100%%**********************]  1 of 1 completed\n",
      "[*********************100%%**********************]  1 of 1 completed\n",
      "[*********************100%%**********************]  1 of 1 completed\n",
      "[*********************100%%**********************]  1 of 1 completed\n",
      "[*********************100%%**********************]  1 of 1 completed\n",
      "single positional indexer is out-of-bounds\n",
      "[*********************100%%**********************]  1 of 1 completed\n",
      "single positional indexer is out-of-bounds\n",
      "[*********************100%%**********************]  1 of 1 completed\n",
      "single positional indexer is out-of-bounds\n",
      "[*********************100%%**********************]  1 of 1 completed\n",
      "single positional indexer is out-of-bounds\n",
      "[*********************100%%**********************]  1 of 1 completed\n",
      "single positional indexer is out-of-bounds\n",
      "[*********************100%%**********************]  1 of 1 completed\n",
      "single positional indexer is out-of-bounds\n",
      "[*********************100%%**********************]  1 of 1 completed\n",
      "single positional indexer is out-of-bounds\n",
      "[*********************100%%**********************]  1 of 1 completed\n",
      "single positional indexer is out-of-bounds\n",
      "[*********************100%%**********************]  1 of 1 completed\n",
      "single positional indexer is out-of-bounds\n",
      "[*********************100%%**********************]  1 of 1 completed\n",
      "single positional indexer is out-of-bounds\n",
      "[*********************100%%**********************]  1 of 1 completed\n",
      "single positional indexer is out-of-bounds\n",
      "[*********************100%%**********************]  1 of 1 completed\n",
      "[*********************100%%**********************]  1 of 1 completed\n",
      "[*********************100%%**********************]  1 of 1 completed\n",
      "[*********************100%%**********************]  1 of 1 completed\n",
      "[*********************100%%**********************]  1 of 1 completed\n",
      "single positional indexer is out-of-bounds\n",
      "[*********************100%%**********************]  1 of 1 completed\n",
      "single positional indexer is out-of-bounds\n",
      "[*********************100%%**********************]  1 of 1 completed\n",
      "single positional indexer is out-of-bounds\n",
      "[*********************100%%**********************]  1 of 1 completed\n",
      "single positional indexer is out-of-bounds\n",
      "[*********************100%%**********************]  1 of 1 completed\n",
      "single positional indexer is out-of-bounds\n",
      "[*********************100%%**********************]  1 of 1 completed\n",
      "single positional indexer is out-of-bounds\n",
      "[*********************100%%**********************]  1 of 1 completed\n",
      "single positional indexer is out-of-bounds\n",
      "[*********************100%%**********************]  1 of 1 completed\n",
      "single positional indexer is out-of-bounds\n",
      "[*********************100%%**********************]  1 of 1 completed\n",
      "single positional indexer is out-of-bounds\n",
      "[*********************100%%**********************]  1 of 1 completed\n",
      "single positional indexer is out-of-bounds\n",
      "[*********************100%%**********************]  1 of 1 completed\n",
      "single positional indexer is out-of-bounds\n",
      "[*********************100%%**********************]  1 of 1 completed\n",
      "[*********************100%%**********************]  1 of 1 completed\n",
      "[*********************100%%**********************]  1 of 1 completed\n",
      "[*********************100%%**********************]  1 of 1 completed\n",
      "[*********************100%%**********************]  1 of 1 completed\n",
      "single positional indexer is out-of-bounds\n",
      "[*********************100%%**********************]  1 of 1 completed\n",
      "single positional indexer is out-of-bounds\n",
      "[*********************100%%**********************]  1 of 1 completed\n",
      "single positional indexer is out-of-bounds\n",
      "[*********************100%%**********************]  1 of 1 completed\n",
      "single positional indexer is out-of-bounds\n",
      "[*********************100%%**********************]  1 of 1 completed\n",
      "single positional indexer is out-of-bounds\n",
      "[*********************100%%**********************]  1 of 1 completed\n",
      "single positional indexer is out-of-bounds\n",
      "[*********************100%%**********************]  1 of 1 completed\n",
      "single positional indexer is out-of-bounds\n",
      "[*********************100%%**********************]  1 of 1 completed\n",
      "single positional indexer is out-of-bounds\n",
      "[*********************100%%**********************]  1 of 1 completed\n",
      "single positional indexer is out-of-bounds\n",
      "[*********************100%%**********************]  1 of 1 completed\n",
      "single positional indexer is out-of-bounds\n",
      "[*********************100%%**********************]  1 of 1 completed\n",
      "single positional indexer is out-of-bounds\n",
      "[*********************100%%**********************]  1 of 1 completed\n",
      "[*********************100%%**********************]  1 of 1 completed\n",
      "[*********************100%%**********************]  1 of 1 completed\n",
      "[*********************100%%**********************]  1 of 1 completed\n",
      "[*********************100%%**********************]  1 of 1 completed\n",
      "single positional indexer is out-of-bounds\n",
      "[*********************100%%**********************]  1 of 1 completed\n",
      "single positional indexer is out-of-bounds\n",
      "[*********************100%%**********************]  1 of 1 completed\n",
      "single positional indexer is out-of-bounds\n",
      "[*********************100%%**********************]  1 of 1 completed\n",
      "single positional indexer is out-of-bounds\n",
      "[*********************100%%**********************]  1 of 1 completed\n",
      "single positional indexer is out-of-bounds\n",
      "[*********************100%%**********************]  1 of 1 completed\n",
      "single positional indexer is out-of-bounds\n",
      "[*********************100%%**********************]  1 of 1 completed\n",
      "single positional indexer is out-of-bounds\n",
      "[*********************100%%**********************]  1 of 1 completed\n",
      "single positional indexer is out-of-bounds\n",
      "[*********************100%%**********************]  1 of 1 completed\n",
      "single positional indexer is out-of-bounds\n",
      "[*********************100%%**********************]  1 of 1 completed\n",
      "single positional indexer is out-of-bounds\n",
      "[*********************100%%**********************]  1 of 1 completed\n",
      "single positional indexer is out-of-bounds\n",
      "[*********************100%%**********************]  1 of 1 completed\n",
      "[*********************100%%**********************]  1 of 1 completed\n",
      "[*********************100%%**********************]  1 of 1 completed\n",
      "[*********************100%%**********************]  1 of 1 completed\n",
      "[*********************100%%**********************]  1 of 1 completed\n",
      "single positional indexer is out-of-bounds\n",
      "[*********************100%%**********************]  1 of 1 completed\n",
      "single positional indexer is out-of-bounds\n",
      "[*********************100%%**********************]  1 of 1 completed\n",
      "single positional indexer is out-of-bounds\n",
      "[*********************100%%**********************]  1 of 1 completed\n",
      "single positional indexer is out-of-bounds\n",
      "[*********************100%%**********************]  1 of 1 completed\n",
      "single positional indexer is out-of-bounds\n",
      "[*********************100%%**********************]  1 of 1 completed\n",
      "single positional indexer is out-of-bounds\n",
      "[*********************100%%**********************]  1 of 1 completed\n",
      "single positional indexer is out-of-bounds\n",
      "[*********************100%%**********************]  1 of 1 completed\n",
      "single positional indexer is out-of-bounds\n",
      "[*********************100%%**********************]  1 of 1 completed\n",
      "single positional indexer is out-of-bounds\n",
      "[*********************100%%**********************]  1 of 1 completed\n",
      "single positional indexer is out-of-bounds\n",
      "[*********************100%%**********************]  1 of 1 completed\n",
      "single positional indexer is out-of-bounds\n",
      "[*********************100%%**********************]  1 of 1 completed\n",
      "[*********************100%%**********************]  1 of 1 completed\n",
      "[*********************100%%**********************]  1 of 1 completed\n",
      "[*********************100%%**********************]  1 of 1 completed\n",
      "[*********************100%%**********************]  1 of 1 completed\n",
      "single positional indexer is out-of-bounds\n",
      "[*********************100%%**********************]  1 of 1 completed\n",
      "single positional indexer is out-of-bounds\n",
      "[*********************100%%**********************]  1 of 1 completed\n",
      "single positional indexer is out-of-bounds\n",
      "[*********************100%%**********************]  1 of 1 completed\n",
      "single positional indexer is out-of-bounds\n",
      "[*********************100%%**********************]  1 of 1 completed\n",
      "single positional indexer is out-of-bounds\n",
      "[*********************100%%**********************]  1 of 1 completed\n",
      "single positional indexer is out-of-bounds\n",
      "[*********************100%%**********************]  1 of 1 completed\n",
      "single positional indexer is out-of-bounds\n",
      "[*********************100%%**********************]  1 of 1 completed\n",
      "single positional indexer is out-of-bounds\n",
      "[*********************100%%**********************]  1 of 1 completed\n",
      "single positional indexer is out-of-bounds\n",
      "[*********************100%%**********************]  1 of 1 completed\n",
      "single positional indexer is out-of-bounds\n",
      "[*********************100%%**********************]  1 of 1 completed\n",
      "single positional indexer is out-of-bounds\n",
      "[*********************100%%**********************]  1 of 1 completed\n",
      "[*********************100%%**********************]  1 of 1 completed\n",
      "[*********************100%%**********************]  1 of 1 completed\n",
      "[*********************100%%**********************]  1 of 1 completed\n",
      "[*********************100%%**********************]  1 of 1 completed\n",
      "single positional indexer is out-of-bounds\n",
      "[*********************100%%**********************]  1 of 1 completed\n",
      "single positional indexer is out-of-bounds\n",
      "[*********************100%%**********************]  1 of 1 completed\n",
      "single positional indexer is out-of-bounds\n",
      "[*********************100%%**********************]  1 of 1 completed\n",
      "single positional indexer is out-of-bounds\n",
      "[*********************100%%**********************]  1 of 1 completed\n",
      "single positional indexer is out-of-bounds\n",
      "[*********************100%%**********************]  1 of 1 completed\n",
      "single positional indexer is out-of-bounds\n",
      "[*********************100%%**********************]  1 of 1 completed\n",
      "single positional indexer is out-of-bounds\n",
      "[*********************100%%**********************]  1 of 1 completed\n",
      "single positional indexer is out-of-bounds\n",
      "[*********************100%%**********************]  1 of 1 completed\n",
      "single positional indexer is out-of-bounds\n",
      "[*********************100%%**********************]  1 of 1 completed\n",
      "single positional indexer is out-of-bounds\n",
      "[*********************100%%**********************]  1 of 1 completed\n",
      "single positional indexer is out-of-bounds\n",
      "[*********************100%%**********************]  1 of 1 completed\n",
      "[*********************100%%**********************]  1 of 1 completed\n",
      "[*********************100%%**********************]  1 of 1 completed\n",
      "[*********************100%%**********************]  1 of 1 completed\n",
      "[*********************100%%**********************]  1 of 1 completed\n",
      "single positional indexer is out-of-bounds\n",
      "[*********************100%%**********************]  1 of 1 completed\n",
      "single positional indexer is out-of-bounds\n",
      "[*********************100%%**********************]  1 of 1 completed\n",
      "single positional indexer is out-of-bounds\n",
      "[*********************100%%**********************]  1 of 1 completed\n",
      "single positional indexer is out-of-bounds\n",
      "[*********************100%%**********************]  1 of 1 completed\n",
      "single positional indexer is out-of-bounds\n",
      "[*********************100%%**********************]  1 of 1 completed\n",
      "single positional indexer is out-of-bounds\n",
      "[*********************100%%**********************]  1 of 1 completed\n",
      "single positional indexer is out-of-bounds\n",
      "[*********************100%%**********************]  1 of 1 completed\n",
      "single positional indexer is out-of-bounds\n",
      "[*********************100%%**********************]  1 of 1 completed\n",
      "single positional indexer is out-of-bounds\n",
      "[*********************100%%**********************]  1 of 1 completed\n",
      "single positional indexer is out-of-bounds\n",
      "[*********************100%%**********************]  1 of 1 completed\n",
      "single positional indexer is out-of-bounds\n",
      "[*********************100%%**********************]  1 of 1 completed"
     ]
    },
    {
     "name": "stderr",
     "output_type": "stream",
     "text": [
      "\n",
      "1 Failed download:\n"
     ]
    },
    {
     "name": "stdout",
     "output_type": "stream",
     "text": [
      "\n"
     ]
    },
    {
     "name": "stderr",
     "output_type": "stream",
     "text": [
      "['$INDU']: Exception('%ticker%: No timezone found, symbol may be delisted')\n"
     ]
    },
    {
     "name": "stdout",
     "output_type": "stream",
     "text": [
      "single positional indexer is out-of-bounds\n",
      "[*********************100%%**********************]  1 of 1 completed"
     ]
    },
    {
     "name": "stderr",
     "output_type": "stream",
     "text": [
      "\n",
      "1 Failed download:\n",
      "['$INDU']: Exception('%ticker%: No timezone found, symbol may be delisted')\n"
     ]
    },
    {
     "name": "stdout",
     "output_type": "stream",
     "text": [
      "\n",
      "single positional indexer is out-of-bounds\n",
      "[*********************100%%**********************]  1 of 1 completed"
     ]
    },
    {
     "name": "stderr",
     "output_type": "stream",
     "text": [
      "\n",
      "1 Failed download:\n",
      "['$INDU']: Exception('%ticker%: No timezone found, symbol may be delisted')\n"
     ]
    },
    {
     "name": "stdout",
     "output_type": "stream",
     "text": [
      "\n",
      "single positional indexer is out-of-bounds\n",
      "[*********************100%%**********************]  1 of 1 completed"
     ]
    },
    {
     "name": "stderr",
     "output_type": "stream",
     "text": [
      "\n",
      "1 Failed download:\n",
      "['$INDU']: Exception('%ticker%: No timezone found, symbol may be delisted')\n"
     ]
    },
    {
     "name": "stdout",
     "output_type": "stream",
     "text": [
      "\n",
      "single positional indexer is out-of-bounds\n",
      "[*********************100%%**********************]  1 of 1 completed"
     ]
    },
    {
     "name": "stderr",
     "output_type": "stream",
     "text": [
      "\n",
      "1 Failed download:\n",
      "['$INDU']: Exception('%ticker%: No timezone found, symbol may be delisted')\n"
     ]
    },
    {
     "name": "stdout",
     "output_type": "stream",
     "text": [
      "\n",
      "single positional indexer is out-of-bounds\n",
      "[*********************100%%**********************]  1 of 1 completed"
     ]
    },
    {
     "name": "stderr",
     "output_type": "stream",
     "text": [
      "\n",
      "1 Failed download:\n",
      "['$INDU']: Exception('%ticker%: No timezone found, symbol may be delisted')\n"
     ]
    },
    {
     "name": "stdout",
     "output_type": "stream",
     "text": [
      "\n",
      "single positional indexer is out-of-bounds\n",
      "[*********************100%%**********************]  1 of 1 completed"
     ]
    },
    {
     "name": "stderr",
     "output_type": "stream",
     "text": [
      "\n",
      "1 Failed download:\n",
      "['$INDU']: Exception('%ticker%: No timezone found, symbol may be delisted')\n"
     ]
    },
    {
     "name": "stdout",
     "output_type": "stream",
     "text": [
      "\n",
      "single positional indexer is out-of-bounds\n",
      "[*********************100%%**********************]  1 of 1 completed"
     ]
    },
    {
     "name": "stderr",
     "output_type": "stream",
     "text": [
      "\n",
      "1 Failed download:\n",
      "['$INDU']: Exception('%ticker%: No timezone found, symbol may be delisted')\n"
     ]
    },
    {
     "name": "stdout",
     "output_type": "stream",
     "text": [
      "\n",
      "single positional indexer is out-of-bounds\n",
      "[*********************100%%**********************]  1 of 1 completed"
     ]
    },
    {
     "name": "stderr",
     "output_type": "stream",
     "text": [
      "\n",
      "1 Failed download:\n",
      "['$INDU']: Exception('%ticker%: No timezone found, symbol may be delisted')\n"
     ]
    },
    {
     "name": "stdout",
     "output_type": "stream",
     "text": [
      "\n",
      "single positional indexer is out-of-bounds\n",
      "[*********************100%%**********************]  1 of 1 completed"
     ]
    },
    {
     "name": "stderr",
     "output_type": "stream",
     "text": [
      "\n",
      "1 Failed download:\n",
      "['$INDU']: Exception('%ticker%: No timezone found, symbol may be delisted')\n"
     ]
    },
    {
     "name": "stdout",
     "output_type": "stream",
     "text": [
      "\n",
      "single positional indexer is out-of-bounds\n",
      "[*********************100%%**********************]  1 of 1 completed"
     ]
    },
    {
     "name": "stderr",
     "output_type": "stream",
     "text": [
      "\n",
      "1 Failed download:\n",
      "['$INDU']: Exception('%ticker%: No timezone found, symbol may be delisted')\n"
     ]
    },
    {
     "name": "stdout",
     "output_type": "stream",
     "text": [
      "\n",
      "single positional indexer is out-of-bounds\n",
      "[*********************100%%**********************]  1 of 1 completed"
     ]
    },
    {
     "name": "stderr",
     "output_type": "stream",
     "text": [
      "\n",
      "1 Failed download:\n",
      "['$INDU']: Exception('%ticker%: No timezone found, symbol may be delisted')\n"
     ]
    },
    {
     "name": "stdout",
     "output_type": "stream",
     "text": [
      "\n",
      "single positional indexer is out-of-bounds\n",
      "[*********************100%%**********************]  1 of 1 completed"
     ]
    },
    {
     "name": "stderr",
     "output_type": "stream",
     "text": [
      "\n",
      "1 Failed download:\n",
      "['$INDU']: Exception('%ticker%: No timezone found, symbol may be delisted')\n"
     ]
    },
    {
     "name": "stdout",
     "output_type": "stream",
     "text": [
      "\n",
      "single positional indexer is out-of-bounds\n",
      "[*********************100%%**********************]  1 of 1 completed"
     ]
    },
    {
     "name": "stderr",
     "output_type": "stream",
     "text": [
      "\n",
      "1 Failed download:\n",
      "['$INDU']: Exception('%ticker%: No timezone found, symbol may be delisted')\n"
     ]
    },
    {
     "name": "stdout",
     "output_type": "stream",
     "text": [
      "\n",
      "single positional indexer is out-of-bounds\n",
      "[*********************100%%**********************]  1 of 1 completed"
     ]
    },
    {
     "name": "stderr",
     "output_type": "stream",
     "text": [
      "\n",
      "1 Failed download:\n",
      "['$INDU']: Exception('%ticker%: No timezone found, symbol may be delisted')\n"
     ]
    },
    {
     "name": "stdout",
     "output_type": "stream",
     "text": [
      "\n",
      "single positional indexer is out-of-bounds\n",
      "[*********************100%%**********************]  1 of 1 completed"
     ]
    },
    {
     "name": "stderr",
     "output_type": "stream",
     "text": [
      "\n",
      "1 Failed download:\n",
      "['$SPX']: Exception('%ticker%: No timezone found, symbol may be delisted')\n"
     ]
    },
    {
     "name": "stdout",
     "output_type": "stream",
     "text": [
      "\n",
      "single positional indexer is out-of-bounds\n",
      "[*********************100%%**********************]  1 of 1 completed"
     ]
    },
    {
     "name": "stderr",
     "output_type": "stream",
     "text": [
      "\n",
      "1 Failed download:\n",
      "['$SPX']: Exception('%ticker%: No timezone found, symbol may be delisted')\n"
     ]
    },
    {
     "name": "stdout",
     "output_type": "stream",
     "text": [
      "\n",
      "single positional indexer is out-of-bounds\n",
      "[*********************100%%**********************]  1 of 1 completed"
     ]
    },
    {
     "name": "stderr",
     "output_type": "stream",
     "text": [
      "\n",
      "1 Failed download:\n",
      "['$SPX']: Exception('%ticker%: No timezone found, symbol may be delisted')\n"
     ]
    },
    {
     "name": "stdout",
     "output_type": "stream",
     "text": [
      "\n",
      "single positional indexer is out-of-bounds\n",
      "[*********************100%%**********************]  1 of 1 completed"
     ]
    },
    {
     "name": "stderr",
     "output_type": "stream",
     "text": [
      "\n",
      "1 Failed download:\n",
      "['$SPX']: Exception('%ticker%: No timezone found, symbol may be delisted')\n"
     ]
    },
    {
     "name": "stdout",
     "output_type": "stream",
     "text": [
      "\n",
      "single positional indexer is out-of-bounds\n",
      "[*********************100%%**********************]  1 of 1 completed"
     ]
    },
    {
     "name": "stderr",
     "output_type": "stream",
     "text": [
      "\n",
      "1 Failed download:\n",
      "['$SPX']: Exception('%ticker%: No timezone found, symbol may be delisted')\n"
     ]
    },
    {
     "name": "stdout",
     "output_type": "stream",
     "text": [
      "\n",
      "single positional indexer is out-of-bounds\n",
      "[*********************100%%**********************]  1 of 1 completed"
     ]
    },
    {
     "name": "stderr",
     "output_type": "stream",
     "text": [
      "\n",
      "1 Failed download:\n",
      "['$SPX']: Exception('%ticker%: No timezone found, symbol may be delisted')\n"
     ]
    },
    {
     "name": "stdout",
     "output_type": "stream",
     "text": [
      "\n",
      "single positional indexer is out-of-bounds\n",
      "[*********************100%%**********************]  1 of 1 completed"
     ]
    },
    {
     "name": "stderr",
     "output_type": "stream",
     "text": [
      "\n",
      "1 Failed download:\n",
      "['$SPX']: Exception('%ticker%: No timezone found, symbol may be delisted')\n"
     ]
    },
    {
     "name": "stdout",
     "output_type": "stream",
     "text": [
      "\n",
      "single positional indexer is out-of-bounds\n",
      "[*********************100%%**********************]  1 of 1 completed"
     ]
    },
    {
     "name": "stderr",
     "output_type": "stream",
     "text": [
      "\n",
      "1 Failed download:\n",
      "['$SPX']: Exception('%ticker%: No timezone found, symbol may be delisted')\n"
     ]
    },
    {
     "name": "stdout",
     "output_type": "stream",
     "text": [
      "\n",
      "single positional indexer is out-of-bounds\n",
      "[*********************100%%**********************]  1 of 1 completed"
     ]
    },
    {
     "name": "stderr",
     "output_type": "stream",
     "text": [
      "\n",
      "1 Failed download:\n",
      "['$SPX']: Exception('%ticker%: No timezone found, symbol may be delisted')\n"
     ]
    },
    {
     "name": "stdout",
     "output_type": "stream",
     "text": [
      "\n",
      "single positional indexer is out-of-bounds\n",
      "[*********************100%%**********************]  1 of 1 completed"
     ]
    },
    {
     "name": "stderr",
     "output_type": "stream",
     "text": [
      "\n",
      "1 Failed download:\n",
      "['$SPX']: Exception('%ticker%: No timezone found, symbol may be delisted')\n"
     ]
    },
    {
     "name": "stdout",
     "output_type": "stream",
     "text": [
      "\n",
      "single positional indexer is out-of-bounds\n",
      "[*********************100%%**********************]  1 of 1 completed"
     ]
    },
    {
     "name": "stderr",
     "output_type": "stream",
     "text": [
      "\n",
      "1 Failed download:\n",
      "['$SPX']: Exception('%ticker%: No timezone found, symbol may be delisted')\n"
     ]
    },
    {
     "name": "stdout",
     "output_type": "stream",
     "text": [
      "\n",
      "single positional indexer is out-of-bounds\n",
      "[*********************100%%**********************]  1 of 1 completed"
     ]
    },
    {
     "name": "stderr",
     "output_type": "stream",
     "text": [
      "\n",
      "1 Failed download:\n",
      "['$SPX']: Exception('%ticker%: No timezone found, symbol may be delisted')\n"
     ]
    },
    {
     "name": "stdout",
     "output_type": "stream",
     "text": [
      "\n",
      "single positional indexer is out-of-bounds\n",
      "[*********************100%%**********************]  1 of 1 completed"
     ]
    },
    {
     "name": "stderr",
     "output_type": "stream",
     "text": [
      "\n",
      "1 Failed download:\n",
      "['$SPX']: Exception('%ticker%: No timezone found, symbol may be delisted')\n"
     ]
    },
    {
     "name": "stdout",
     "output_type": "stream",
     "text": [
      "\n",
      "single positional indexer is out-of-bounds\n",
      "[*********************100%%**********************]  1 of 1 completed"
     ]
    },
    {
     "name": "stderr",
     "output_type": "stream",
     "text": [
      "\n",
      "1 Failed download:\n",
      "['$SPX']: Exception('%ticker%: No timezone found, symbol may be delisted')\n"
     ]
    },
    {
     "name": "stdout",
     "output_type": "stream",
     "text": [
      "\n",
      "single positional indexer is out-of-bounds\n",
      "[*********************100%%**********************]  1 of 1 completed"
     ]
    },
    {
     "name": "stderr",
     "output_type": "stream",
     "text": [
      "\n",
      "1 Failed download:\n",
      "['$SPX']: Exception('%ticker%: No timezone found, symbol may be delisted')\n"
     ]
    },
    {
     "name": "stdout",
     "output_type": "stream",
     "text": [
      "\n",
      "single positional indexer is out-of-bounds\n",
      "[*********************100%%**********************]  1 of 1 completed"
     ]
    },
    {
     "name": "stderr",
     "output_type": "stream",
     "text": [
      "\n",
      "1 Failed download:\n",
      "['$COMPQ']: Exception('%ticker%: No timezone found, symbol may be delisted')\n"
     ]
    },
    {
     "name": "stdout",
     "output_type": "stream",
     "text": [
      "\n",
      "single positional indexer is out-of-bounds\n",
      "[*********************100%%**********************]  1 of 1 completed"
     ]
    },
    {
     "name": "stderr",
     "output_type": "stream",
     "text": [
      "\n",
      "1 Failed download:\n",
      "['$COMPQ']: Exception('%ticker%: No timezone found, symbol may be delisted')\n"
     ]
    },
    {
     "name": "stdout",
     "output_type": "stream",
     "text": [
      "\n",
      "single positional indexer is out-of-bounds\n",
      "[*********************100%%**********************]  1 of 1 completed"
     ]
    },
    {
     "name": "stderr",
     "output_type": "stream",
     "text": [
      "\n",
      "1 Failed download:\n",
      "['$COMPQ']: Exception('%ticker%: No timezone found, symbol may be delisted')\n"
     ]
    },
    {
     "name": "stdout",
     "output_type": "stream",
     "text": [
      "\n",
      "single positional indexer is out-of-bounds\n",
      "[*********************100%%**********************]  1 of 1 completed"
     ]
    },
    {
     "name": "stderr",
     "output_type": "stream",
     "text": [
      "\n",
      "1 Failed download:\n",
      "['$COMPQ']: Exception('%ticker%: No timezone found, symbol may be delisted')\n"
     ]
    },
    {
     "name": "stdout",
     "output_type": "stream",
     "text": [
      "\n",
      "single positional indexer is out-of-bounds\n",
      "[*********************100%%**********************]  1 of 1 completed"
     ]
    },
    {
     "name": "stderr",
     "output_type": "stream",
     "text": [
      "\n",
      "1 Failed download:\n",
      "['$COMPQ']: Exception('%ticker%: No timezone found, symbol may be delisted')\n"
     ]
    },
    {
     "name": "stdout",
     "output_type": "stream",
     "text": [
      "\n",
      "single positional indexer is out-of-bounds\n",
      "[*********************100%%**********************]  1 of 1 completed"
     ]
    },
    {
     "name": "stderr",
     "output_type": "stream",
     "text": [
      "\n",
      "1 Failed download:\n",
      "['$COMPQ']: Exception('%ticker%: No timezone found, symbol may be delisted')\n"
     ]
    },
    {
     "name": "stdout",
     "output_type": "stream",
     "text": [
      "\n",
      "single positional indexer is out-of-bounds\n",
      "[*********************100%%**********************]  1 of 1 completed"
     ]
    },
    {
     "name": "stderr",
     "output_type": "stream",
     "text": [
      "\n",
      "1 Failed download:\n",
      "['$COMPQ']: Exception('%ticker%: No timezone found, symbol may be delisted')\n"
     ]
    },
    {
     "name": "stdout",
     "output_type": "stream",
     "text": [
      "\n",
      "single positional indexer is out-of-bounds\n",
      "[*********************100%%**********************]  1 of 1 completed"
     ]
    },
    {
     "name": "stderr",
     "output_type": "stream",
     "text": [
      "\n",
      "1 Failed download:\n",
      "['$COMPQ']: Exception('%ticker%: No timezone found, symbol may be delisted')\n"
     ]
    },
    {
     "name": "stdout",
     "output_type": "stream",
     "text": [
      "\n",
      "single positional indexer is out-of-bounds\n",
      "[*********************100%%**********************]  1 of 1 completed"
     ]
    },
    {
     "name": "stderr",
     "output_type": "stream",
     "text": [
      "\n",
      "1 Failed download:\n",
      "['$COMPQ']: Exception('%ticker%: No timezone found, symbol may be delisted')\n"
     ]
    },
    {
     "name": "stdout",
     "output_type": "stream",
     "text": [
      "\n",
      "single positional indexer is out-of-bounds\n",
      "[*********************100%%**********************]  1 of 1 completed"
     ]
    },
    {
     "name": "stderr",
     "output_type": "stream",
     "text": [
      "\n",
      "1 Failed download:\n",
      "['$COMPQ']: Exception('%ticker%: No timezone found, symbol may be delisted')\n"
     ]
    },
    {
     "name": "stdout",
     "output_type": "stream",
     "text": [
      "\n",
      "single positional indexer is out-of-bounds\n",
      "[*********************100%%**********************]  1 of 1 completed"
     ]
    },
    {
     "name": "stderr",
     "output_type": "stream",
     "text": [
      "\n",
      "1 Failed download:\n",
      "['$COMPQ']: Exception('%ticker%: No timezone found, symbol may be delisted')\n"
     ]
    },
    {
     "name": "stdout",
     "output_type": "stream",
     "text": [
      "\n",
      "single positional indexer is out-of-bounds\n",
      "[*********************100%%**********************]  1 of 1 completed"
     ]
    },
    {
     "name": "stderr",
     "output_type": "stream",
     "text": [
      "\n",
      "1 Failed download:\n",
      "['$COMPQ']: Exception('%ticker%: No timezone found, symbol may be delisted')\n"
     ]
    },
    {
     "name": "stdout",
     "output_type": "stream",
     "text": [
      "\n",
      "single positional indexer is out-of-bounds\n",
      "[*********************100%%**********************]  1 of 1 completed"
     ]
    },
    {
     "name": "stderr",
     "output_type": "stream",
     "text": [
      "\n",
      "1 Failed download:\n",
      "['$COMPQ']: Exception('%ticker%: No timezone found, symbol may be delisted')\n"
     ]
    },
    {
     "name": "stdout",
     "output_type": "stream",
     "text": [
      "\n",
      "single positional indexer is out-of-bounds\n",
      "[*********************100%%**********************]  1 of 1 completed"
     ]
    },
    {
     "name": "stderr",
     "output_type": "stream",
     "text": [
      "\n",
      "1 Failed download:\n",
      "['$COMPQ']: Exception('%ticker%: No timezone found, symbol may be delisted')\n"
     ]
    },
    {
     "name": "stdout",
     "output_type": "stream",
     "text": [
      "\n",
      "single positional indexer is out-of-bounds\n",
      "[*********************100%%**********************]  1 of 1 completed"
     ]
    },
    {
     "name": "stderr",
     "output_type": "stream",
     "text": [
      "\n",
      "1 Failed download:\n",
      "['$COMPQ']: Exception('%ticker%: No timezone found, symbol may be delisted')\n"
     ]
    },
    {
     "name": "stdout",
     "output_type": "stream",
     "text": [
      "\n",
      "single positional indexer is out-of-bounds\n",
      "[*********************100%%**********************]  1 of 1 completed"
     ]
    },
    {
     "name": "stderr",
     "output_type": "stream",
     "text": [
      "\n",
      "1 Failed download:\n",
      "['$SML']: Exception('%ticker%: No timezone found, symbol may be delisted')\n"
     ]
    },
    {
     "name": "stdout",
     "output_type": "stream",
     "text": [
      "\n",
      "single positional indexer is out-of-bounds\n",
      "[*********************100%%**********************]  1 of 1 completed"
     ]
    },
    {
     "name": "stderr",
     "output_type": "stream",
     "text": [
      "\n",
      "1 Failed download:\n",
      "['$SML']: Exception('%ticker%: No timezone found, symbol may be delisted')\n"
     ]
    },
    {
     "name": "stdout",
     "output_type": "stream",
     "text": [
      "\n",
      "single positional indexer is out-of-bounds\n",
      "[*********************100%%**********************]  1 of 1 completed"
     ]
    },
    {
     "name": "stderr",
     "output_type": "stream",
     "text": [
      "\n",
      "1 Failed download:\n",
      "['$SML']: Exception('%ticker%: No timezone found, symbol may be delisted')\n"
     ]
    },
    {
     "name": "stdout",
     "output_type": "stream",
     "text": [
      "\n",
      "single positional indexer is out-of-bounds\n",
      "[*********************100%%**********************]  1 of 1 completed"
     ]
    },
    {
     "name": "stderr",
     "output_type": "stream",
     "text": [
      "\n",
      "1 Failed download:\n",
      "['$SML']: Exception('%ticker%: No timezone found, symbol may be delisted')\n"
     ]
    },
    {
     "name": "stdout",
     "output_type": "stream",
     "text": [
      "\n",
      "single positional indexer is out-of-bounds\n",
      "[*********************100%%**********************]  1 of 1 completed"
     ]
    },
    {
     "name": "stderr",
     "output_type": "stream",
     "text": [
      "\n",
      "1 Failed download:\n",
      "['$SML']: Exception('%ticker%: No timezone found, symbol may be delisted')\n"
     ]
    },
    {
     "name": "stdout",
     "output_type": "stream",
     "text": [
      "\n",
      "single positional indexer is out-of-bounds\n",
      "[*********************100%%**********************]  1 of 1 completed"
     ]
    },
    {
     "name": "stderr",
     "output_type": "stream",
     "text": [
      "\n",
      "1 Failed download:\n",
      "['$SML']: Exception('%ticker%: No timezone found, symbol may be delisted')\n"
     ]
    },
    {
     "name": "stdout",
     "output_type": "stream",
     "text": [
      "\n",
      "single positional indexer is out-of-bounds\n",
      "[*********************100%%**********************]  1 of 1 completed"
     ]
    },
    {
     "name": "stderr",
     "output_type": "stream",
     "text": [
      "\n",
      "1 Failed download:\n",
      "['$SML']: Exception('%ticker%: No timezone found, symbol may be delisted')\n"
     ]
    },
    {
     "name": "stdout",
     "output_type": "stream",
     "text": [
      "\n",
      "single positional indexer is out-of-bounds\n",
      "[*********************100%%**********************]  1 of 1 completed"
     ]
    },
    {
     "name": "stderr",
     "output_type": "stream",
     "text": [
      "\n",
      "1 Failed download:\n",
      "['$SML']: Exception('%ticker%: No timezone found, symbol may be delisted')\n"
     ]
    },
    {
     "name": "stdout",
     "output_type": "stream",
     "text": [
      "\n",
      "single positional indexer is out-of-bounds\n",
      "[*********************100%%**********************]  1 of 1 completed"
     ]
    },
    {
     "name": "stderr",
     "output_type": "stream",
     "text": [
      "\n",
      "1 Failed download:\n",
      "['$SML']: Exception('%ticker%: No timezone found, symbol may be delisted')\n"
     ]
    },
    {
     "name": "stdout",
     "output_type": "stream",
     "text": [
      "\n",
      "single positional indexer is out-of-bounds\n",
      "[*********************100%%**********************]  1 of 1 completed"
     ]
    },
    {
     "name": "stderr",
     "output_type": "stream",
     "text": [
      "\n",
      "1 Failed download:\n",
      "['$SML']: Exception('%ticker%: No timezone found, symbol may be delisted')\n"
     ]
    },
    {
     "name": "stdout",
     "output_type": "stream",
     "text": [
      "\n",
      "single positional indexer is out-of-bounds\n",
      "[*********************100%%**********************]  1 of 1 completed"
     ]
    },
    {
     "name": "stderr",
     "output_type": "stream",
     "text": [
      "\n",
      "1 Failed download:\n",
      "['$SML']: Exception('%ticker%: No timezone found, symbol may be delisted')\n"
     ]
    },
    {
     "name": "stdout",
     "output_type": "stream",
     "text": [
      "\n",
      "single positional indexer is out-of-bounds\n",
      "[*********************100%%**********************]  1 of 1 completed"
     ]
    },
    {
     "name": "stderr",
     "output_type": "stream",
     "text": [
      "\n",
      "1 Failed download:\n",
      "['$SML']: Exception('%ticker%: No timezone found, symbol may be delisted')\n"
     ]
    },
    {
     "name": "stdout",
     "output_type": "stream",
     "text": [
      "\n",
      "single positional indexer is out-of-bounds\n",
      "[*********************100%%**********************]  1 of 1 completed"
     ]
    },
    {
     "name": "stderr",
     "output_type": "stream",
     "text": [
      "\n",
      "1 Failed download:\n",
      "['$SML']: Exception('%ticker%: No timezone found, symbol may be delisted')\n"
     ]
    },
    {
     "name": "stdout",
     "output_type": "stream",
     "text": [
      "\n",
      "single positional indexer is out-of-bounds\n",
      "[*********************100%%**********************]  1 of 1 completed"
     ]
    },
    {
     "name": "stderr",
     "output_type": "stream",
     "text": [
      "\n",
      "1 Failed download:\n",
      "['$SML']: Exception('%ticker%: No timezone found, symbol may be delisted')\n"
     ]
    },
    {
     "name": "stdout",
     "output_type": "stream",
     "text": [
      "\n",
      "single positional indexer is out-of-bounds\n",
      "[*********************100%%**********************]  1 of 1 completed"
     ]
    },
    {
     "name": "stderr",
     "output_type": "stream",
     "text": [
      "\n",
      "1 Failed download:\n",
      "['$SML']: Exception('%ticker%: No timezone found, symbol may be delisted')\n"
     ]
    },
    {
     "name": "stdout",
     "output_type": "stream",
     "text": [
      "\n",
      "single positional indexer is out-of-bounds\n",
      "[*********************100%%**********************]  1 of 1 completed"
     ]
    },
    {
     "name": "stderr",
     "output_type": "stream",
     "text": [
      "\n",
      "1 Failed download:\n",
      "['$MID']: Exception('%ticker%: No timezone found, symbol may be delisted')\n"
     ]
    },
    {
     "name": "stdout",
     "output_type": "stream",
     "text": [
      "\n",
      "single positional indexer is out-of-bounds\n",
      "[*********************100%%**********************]  1 of 1 completed"
     ]
    },
    {
     "name": "stderr",
     "output_type": "stream",
     "text": [
      "\n",
      "1 Failed download:\n",
      "['$MID']: Exception('%ticker%: No timezone found, symbol may be delisted')\n"
     ]
    },
    {
     "name": "stdout",
     "output_type": "stream",
     "text": [
      "\n",
      "single positional indexer is out-of-bounds\n",
      "[*********************100%%**********************]  1 of 1 completed"
     ]
    },
    {
     "name": "stderr",
     "output_type": "stream",
     "text": [
      "\n",
      "1 Failed download:\n",
      "['$MID']: Exception('%ticker%: No timezone found, symbol may be delisted')\n"
     ]
    },
    {
     "name": "stdout",
     "output_type": "stream",
     "text": [
      "\n",
      "single positional indexer is out-of-bounds\n",
      "[*********************100%%**********************]  1 of 1 completed"
     ]
    },
    {
     "name": "stderr",
     "output_type": "stream",
     "text": [
      "\n",
      "1 Failed download:\n",
      "['$MID']: Exception('%ticker%: No timezone found, symbol may be delisted')\n"
     ]
    },
    {
     "name": "stdout",
     "output_type": "stream",
     "text": [
      "\n",
      "single positional indexer is out-of-bounds\n",
      "[*********************100%%**********************]  1 of 1 completed"
     ]
    },
    {
     "name": "stderr",
     "output_type": "stream",
     "text": [
      "\n",
      "1 Failed download:\n",
      "['$MID']: Exception('%ticker%: No timezone found, symbol may be delisted')\n"
     ]
    },
    {
     "name": "stdout",
     "output_type": "stream",
     "text": [
      "\n",
      "single positional indexer is out-of-bounds\n",
      "[*********************100%%**********************]  1 of 1 completed"
     ]
    },
    {
     "name": "stderr",
     "output_type": "stream",
     "text": [
      "\n",
      "1 Failed download:\n",
      "['$MID']: Exception('%ticker%: No timezone found, symbol may be delisted')\n"
     ]
    },
    {
     "name": "stdout",
     "output_type": "stream",
     "text": [
      "\n",
      "single positional indexer is out-of-bounds\n",
      "[*********************100%%**********************]  1 of 1 completed"
     ]
    },
    {
     "name": "stderr",
     "output_type": "stream",
     "text": [
      "\n",
      "1 Failed download:\n",
      "['$MID']: Exception('%ticker%: No timezone found, symbol may be delisted')\n"
     ]
    },
    {
     "name": "stdout",
     "output_type": "stream",
     "text": [
      "\n",
      "single positional indexer is out-of-bounds\n",
      "[*********************100%%**********************]  1 of 1 completed"
     ]
    },
    {
     "name": "stderr",
     "output_type": "stream",
     "text": [
      "\n",
      "1 Failed download:\n",
      "['$MID']: Exception('%ticker%: No timezone found, symbol may be delisted')\n"
     ]
    },
    {
     "name": "stdout",
     "output_type": "stream",
     "text": [
      "\n",
      "single positional indexer is out-of-bounds\n",
      "[*********************100%%**********************]  1 of 1 completed"
     ]
    },
    {
     "name": "stderr",
     "output_type": "stream",
     "text": [
      "\n",
      "1 Failed download:\n",
      "['$MID']: Exception('%ticker%: No timezone found, symbol may be delisted')\n"
     ]
    },
    {
     "name": "stdout",
     "output_type": "stream",
     "text": [
      "\n",
      "single positional indexer is out-of-bounds\n",
      "[*********************100%%**********************]  1 of 1 completed"
     ]
    },
    {
     "name": "stderr",
     "output_type": "stream",
     "text": [
      "\n",
      "1 Failed download:\n",
      "['$MID']: Exception('%ticker%: No timezone found, symbol may be delisted')\n"
     ]
    },
    {
     "name": "stdout",
     "output_type": "stream",
     "text": [
      "\n",
      "single positional indexer is out-of-bounds\n",
      "[*********************100%%**********************]  1 of 1 completed"
     ]
    },
    {
     "name": "stderr",
     "output_type": "stream",
     "text": [
      "\n",
      "1 Failed download:\n",
      "['$MID']: Exception('%ticker%: No timezone found, symbol may be delisted')\n"
     ]
    },
    {
     "name": "stdout",
     "output_type": "stream",
     "text": [
      "\n",
      "single positional indexer is out-of-bounds\n",
      "[*********************100%%**********************]  1 of 1 completed"
     ]
    },
    {
     "name": "stderr",
     "output_type": "stream",
     "text": [
      "\n",
      "1 Failed download:\n",
      "['$MID']: Exception('%ticker%: No timezone found, symbol may be delisted')\n"
     ]
    },
    {
     "name": "stdout",
     "output_type": "stream",
     "text": [
      "\n",
      "single positional indexer is out-of-bounds\n",
      "[*********************100%%**********************]  1 of 1 completed"
     ]
    },
    {
     "name": "stderr",
     "output_type": "stream",
     "text": [
      "\n",
      "1 Failed download:\n",
      "['$MID']: Exception('%ticker%: No timezone found, symbol may be delisted')\n"
     ]
    },
    {
     "name": "stdout",
     "output_type": "stream",
     "text": [
      "\n",
      "single positional indexer is out-of-bounds\n",
      "[*********************100%%**********************]  1 of 1 completed"
     ]
    },
    {
     "name": "stderr",
     "output_type": "stream",
     "text": [
      "\n",
      "1 Failed download:\n",
      "['$MID']: Exception('%ticker%: No timezone found, symbol may be delisted')\n"
     ]
    },
    {
     "name": "stdout",
     "output_type": "stream",
     "text": [
      "\n",
      "single positional indexer is out-of-bounds\n",
      "[*********************100%%**********************]  1 of 1 completed"
     ]
    },
    {
     "name": "stderr",
     "output_type": "stream",
     "text": [
      "\n",
      "1 Failed download:\n",
      "['$MID']: Exception('%ticker%: No timezone found, symbol may be delisted')\n"
     ]
    },
    {
     "name": "stdout",
     "output_type": "stream",
     "text": [
      "\n",
      "single positional indexer is out-of-bounds\n",
      "[*********************100%%**********************]  1 of 1 completed"
     ]
    },
    {
     "name": "stderr",
     "output_type": "stream",
     "text": [
      "\n",
      "1 Failed download:\n",
      "['$TNX']: Exception('%ticker%: No timezone found, symbol may be delisted')\n"
     ]
    },
    {
     "name": "stdout",
     "output_type": "stream",
     "text": [
      "\n",
      "single positional indexer is out-of-bounds\n",
      "[*********************100%%**********************]  1 of 1 completed"
     ]
    },
    {
     "name": "stderr",
     "output_type": "stream",
     "text": [
      "\n",
      "1 Failed download:\n",
      "['$TNX']: Exception('%ticker%: No timezone found, symbol may be delisted')\n"
     ]
    },
    {
     "name": "stdout",
     "output_type": "stream",
     "text": [
      "\n",
      "single positional indexer is out-of-bounds\n",
      "[*********************100%%**********************]  1 of 1 completed"
     ]
    },
    {
     "name": "stderr",
     "output_type": "stream",
     "text": [
      "\n",
      "1 Failed download:\n",
      "['$TNX']: Exception('%ticker%: No timezone found, symbol may be delisted')\n"
     ]
    },
    {
     "name": "stdout",
     "output_type": "stream",
     "text": [
      "\n",
      "single positional indexer is out-of-bounds\n",
      "[*********************100%%**********************]  1 of 1 completed"
     ]
    },
    {
     "name": "stderr",
     "output_type": "stream",
     "text": [
      "\n",
      "1 Failed download:\n",
      "['$TNX']: Exception('%ticker%: No timezone found, symbol may be delisted')\n"
     ]
    },
    {
     "name": "stdout",
     "output_type": "stream",
     "text": [
      "\n",
      "single positional indexer is out-of-bounds\n",
      "[*********************100%%**********************]  1 of 1 completed"
     ]
    },
    {
     "name": "stderr",
     "output_type": "stream",
     "text": [
      "\n",
      "1 Failed download:\n",
      "['$TNX']: Exception('%ticker%: No timezone found, symbol may be delisted')\n"
     ]
    },
    {
     "name": "stdout",
     "output_type": "stream",
     "text": [
      "\n",
      "single positional indexer is out-of-bounds\n",
      "[*********************100%%**********************]  1 of 1 completed"
     ]
    },
    {
     "name": "stderr",
     "output_type": "stream",
     "text": [
      "\n",
      "1 Failed download:\n",
      "['$TNX']: Exception('%ticker%: No timezone found, symbol may be delisted')\n"
     ]
    },
    {
     "name": "stdout",
     "output_type": "stream",
     "text": [
      "\n",
      "single positional indexer is out-of-bounds\n",
      "[*********************100%%**********************]  1 of 1 completed"
     ]
    },
    {
     "name": "stderr",
     "output_type": "stream",
     "text": [
      "\n",
      "1 Failed download:\n",
      "['$TNX']: Exception('%ticker%: No timezone found, symbol may be delisted')\n"
     ]
    },
    {
     "name": "stdout",
     "output_type": "stream",
     "text": [
      "\n",
      "single positional indexer is out-of-bounds\n",
      "[*********************100%%**********************]  1 of 1 completed"
     ]
    },
    {
     "name": "stderr",
     "output_type": "stream",
     "text": [
      "\n",
      "1 Failed download:\n",
      "['$TNX']: Exception('%ticker%: No timezone found, symbol may be delisted')\n"
     ]
    },
    {
     "name": "stdout",
     "output_type": "stream",
     "text": [
      "\n",
      "single positional indexer is out-of-bounds\n",
      "[*********************100%%**********************]  1 of 1 completed"
     ]
    },
    {
     "name": "stderr",
     "output_type": "stream",
     "text": [
      "\n",
      "1 Failed download:\n",
      "['$TNX']: Exception('%ticker%: No timezone found, symbol may be delisted')\n"
     ]
    },
    {
     "name": "stdout",
     "output_type": "stream",
     "text": [
      "\n",
      "single positional indexer is out-of-bounds\n",
      "[*********************100%%**********************]  1 of 1 completed"
     ]
    },
    {
     "name": "stderr",
     "output_type": "stream",
     "text": [
      "\n",
      "1 Failed download:\n",
      "['$TNX']: Exception('%ticker%: No timezone found, symbol may be delisted')\n"
     ]
    },
    {
     "name": "stdout",
     "output_type": "stream",
     "text": [
      "\n",
      "single positional indexer is out-of-bounds\n",
      "[*********************100%%**********************]  1 of 1 completed"
     ]
    },
    {
     "name": "stderr",
     "output_type": "stream",
     "text": [
      "\n",
      "1 Failed download:\n",
      "['$TNX']: Exception('%ticker%: No timezone found, symbol may be delisted')\n"
     ]
    },
    {
     "name": "stdout",
     "output_type": "stream",
     "text": [
      "\n",
      "single positional indexer is out-of-bounds\n",
      "[*********************100%%**********************]  1 of 1 completed"
     ]
    },
    {
     "name": "stderr",
     "output_type": "stream",
     "text": [
      "\n",
      "1 Failed download:\n",
      "['$TNX']: Exception('%ticker%: No timezone found, symbol may be delisted')\n"
     ]
    },
    {
     "name": "stdout",
     "output_type": "stream",
     "text": [
      "\n",
      "single positional indexer is out-of-bounds\n",
      "[*********************100%%**********************]  1 of 1 completed"
     ]
    },
    {
     "name": "stderr",
     "output_type": "stream",
     "text": [
      "\n",
      "1 Failed download:\n",
      "['$TNX']: Exception('%ticker%: No timezone found, symbol may be delisted')\n"
     ]
    },
    {
     "name": "stdout",
     "output_type": "stream",
     "text": [
      "\n",
      "single positional indexer is out-of-bounds\n",
      "[*********************100%%**********************]  1 of 1 completed"
     ]
    },
    {
     "name": "stderr",
     "output_type": "stream",
     "text": [
      "\n",
      "1 Failed download:\n",
      "['$TNX']: Exception('%ticker%: No timezone found, symbol may be delisted')\n"
     ]
    },
    {
     "name": "stdout",
     "output_type": "stream",
     "text": [
      "\n",
      "single positional indexer is out-of-bounds\n",
      "[*********************100%%**********************]  1 of 1 completed"
     ]
    },
    {
     "name": "stderr",
     "output_type": "stream",
     "text": [
      "\n",
      "1 Failed download:\n",
      "['$TNX']: Exception('%ticker%: No timezone found, symbol may be delisted')\n"
     ]
    },
    {
     "name": "stdout",
     "output_type": "stream",
     "text": [
      "\n",
      "single positional indexer is out-of-bounds\n",
      "[*********************100%%**********************]  1 of 1 completed\n",
      "[*********************100%%**********************]  1 of 1 completed\n",
      "[*********************100%%**********************]  1 of 1 completed\n",
      "[*********************100%%**********************]  1 of 1 completed\n",
      "[*********************100%%**********************]  1 of 1 completed\n",
      "single positional indexer is out-of-bounds\n",
      "[*********************100%%**********************]  1 of 1 completed\n",
      "single positional indexer is out-of-bounds\n",
      "[*********************100%%**********************]  1 of 1 completed\n",
      "single positional indexer is out-of-bounds\n",
      "[*********************100%%**********************]  1 of 1 completed\n",
      "single positional indexer is out-of-bounds\n",
      "[*********************100%%**********************]  1 of 1 completed\n",
      "single positional indexer is out-of-bounds\n",
      "[*********************100%%**********************]  1 of 1 completed\n",
      "single positional indexer is out-of-bounds\n",
      "[*********************100%%**********************]  1 of 1 completed\n",
      "single positional indexer is out-of-bounds\n",
      "[*********************100%%**********************]  1 of 1 completed\n",
      "single positional indexer is out-of-bounds\n",
      "[*********************100%%**********************]  1 of 1 completed\n",
      "single positional indexer is out-of-bounds\n",
      "[*********************100%%**********************]  1 of 1 completed\n",
      "single positional indexer is out-of-bounds\n",
      "[*********************100%%**********************]  1 of 1 completed\n",
      "single positional indexer is out-of-bounds\n",
      "[*********************100%%**********************]  1 of 1 completed"
     ]
    },
    {
     "name": "stderr",
     "output_type": "stream",
     "text": [
      "\n",
      "1 Failed download:\n",
      "['$VIX']: Exception('%ticker%: No timezone found, symbol may be delisted')\n"
     ]
    },
    {
     "name": "stdout",
     "output_type": "stream",
     "text": [
      "\n",
      "single positional indexer is out-of-bounds\n",
      "[*********************100%%**********************]  1 of 1 completed"
     ]
    },
    {
     "name": "stderr",
     "output_type": "stream",
     "text": [
      "\n",
      "1 Failed download:\n",
      "['$VIX']: Exception('%ticker%: No timezone found, symbol may be delisted')\n"
     ]
    },
    {
     "name": "stdout",
     "output_type": "stream",
     "text": [
      "\n",
      "single positional indexer is out-of-bounds\n",
      "[*********************100%%**********************]  1 of 1 completed"
     ]
    },
    {
     "name": "stderr",
     "output_type": "stream",
     "text": [
      "\n",
      "1 Failed download:\n",
      "['$VIX']: Exception('%ticker%: No timezone found, symbol may be delisted')\n"
     ]
    },
    {
     "name": "stdout",
     "output_type": "stream",
     "text": [
      "\n",
      "single positional indexer is out-of-bounds\n",
      "[*********************100%%**********************]  1 of 1 completed"
     ]
    },
    {
     "name": "stderr",
     "output_type": "stream",
     "text": [
      "\n",
      "1 Failed download:\n",
      "['$VIX']: Exception('%ticker%: No timezone found, symbol may be delisted')\n"
     ]
    },
    {
     "name": "stdout",
     "output_type": "stream",
     "text": [
      "\n",
      "single positional indexer is out-of-bounds\n",
      "[*********************100%%**********************]  1 of 1 completed"
     ]
    },
    {
     "name": "stderr",
     "output_type": "stream",
     "text": [
      "\n",
      "1 Failed download:\n",
      "['$VIX']: Exception('%ticker%: No timezone found, symbol may be delisted')\n"
     ]
    },
    {
     "name": "stdout",
     "output_type": "stream",
     "text": [
      "\n",
      "single positional indexer is out-of-bounds\n",
      "[*********************100%%**********************]  1 of 1 completed"
     ]
    },
    {
     "name": "stderr",
     "output_type": "stream",
     "text": [
      "\n",
      "1 Failed download:\n",
      "['$VIX']: Exception('%ticker%: No timezone found, symbol may be delisted')\n"
     ]
    },
    {
     "name": "stdout",
     "output_type": "stream",
     "text": [
      "\n",
      "single positional indexer is out-of-bounds\n",
      "[*********************100%%**********************]  1 of 1 completed"
     ]
    },
    {
     "name": "stderr",
     "output_type": "stream",
     "text": [
      "\n",
      "1 Failed download:\n",
      "['$VIX']: Exception('%ticker%: No timezone found, symbol may be delisted')\n"
     ]
    },
    {
     "name": "stdout",
     "output_type": "stream",
     "text": [
      "\n",
      "single positional indexer is out-of-bounds\n",
      "[*********************100%%**********************]  1 of 1 completed"
     ]
    },
    {
     "name": "stderr",
     "output_type": "stream",
     "text": [
      "\n",
      "1 Failed download:\n",
      "['$VIX']: Exception('%ticker%: No timezone found, symbol may be delisted')\n"
     ]
    },
    {
     "name": "stdout",
     "output_type": "stream",
     "text": [
      "\n",
      "single positional indexer is out-of-bounds\n",
      "[*********************100%%**********************]  1 of 1 completed"
     ]
    },
    {
     "name": "stderr",
     "output_type": "stream",
     "text": [
      "\n",
      "1 Failed download:\n",
      "['$VIX']: Exception('%ticker%: No timezone found, symbol may be delisted')\n"
     ]
    },
    {
     "name": "stdout",
     "output_type": "stream",
     "text": [
      "\n",
      "single positional indexer is out-of-bounds\n",
      "[*********************100%%**********************]  1 of 1 completed"
     ]
    },
    {
     "name": "stderr",
     "output_type": "stream",
     "text": [
      "\n",
      "1 Failed download:\n",
      "['$VIX']: Exception('%ticker%: No timezone found, symbol may be delisted')\n"
     ]
    },
    {
     "name": "stdout",
     "output_type": "stream",
     "text": [
      "\n",
      "single positional indexer is out-of-bounds\n",
      "[*********************100%%**********************]  1 of 1 completed"
     ]
    },
    {
     "name": "stderr",
     "output_type": "stream",
     "text": [
      "\n",
      "1 Failed download:\n",
      "['$VIX']: Exception('%ticker%: No timezone found, symbol may be delisted')\n"
     ]
    },
    {
     "name": "stdout",
     "output_type": "stream",
     "text": [
      "\n",
      "single positional indexer is out-of-bounds\n",
      "[*********************100%%**********************]  1 of 1 completed"
     ]
    },
    {
     "name": "stderr",
     "output_type": "stream",
     "text": [
      "\n",
      "1 Failed download:\n",
      "['$VIX']: Exception('%ticker%: No timezone found, symbol may be delisted')\n"
     ]
    },
    {
     "name": "stdout",
     "output_type": "stream",
     "text": [
      "\n",
      "single positional indexer is out-of-bounds\n",
      "[*********************100%%**********************]  1 of 1 completed"
     ]
    },
    {
     "name": "stderr",
     "output_type": "stream",
     "text": [
      "\n",
      "1 Failed download:\n",
      "['$VIX']: Exception('%ticker%: No timezone found, symbol may be delisted')\n"
     ]
    },
    {
     "name": "stdout",
     "output_type": "stream",
     "text": [
      "\n",
      "single positional indexer is out-of-bounds\n",
      "[*********************100%%**********************]  1 of 1 completed"
     ]
    },
    {
     "name": "stderr",
     "output_type": "stream",
     "text": [
      "\n",
      "1 Failed download:\n",
      "['$VIX']: Exception('%ticker%: No timezone found, symbol may be delisted')\n"
     ]
    },
    {
     "name": "stdout",
     "output_type": "stream",
     "text": [
      "\n",
      "single positional indexer is out-of-bounds\n",
      "[*********************100%%**********************]  1 of 1 completed"
     ]
    },
    {
     "name": "stderr",
     "output_type": "stream",
     "text": [
      "\n",
      "1 Failed download:\n",
      "['$VIX']: Exception('%ticker%: No timezone found, symbol may be delisted')\n"
     ]
    },
    {
     "name": "stdout",
     "output_type": "stream",
     "text": [
      "\n",
      "single positional indexer is out-of-bounds\n",
      "[*********************100%%**********************]  1 of 1 completed\n",
      "[*********************100%%**********************]  1 of 1 completed\n",
      "[*********************100%%**********************]  1 of 1 completed\n",
      "[*********************100%%**********************]  1 of 1 completed\n",
      "[*********************100%%**********************]  1 of 1 completed\n",
      "single positional indexer is out-of-bounds\n",
      "[*********************100%%**********************]  1 of 1 completed\n",
      "single positional indexer is out-of-bounds\n",
      "[*********************100%%**********************]  1 of 1 completed\n",
      "single positional indexer is out-of-bounds\n",
      "[*********************100%%**********************]  1 of 1 completed\n",
      "single positional indexer is out-of-bounds\n",
      "[*********************100%%**********************]  1 of 1 completed\n",
      "single positional indexer is out-of-bounds\n",
      "[*********************100%%**********************]  1 of 1 completed\n",
      "single positional indexer is out-of-bounds\n",
      "[*********************100%%**********************]  1 of 1 completed\n",
      "single positional indexer is out-of-bounds\n",
      "[*********************100%%**********************]  1 of 1 completed\n",
      "single positional indexer is out-of-bounds\n",
      "[*********************100%%**********************]  1 of 1 completed\n",
      "single positional indexer is out-of-bounds\n",
      "[*********************100%%**********************]  1 of 1 completed\n",
      "single positional indexer is out-of-bounds\n",
      "[*********************100%%**********************]  1 of 1 completed\n",
      "single positional indexer is out-of-bounds\n",
      "[*********************100%%**********************]  1 of 1 completed\n",
      "[*********************100%%**********************]  1 of 1 completed\n",
      "[*********************100%%**********************]  1 of 1 completed\n",
      "[*********************100%%**********************]  1 of 1 completed\n",
      "[*********************100%%**********************]  1 of 1 completed\n",
      "single positional indexer is out-of-bounds\n",
      "[*********************100%%**********************]  1 of 1 completed\n",
      "single positional indexer is out-of-bounds\n",
      "[*********************100%%**********************]  1 of 1 completed\n",
      "single positional indexer is out-of-bounds\n",
      "[*********************100%%**********************]  1 of 1 completed\n",
      "single positional indexer is out-of-bounds\n",
      "[*********************100%%**********************]  1 of 1 completed\n",
      "single positional indexer is out-of-bounds\n",
      "[*********************100%%**********************]  1 of 1 completed\n",
      "single positional indexer is out-of-bounds\n",
      "[*********************100%%**********************]  1 of 1 completed\n",
      "single positional indexer is out-of-bounds\n",
      "[*********************100%%**********************]  1 of 1 completed\n",
      "single positional indexer is out-of-bounds\n",
      "[*********************100%%**********************]  1 of 1 completed\n",
      "single positional indexer is out-of-bounds\n",
      "[*********************100%%**********************]  1 of 1 completed\n",
      "single positional indexer is out-of-bounds\n",
      "[*********************100%%**********************]  1 of 1 completed\n",
      "single positional indexer is out-of-bounds\n",
      "[*********************100%%**********************]  1 of 1 completed\n",
      "[*********************100%%**********************]  1 of 1 completed\n",
      "[*********************100%%**********************]  1 of 1 completed\n",
      "[*********************100%%**********************]  1 of 1 completed\n",
      "[*********************100%%**********************]  1 of 1 completed\n",
      "single positional indexer is out-of-bounds\n",
      "[*********************100%%**********************]  1 of 1 completed\n",
      "single positional indexer is out-of-bounds\n",
      "[*********************100%%**********************]  1 of 1 completed\n",
      "single positional indexer is out-of-bounds\n",
      "[*********************100%%**********************]  1 of 1 completed\n",
      "single positional indexer is out-of-bounds\n",
      "[*********************100%%**********************]  1 of 1 completed\n",
      "single positional indexer is out-of-bounds\n",
      "[*********************100%%**********************]  1 of 1 completed\n",
      "single positional indexer is out-of-bounds\n",
      "[*********************100%%**********************]  1 of 1 completed\n",
      "single positional indexer is out-of-bounds\n",
      "[*********************100%%**********************]  1 of 1 completed\n",
      "single positional indexer is out-of-bounds\n",
      "[*********************100%%**********************]  1 of 1 completed\n",
      "single positional indexer is out-of-bounds\n",
      "[*********************100%%**********************]  1 of 1 completed\n",
      "single positional indexer is out-of-bounds\n",
      "[*********************100%%**********************]  1 of 1 completed\n",
      "single positional indexer is out-of-bounds\n",
      "[*********************100%%**********************]  1 of 1 completed\n",
      "[*********************100%%**********************]  1 of 1 completed\n",
      "[*********************100%%**********************]  1 of 1 completed\n",
      "[*********************100%%**********************]  1 of 1 completed\n",
      "[*********************100%%**********************]  1 of 1 completed\n",
      "single positional indexer is out-of-bounds\n",
      "[*********************100%%**********************]  1 of 1 completed\n",
      "single positional indexer is out-of-bounds\n",
      "[*********************100%%**********************]  1 of 1 completed\n",
      "single positional indexer is out-of-bounds\n",
      "[*********************100%%**********************]  1 of 1 completed\n",
      "single positional indexer is out-of-bounds\n",
      "[*********************100%%**********************]  1 of 1 completed\n",
      "single positional indexer is out-of-bounds\n",
      "[*********************100%%**********************]  1 of 1 completed\n",
      "single positional indexer is out-of-bounds\n",
      "[*********************100%%**********************]  1 of 1 completed\n",
      "single positional indexer is out-of-bounds\n",
      "[*********************100%%**********************]  1 of 1 completed\n",
      "single positional indexer is out-of-bounds\n",
      "[*********************100%%**********************]  1 of 1 completed\n",
      "single positional indexer is out-of-bounds\n",
      "[*********************100%%**********************]  1 of 1 completed\n",
      "single positional indexer is out-of-bounds\n",
      "[*********************100%%**********************]  1 of 1 completed\n",
      "single positional indexer is out-of-bounds\n",
      "[*********************100%%**********************]  1 of 1 completed\n",
      "[*********************100%%**********************]  1 of 1 completed\n",
      "[*********************100%%**********************]  1 of 1 completed\n",
      "[*********************100%%**********************]  1 of 1 completed\n",
      "[*********************100%%**********************]  1 of 1 completed\n",
      "single positional indexer is out-of-bounds\n",
      "[*********************100%%**********************]  1 of 1 completed\n",
      "single positional indexer is out-of-bounds\n",
      "[*********************100%%**********************]  1 of 1 completed\n",
      "single positional indexer is out-of-bounds\n",
      "[*********************100%%**********************]  1 of 1 completed\n",
      "single positional indexer is out-of-bounds\n",
      "[*********************100%%**********************]  1 of 1 completed\n",
      "single positional indexer is out-of-bounds\n",
      "[*********************100%%**********************]  1 of 1 completed\n",
      "single positional indexer is out-of-bounds\n",
      "[*********************100%%**********************]  1 of 1 completed\n",
      "single positional indexer is out-of-bounds\n",
      "[*********************100%%**********************]  1 of 1 completed\n",
      "single positional indexer is out-of-bounds\n",
      "[*********************100%%**********************]  1 of 1 completed\n",
      "single positional indexer is out-of-bounds\n",
      "[*********************100%%**********************]  1 of 1 completed\n",
      "single positional indexer is out-of-bounds\n",
      "[*********************100%%**********************]  1 of 1 completed\n",
      "single positional indexer is out-of-bounds\n",
      "[*********************100%%**********************]  1 of 1 completed\n",
      "[*********************100%%**********************]  1 of 1 completed\n",
      "[*********************100%%**********************]  1 of 1 completed\n",
      "[*********************100%%**********************]  1 of 1 completed\n",
      "[*********************100%%**********************]  1 of 1 completed\n",
      "single positional indexer is out-of-bounds\n",
      "[*********************100%%**********************]  1 of 1 completed\n",
      "single positional indexer is out-of-bounds\n",
      "[*********************100%%**********************]  1 of 1 completed\n",
      "single positional indexer is out-of-bounds\n",
      "[*********************100%%**********************]  1 of 1 completed\n",
      "single positional indexer is out-of-bounds\n",
      "[*********************100%%**********************]  1 of 1 completed\n",
      "single positional indexer is out-of-bounds\n",
      "[*********************100%%**********************]  1 of 1 completed\n",
      "single positional indexer is out-of-bounds\n",
      "[*********************100%%**********************]  1 of 1 completed\n",
      "single positional indexer is out-of-bounds\n",
      "[*********************100%%**********************]  1 of 1 completed\n",
      "single positional indexer is out-of-bounds\n",
      "[*********************100%%**********************]  1 of 1 completed\n",
      "single positional indexer is out-of-bounds\n",
      "[*********************100%%**********************]  1 of 1 completed\n",
      "single positional indexer is out-of-bounds\n",
      "[*********************100%%**********************]  1 of 1 completed\n",
      "single positional indexer is out-of-bounds\n",
      "[*********************100%%**********************]  1 of 1 completed"
     ]
    },
    {
     "name": "stderr",
     "output_type": "stream",
     "text": [
      "\n",
      "1 Failed download:\n",
      "['SPX']: Exception('%ticker%: No price data found, symbol may be delisted (1d 2023-11-27 17:19:08.013634 -> 2023-11-28 17:19:08.013634)')\n"
     ]
    },
    {
     "name": "stdout",
     "output_type": "stream",
     "text": [
      "\n",
      "single positional indexer is out-of-bounds\n",
      "[*********************100%%**********************]  1 of 1 completed"
     ]
    },
    {
     "name": "stderr",
     "output_type": "stream",
     "text": [
      "\n",
      "1 Failed download:\n",
      "['SPX']: Exception('%ticker%: No price data found, symbol may be delisted (1d 2023-11-27 17:19:08.013634 -> 2023-11-29 17:19:08.013634)')\n"
     ]
    },
    {
     "name": "stdout",
     "output_type": "stream",
     "text": [
      "\n",
      "single positional indexer is out-of-bounds\n",
      "[*********************100%%**********************]  1 of 1 completed"
     ]
    },
    {
     "name": "stderr",
     "output_type": "stream",
     "text": [
      "\n",
      "1 Failed download:\n",
      "['SPX']: Exception('%ticker%: No price data found, symbol may be delisted (1d 2023-11-27 17:19:08.013634 -> 2023-11-30 17:19:08.013634)')\n"
     ]
    },
    {
     "name": "stdout",
     "output_type": "stream",
     "text": [
      "\n",
      "single positional indexer is out-of-bounds\n",
      "[*********************100%%**********************]  1 of 1 completed"
     ]
    },
    {
     "name": "stderr",
     "output_type": "stream",
     "text": [
      "\n",
      "1 Failed download:\n",
      "['SPX']: Exception('%ticker%: No price data found, symbol may be delisted (1d 2023-11-27 17:19:08.013634 -> 2023-12-01 17:19:08.013634)')\n"
     ]
    },
    {
     "name": "stdout",
     "output_type": "stream",
     "text": [
      "\n",
      "single positional indexer is out-of-bounds\n",
      "[*********************100%%**********************]  1 of 1 completed"
     ]
    },
    {
     "name": "stderr",
     "output_type": "stream",
     "text": [
      "\n",
      "1 Failed download:\n",
      "['SPX']: Exception('%ticker%: No price data found, symbol may be delisted (1d 2023-11-27 17:19:08.013634 -> 2023-12-02 17:19:08.013634)')\n"
     ]
    },
    {
     "name": "stdout",
     "output_type": "stream",
     "text": [
      "\n",
      "single positional indexer is out-of-bounds\n",
      "[*********************100%%**********************]  1 of 1 completed"
     ]
    },
    {
     "name": "stderr",
     "output_type": "stream",
     "text": [
      "\n",
      "1 Failed download:\n",
      "['SPX']: Exception('%ticker%: No price data found, symbol may be delisted (1d 2023-11-27 17:19:08.013634 -> 2023-12-03 17:19:08.013634)')\n"
     ]
    },
    {
     "name": "stdout",
     "output_type": "stream",
     "text": [
      "\n",
      "single positional indexer is out-of-bounds\n",
      "[*********************100%%**********************]  1 of 1 completed"
     ]
    },
    {
     "name": "stderr",
     "output_type": "stream",
     "text": [
      "\n",
      "1 Failed download:\n",
      "['SPX']: Exception('%ticker%: No price data found, symbol may be delisted (1d 2023-11-27 17:19:08.013634 -> 2023-12-04 17:19:08.013634)')\n"
     ]
    },
    {
     "name": "stdout",
     "output_type": "stream",
     "text": [
      "\n",
      "single positional indexer is out-of-bounds\n",
      "[*********************100%%**********************]  1 of 1 completed"
     ]
    },
    {
     "name": "stderr",
     "output_type": "stream",
     "text": [
      "\n",
      "1 Failed download:\n",
      "['SPX']: Exception('%ticker%: No price data found, symbol may be delisted (1d 2023-11-27 17:19:08.013634 -> 2023-12-05 17:19:08.013634)')\n"
     ]
    },
    {
     "name": "stdout",
     "output_type": "stream",
     "text": [
      "\n",
      "single positional indexer is out-of-bounds\n",
      "[*********************100%%**********************]  1 of 1 completed"
     ]
    },
    {
     "name": "stderr",
     "output_type": "stream",
     "text": [
      "\n",
      "1 Failed download:\n",
      "['SPX']: Exception('%ticker%: No price data found, symbol may be delisted (1d 2023-11-27 17:19:08.013634 -> 2023-12-06 17:19:08.013634)')\n"
     ]
    },
    {
     "name": "stdout",
     "output_type": "stream",
     "text": [
      "\n",
      "single positional indexer is out-of-bounds\n",
      "[*********************100%%**********************]  1 of 1 completed"
     ]
    },
    {
     "name": "stderr",
     "output_type": "stream",
     "text": [
      "\n",
      "1 Failed download:\n",
      "['SPX']: Exception('%ticker%: No price data found, symbol may be delisted (1d 2023-11-27 17:19:08.013634 -> 2023-12-07 17:19:08.013634)')\n"
     ]
    },
    {
     "name": "stdout",
     "output_type": "stream",
     "text": [
      "\n",
      "single positional indexer is out-of-bounds\n",
      "[*********************100%%**********************]  1 of 1 completed"
     ]
    },
    {
     "name": "stderr",
     "output_type": "stream",
     "text": [
      "\n",
      "1 Failed download:\n",
      "['SPX']: Exception('%ticker%: No price data found, symbol may be delisted (1d 2023-11-27 17:19:08.013634 -> 2023-12-08 17:19:08.013634)')\n"
     ]
    },
    {
     "name": "stdout",
     "output_type": "stream",
     "text": [
      "\n",
      "single positional indexer is out-of-bounds\n",
      "[*********************100%%**********************]  1 of 1 completed"
     ]
    },
    {
     "name": "stderr",
     "output_type": "stream",
     "text": [
      "\n",
      "1 Failed download:\n",
      "['SPX']: Exception('%ticker%: No price data found, symbol may be delisted (1d 2023-11-27 17:19:08.013634 -> 2023-12-09 17:19:08.013634)')\n"
     ]
    },
    {
     "name": "stdout",
     "output_type": "stream",
     "text": [
      "\n",
      "single positional indexer is out-of-bounds\n",
      "[*********************100%%**********************]  1 of 1 completed"
     ]
    },
    {
     "name": "stderr",
     "output_type": "stream",
     "text": [
      "\n",
      "1 Failed download:\n",
      "['SPX']: Exception('%ticker%: No price data found, symbol may be delisted (1d 2023-11-27 17:19:08.013634 -> 2023-12-10 17:19:08.013634)')\n"
     ]
    },
    {
     "name": "stdout",
     "output_type": "stream",
     "text": [
      "\n",
      "single positional indexer is out-of-bounds\n",
      "[*********************100%%**********************]  1 of 1 completed"
     ]
    },
    {
     "name": "stderr",
     "output_type": "stream",
     "text": [
      "\n",
      "1 Failed download:\n",
      "['SPX']: Exception('%ticker%: No price data found, symbol may be delisted (1d 2023-11-27 17:19:08.013634 -> 2023-12-11 17:19:08.013634)')\n"
     ]
    },
    {
     "name": "stdout",
     "output_type": "stream",
     "text": [
      "\n",
      "single positional indexer is out-of-bounds\n",
      "[*********************100%%**********************]  1 of 1 completed"
     ]
    },
    {
     "name": "stderr",
     "output_type": "stream",
     "text": [
      "\n",
      "1 Failed download:\n",
      "['SPX']: Exception('%ticker%: No price data found, symbol may be delisted (1d 2023-11-27 17:19:08.013634 -> 2023-12-12 17:19:08.013634)')\n"
     ]
    },
    {
     "name": "stdout",
     "output_type": "stream",
     "text": [
      "\n",
      "single positional indexer is out-of-bounds\n",
      "[*********************100%%**********************]  1 of 1 completed\n",
      "[*********************100%%**********************]  1 of 1 completed\n",
      "[*********************100%%**********************]  1 of 1 completed\n",
      "[*********************100%%**********************]  1 of 1 completed\n",
      "[*********************100%%**********************]  1 of 1 completed\n",
      "single positional indexer is out-of-bounds\n",
      "[*********************100%%**********************]  1 of 1 completed\n",
      "single positional indexer is out-of-bounds\n",
      "[*********************100%%**********************]  1 of 1 completed\n",
      "single positional indexer is out-of-bounds\n",
      "[*********************100%%**********************]  1 of 1 completed\n",
      "single positional indexer is out-of-bounds\n",
      "[*********************100%%**********************]  1 of 1 completed\n",
      "single positional indexer is out-of-bounds\n",
      "[*********************100%%**********************]  1 of 1 completed\n",
      "single positional indexer is out-of-bounds\n",
      "[*********************100%%**********************]  1 of 1 completed\n",
      "single positional indexer is out-of-bounds\n",
      "[*********************100%%**********************]  1 of 1 completed\n",
      "single positional indexer is out-of-bounds\n",
      "[*********************100%%**********************]  1 of 1 completed\n",
      "single positional indexer is out-of-bounds\n",
      "[*********************100%%**********************]  1 of 1 completed\n",
      "single positional indexer is out-of-bounds\n",
      "[*********************100%%**********************]  1 of 1 completed\n",
      "single positional indexer is out-of-bounds\n",
      "[*********************100%%**********************]  1 of 1 completed\n",
      "[*********************100%%**********************]  1 of 1 completed\n",
      "[*********************100%%**********************]  1 of 1 completed\n",
      "[*********************100%%**********************]  1 of 1 completed\n",
      "[*********************100%%**********************]  1 of 1 completed\n",
      "single positional indexer is out-of-bounds\n",
      "[*********************100%%**********************]  1 of 1 completed\n",
      "single positional indexer is out-of-bounds\n",
      "[*********************100%%**********************]  1 of 1 completed\n",
      "single positional indexer is out-of-bounds\n",
      "[*********************100%%**********************]  1 of 1 completed\n",
      "single positional indexer is out-of-bounds\n",
      "[*********************100%%**********************]  1 of 1 completed\n",
      "single positional indexer is out-of-bounds\n",
      "[*********************100%%**********************]  1 of 1 completed\n",
      "single positional indexer is out-of-bounds\n",
      "[*********************100%%**********************]  1 of 1 completed\n",
      "single positional indexer is out-of-bounds\n",
      "[*********************100%%**********************]  1 of 1 completed\n",
      "single positional indexer is out-of-bounds\n",
      "[*********************100%%**********************]  1 of 1 completed\n",
      "single positional indexer is out-of-bounds\n",
      "[*********************100%%**********************]  1 of 1 completed\n",
      "single positional indexer is out-of-bounds\n",
      "[*********************100%%**********************]  1 of 1 completed\n",
      "single positional indexer is out-of-bounds\n",
      "[*********************100%%**********************]  1 of 1 completed\n",
      "[*********************100%%**********************]  1 of 1 completed\n",
      "[*********************100%%**********************]  1 of 1 completed\n",
      "[*********************100%%**********************]  1 of 1 completed\n",
      "[*********************100%%**********************]  1 of 1 completed\n",
      "single positional indexer is out-of-bounds\n",
      "[*********************100%%**********************]  1 of 1 completed\n",
      "single positional indexer is out-of-bounds\n",
      "[*********************100%%**********************]  1 of 1 completed\n",
      "single positional indexer is out-of-bounds\n",
      "[*********************100%%**********************]  1 of 1 completed\n",
      "single positional indexer is out-of-bounds\n",
      "[*********************100%%**********************]  1 of 1 completed\n",
      "single positional indexer is out-of-bounds\n",
      "[*********************100%%**********************]  1 of 1 completed\n",
      "single positional indexer is out-of-bounds\n",
      "[*********************100%%**********************]  1 of 1 completed\n",
      "single positional indexer is out-of-bounds\n",
      "[*********************100%%**********************]  1 of 1 completed\n",
      "single positional indexer is out-of-bounds\n",
      "[*********************100%%**********************]  1 of 1 completed\n",
      "single positional indexer is out-of-bounds\n",
      "[*********************100%%**********************]  1 of 1 completed\n",
      "single positional indexer is out-of-bounds\n",
      "[*********************100%%**********************]  1 of 1 completed\n",
      "single positional indexer is out-of-bounds\n",
      "[*********************100%%**********************]  1 of 1 completed\n",
      "[*********************100%%**********************]  1 of 1 completed\n",
      "[*********************100%%**********************]  1 of 1 completed\n",
      "[*********************100%%**********************]  1 of 1 completed\n",
      "[*********************100%%**********************]  1 of 1 completed\n",
      "single positional indexer is out-of-bounds\n",
      "[*********************100%%**********************]  1 of 1 completed\n",
      "single positional indexer is out-of-bounds\n",
      "[*********************100%%**********************]  1 of 1 completed\n",
      "single positional indexer is out-of-bounds\n",
      "[*********************100%%**********************]  1 of 1 completed\n",
      "single positional indexer is out-of-bounds\n",
      "[*********************100%%**********************]  1 of 1 completed\n",
      "single positional indexer is out-of-bounds\n",
      "[*********************100%%**********************]  1 of 1 completed\n",
      "single positional indexer is out-of-bounds\n",
      "[*********************100%%**********************]  1 of 1 completed\n",
      "single positional indexer is out-of-bounds\n",
      "[*********************100%%**********************]  1 of 1 completed\n",
      "single positional indexer is out-of-bounds\n",
      "[*********************100%%**********************]  1 of 1 completed\n",
      "single positional indexer is out-of-bounds\n",
      "[*********************100%%**********************]  1 of 1 completed\n",
      "single positional indexer is out-of-bounds\n",
      "[*********************100%%**********************]  1 of 1 completed\n",
      "single positional indexer is out-of-bounds\n",
      "[*********************100%%**********************]  1 of 1 completed\n",
      "[*********************100%%**********************]  1 of 1 completed\n",
      "[*********************100%%**********************]  1 of 1 completed\n",
      "[*********************100%%**********************]  1 of 1 completed\n",
      "[*********************100%%**********************]  1 of 1 completed\n",
      "single positional indexer is out-of-bounds\n",
      "[*********************100%%**********************]  1 of 1 completed\n",
      "single positional indexer is out-of-bounds\n",
      "[*********************100%%**********************]  1 of 1 completed\n",
      "single positional indexer is out-of-bounds\n",
      "[*********************100%%**********************]  1 of 1 completed\n",
      "single positional indexer is out-of-bounds\n",
      "[*********************100%%**********************]  1 of 1 completed\n",
      "single positional indexer is out-of-bounds\n",
      "[*********************100%%**********************]  1 of 1 completed\n",
      "single positional indexer is out-of-bounds\n",
      "[*********************100%%**********************]  1 of 1 completed\n",
      "single positional indexer is out-of-bounds\n",
      "[*********************100%%**********************]  1 of 1 completed\n",
      "single positional indexer is out-of-bounds\n",
      "[*********************100%%**********************]  1 of 1 completed\n",
      "single positional indexer is out-of-bounds\n",
      "[*********************100%%**********************]  1 of 1 completed\n",
      "single positional indexer is out-of-bounds\n",
      "[*********************100%%**********************]  1 of 1 completed\n",
      "single positional indexer is out-of-bounds\n",
      "[*********************100%%**********************]  1 of 1 completed\n",
      "[*********************100%%**********************]  1 of 1 completed\n",
      "[*********************100%%**********************]  1 of 1 completed\n",
      "[*********************100%%**********************]  1 of 1 completed\n",
      "[*********************100%%**********************]  1 of 1 completed\n",
      "single positional indexer is out-of-bounds\n",
      "[*********************100%%**********************]  1 of 1 completed\n",
      "single positional indexer is out-of-bounds\n",
      "[*********************100%%**********************]  1 of 1 completed\n",
      "single positional indexer is out-of-bounds\n",
      "[*********************100%%**********************]  1 of 1 completed\n",
      "single positional indexer is out-of-bounds\n",
      "[*********************100%%**********************]  1 of 1 completed\n",
      "single positional indexer is out-of-bounds\n",
      "[*********************100%%**********************]  1 of 1 completed\n",
      "single positional indexer is out-of-bounds\n",
      "[*********************100%%**********************]  1 of 1 completed\n",
      "single positional indexer is out-of-bounds\n",
      "[*********************100%%**********************]  1 of 1 completed\n",
      "single positional indexer is out-of-bounds\n",
      "[*********************100%%**********************]  1 of 1 completed\n",
      "single positional indexer is out-of-bounds\n",
      "[*********************100%%**********************]  1 of 1 completed\n",
      "single positional indexer is out-of-bounds\n",
      "[*********************100%%**********************]  1 of 1 completed\n",
      "single positional indexer is out-of-bounds\n",
      "[*********************100%%**********************]  1 of 1 completed\n",
      "[*********************100%%**********************]  1 of 1 completed\n",
      "[*********************100%%**********************]  1 of 1 completed\n",
      "[*********************100%%**********************]  1 of 1 completed\n",
      "[*********************100%%**********************]  1 of 1 completed\n",
      "single positional indexer is out-of-bounds\n",
      "[*********************100%%**********************]  1 of 1 completed\n",
      "single positional indexer is out-of-bounds\n",
      "[*********************100%%**********************]  1 of 1 completed\n",
      "single positional indexer is out-of-bounds\n",
      "[*********************100%%**********************]  1 of 1 completed\n",
      "single positional indexer is out-of-bounds\n",
      "[*********************100%%**********************]  1 of 1 completed\n",
      "single positional indexer is out-of-bounds\n",
      "[*********************100%%**********************]  1 of 1 completed\n",
      "single positional indexer is out-of-bounds\n",
      "[*********************100%%**********************]  1 of 1 completed\n",
      "single positional indexer is out-of-bounds\n",
      "[*********************100%%**********************]  1 of 1 completed\n",
      "single positional indexer is out-of-bounds\n",
      "[*********************100%%**********************]  1 of 1 completed\n",
      "single positional indexer is out-of-bounds\n",
      "[*********************100%%**********************]  1 of 1 completed\n",
      "single positional indexer is out-of-bounds\n",
      "[*********************100%%**********************]  1 of 1 completed\n",
      "single positional indexer is out-of-bounds\n",
      "[*********************100%%**********************]  1 of 1 completed\n",
      "[*********************100%%**********************]  1 of 1 completed\n",
      "[*********************100%%**********************]  1 of 1 completed\n",
      "[*********************100%%**********************]  1 of 1 completed\n",
      "[*********************100%%**********************]  1 of 1 completed\n",
      "single positional indexer is out-of-bounds\n",
      "[*********************100%%**********************]  1 of 1 completed\n",
      "single positional indexer is out-of-bounds\n",
      "[*********************100%%**********************]  1 of 1 completed\n",
      "single positional indexer is out-of-bounds\n",
      "[*********************100%%**********************]  1 of 1 completed\n",
      "single positional indexer is out-of-bounds\n",
      "[*********************100%%**********************]  1 of 1 completed\n",
      "single positional indexer is out-of-bounds\n",
      "[*********************100%%**********************]  1 of 1 completed\n",
      "single positional indexer is out-of-bounds\n",
      "[*********************100%%**********************]  1 of 1 completed\n",
      "single positional indexer is out-of-bounds\n",
      "[*********************100%%**********************]  1 of 1 completed\n",
      "single positional indexer is out-of-bounds\n",
      "[*********************100%%**********************]  1 of 1 completed\n",
      "single positional indexer is out-of-bounds\n",
      "[*********************100%%**********************]  1 of 1 completed\n",
      "single positional indexer is out-of-bounds\n",
      "[*********************100%%**********************]  1 of 1 completed\n",
      "single positional indexer is out-of-bounds\n",
      "[*********************100%%**********************]  1 of 1 completed\n",
      "[*********************100%%**********************]  1 of 1 completed\n",
      "[*********************100%%**********************]  1 of 1 completed\n",
      "[*********************100%%**********************]  1 of 1 completed\n",
      "[*********************100%%**********************]  1 of 1 completed\n",
      "single positional indexer is out-of-bounds\n",
      "[*********************100%%**********************]  1 of 1 completed\n",
      "single positional indexer is out-of-bounds\n",
      "[*********************100%%**********************]  1 of 1 completed\n",
      "single positional indexer is out-of-bounds\n",
      "[*********************100%%**********************]  1 of 1 completed\n",
      "single positional indexer is out-of-bounds\n",
      "[*********************100%%**********************]  1 of 1 completed\n",
      "single positional indexer is out-of-bounds\n",
      "[*********************100%%**********************]  1 of 1 completed\n",
      "single positional indexer is out-of-bounds\n",
      "[*********************100%%**********************]  1 of 1 completed\n",
      "single positional indexer is out-of-bounds\n",
      "[*********************100%%**********************]  1 of 1 completed\n",
      "single positional indexer is out-of-bounds\n",
      "[*********************100%%**********************]  1 of 1 completed\n",
      "single positional indexer is out-of-bounds\n",
      "[*********************100%%**********************]  1 of 1 completed\n",
      "single positional indexer is out-of-bounds\n",
      "[*********************100%%**********************]  1 of 1 completed\n",
      "single positional indexer is out-of-bounds\n",
      "[*********************100%%**********************]  1 of 1 completed\n",
      "[*********************100%%**********************]  1 of 1 completed\n",
      "[*********************100%%**********************]  1 of 1 completed\n",
      "[*********************100%%**********************]  1 of 1 completed\n",
      "[*********************100%%**********************]  1 of 1 completed\n",
      "single positional indexer is out-of-bounds\n",
      "[*********************100%%**********************]  1 of 1 completed\n",
      "single positional indexer is out-of-bounds\n",
      "[*********************100%%**********************]  1 of 1 completed\n",
      "single positional indexer is out-of-bounds\n",
      "[*********************100%%**********************]  1 of 1 completed\n",
      "single positional indexer is out-of-bounds\n",
      "[*********************100%%**********************]  1 of 1 completed\n",
      "single positional indexer is out-of-bounds\n",
      "[*********************100%%**********************]  1 of 1 completed\n",
      "single positional indexer is out-of-bounds\n",
      "[*********************100%%**********************]  1 of 1 completed\n",
      "single positional indexer is out-of-bounds\n",
      "[*********************100%%**********************]  1 of 1 completed\n",
      "single positional indexer is out-of-bounds\n",
      "[*********************100%%**********************]  1 of 1 completed\n",
      "single positional indexer is out-of-bounds\n",
      "[*********************100%%**********************]  1 of 1 completed\n",
      "single positional indexer is out-of-bounds\n",
      "[*********************100%%**********************]  1 of 1 completed\n",
      "single positional indexer is out-of-bounds\n",
      "[*********************100%%**********************]  1 of 1 completed\n",
      "[*********************100%%**********************]  1 of 1 completed\n",
      "[*********************100%%**********************]  1 of 1 completed\n",
      "[*********************100%%**********************]  1 of 1 completed\n",
      "[*********************100%%**********************]  1 of 1 completed\n",
      "single positional indexer is out-of-bounds\n",
      "[*********************100%%**********************]  1 of 1 completed\n",
      "single positional indexer is out-of-bounds\n",
      "[*********************100%%**********************]  1 of 1 completed\n",
      "single positional indexer is out-of-bounds\n",
      "[*********************100%%**********************]  1 of 1 completed\n",
      "single positional indexer is out-of-bounds\n",
      "[*********************100%%**********************]  1 of 1 completed\n",
      "single positional indexer is out-of-bounds\n",
      "[*********************100%%**********************]  1 of 1 completed\n",
      "single positional indexer is out-of-bounds\n",
      "[*********************100%%**********************]  1 of 1 completed\n",
      "single positional indexer is out-of-bounds\n",
      "[*********************100%%**********************]  1 of 1 completed\n",
      "single positional indexer is out-of-bounds\n",
      "[*********************100%%**********************]  1 of 1 completed\n",
      "single positional indexer is out-of-bounds\n",
      "[*********************100%%**********************]  1 of 1 completed\n",
      "single positional indexer is out-of-bounds\n",
      "[*********************100%%**********************]  1 of 1 completed\n",
      "single positional indexer is out-of-bounds\n",
      "[*********************100%%**********************]  1 of 1 completed\n",
      "[*********************100%%**********************]  1 of 1 completed\n",
      "[*********************100%%**********************]  1 of 1 completed\n",
      "[*********************100%%**********************]  1 of 1 completed\n",
      "[*********************100%%**********************]  1 of 1 completed\n",
      "single positional indexer is out-of-bounds\n",
      "[*********************100%%**********************]  1 of 1 completed\n",
      "single positional indexer is out-of-bounds\n",
      "[*********************100%%**********************]  1 of 1 completed\n",
      "single positional indexer is out-of-bounds\n",
      "[*********************100%%**********************]  1 of 1 completed\n",
      "single positional indexer is out-of-bounds\n",
      "[*********************100%%**********************]  1 of 1 completed\n",
      "single positional indexer is out-of-bounds\n",
      "[*********************100%%**********************]  1 of 1 completed\n",
      "single positional indexer is out-of-bounds\n",
      "[*********************100%%**********************]  1 of 1 completed\n",
      "single positional indexer is out-of-bounds\n",
      "[*********************100%%**********************]  1 of 1 completed\n",
      "single positional indexer is out-of-bounds\n",
      "[*********************100%%**********************]  1 of 1 completed\n",
      "single positional indexer is out-of-bounds\n",
      "[*********************100%%**********************]  1 of 1 completed\n",
      "single positional indexer is out-of-bounds\n",
      "[*********************100%%**********************]  1 of 1 completed\n",
      "single positional indexer is out-of-bounds\n",
      "[*********************100%%**********************]  1 of 1 completed\n",
      "[*********************100%%**********************]  1 of 1 completed\n",
      "[*********************100%%**********************]  1 of 1 completed\n",
      "[*********************100%%**********************]  1 of 1 completed\n",
      "[*********************100%%**********************]  1 of 1 completed\n",
      "single positional indexer is out-of-bounds\n",
      "[*********************100%%**********************]  1 of 1 completed\n",
      "single positional indexer is out-of-bounds\n",
      "[*********************100%%**********************]  1 of 1 completed\n",
      "single positional indexer is out-of-bounds\n",
      "[*********************100%%**********************]  1 of 1 completed\n",
      "single positional indexer is out-of-bounds\n",
      "[*********************100%%**********************]  1 of 1 completed\n",
      "single positional indexer is out-of-bounds\n",
      "[*********************100%%**********************]  1 of 1 completed\n",
      "single positional indexer is out-of-bounds\n",
      "[*********************100%%**********************]  1 of 1 completed\n",
      "single positional indexer is out-of-bounds\n",
      "[*********************100%%**********************]  1 of 1 completed\n",
      "single positional indexer is out-of-bounds\n",
      "[*********************100%%**********************]  1 of 1 completed\n",
      "single positional indexer is out-of-bounds\n",
      "[*********************100%%**********************]  1 of 1 completed\n",
      "single positional indexer is out-of-bounds\n",
      "[*********************100%%**********************]  1 of 1 completed\n",
      "single positional indexer is out-of-bounds\n",
      "[*********************100%%**********************]  1 of 1 completed\n",
      "[*********************100%%**********************]  1 of 1 completed\n",
      "[*********************100%%**********************]  1 of 1 completed\n",
      "[*********************100%%**********************]  1 of 1 completed\n",
      "[*********************100%%**********************]  1 of 1 completed\n",
      "single positional indexer is out-of-bounds\n",
      "[*********************100%%**********************]  1 of 1 completed\n",
      "single positional indexer is out-of-bounds\n",
      "[*********************100%%**********************]  1 of 1 completed\n",
      "single positional indexer is out-of-bounds\n",
      "[*********************100%%**********************]  1 of 1 completed\n",
      "single positional indexer is out-of-bounds\n",
      "[*********************100%%**********************]  1 of 1 completed\n",
      "single positional indexer is out-of-bounds\n",
      "[*********************100%%**********************]  1 of 1 completed\n",
      "single positional indexer is out-of-bounds\n",
      "[*********************100%%**********************]  1 of 1 completed\n",
      "single positional indexer is out-of-bounds\n",
      "[*********************100%%**********************]  1 of 1 completed\n",
      "single positional indexer is out-of-bounds\n",
      "[*********************100%%**********************]  1 of 1 completed\n",
      "single positional indexer is out-of-bounds\n",
      "[*********************100%%**********************]  1 of 1 completed\n",
      "single positional indexer is out-of-bounds\n",
      "[*********************100%%**********************]  1 of 1 completed\n",
      "single positional indexer is out-of-bounds\n",
      "[*********************100%%**********************]  1 of 1 completed\n",
      "[*********************100%%**********************]  1 of 1 completed\n",
      "[*********************100%%**********************]  1 of 1 completed\n",
      "[*********************100%%**********************]  1 of 1 completed\n",
      "[*********************100%%**********************]  1 of 1 completed\n",
      "single positional indexer is out-of-bounds\n",
      "[*********************100%%**********************]  1 of 1 completed\n",
      "single positional indexer is out-of-bounds\n",
      "[*********************100%%**********************]  1 of 1 completed\n",
      "single positional indexer is out-of-bounds\n",
      "[*********************100%%**********************]  1 of 1 completed\n",
      "single positional indexer is out-of-bounds\n",
      "[*********************100%%**********************]  1 of 1 completed\n",
      "single positional indexer is out-of-bounds\n",
      "[*********************100%%**********************]  1 of 1 completed\n",
      "single positional indexer is out-of-bounds\n",
      "[*********************100%%**********************]  1 of 1 completed\n",
      "single positional indexer is out-of-bounds\n",
      "[*********************100%%**********************]  1 of 1 completed\n",
      "single positional indexer is out-of-bounds\n",
      "[*********************100%%**********************]  1 of 1 completed\n",
      "single positional indexer is out-of-bounds\n",
      "[*********************100%%**********************]  1 of 1 completed\n",
      "single positional indexer is out-of-bounds\n",
      "[*********************100%%**********************]  1 of 1 completed\n",
      "single positional indexer is out-of-bounds\n",
      "[*********************100%%**********************]  1 of 1 completed\n",
      "[*********************100%%**********************]  1 of 1 completed\n",
      "[*********************100%%**********************]  1 of 1 completed\n",
      "[*********************100%%**********************]  1 of 1 completed\n",
      "[*********************100%%**********************]  1 of 1 completed\n",
      "single positional indexer is out-of-bounds\n",
      "[*********************100%%**********************]  1 of 1 completed\n",
      "single positional indexer is out-of-bounds\n",
      "[*********************100%%**********************]  1 of 1 completed\n",
      "single positional indexer is out-of-bounds\n",
      "[*********************100%%**********************]  1 of 1 completed\n",
      "single positional indexer is out-of-bounds\n",
      "[*********************100%%**********************]  1 of 1 completed\n",
      "single positional indexer is out-of-bounds\n",
      "[*********************100%%**********************]  1 of 1 completed\n",
      "single positional indexer is out-of-bounds\n",
      "[*********************100%%**********************]  1 of 1 completed\n",
      "single positional indexer is out-of-bounds\n",
      "[*********************100%%**********************]  1 of 1 completed\n",
      "single positional indexer is out-of-bounds\n",
      "[*********************100%%**********************]  1 of 1 completed\n",
      "single positional indexer is out-of-bounds\n",
      "[*********************100%%**********************]  1 of 1 completed\n",
      "single positional indexer is out-of-bounds\n",
      "[*********************100%%**********************]  1 of 1 completed\n",
      "single positional indexer is out-of-bounds\n",
      "[*********************100%%**********************]  1 of 1 completed\n",
      "[*********************100%%**********************]  1 of 1 completed\n",
      "[*********************100%%**********************]  1 of 1 completed\n",
      "[*********************100%%**********************]  1 of 1 completed\n",
      "[*********************100%%**********************]  1 of 1 completed\n",
      "single positional indexer is out-of-bounds\n",
      "[*********************100%%**********************]  1 of 1 completed\n",
      "single positional indexer is out-of-bounds\n",
      "[*********************100%%**********************]  1 of 1 completed\n",
      "single positional indexer is out-of-bounds\n",
      "[*********************100%%**********************]  1 of 1 completed\n",
      "single positional indexer is out-of-bounds\n",
      "[*********************100%%**********************]  1 of 1 completed\n",
      "single positional indexer is out-of-bounds\n",
      "[*********************100%%**********************]  1 of 1 completed\n",
      "single positional indexer is out-of-bounds\n",
      "[*********************100%%**********************]  1 of 1 completed\n",
      "single positional indexer is out-of-bounds\n",
      "[*********************100%%**********************]  1 of 1 completed\n",
      "single positional indexer is out-of-bounds\n",
      "[*********************100%%**********************]  1 of 1 completed\n",
      "single positional indexer is out-of-bounds\n",
      "[*********************100%%**********************]  1 of 1 completed\n",
      "single positional indexer is out-of-bounds\n",
      "[*********************100%%**********************]  1 of 1 completed\n",
      "single positional indexer is out-of-bounds\n",
      "[*********************100%%**********************]  1 of 1 completed\n",
      "[*********************100%%**********************]  1 of 1 completed\n",
      "[*********************100%%**********************]  1 of 1 completed\n",
      "[*********************100%%**********************]  1 of 1 completed\n",
      "[*********************100%%**********************]  1 of 1 completed\n",
      "single positional indexer is out-of-bounds\n",
      "[*********************100%%**********************]  1 of 1 completed\n",
      "single positional indexer is out-of-bounds\n",
      "[*********************100%%**********************]  1 of 1 completed\n",
      "single positional indexer is out-of-bounds\n",
      "[*********************100%%**********************]  1 of 1 completed\n",
      "single positional indexer is out-of-bounds\n",
      "[*********************100%%**********************]  1 of 1 completed\n",
      "single positional indexer is out-of-bounds\n",
      "[*********************100%%**********************]  1 of 1 completed\n",
      "single positional indexer is out-of-bounds\n",
      "[*********************100%%**********************]  1 of 1 completed\n",
      "single positional indexer is out-of-bounds\n",
      "[*********************100%%**********************]  1 of 1 completed\n",
      "single positional indexer is out-of-bounds\n",
      "[*********************100%%**********************]  1 of 1 completed\n",
      "single positional indexer is out-of-bounds\n",
      "[*********************100%%**********************]  1 of 1 completed\n",
      "single positional indexer is out-of-bounds\n",
      "[*********************100%%**********************]  1 of 1 completed\n",
      "single positional indexer is out-of-bounds\n",
      "[*********************100%%**********************]  1 of 1 completed\n",
      "[*********************100%%**********************]  1 of 1 completed\n",
      "[*********************100%%**********************]  1 of 1 completed\n",
      "[*********************100%%**********************]  1 of 1 completed\n",
      "[*********************100%%**********************]  1 of 1 completed\n",
      "single positional indexer is out-of-bounds\n",
      "[*********************100%%**********************]  1 of 1 completed\n",
      "single positional indexer is out-of-bounds\n",
      "[*********************100%%**********************]  1 of 1 completed\n",
      "single positional indexer is out-of-bounds\n",
      "[*********************100%%**********************]  1 of 1 completed\n",
      "single positional indexer is out-of-bounds\n",
      "[*********************100%%**********************]  1 of 1 completed\n",
      "single positional indexer is out-of-bounds\n",
      "[*********************100%%**********************]  1 of 1 completed\n",
      "single positional indexer is out-of-bounds\n",
      "[*********************100%%**********************]  1 of 1 completed\n",
      "single positional indexer is out-of-bounds\n",
      "[*********************100%%**********************]  1 of 1 completed\n",
      "single positional indexer is out-of-bounds\n",
      "[*********************100%%**********************]  1 of 1 completed\n",
      "single positional indexer is out-of-bounds\n",
      "[*********************100%%**********************]  1 of 1 completed\n",
      "single positional indexer is out-of-bounds\n",
      "[*********************100%%**********************]  1 of 1 completed\n",
      "single positional indexer is out-of-bounds\n",
      "[*********************100%%**********************]  1 of 1 completed\n",
      "[*********************100%%**********************]  1 of 1 completed\n",
      "[*********************100%%**********************]  1 of 1 completed\n",
      "[*********************100%%**********************]  1 of 1 completed\n",
      "[*********************100%%**********************]  1 of 1 completed\n",
      "single positional indexer is out-of-bounds\n",
      "[*********************100%%**********************]  1 of 1 completed\n",
      "single positional indexer is out-of-bounds\n",
      "[*********************100%%**********************]  1 of 1 completed\n",
      "single positional indexer is out-of-bounds\n",
      "[*********************100%%**********************]  1 of 1 completed\n",
      "single positional indexer is out-of-bounds\n",
      "[*********************100%%**********************]  1 of 1 completed\n",
      "single positional indexer is out-of-bounds\n",
      "[*********************100%%**********************]  1 of 1 completed\n",
      "single positional indexer is out-of-bounds\n",
      "[*********************100%%**********************]  1 of 1 completed\n",
      "single positional indexer is out-of-bounds\n",
      "[*********************100%%**********************]  1 of 1 completed\n",
      "single positional indexer is out-of-bounds\n",
      "[*********************100%%**********************]  1 of 1 completed\n",
      "single positional indexer is out-of-bounds\n",
      "[*********************100%%**********************]  1 of 1 completed\n",
      "single positional indexer is out-of-bounds\n",
      "[*********************100%%**********************]  1 of 1 completed\n",
      "single positional indexer is out-of-bounds\n",
      "[*********************100%%**********************]  1 of 1 completed\n",
      "[*********************100%%**********************]  1 of 1 completed\n",
      "[*********************100%%**********************]  1 of 1 completed\n",
      "[*********************100%%**********************]  1 of 1 completed\n",
      "[*********************100%%**********************]  1 of 1 completed\n",
      "single positional indexer is out-of-bounds\n",
      "[*********************100%%**********************]  1 of 1 completed\n",
      "single positional indexer is out-of-bounds\n",
      "[*********************100%%**********************]  1 of 1 completed\n",
      "single positional indexer is out-of-bounds\n",
      "[*********************100%%**********************]  1 of 1 completed\n",
      "single positional indexer is out-of-bounds\n",
      "[*********************100%%**********************]  1 of 1 completed\n",
      "single positional indexer is out-of-bounds\n",
      "[*********************100%%**********************]  1 of 1 completed\n",
      "single positional indexer is out-of-bounds\n",
      "[*********************100%%**********************]  1 of 1 completed\n",
      "single positional indexer is out-of-bounds\n",
      "[*********************100%%**********************]  1 of 1 completed\n",
      "single positional indexer is out-of-bounds\n",
      "[*********************100%%**********************]  1 of 1 completed\n",
      "single positional indexer is out-of-bounds\n",
      "[*********************100%%**********************]  1 of 1 completed\n",
      "single positional indexer is out-of-bounds\n",
      "[*********************100%%**********************]  1 of 1 completed\n",
      "single positional indexer is out-of-bounds\n",
      "[*********************100%%**********************]  1 of 1 completed\n",
      "[*********************100%%**********************]  1 of 1 completed\n",
      "[*********************100%%**********************]  1 of 1 completed\n",
      "[*********************100%%**********************]  1 of 1 completed\n",
      "[*********************100%%**********************]  1 of 1 completed\n",
      "single positional indexer is out-of-bounds\n",
      "[*********************100%%**********************]  1 of 1 completed\n",
      "single positional indexer is out-of-bounds\n",
      "[*********************100%%**********************]  1 of 1 completed\n",
      "single positional indexer is out-of-bounds\n",
      "[*********************100%%**********************]  1 of 1 completed\n",
      "single positional indexer is out-of-bounds\n",
      "[*********************100%%**********************]  1 of 1 completed\n",
      "single positional indexer is out-of-bounds\n",
      "[*********************100%%**********************]  1 of 1 completed\n",
      "single positional indexer is out-of-bounds\n",
      "[*********************100%%**********************]  1 of 1 completed\n",
      "single positional indexer is out-of-bounds\n",
      "[*********************100%%**********************]  1 of 1 completed\n",
      "single positional indexer is out-of-bounds\n",
      "[*********************100%%**********************]  1 of 1 completed\n",
      "single positional indexer is out-of-bounds\n",
      "[*********************100%%**********************]  1 of 1 completed\n",
      "single positional indexer is out-of-bounds\n",
      "[*********************100%%**********************]  1 of 1 completed\n",
      "single positional indexer is out-of-bounds\n",
      "[*********************100%%**********************]  1 of 1 completed\n",
      "[*********************100%%**********************]  1 of 1 completed\n",
      "[*********************100%%**********************]  1 of 1 completed\n",
      "[*********************100%%**********************]  1 of 1 completed\n",
      "[*********************100%%**********************]  1 of 1 completed\n",
      "single positional indexer is out-of-bounds\n",
      "[*********************100%%**********************]  1 of 1 completed\n",
      "single positional indexer is out-of-bounds\n",
      "[*********************100%%**********************]  1 of 1 completed\n",
      "single positional indexer is out-of-bounds\n",
      "[*********************100%%**********************]  1 of 1 completed\n",
      "single positional indexer is out-of-bounds\n",
      "[*********************100%%**********************]  1 of 1 completed\n",
      "single positional indexer is out-of-bounds\n",
      "[*********************100%%**********************]  1 of 1 completed\n",
      "single positional indexer is out-of-bounds\n",
      "[*********************100%%**********************]  1 of 1 completed\n",
      "single positional indexer is out-of-bounds\n",
      "[*********************100%%**********************]  1 of 1 completed\n",
      "single positional indexer is out-of-bounds\n",
      "[*********************100%%**********************]  1 of 1 completed\n",
      "single positional indexer is out-of-bounds\n",
      "[*********************100%%**********************]  1 of 1 completed\n",
      "single positional indexer is out-of-bounds\n",
      "[*********************100%%**********************]  1 of 1 completed\n",
      "single positional indexer is out-of-bounds\n",
      "[*********************100%%**********************]  1 of 1 completed\n",
      "[*********************100%%**********************]  1 of 1 completed\n",
      "[*********************100%%**********************]  1 of 1 completed\n",
      "[*********************100%%**********************]  1 of 1 completed\n",
      "[*********************100%%**********************]  1 of 1 completed\n",
      "single positional indexer is out-of-bounds\n",
      "[*********************100%%**********************]  1 of 1 completed\n",
      "single positional indexer is out-of-bounds\n",
      "[*********************100%%**********************]  1 of 1 completed\n",
      "single positional indexer is out-of-bounds\n",
      "[*********************100%%**********************]  1 of 1 completed\n",
      "single positional indexer is out-of-bounds\n",
      "[*********************100%%**********************]  1 of 1 completed\n",
      "single positional indexer is out-of-bounds\n",
      "[*********************100%%**********************]  1 of 1 completed\n",
      "single positional indexer is out-of-bounds\n",
      "[*********************100%%**********************]  1 of 1 completed\n",
      "single positional indexer is out-of-bounds\n",
      "[*********************100%%**********************]  1 of 1 completed\n",
      "single positional indexer is out-of-bounds\n",
      "[*********************100%%**********************]  1 of 1 completed\n",
      "single positional indexer is out-of-bounds\n",
      "[*********************100%%**********************]  1 of 1 completed\n",
      "single positional indexer is out-of-bounds\n",
      "[*********************100%%**********************]  1 of 1 completed\n",
      "single positional indexer is out-of-bounds\n",
      "[*********************100%%**********************]  1 of 1 completed\n",
      "[*********************100%%**********************]  1 of 1 completed\n",
      "[*********************100%%**********************]  1 of 1 completed\n",
      "[*********************100%%**********************]  1 of 1 completed\n",
      "[*********************100%%**********************]  1 of 1 completed\n",
      "single positional indexer is out-of-bounds\n",
      "[*********************100%%**********************]  1 of 1 completed\n",
      "single positional indexer is out-of-bounds\n",
      "[*********************100%%**********************]  1 of 1 completed\n",
      "single positional indexer is out-of-bounds\n",
      "[*********************100%%**********************]  1 of 1 completed\n",
      "single positional indexer is out-of-bounds\n",
      "[*********************100%%**********************]  1 of 1 completed\n",
      "single positional indexer is out-of-bounds\n",
      "[*********************100%%**********************]  1 of 1 completed\n",
      "single positional indexer is out-of-bounds\n",
      "[*********************100%%**********************]  1 of 1 completed\n",
      "single positional indexer is out-of-bounds\n",
      "[*********************100%%**********************]  1 of 1 completed\n",
      "single positional indexer is out-of-bounds\n",
      "[*********************100%%**********************]  1 of 1 completed\n",
      "single positional indexer is out-of-bounds\n",
      "[*********************100%%**********************]  1 of 1 completed\n",
      "single positional indexer is out-of-bounds\n",
      "[*********************100%%**********************]  1 of 1 completed\n",
      "single positional indexer is out-of-bounds\n",
      "[*********************100%%**********************]  1 of 1 completed"
     ]
    },
    {
     "name": "stderr",
     "output_type": "stream",
     "text": [
      "\n",
      "1 Failed download:\n",
      "['DWCREE']: Exception('%ticker%: No timezone found, symbol may be delisted')\n"
     ]
    },
    {
     "name": "stdout",
     "output_type": "stream",
     "text": [
      "\n",
      "single positional indexer is out-of-bounds\n",
      "[*********************100%%**********************]  1 of 1 completed"
     ]
    },
    {
     "name": "stderr",
     "output_type": "stream",
     "text": [
      "\n",
      "1 Failed download:\n",
      "['DWCREE']: Exception('%ticker%: No timezone found, symbol may be delisted')\n"
     ]
    },
    {
     "name": "stdout",
     "output_type": "stream",
     "text": [
      "\n",
      "single positional indexer is out-of-bounds\n",
      "[*********************100%%**********************]  1 of 1 completed"
     ]
    },
    {
     "name": "stderr",
     "output_type": "stream",
     "text": [
      "\n",
      "1 Failed download:\n",
      "['DWCREE']: Exception('%ticker%: No timezone found, symbol may be delisted')\n"
     ]
    },
    {
     "name": "stdout",
     "output_type": "stream",
     "text": [
      "\n",
      "single positional indexer is out-of-bounds\n",
      "[*********************100%%**********************]  1 of 1 completed"
     ]
    },
    {
     "name": "stderr",
     "output_type": "stream",
     "text": [
      "\n",
      "1 Failed download:\n",
      "['DWCREE']: Exception('%ticker%: No timezone found, symbol may be delisted')\n"
     ]
    },
    {
     "name": "stdout",
     "output_type": "stream",
     "text": [
      "\n",
      "single positional indexer is out-of-bounds\n",
      "[*********************100%%**********************]  1 of 1 completed"
     ]
    },
    {
     "name": "stderr",
     "output_type": "stream",
     "text": [
      "\n",
      "1 Failed download:\n",
      "['DWCREE']: Exception('%ticker%: No timezone found, symbol may be delisted')\n"
     ]
    },
    {
     "name": "stdout",
     "output_type": "stream",
     "text": [
      "\n",
      "single positional indexer is out-of-bounds\n",
      "[*********************100%%**********************]  1 of 1 completed"
     ]
    },
    {
     "name": "stderr",
     "output_type": "stream",
     "text": [
      "\n",
      "1 Failed download:\n",
      "['DWCREE']: Exception('%ticker%: No timezone found, symbol may be delisted')\n"
     ]
    },
    {
     "name": "stdout",
     "output_type": "stream",
     "text": [
      "\n",
      "single positional indexer is out-of-bounds\n",
      "[*********************100%%**********************]  1 of 1 completed"
     ]
    },
    {
     "name": "stderr",
     "output_type": "stream",
     "text": [
      "\n",
      "1 Failed download:\n",
      "['DWCREE']: Exception('%ticker%: No timezone found, symbol may be delisted')\n"
     ]
    },
    {
     "name": "stdout",
     "output_type": "stream",
     "text": [
      "\n",
      "single positional indexer is out-of-bounds\n",
      "[*********************100%%**********************]  1 of 1 completed"
     ]
    },
    {
     "name": "stderr",
     "output_type": "stream",
     "text": [
      "\n",
      "1 Failed download:\n",
      "['DWCREE']: Exception('%ticker%: No timezone found, symbol may be delisted')\n"
     ]
    },
    {
     "name": "stdout",
     "output_type": "stream",
     "text": [
      "\n",
      "single positional indexer is out-of-bounds\n",
      "[*********************100%%**********************]  1 of 1 completed"
     ]
    },
    {
     "name": "stderr",
     "output_type": "stream",
     "text": [
      "\n",
      "1 Failed download:\n",
      "['DWCREE']: Exception('%ticker%: No timezone found, symbol may be delisted')\n"
     ]
    },
    {
     "name": "stdout",
     "output_type": "stream",
     "text": [
      "\n",
      "single positional indexer is out-of-bounds\n",
      "[*********************100%%**********************]  1 of 1 completed"
     ]
    },
    {
     "name": "stderr",
     "output_type": "stream",
     "text": [
      "\n",
      "1 Failed download:\n",
      "['DWCREE']: Exception('%ticker%: No timezone found, symbol may be delisted')\n"
     ]
    },
    {
     "name": "stdout",
     "output_type": "stream",
     "text": [
      "\n",
      "single positional indexer is out-of-bounds\n",
      "[*********************100%%**********************]  1 of 1 completed"
     ]
    },
    {
     "name": "stderr",
     "output_type": "stream",
     "text": [
      "\n",
      "1 Failed download:\n",
      "['DWCREE']: Exception('%ticker%: No timezone found, symbol may be delisted')\n"
     ]
    },
    {
     "name": "stdout",
     "output_type": "stream",
     "text": [
      "\n",
      "single positional indexer is out-of-bounds\n",
      "[*********************100%%**********************]  1 of 1 completed"
     ]
    },
    {
     "name": "stderr",
     "output_type": "stream",
     "text": [
      "\n",
      "1 Failed download:\n",
      "['DWCREE']: Exception('%ticker%: No timezone found, symbol may be delisted')\n"
     ]
    },
    {
     "name": "stdout",
     "output_type": "stream",
     "text": [
      "\n",
      "single positional indexer is out-of-bounds\n",
      "[*********************100%%**********************]  1 of 1 completed"
     ]
    },
    {
     "name": "stderr",
     "output_type": "stream",
     "text": [
      "\n",
      "1 Failed download:\n",
      "['DWCREE']: Exception('%ticker%: No timezone found, symbol may be delisted')\n"
     ]
    },
    {
     "name": "stdout",
     "output_type": "stream",
     "text": [
      "\n",
      "single positional indexer is out-of-bounds\n",
      "[*********************100%%**********************]  1 of 1 completed"
     ]
    },
    {
     "name": "stderr",
     "output_type": "stream",
     "text": [
      "\n",
      "1 Failed download:\n",
      "['DWCREE']: Exception('%ticker%: No timezone found, symbol may be delisted')\n"
     ]
    },
    {
     "name": "stdout",
     "output_type": "stream",
     "text": [
      "\n",
      "single positional indexer is out-of-bounds\n",
      "[*********************100%%**********************]  1 of 1 completed"
     ]
    },
    {
     "name": "stderr",
     "output_type": "stream",
     "text": [
      "\n",
      "1 Failed download:\n",
      "['DWCREE']: Exception('%ticker%: No timezone found, symbol may be delisted')\n"
     ]
    },
    {
     "name": "stdout",
     "output_type": "stream",
     "text": [
      "\n",
      "single positional indexer is out-of-bounds\n",
      "[*********************100%%**********************]  1 of 1 completed"
     ]
    },
    {
     "name": "stderr",
     "output_type": "stream",
     "text": [
      "\n",
      "1 Failed download:\n",
      "['DJUSRA']: Exception('%ticker%: No timezone found, symbol may be delisted')\n"
     ]
    },
    {
     "name": "stdout",
     "output_type": "stream",
     "text": [
      "\n",
      "single positional indexer is out-of-bounds\n",
      "[*********************100%%**********************]  1 of 1 completed"
     ]
    },
    {
     "name": "stderr",
     "output_type": "stream",
     "text": [
      "\n",
      "1 Failed download:\n",
      "['DJUSRA']: Exception('%ticker%: No timezone found, symbol may be delisted')\n"
     ]
    },
    {
     "name": "stdout",
     "output_type": "stream",
     "text": [
      "\n",
      "single positional indexer is out-of-bounds\n",
      "[*********************100%%**********************]  1 of 1 completed"
     ]
    },
    {
     "name": "stderr",
     "output_type": "stream",
     "text": [
      "\n",
      "1 Failed download:\n",
      "['DJUSRA']: Exception('%ticker%: No timezone found, symbol may be delisted')\n"
     ]
    },
    {
     "name": "stdout",
     "output_type": "stream",
     "text": [
      "\n",
      "single positional indexer is out-of-bounds\n",
      "[*********************100%%**********************]  1 of 1 completed"
     ]
    },
    {
     "name": "stderr",
     "output_type": "stream",
     "text": [
      "\n",
      "1 Failed download:\n",
      "['DJUSRA']: Exception('%ticker%: No timezone found, symbol may be delisted')\n"
     ]
    },
    {
     "name": "stdout",
     "output_type": "stream",
     "text": [
      "\n",
      "single positional indexer is out-of-bounds\n",
      "[*********************100%%**********************]  1 of 1 completed"
     ]
    },
    {
     "name": "stderr",
     "output_type": "stream",
     "text": [
      "\n",
      "1 Failed download:\n",
      "['DJUSRA']: Exception('%ticker%: No timezone found, symbol may be delisted')\n"
     ]
    },
    {
     "name": "stdout",
     "output_type": "stream",
     "text": [
      "\n",
      "single positional indexer is out-of-bounds\n",
      "[*********************100%%**********************]  1 of 1 completed"
     ]
    },
    {
     "name": "stderr",
     "output_type": "stream",
     "text": [
      "\n",
      "1 Failed download:\n",
      "['DJUSRA']: Exception('%ticker%: No timezone found, symbol may be delisted')\n"
     ]
    },
    {
     "name": "stdout",
     "output_type": "stream",
     "text": [
      "\n",
      "single positional indexer is out-of-bounds\n",
      "[*********************100%%**********************]  1 of 1 completed"
     ]
    },
    {
     "name": "stderr",
     "output_type": "stream",
     "text": [
      "\n",
      "1 Failed download:\n",
      "['DJUSRA']: Exception('%ticker%: No timezone found, symbol may be delisted')\n"
     ]
    },
    {
     "name": "stdout",
     "output_type": "stream",
     "text": [
      "\n",
      "single positional indexer is out-of-bounds\n",
      "[*********************100%%**********************]  1 of 1 completed"
     ]
    },
    {
     "name": "stderr",
     "output_type": "stream",
     "text": [
      "\n",
      "1 Failed download:\n",
      "['DJUSRA']: Exception('%ticker%: No timezone found, symbol may be delisted')\n"
     ]
    },
    {
     "name": "stdout",
     "output_type": "stream",
     "text": [
      "\n",
      "single positional indexer is out-of-bounds\n",
      "[*********************100%%**********************]  1 of 1 completed"
     ]
    },
    {
     "name": "stderr",
     "output_type": "stream",
     "text": [
      "\n",
      "1 Failed download:\n",
      "['DJUSRA']: Exception('%ticker%: No timezone found, symbol may be delisted')\n"
     ]
    },
    {
     "name": "stdout",
     "output_type": "stream",
     "text": [
      "\n",
      "single positional indexer is out-of-bounds\n",
      "[*********************100%%**********************]  1 of 1 completed"
     ]
    },
    {
     "name": "stderr",
     "output_type": "stream",
     "text": [
      "\n",
      "1 Failed download:\n",
      "['DJUSRA']: Exception('%ticker%: No timezone found, symbol may be delisted')\n"
     ]
    },
    {
     "name": "stdout",
     "output_type": "stream",
     "text": [
      "\n",
      "single positional indexer is out-of-bounds\n",
      "[*********************100%%**********************]  1 of 1 completed"
     ]
    },
    {
     "name": "stderr",
     "output_type": "stream",
     "text": [
      "\n",
      "1 Failed download:\n",
      "['DJUSRA']: Exception('%ticker%: No timezone found, symbol may be delisted')\n"
     ]
    },
    {
     "name": "stdout",
     "output_type": "stream",
     "text": [
      "\n",
      "single positional indexer is out-of-bounds\n",
      "[*********************100%%**********************]  1 of 1 completed"
     ]
    },
    {
     "name": "stderr",
     "output_type": "stream",
     "text": [
      "\n",
      "1 Failed download:\n",
      "['DJUSRA']: Exception('%ticker%: No timezone found, symbol may be delisted')\n"
     ]
    },
    {
     "name": "stdout",
     "output_type": "stream",
     "text": [
      "\n",
      "single positional indexer is out-of-bounds\n",
      "[*********************100%%**********************]  1 of 1 completed"
     ]
    },
    {
     "name": "stderr",
     "output_type": "stream",
     "text": [
      "\n",
      "1 Failed download:\n",
      "['DJUSRA']: Exception('%ticker%: No timezone found, symbol may be delisted')\n"
     ]
    },
    {
     "name": "stdout",
     "output_type": "stream",
     "text": [
      "\n",
      "single positional indexer is out-of-bounds\n",
      "[*********************100%%**********************]  1 of 1 completed"
     ]
    },
    {
     "name": "stderr",
     "output_type": "stream",
     "text": [
      "\n",
      "1 Failed download:\n",
      "['DJUSRA']: Exception('%ticker%: No timezone found, symbol may be delisted')\n"
     ]
    },
    {
     "name": "stdout",
     "output_type": "stream",
     "text": [
      "\n",
      "single positional indexer is out-of-bounds\n",
      "[*********************100%%**********************]  1 of 1 completed"
     ]
    },
    {
     "name": "stderr",
     "output_type": "stream",
     "text": [
      "\n",
      "1 Failed download:\n",
      "['DJUSRA']: Exception('%ticker%: No timezone found, symbol may be delisted')\n"
     ]
    },
    {
     "name": "stdout",
     "output_type": "stream",
     "text": [
      "\n",
      "single positional indexer is out-of-bounds\n",
      "[*********************100%%**********************]  1 of 1 completed"
     ]
    },
    {
     "name": "stderr",
     "output_type": "stream",
     "text": [
      "\n",
      "1 Failed download:\n",
      "['DJUSIB']: Exception('%ticker%: No timezone found, symbol may be delisted')\n"
     ]
    },
    {
     "name": "stdout",
     "output_type": "stream",
     "text": [
      "\n",
      "single positional indexer is out-of-bounds\n",
      "[*********************100%%**********************]  1 of 1 completed"
     ]
    },
    {
     "name": "stderr",
     "output_type": "stream",
     "text": [
      "\n",
      "1 Failed download:\n",
      "['DJUSIB']: Exception('%ticker%: No timezone found, symbol may be delisted')\n"
     ]
    },
    {
     "name": "stdout",
     "output_type": "stream",
     "text": [
      "\n",
      "single positional indexer is out-of-bounds\n",
      "[*********************100%%**********************]  1 of 1 completed"
     ]
    },
    {
     "name": "stderr",
     "output_type": "stream",
     "text": [
      "\n",
      "1 Failed download:\n",
      "['DJUSIB']: Exception('%ticker%: No timezone found, symbol may be delisted')\n"
     ]
    },
    {
     "name": "stdout",
     "output_type": "stream",
     "text": [
      "\n",
      "single positional indexer is out-of-bounds\n",
      "[*********************100%%**********************]  1 of 1 completed"
     ]
    },
    {
     "name": "stderr",
     "output_type": "stream",
     "text": [
      "\n",
      "1 Failed download:\n",
      "['DJUSIB']: Exception('%ticker%: No timezone found, symbol may be delisted')\n"
     ]
    },
    {
     "name": "stdout",
     "output_type": "stream",
     "text": [
      "\n",
      "single positional indexer is out-of-bounds\n",
      "[*********************100%%**********************]  1 of 1 completed"
     ]
    },
    {
     "name": "stderr",
     "output_type": "stream",
     "text": [
      "\n",
      "1 Failed download:\n",
      "['DJUSIB']: Exception('%ticker%: No timezone found, symbol may be delisted')\n"
     ]
    },
    {
     "name": "stdout",
     "output_type": "stream",
     "text": [
      "\n",
      "single positional indexer is out-of-bounds\n",
      "[*********************100%%**********************]  1 of 1 completed"
     ]
    },
    {
     "name": "stderr",
     "output_type": "stream",
     "text": [
      "\n",
      "1 Failed download:\n",
      "['DJUSIB']: Exception('%ticker%: No timezone found, symbol may be delisted')\n"
     ]
    },
    {
     "name": "stdout",
     "output_type": "stream",
     "text": [
      "\n",
      "single positional indexer is out-of-bounds\n",
      "[*********************100%%**********************]  1 of 1 completed"
     ]
    },
    {
     "name": "stderr",
     "output_type": "stream",
     "text": [
      "\n",
      "1 Failed download:\n",
      "['DJUSIB']: Exception('%ticker%: No timezone found, symbol may be delisted')\n"
     ]
    },
    {
     "name": "stdout",
     "output_type": "stream",
     "text": [
      "\n",
      "single positional indexer is out-of-bounds\n",
      "[*********************100%%**********************]  1 of 1 completed"
     ]
    },
    {
     "name": "stderr",
     "output_type": "stream",
     "text": [
      "\n",
      "1 Failed download:\n",
      "['DJUSIB']: Exception('%ticker%: No timezone found, symbol may be delisted')\n"
     ]
    },
    {
     "name": "stdout",
     "output_type": "stream",
     "text": [
      "\n",
      "single positional indexer is out-of-bounds\n",
      "[*********************100%%**********************]  1 of 1 completed"
     ]
    },
    {
     "name": "stderr",
     "output_type": "stream",
     "text": [
      "\n",
      "1 Failed download:\n",
      "['DJUSIB']: Exception('%ticker%: No timezone found, symbol may be delisted')\n"
     ]
    },
    {
     "name": "stdout",
     "output_type": "stream",
     "text": [
      "\n",
      "single positional indexer is out-of-bounds\n",
      "[*********************100%%**********************]  1 of 1 completed"
     ]
    },
    {
     "name": "stderr",
     "output_type": "stream",
     "text": [
      "\n",
      "1 Failed download:\n",
      "['DJUSIB']: Exception('%ticker%: No timezone found, symbol may be delisted')\n"
     ]
    },
    {
     "name": "stdout",
     "output_type": "stream",
     "text": [
      "\n",
      "single positional indexer is out-of-bounds\n",
      "[*********************100%%**********************]  1 of 1 completed"
     ]
    },
    {
     "name": "stderr",
     "output_type": "stream",
     "text": [
      "\n",
      "1 Failed download:\n",
      "['DJUSIB']: Exception('%ticker%: No timezone found, symbol may be delisted')\n"
     ]
    },
    {
     "name": "stdout",
     "output_type": "stream",
     "text": [
      "\n",
      "single positional indexer is out-of-bounds\n",
      "[*********************100%%**********************]  1 of 1 completed"
     ]
    },
    {
     "name": "stderr",
     "output_type": "stream",
     "text": [
      "\n",
      "1 Failed download:\n",
      "['DJUSIB']: Exception('%ticker%: No timezone found, symbol may be delisted')\n"
     ]
    },
    {
     "name": "stdout",
     "output_type": "stream",
     "text": [
      "\n",
      "single positional indexer is out-of-bounds\n",
      "[*********************100%%**********************]  1 of 1 completed"
     ]
    },
    {
     "name": "stderr",
     "output_type": "stream",
     "text": [
      "\n",
      "1 Failed download:\n",
      "['DJUSIB']: Exception('%ticker%: No timezone found, symbol may be delisted')\n"
     ]
    },
    {
     "name": "stdout",
     "output_type": "stream",
     "text": [
      "\n",
      "single positional indexer is out-of-bounds\n",
      "[*********************100%%**********************]  1 of 1 completed"
     ]
    },
    {
     "name": "stderr",
     "output_type": "stream",
     "text": [
      "\n",
      "1 Failed download:\n",
      "['DJUSIB']: Exception('%ticker%: No timezone found, symbol may be delisted')\n"
     ]
    },
    {
     "name": "stdout",
     "output_type": "stream",
     "text": [
      "\n",
      "single positional indexer is out-of-bounds\n",
      "[*********************100%%**********************]  1 of 1 completed"
     ]
    },
    {
     "name": "stderr",
     "output_type": "stream",
     "text": [
      "\n",
      "1 Failed download:\n",
      "['DJUSIB']: Exception('%ticker%: No timezone found, symbol may be delisted')\n"
     ]
    },
    {
     "name": "stdout",
     "output_type": "stream",
     "text": [
      "\n",
      "single positional indexer is out-of-bounds\n",
      "[*********************100%%**********************]  1 of 1 completed"
     ]
    },
    {
     "name": "stderr",
     "output_type": "stream",
     "text": [
      "\n",
      "1 Failed download:\n",
      "['DJUSRD']: Exception('%ticker%: No timezone found, symbol may be delisted')\n"
     ]
    },
    {
     "name": "stdout",
     "output_type": "stream",
     "text": [
      "\n",
      "single positional indexer is out-of-bounds\n",
      "[*********************100%%**********************]  1 of 1 completed"
     ]
    },
    {
     "name": "stderr",
     "output_type": "stream",
     "text": [
      "\n",
      "1 Failed download:\n",
      "['DJUSRD']: Exception('%ticker%: No timezone found, symbol may be delisted')\n"
     ]
    },
    {
     "name": "stdout",
     "output_type": "stream",
     "text": [
      "\n",
      "single positional indexer is out-of-bounds\n",
      "[*********************100%%**********************]  1 of 1 completed"
     ]
    },
    {
     "name": "stderr",
     "output_type": "stream",
     "text": [
      "\n",
      "1 Failed download:\n",
      "['DJUSRD']: Exception('%ticker%: No timezone found, symbol may be delisted')\n"
     ]
    },
    {
     "name": "stdout",
     "output_type": "stream",
     "text": [
      "\n",
      "single positional indexer is out-of-bounds\n",
      "[*********************100%%**********************]  1 of 1 completed"
     ]
    },
    {
     "name": "stderr",
     "output_type": "stream",
     "text": [
      "\n",
      "1 Failed download:\n",
      "['DJUSRD']: Exception('%ticker%: No timezone found, symbol may be delisted')\n"
     ]
    },
    {
     "name": "stdout",
     "output_type": "stream",
     "text": [
      "\n",
      "single positional indexer is out-of-bounds\n",
      "[*********************100%%**********************]  1 of 1 completed"
     ]
    },
    {
     "name": "stderr",
     "output_type": "stream",
     "text": [
      "\n",
      "1 Failed download:\n",
      "['DJUSRD']: Exception('%ticker%: No timezone found, symbol may be delisted')\n"
     ]
    },
    {
     "name": "stdout",
     "output_type": "stream",
     "text": [
      "\n",
      "single positional indexer is out-of-bounds\n",
      "[*********************100%%**********************]  1 of 1 completed"
     ]
    },
    {
     "name": "stderr",
     "output_type": "stream",
     "text": [
      "\n",
      "1 Failed download:\n",
      "['DJUSRD']: Exception('%ticker%: No timezone found, symbol may be delisted')\n"
     ]
    },
    {
     "name": "stdout",
     "output_type": "stream",
     "text": [
      "\n",
      "single positional indexer is out-of-bounds\n",
      "[*********************100%%**********************]  1 of 1 completed"
     ]
    },
    {
     "name": "stderr",
     "output_type": "stream",
     "text": [
      "\n",
      "1 Failed download:\n",
      "['DJUSRD']: Exception('%ticker%: No timezone found, symbol may be delisted')\n"
     ]
    },
    {
     "name": "stdout",
     "output_type": "stream",
     "text": [
      "\n",
      "single positional indexer is out-of-bounds\n",
      "[*********************100%%**********************]  1 of 1 completed"
     ]
    },
    {
     "name": "stderr",
     "output_type": "stream",
     "text": [
      "\n",
      "1 Failed download:\n",
      "['DJUSRD']: Exception('%ticker%: No timezone found, symbol may be delisted')\n"
     ]
    },
    {
     "name": "stdout",
     "output_type": "stream",
     "text": [
      "\n",
      "single positional indexer is out-of-bounds\n",
      "[*********************100%%**********************]  1 of 1 completed"
     ]
    },
    {
     "name": "stderr",
     "output_type": "stream",
     "text": [
      "\n",
      "1 Failed download:\n",
      "['DJUSRD']: Exception('%ticker%: No timezone found, symbol may be delisted')\n"
     ]
    },
    {
     "name": "stdout",
     "output_type": "stream",
     "text": [
      "\n",
      "single positional indexer is out-of-bounds\n",
      "[*********************100%%**********************]  1 of 1 completed"
     ]
    },
    {
     "name": "stderr",
     "output_type": "stream",
     "text": [
      "\n",
      "1 Failed download:\n",
      "['DJUSRD']: Exception('%ticker%: No timezone found, symbol may be delisted')\n"
     ]
    },
    {
     "name": "stdout",
     "output_type": "stream",
     "text": [
      "\n",
      "single positional indexer is out-of-bounds\n",
      "[*********************100%%**********************]  1 of 1 completed"
     ]
    },
    {
     "name": "stderr",
     "output_type": "stream",
     "text": [
      "\n",
      "1 Failed download:\n",
      "['DJUSRD']: Exception('%ticker%: No timezone found, symbol may be delisted')\n"
     ]
    },
    {
     "name": "stdout",
     "output_type": "stream",
     "text": [
      "\n",
      "single positional indexer is out-of-bounds\n",
      "[*********************100%%**********************]  1 of 1 completed"
     ]
    },
    {
     "name": "stderr",
     "output_type": "stream",
     "text": [
      "\n",
      "1 Failed download:\n",
      "['DJUSRD']: Exception('%ticker%: No timezone found, symbol may be delisted')\n"
     ]
    },
    {
     "name": "stdout",
     "output_type": "stream",
     "text": [
      "\n",
      "single positional indexer is out-of-bounds\n",
      "[*********************100%%**********************]  1 of 1 completed"
     ]
    },
    {
     "name": "stderr",
     "output_type": "stream",
     "text": [
      "\n",
      "1 Failed download:\n",
      "['DJUSRD']: Exception('%ticker%: No timezone found, symbol may be delisted')\n"
     ]
    },
    {
     "name": "stdout",
     "output_type": "stream",
     "text": [
      "\n",
      "single positional indexer is out-of-bounds\n",
      "[*********************100%%**********************]  1 of 1 completed"
     ]
    },
    {
     "name": "stderr",
     "output_type": "stream",
     "text": [
      "\n",
      "1 Failed download:\n",
      "['DJUSRD']: Exception('%ticker%: No timezone found, symbol may be delisted')\n"
     ]
    },
    {
     "name": "stdout",
     "output_type": "stream",
     "text": [
      "\n",
      "single positional indexer is out-of-bounds\n",
      "[*********************100%%**********************]  1 of 1 completed"
     ]
    },
    {
     "name": "stderr",
     "output_type": "stream",
     "text": [
      "\n",
      "1 Failed download:\n",
      "['DJUSRD']: Exception('%ticker%: No timezone found, symbol may be delisted')\n"
     ]
    },
    {
     "name": "stdout",
     "output_type": "stream",
     "text": [
      "\n",
      "single positional indexer is out-of-bounds\n",
      "[*********************100%%**********************]  1 of 1 completed"
     ]
    },
    {
     "name": "stderr",
     "output_type": "stream",
     "text": [
      "\n",
      "1 Failed download:\n",
      "['DJUSMF']: Exception('%ticker%: No timezone found, symbol may be delisted')\n"
     ]
    },
    {
     "name": "stdout",
     "output_type": "stream",
     "text": [
      "\n",
      "single positional indexer is out-of-bounds\n",
      "[*********************100%%**********************]  1 of 1 completed"
     ]
    },
    {
     "name": "stderr",
     "output_type": "stream",
     "text": [
      "\n",
      "1 Failed download:\n"
     ]
    },
    {
     "name": "stdout",
     "output_type": "stream",
     "text": [
      "\n"
     ]
    },
    {
     "name": "stderr",
     "output_type": "stream",
     "text": [
      "['DJUSMF']: Exception('%ticker%: No timezone found, symbol may be delisted')\n"
     ]
    },
    {
     "name": "stdout",
     "output_type": "stream",
     "text": [
      "single positional indexer is out-of-bounds\n",
      "[*********************100%%**********************]  1 of 1 completed"
     ]
    },
    {
     "name": "stderr",
     "output_type": "stream",
     "text": [
      "\n",
      "1 Failed download:\n",
      "['DJUSMF']: Exception('%ticker%: No timezone found, symbol may be delisted')\n"
     ]
    },
    {
     "name": "stdout",
     "output_type": "stream",
     "text": [
      "\n",
      "single positional indexer is out-of-bounds\n",
      "[*********************100%%**********************]  1 of 1 completed"
     ]
    },
    {
     "name": "stderr",
     "output_type": "stream",
     "text": [
      "\n",
      "1 Failed download:\n",
      "['DJUSMF']: Exception('%ticker%: No timezone found, symbol may be delisted')\n"
     ]
    },
    {
     "name": "stdout",
     "output_type": "stream",
     "text": [
      "\n",
      "single positional indexer is out-of-bounds\n",
      "[*********************100%%**********************]  1 of 1 completed"
     ]
    },
    {
     "name": "stderr",
     "output_type": "stream",
     "text": [
      "\n",
      "1 Failed download:\n",
      "['DJUSMF']: Exception('%ticker%: No timezone found, symbol may be delisted')\n"
     ]
    },
    {
     "name": "stdout",
     "output_type": "stream",
     "text": [
      "\n",
      "single positional indexer is out-of-bounds\n",
      "[*********************100%%**********************]  1 of 1 completed"
     ]
    },
    {
     "name": "stderr",
     "output_type": "stream",
     "text": [
      "\n",
      "1 Failed download:\n",
      "['DJUSMF']: Exception('%ticker%: No timezone found, symbol may be delisted')\n"
     ]
    },
    {
     "name": "stdout",
     "output_type": "stream",
     "text": [
      "\n",
      "single positional indexer is out-of-bounds\n",
      "[*********************100%%**********************]  1 of 1 completed"
     ]
    },
    {
     "name": "stderr",
     "output_type": "stream",
     "text": [
      "\n",
      "1 Failed download:\n",
      "['DJUSMF']: Exception('%ticker%: No timezone found, symbol may be delisted')\n"
     ]
    },
    {
     "name": "stdout",
     "output_type": "stream",
     "text": [
      "\n",
      "single positional indexer is out-of-bounds\n",
      "[*********************100%%**********************]  1 of 1 completed"
     ]
    },
    {
     "name": "stderr",
     "output_type": "stream",
     "text": [
      "\n",
      "1 Failed download:\n",
      "['DJUSMF']: Exception('%ticker%: No timezone found, symbol may be delisted')\n"
     ]
    },
    {
     "name": "stdout",
     "output_type": "stream",
     "text": [
      "\n",
      "single positional indexer is out-of-bounds\n",
      "[*********************100%%**********************]  1 of 1 completed"
     ]
    },
    {
     "name": "stderr",
     "output_type": "stream",
     "text": [
      "\n",
      "1 Failed download:\n",
      "['DJUSMF']: Exception('%ticker%: No timezone found, symbol may be delisted')\n"
     ]
    },
    {
     "name": "stdout",
     "output_type": "stream",
     "text": [
      "\n",
      "single positional indexer is out-of-bounds\n",
      "[*********************100%%**********************]  1 of 1 completed"
     ]
    },
    {
     "name": "stderr",
     "output_type": "stream",
     "text": [
      "\n",
      "1 Failed download:\n",
      "['DJUSMF']: Exception('%ticker%: No timezone found, symbol may be delisted')\n"
     ]
    },
    {
     "name": "stdout",
     "output_type": "stream",
     "text": [
      "\n",
      "single positional indexer is out-of-bounds\n",
      "[*********************100%%**********************]  1 of 1 completed"
     ]
    },
    {
     "name": "stderr",
     "output_type": "stream",
     "text": [
      "\n",
      "1 Failed download:\n",
      "['DJUSMF']: Exception('%ticker%: No timezone found, symbol may be delisted')\n"
     ]
    },
    {
     "name": "stdout",
     "output_type": "stream",
     "text": [
      "\n",
      "single positional indexer is out-of-bounds\n",
      "[*********************100%%**********************]  1 of 1 completed"
     ]
    },
    {
     "name": "stderr",
     "output_type": "stream",
     "text": [
      "\n",
      "1 Failed download:\n",
      "['DJUSMF']: Exception('%ticker%: No timezone found, symbol may be delisted')\n"
     ]
    },
    {
     "name": "stdout",
     "output_type": "stream",
     "text": [
      "\n",
      "single positional indexer is out-of-bounds\n",
      "[*********************100%%**********************]  1 of 1 completed"
     ]
    },
    {
     "name": "stderr",
     "output_type": "stream",
     "text": [
      "\n",
      "1 Failed download:\n",
      "['DJUSMF']: Exception('%ticker%: No timezone found, symbol may be delisted')\n"
     ]
    },
    {
     "name": "stdout",
     "output_type": "stream",
     "text": [
      "\n",
      "single positional indexer is out-of-bounds\n",
      "[*********************100%%**********************]  1 of 1 completed"
     ]
    },
    {
     "name": "stderr",
     "output_type": "stream",
     "text": [
      "\n",
      "1 Failed download:\n",
      "['DJUSMF']: Exception('%ticker%: No timezone found, symbol may be delisted')\n"
     ]
    },
    {
     "name": "stdout",
     "output_type": "stream",
     "text": [
      "\n",
      "single positional indexer is out-of-bounds\n",
      "[*********************100%%**********************]  1 of 1 completed"
     ]
    },
    {
     "name": "stderr",
     "output_type": "stream",
     "text": [
      "\n",
      "1 Failed download:\n",
      "['DJUSMF']: Exception('%ticker%: No timezone found, symbol may be delisted')\n"
     ]
    },
    {
     "name": "stdout",
     "output_type": "stream",
     "text": [
      "\n",
      "single positional indexer is out-of-bounds\n",
      "[*********************100%%**********************]  1 of 1 completed"
     ]
    },
    {
     "name": "stderr",
     "output_type": "stream",
     "text": [
      "\n",
      "1 Failed download:\n",
      "['DJUSHN']: Exception('%ticker%: No timezone found, symbol may be delisted')\n"
     ]
    },
    {
     "name": "stdout",
     "output_type": "stream",
     "text": [
      "\n",
      "single positional indexer is out-of-bounds\n",
      "[*********************100%%**********************]  1 of 1 completed"
     ]
    },
    {
     "name": "stderr",
     "output_type": "stream",
     "text": [
      "\n",
      "1 Failed download:\n",
      "['DJUSHN']: Exception('%ticker%: No timezone found, symbol may be delisted')\n"
     ]
    },
    {
     "name": "stdout",
     "output_type": "stream",
     "text": [
      "\n",
      "single positional indexer is out-of-bounds\n",
      "[*********************100%%**********************]  1 of 1 completed"
     ]
    },
    {
     "name": "stderr",
     "output_type": "stream",
     "text": [
      "\n",
      "1 Failed download:\n",
      "['DJUSHN']: Exception('%ticker%: No timezone found, symbol may be delisted')\n"
     ]
    },
    {
     "name": "stdout",
     "output_type": "stream",
     "text": [
      "\n",
      "single positional indexer is out-of-bounds\n",
      "[*********************100%%**********************]  1 of 1 completed"
     ]
    },
    {
     "name": "stderr",
     "output_type": "stream",
     "text": [
      "\n",
      "1 Failed download:\n",
      "['DJUSHN']: Exception('%ticker%: No timezone found, symbol may be delisted')\n"
     ]
    },
    {
     "name": "stdout",
     "output_type": "stream",
     "text": [
      "\n",
      "single positional indexer is out-of-bounds\n",
      "[*********************100%%**********************]  1 of 1 completed"
     ]
    },
    {
     "name": "stderr",
     "output_type": "stream",
     "text": [
      "\n",
      "1 Failed download:\n",
      "['DJUSHN']: Exception('%ticker%: No timezone found, symbol may be delisted')\n"
     ]
    },
    {
     "name": "stdout",
     "output_type": "stream",
     "text": [
      "\n",
      "single positional indexer is out-of-bounds\n",
      "[*********************100%%**********************]  1 of 1 completed"
     ]
    },
    {
     "name": "stderr",
     "output_type": "stream",
     "text": [
      "\n",
      "1 Failed download:\n",
      "['DJUSHN']: Exception('%ticker%: No timezone found, symbol may be delisted')\n"
     ]
    },
    {
     "name": "stdout",
     "output_type": "stream",
     "text": [
      "\n",
      "single positional indexer is out-of-bounds\n",
      "[*********************100%%**********************]  1 of 1 completed"
     ]
    },
    {
     "name": "stderr",
     "output_type": "stream",
     "text": [
      "\n",
      "1 Failed download:\n",
      "['DJUSHN']: Exception('%ticker%: No timezone found, symbol may be delisted')\n"
     ]
    },
    {
     "name": "stdout",
     "output_type": "stream",
     "text": [
      "\n",
      "single positional indexer is out-of-bounds\n",
      "[*********************100%%**********************]  1 of 1 completed"
     ]
    },
    {
     "name": "stderr",
     "output_type": "stream",
     "text": [
      "\n",
      "1 Failed download:\n",
      "['DJUSHN']: Exception('%ticker%: No timezone found, symbol may be delisted')\n"
     ]
    },
    {
     "name": "stdout",
     "output_type": "stream",
     "text": [
      "\n",
      "single positional indexer is out-of-bounds\n",
      "[*********************100%%**********************]  1 of 1 completed"
     ]
    },
    {
     "name": "stderr",
     "output_type": "stream",
     "text": [
      "\n",
      "1 Failed download:\n",
      "['DJUSHN']: Exception('%ticker%: No timezone found, symbol may be delisted')\n"
     ]
    },
    {
     "name": "stdout",
     "output_type": "stream",
     "text": [
      "\n",
      "single positional indexer is out-of-bounds\n",
      "[*********************100%%**********************]  1 of 1 completed"
     ]
    },
    {
     "name": "stderr",
     "output_type": "stream",
     "text": [
      "\n",
      "1 Failed download:\n",
      "['DJUSHN']: Exception('%ticker%: No timezone found, symbol may be delisted')\n"
     ]
    },
    {
     "name": "stdout",
     "output_type": "stream",
     "text": [
      "\n",
      "single positional indexer is out-of-bounds\n",
      "[*********************100%%**********************]  1 of 1 completed"
     ]
    },
    {
     "name": "stderr",
     "output_type": "stream",
     "text": [
      "\n",
      "1 Failed download:\n",
      "['DJUSHN']: Exception('%ticker%: No timezone found, symbol may be delisted')\n"
     ]
    },
    {
     "name": "stdout",
     "output_type": "stream",
     "text": [
      "\n",
      "single positional indexer is out-of-bounds\n",
      "[*********************100%%**********************]  1 of 1 completed"
     ]
    },
    {
     "name": "stderr",
     "output_type": "stream",
     "text": [
      "\n",
      "1 Failed download:\n",
      "['DJUSHN']: Exception('%ticker%: No timezone found, symbol may be delisted')\n"
     ]
    },
    {
     "name": "stdout",
     "output_type": "stream",
     "text": [
      "\n",
      "single positional indexer is out-of-bounds\n",
      "[*********************100%%**********************]  1 of 1 completed"
     ]
    },
    {
     "name": "stderr",
     "output_type": "stream",
     "text": [
      "\n",
      "1 Failed download:\n",
      "['DJUSHN']: Exception('%ticker%: No timezone found, symbol may be delisted')\n"
     ]
    },
    {
     "name": "stdout",
     "output_type": "stream",
     "text": [
      "\n",
      "single positional indexer is out-of-bounds\n",
      "[*********************100%%**********************]  1 of 1 completed"
     ]
    },
    {
     "name": "stderr",
     "output_type": "stream",
     "text": [
      "\n",
      "1 Failed download:\n",
      "['DJUSHN']: Exception('%ticker%: No timezone found, symbol may be delisted')\n"
     ]
    },
    {
     "name": "stdout",
     "output_type": "stream",
     "text": [
      "\n",
      "single positional indexer is out-of-bounds\n",
      "[*********************100%%**********************]  1 of 1 completed"
     ]
    },
    {
     "name": "stderr",
     "output_type": "stream",
     "text": [
      "\n",
      "1 Failed download:\n",
      "['DJUSHN']: Exception('%ticker%: No timezone found, symbol may be delisted')\n"
     ]
    },
    {
     "name": "stdout",
     "output_type": "stream",
     "text": [
      "\n",
      "single positional indexer is out-of-bounds\n",
      "[*********************100%%**********************]  1 of 1 completed\n",
      "[*********************100%%**********************]  1 of 1 completed\n",
      "[*********************100%%**********************]  1 of 1 completed\n",
      "[*********************100%%**********************]  1 of 1 completed\n",
      "[*********************100%%**********************]  1 of 1 completed\n",
      "single positional indexer is out-of-bounds\n",
      "[*********************100%%**********************]  1 of 1 completed\n",
      "single positional indexer is out-of-bounds\n",
      "[*********************100%%**********************]  1 of 1 completed\n",
      "single positional indexer is out-of-bounds\n",
      "[*********************100%%**********************]  1 of 1 completed\n",
      "single positional indexer is out-of-bounds\n",
      "[*********************100%%**********************]  1 of 1 completed\n",
      "single positional indexer is out-of-bounds\n",
      "[*********************100%%**********************]  1 of 1 completed\n",
      "single positional indexer is out-of-bounds\n",
      "[*********************100%%**********************]  1 of 1 completed\n",
      "single positional indexer is out-of-bounds\n",
      "[*********************100%%**********************]  1 of 1 completed\n",
      "single positional indexer is out-of-bounds\n",
      "[*********************100%%**********************]  1 of 1 completed\n",
      "single positional indexer is out-of-bounds\n",
      "[*********************100%%**********************]  1 of 1 completed\n",
      "single positional indexer is out-of-bounds\n",
      "[*********************100%%**********************]  1 of 1 completed\n",
      "single positional indexer is out-of-bounds\n",
      "[*********************100%%**********************]  1 of 1 completed\n",
      "[*********************100%%**********************]  1 of 1 completed\n",
      "[*********************100%%**********************]  1 of 1 completed\n",
      "[*********************100%%**********************]  1 of 1 completed\n",
      "[*********************100%%**********************]  1 of 1 completed\n",
      "single positional indexer is out-of-bounds\n",
      "[*********************100%%**********************]  1 of 1 completed\n",
      "single positional indexer is out-of-bounds\n",
      "[*********************100%%**********************]  1 of 1 completed\n",
      "single positional indexer is out-of-bounds\n",
      "[*********************100%%**********************]  1 of 1 completed\n",
      "single positional indexer is out-of-bounds\n",
      "[*********************100%%**********************]  1 of 1 completed\n",
      "single positional indexer is out-of-bounds\n",
      "[*********************100%%**********************]  1 of 1 completed\n",
      "single positional indexer is out-of-bounds\n",
      "[*********************100%%**********************]  1 of 1 completed\n",
      "single positional indexer is out-of-bounds\n",
      "[*********************100%%**********************]  1 of 1 completed\n",
      "single positional indexer is out-of-bounds\n",
      "[*********************100%%**********************]  1 of 1 completed\n",
      "single positional indexer is out-of-bounds\n",
      "[*********************100%%**********************]  1 of 1 completed\n",
      "single positional indexer is out-of-bounds\n",
      "[*********************100%%**********************]  1 of 1 completed\n",
      "single positional indexer is out-of-bounds\n",
      "[*********************100%%**********************]  1 of 1 completed\n",
      "[*********************100%%**********************]  1 of 1 completed\n",
      "[*********************100%%**********************]  1 of 1 completed\n",
      "[*********************100%%**********************]  1 of 1 completed\n",
      "[*********************100%%**********************]  1 of 1 completed\n",
      "single positional indexer is out-of-bounds\n",
      "[*********************100%%**********************]  1 of 1 completed\n",
      "single positional indexer is out-of-bounds\n",
      "[*********************100%%**********************]  1 of 1 completed\n",
      "single positional indexer is out-of-bounds\n",
      "[*********************100%%**********************]  1 of 1 completed\n",
      "single positional indexer is out-of-bounds\n",
      "[*********************100%%**********************]  1 of 1 completed\n",
      "single positional indexer is out-of-bounds\n",
      "[*********************100%%**********************]  1 of 1 completed\n",
      "single positional indexer is out-of-bounds\n",
      "[*********************100%%**********************]  1 of 1 completed\n",
      "single positional indexer is out-of-bounds\n",
      "[*********************100%%**********************]  1 of 1 completed\n",
      "single positional indexer is out-of-bounds\n",
      "[*********************100%%**********************]  1 of 1 completed\n",
      "single positional indexer is out-of-bounds\n",
      "[*********************100%%**********************]  1 of 1 completed\n",
      "single positional indexer is out-of-bounds\n",
      "[*********************100%%**********************]  1 of 1 completed\n",
      "single positional indexer is out-of-bounds\n",
      "[*********************100%%**********************]  1 of 1 completed"
     ]
    },
    {
     "name": "stderr",
     "output_type": "stream",
     "text": [
      "\n",
      "1 Failed download:\n",
      "['TNX']: Exception('%ticker%: No price data found, symbol may be delisted (1d 2023-11-27 17:19:08.021948 -> 2023-11-28 17:19:08.021948)')\n"
     ]
    },
    {
     "name": "stdout",
     "output_type": "stream",
     "text": [
      "\n",
      "single positional indexer is out-of-bounds\n",
      "[*********************100%%**********************]  1 of 1 completed"
     ]
    },
    {
     "name": "stderr",
     "output_type": "stream",
     "text": [
      "\n",
      "1 Failed download:\n",
      "['TNX']: Exception('%ticker%: No price data found, symbol may be delisted (1d 2023-11-27 17:19:08.021948 -> 2023-11-29 17:19:08.021948)')\n"
     ]
    },
    {
     "name": "stdout",
     "output_type": "stream",
     "text": [
      "\n",
      "single positional indexer is out-of-bounds\n",
      "[*********************100%%**********************]  1 of 1 completed"
     ]
    },
    {
     "name": "stderr",
     "output_type": "stream",
     "text": [
      "\n",
      "1 Failed download:\n",
      "['TNX']: Exception('%ticker%: No price data found, symbol may be delisted (1d 2023-11-27 17:19:08.021948 -> 2023-11-30 17:19:08.021948)')\n"
     ]
    },
    {
     "name": "stdout",
     "output_type": "stream",
     "text": [
      "\n",
      "single positional indexer is out-of-bounds\n",
      "[*********************100%%**********************]  1 of 1 completed"
     ]
    },
    {
     "name": "stderr",
     "output_type": "stream",
     "text": [
      "\n",
      "1 Failed download:\n",
      "['TNX']: Exception('%ticker%: No price data found, symbol may be delisted (1d 2023-11-27 17:19:08.021948 -> 2023-12-01 17:19:08.021948)')\n"
     ]
    },
    {
     "name": "stdout",
     "output_type": "stream",
     "text": [
      "\n",
      "single positional indexer is out-of-bounds\n",
      "[*********************100%%**********************]  1 of 1 completed"
     ]
    },
    {
     "name": "stderr",
     "output_type": "stream",
     "text": [
      "\n",
      "1 Failed download:\n",
      "['TNX']: Exception('%ticker%: No price data found, symbol may be delisted (1d 2023-11-27 17:19:08.021948 -> 2023-12-02 17:19:08.021948)')\n"
     ]
    },
    {
     "name": "stdout",
     "output_type": "stream",
     "text": [
      "\n",
      "single positional indexer is out-of-bounds\n",
      "[*********************100%%**********************]  1 of 1 completed"
     ]
    },
    {
     "name": "stderr",
     "output_type": "stream",
     "text": [
      "\n",
      "1 Failed download:\n",
      "['TNX']: Exception('%ticker%: No price data found, symbol may be delisted (1d 2023-11-27 17:19:08.021948 -> 2023-12-03 17:19:08.021948)')\n"
     ]
    },
    {
     "name": "stdout",
     "output_type": "stream",
     "text": [
      "\n",
      "single positional indexer is out-of-bounds\n",
      "[*********************100%%**********************]  1 of 1 completed"
     ]
    },
    {
     "name": "stderr",
     "output_type": "stream",
     "text": [
      "\n",
      "1 Failed download:\n",
      "['TNX']: Exception('%ticker%: No price data found, symbol may be delisted (1d 2023-11-27 17:19:08.021948 -> 2023-12-04 17:19:08.021948)')\n"
     ]
    },
    {
     "name": "stdout",
     "output_type": "stream",
     "text": [
      "\n",
      "single positional indexer is out-of-bounds\n",
      "[*********************100%%**********************]  1 of 1 completed"
     ]
    },
    {
     "name": "stderr",
     "output_type": "stream",
     "text": [
      "\n",
      "1 Failed download:\n",
      "['TNX']: Exception('%ticker%: No price data found, symbol may be delisted (1d 2023-11-27 17:19:08.021948 -> 2023-12-05 17:19:08.021948)')\n"
     ]
    },
    {
     "name": "stdout",
     "output_type": "stream",
     "text": [
      "\n",
      "single positional indexer is out-of-bounds\n",
      "[*********************100%%**********************]  1 of 1 completed"
     ]
    },
    {
     "name": "stderr",
     "output_type": "stream",
     "text": [
      "\n",
      "1 Failed download:\n",
      "['TNX']: Exception('%ticker%: No price data found, symbol may be delisted (1d 2023-11-27 17:19:08.021948 -> 2023-12-06 17:19:08.021948)')\n"
     ]
    },
    {
     "name": "stdout",
     "output_type": "stream",
     "text": [
      "\n",
      "single positional indexer is out-of-bounds\n",
      "[*********************100%%**********************]  1 of 1 completed"
     ]
    },
    {
     "name": "stderr",
     "output_type": "stream",
     "text": [
      "\n",
      "1 Failed download:\n",
      "['TNX']: Exception('%ticker%: No price data found, symbol may be delisted (1d 2023-11-27 17:19:08.021948 -> 2023-12-07 17:19:08.021948)')\n"
     ]
    },
    {
     "name": "stdout",
     "output_type": "stream",
     "text": [
      "\n",
      "single positional indexer is out-of-bounds\n",
      "[*********************100%%**********************]  1 of 1 completed"
     ]
    },
    {
     "name": "stderr",
     "output_type": "stream",
     "text": [
      "\n",
      "1 Failed download:\n",
      "['TNX']: Exception('%ticker%: No price data found, symbol may be delisted (1d 2023-11-27 17:19:08.021948 -> 2023-12-08 17:19:08.021948)')\n"
     ]
    },
    {
     "name": "stdout",
     "output_type": "stream",
     "text": [
      "\n",
      "single positional indexer is out-of-bounds\n",
      "[*********************100%%**********************]  1 of 1 completed"
     ]
    },
    {
     "name": "stderr",
     "output_type": "stream",
     "text": [
      "\n",
      "1 Failed download:\n"
     ]
    },
    {
     "name": "stdout",
     "output_type": "stream",
     "text": [
      "\n"
     ]
    },
    {
     "name": "stderr",
     "output_type": "stream",
     "text": [
      "['TNX']: Exception('%ticker%: No price data found, symbol may be delisted (1d 2023-11-27 17:19:08.021948 -> 2023-12-09 17:19:08.021948)')\n"
     ]
    },
    {
     "name": "stdout",
     "output_type": "stream",
     "text": [
      "single positional indexer is out-of-bounds\n",
      "[*********************100%%**********************]  1 of 1 completed"
     ]
    },
    {
     "name": "stderr",
     "output_type": "stream",
     "text": [
      "\n",
      "1 Failed download:\n",
      "['TNX']: Exception('%ticker%: No price data found, symbol may be delisted (1d 2023-11-27 17:19:08.021948 -> 2023-12-10 17:19:08.021948)')\n"
     ]
    },
    {
     "name": "stdout",
     "output_type": "stream",
     "text": [
      "\n",
      "single positional indexer is out-of-bounds\n",
      "[*********************100%%**********************]  1 of 1 completed"
     ]
    },
    {
     "name": "stderr",
     "output_type": "stream",
     "text": [
      "\n",
      "1 Failed download:\n",
      "['TNX']: Exception('%ticker%: No price data found, symbol may be delisted (1d 2023-11-27 17:19:08.021948 -> 2023-12-11 17:19:08.021948)')\n"
     ]
    },
    {
     "name": "stdout",
     "output_type": "stream",
     "text": [
      "\n",
      "single positional indexer is out-of-bounds\n",
      "[*********************100%%**********************]  1 of 1 completed"
     ]
    },
    {
     "name": "stderr",
     "output_type": "stream",
     "text": [
      "\n",
      "1 Failed download:\n",
      "['TNX']: Exception('%ticker%: No price data found, symbol may be delisted (1d 2023-11-27 17:19:08.021948 -> 2023-12-12 17:19:08.021948)')\n"
     ]
    },
    {
     "name": "stdout",
     "output_type": "stream",
     "text": [
      "\n",
      "single positional indexer is out-of-bounds\n",
      "[*********************100%%**********************]  1 of 1 completed\n",
      "[*********************100%%**********************]  1 of 1 completed\n",
      "[*********************100%%**********************]  1 of 1 completed\n",
      "[*********************100%%**********************]  1 of 1 completed\n",
      "[*********************100%%**********************]  1 of 1 completed\n",
      "single positional indexer is out-of-bounds\n",
      "[*********************100%%**********************]  1 of 1 completed\n",
      "single positional indexer is out-of-bounds\n",
      "[*********************100%%**********************]  1 of 1 completed\n",
      "single positional indexer is out-of-bounds\n",
      "[*********************100%%**********************]  1 of 1 completed\n",
      "single positional indexer is out-of-bounds\n",
      "[*********************100%%**********************]  1 of 1 completed\n",
      "single positional indexer is out-of-bounds\n",
      "[*********************100%%**********************]  1 of 1 completed\n",
      "single positional indexer is out-of-bounds\n",
      "[*********************100%%**********************]  1 of 1 completed\n",
      "single positional indexer is out-of-bounds\n",
      "[*********************100%%**********************]  1 of 1 completed\n",
      "single positional indexer is out-of-bounds\n",
      "[*********************100%%**********************]  1 of 1 completed\n",
      "single positional indexer is out-of-bounds\n",
      "[*********************100%%**********************]  1 of 1 completed\n",
      "single positional indexer is out-of-bounds\n",
      "[*********************100%%**********************]  1 of 1 completed\n",
      "single positional indexer is out-of-bounds\n",
      "[*********************100%%**********************]  1 of 1 completed\n",
      "[*********************100%%**********************]  1 of 1 completed\n",
      "[*********************100%%**********************]  1 of 1 completed\n",
      "[*********************100%%**********************]  1 of 1 completed\n",
      "[*********************100%%**********************]  1 of 1 completed\n",
      "single positional indexer is out-of-bounds\n",
      "[*********************100%%**********************]  1 of 1 completed\n",
      "single positional indexer is out-of-bounds\n",
      "[*********************100%%**********************]  1 of 1 completed\n",
      "single positional indexer is out-of-bounds\n",
      "[*********************100%%**********************]  1 of 1 completed\n",
      "single positional indexer is out-of-bounds\n",
      "[*********************100%%**********************]  1 of 1 completed\n",
      "single positional indexer is out-of-bounds\n",
      "[*********************100%%**********************]  1 of 1 completed\n",
      "single positional indexer is out-of-bounds\n",
      "[*********************100%%**********************]  1 of 1 completed\n",
      "single positional indexer is out-of-bounds\n",
      "[*********************100%%**********************]  1 of 1 completed\n",
      "single positional indexer is out-of-bounds\n",
      "[*********************100%%**********************]  1 of 1 completed\n",
      "single positional indexer is out-of-bounds\n",
      "[*********************100%%**********************]  1 of 1 completed\n",
      "single positional indexer is out-of-bounds\n",
      "[*********************100%%**********************]  1 of 1 completed\n",
      "single positional indexer is out-of-bounds\n",
      "[*********************100%%**********************]  1 of 1 completed\n",
      "[*********************100%%**********************]  1 of 1 completed\n",
      "[*********************100%%**********************]  1 of 1 completed\n",
      "[*********************100%%**********************]  1 of 1 completed\n",
      "[*********************100%%**********************]  1 of 1 completed\n",
      "single positional indexer is out-of-bounds\n",
      "[*********************100%%**********************]  1 of 1 completed\n",
      "single positional indexer is out-of-bounds\n",
      "[*********************100%%**********************]  1 of 1 completed\n",
      "single positional indexer is out-of-bounds\n",
      "[*********************100%%**********************]  1 of 1 completed\n",
      "single positional indexer is out-of-bounds\n",
      "[*********************100%%**********************]  1 of 1 completed\n",
      "single positional indexer is out-of-bounds\n",
      "[*********************100%%**********************]  1 of 1 completed\n",
      "single positional indexer is out-of-bounds\n",
      "[*********************100%%**********************]  1 of 1 completed\n",
      "single positional indexer is out-of-bounds\n",
      "[*********************100%%**********************]  1 of 1 completed\n",
      "single positional indexer is out-of-bounds\n",
      "[*********************100%%**********************]  1 of 1 completed\n",
      "single positional indexer is out-of-bounds\n",
      "[*********************100%%**********************]  1 of 1 completed\n",
      "single positional indexer is out-of-bounds\n",
      "[*********************100%%**********************]  1 of 1 completed\n",
      "single positional indexer is out-of-bounds\n",
      "[*********************100%%**********************]  1 of 1 completed\n",
      "[*********************100%%**********************]  1 of 1 completed\n",
      "[*********************100%%**********************]  1 of 1 completed\n",
      "[*********************100%%**********************]  1 of 1 completed\n",
      "[*********************100%%**********************]  1 of 1 completed\n",
      "single positional indexer is out-of-bounds\n",
      "[*********************100%%**********************]  1 of 1 completed\n",
      "single positional indexer is out-of-bounds\n",
      "[*********************100%%**********************]  1 of 1 completed\n",
      "single positional indexer is out-of-bounds\n",
      "[*********************100%%**********************]  1 of 1 completed\n",
      "single positional indexer is out-of-bounds\n",
      "[*********************100%%**********************]  1 of 1 completed\n",
      "single positional indexer is out-of-bounds\n",
      "[*********************100%%**********************]  1 of 1 completed\n",
      "single positional indexer is out-of-bounds\n",
      "[*********************100%%**********************]  1 of 1 completed\n",
      "single positional indexer is out-of-bounds\n",
      "[*********************100%%**********************]  1 of 1 completed\n",
      "single positional indexer is out-of-bounds\n",
      "[*********************100%%**********************]  1 of 1 completed\n",
      "single positional indexer is out-of-bounds\n",
      "[*********************100%%**********************]  1 of 1 completed\n",
      "single positional indexer is out-of-bounds\n",
      "[*********************100%%**********************]  1 of 1 completed\n",
      "single positional indexer is out-of-bounds\n",
      "[*********************100%%**********************]  1 of 1 completed\n",
      "[*********************100%%**********************]  1 of 1 completed\n",
      "[*********************100%%**********************]  1 of 1 completed\n",
      "[*********************100%%**********************]  1 of 1 completed\n",
      "[*********************100%%**********************]  1 of 1 completed\n",
      "single positional indexer is out-of-bounds\n",
      "[*********************100%%**********************]  1 of 1 completed\n",
      "single positional indexer is out-of-bounds\n",
      "[*********************100%%**********************]  1 of 1 completed\n",
      "single positional indexer is out-of-bounds\n",
      "[*********************100%%**********************]  1 of 1 completed\n",
      "single positional indexer is out-of-bounds\n",
      "[*********************100%%**********************]  1 of 1 completed\n",
      "single positional indexer is out-of-bounds\n",
      "[*********************100%%**********************]  1 of 1 completed\n",
      "single positional indexer is out-of-bounds\n",
      "[*********************100%%**********************]  1 of 1 completed\n",
      "single positional indexer is out-of-bounds\n",
      "[*********************100%%**********************]  1 of 1 completed\n",
      "single positional indexer is out-of-bounds\n",
      "[*********************100%%**********************]  1 of 1 completed\n",
      "single positional indexer is out-of-bounds\n",
      "[*********************100%%**********************]  1 of 1 completed\n",
      "single positional indexer is out-of-bounds\n",
      "[*********************100%%**********************]  1 of 1 completed\n",
      "single positional indexer is out-of-bounds\n"
     ]
    }
   ],
   "source": [
    "yf.pdr_override()\n",
    "\n",
    "percentChange_list = []\n",
    "\n",
    "for row in dfInput.itertuples():\n",
    "    # to datetime object \n",
    "    Begindate = datetime.strptime(row.time, '%Y-%m-%d %H:%M:%S.%f')\n",
    "    \n",
    "    percentChange = []\n",
    "    \n",
    "    for i in range(1, 16):\n",
    "        # calculating end date by adding i days \n",
    "        Enddate = Begindate + timedelta(days=i) \n",
    "        try:\n",
    "            data = pdr.get_data_yahoo(row.mention.strip(), start=Begindate, end=Enddate)\n",
    "            percentChange_i = (data.iloc[i]['Close']-data.iloc[0]['Open'])/data.iloc[0]['Open']*100\n",
    "            percentChange.append(percentChange_i)\n",
    "        except Exception as e:\n",
    "            #print(e)\n",
    "            pass\n",
    "    \n",
    "    percentChange_list.append(percentChange)\n",
    "\n",
    "# Add the list to the dataframe\n",
    "dfInput['percentChange'] = percentChange_list\n"
   ]
  },
  {
   "cell_type": "code",
   "execution_count": 40,
   "metadata": {},
   "outputs": [
    {
     "ename": "IndexError",
     "evalue": "list index out of range",
     "output_type": "error",
     "traceback": [
      "\u001b[0;31m---------------------------------------------------------------------------\u001b[0m",
      "\u001b[0;31mIndexError\u001b[0m                                Traceback (most recent call last)",
      "\u001b[1;32m/Users/joeljk/Documents/GitHub/Fintech-AI/backend/yahoo.ipynb Cell 5\u001b[0m line \u001b[0;36m4\n\u001b[1;32m      <a href='vscode-notebook-cell:/Users/joeljk/Documents/GitHub/Fintech-AI/backend/yahoo.ipynb#W5sZmlsZQ%3D%3D?line=0'>1</a>\u001b[0m \u001b[39m#remove all rows that are nan in percentChange\u001b[39;00m\n\u001b[1;32m      <a href='vscode-notebook-cell:/Users/joeljk/Documents/GitHub/Fintech-AI/backend/yahoo.ipynb#W5sZmlsZQ%3D%3D?line=1'>2</a>\u001b[0m \u001b[39m# remove all rows that are nan in percentChange\u001b[39;00m\n\u001b[1;32m      <a href='vscode-notebook-cell:/Users/joeljk/Documents/GitHub/Fintech-AI/backend/yahoo.ipynb#W5sZmlsZQ%3D%3D?line=2'>3</a>\u001b[0m dfInput \u001b[39m=\u001b[39m dfInput\u001b[39m.\u001b[39mdropna(subset\u001b[39m=\u001b[39m[\u001b[39m'\u001b[39m\u001b[39mpercentChange\u001b[39m\u001b[39m'\u001b[39m])\n\u001b[0;32m----> <a href='vscode-notebook-cell:/Users/joeljk/Documents/GitHub/Fintech-AI/backend/yahoo.ipynb#W5sZmlsZQ%3D%3D?line=3'>4</a>\u001b[0m dfInput[\u001b[39m'\u001b[39m\u001b[39mpercentChange1\u001b[39m\u001b[39m'\u001b[39m] \u001b[39m=\u001b[39m dfInput[\u001b[39m'\u001b[39;49m\u001b[39mpercentChange\u001b[39;49m\u001b[39m'\u001b[39;49m]\u001b[39m.\u001b[39;49mapply(\u001b[39mlambda\u001b[39;49;00m x: x[\u001b[39m0\u001b[39;49m])\n",
      "File \u001b[0;32m~/miniconda3/envs/tensorflow_test/lib/python3.10/site-packages/pandas/core/series.py:4771\u001b[0m, in \u001b[0;36mSeries.apply\u001b[0;34m(self, func, convert_dtype, args, **kwargs)\u001b[0m\n\u001b[1;32m   4661\u001b[0m \u001b[39mdef\u001b[39;00m \u001b[39mapply\u001b[39m(\n\u001b[1;32m   4662\u001b[0m     \u001b[39mself\u001b[39m,\n\u001b[1;32m   4663\u001b[0m     func: AggFuncType,\n\u001b[0;32m   (...)\u001b[0m\n\u001b[1;32m   4666\u001b[0m     \u001b[39m*\u001b[39m\u001b[39m*\u001b[39mkwargs,\n\u001b[1;32m   4667\u001b[0m ) \u001b[39m-\u001b[39m\u001b[39m>\u001b[39m DataFrame \u001b[39m|\u001b[39m Series:\n\u001b[1;32m   4668\u001b[0m \u001b[39m    \u001b[39m\u001b[39m\"\"\"\u001b[39;00m\n\u001b[1;32m   4669\u001b[0m \u001b[39m    Invoke function on values of Series.\u001b[39;00m\n\u001b[1;32m   4670\u001b[0m \n\u001b[0;32m   (...)\u001b[0m\n\u001b[1;32m   4769\u001b[0m \u001b[39m    dtype: float64\u001b[39;00m\n\u001b[1;32m   4770\u001b[0m \u001b[39m    \"\"\"\u001b[39;00m\n\u001b[0;32m-> 4771\u001b[0m     \u001b[39mreturn\u001b[39;00m SeriesApply(\u001b[39mself\u001b[39;49m, func, convert_dtype, args, kwargs)\u001b[39m.\u001b[39;49mapply()\n",
      "File \u001b[0;32m~/miniconda3/envs/tensorflow_test/lib/python3.10/site-packages/pandas/core/apply.py:1123\u001b[0m, in \u001b[0;36mSeriesApply.apply\u001b[0;34m(self)\u001b[0m\n\u001b[1;32m   1120\u001b[0m     \u001b[39mreturn\u001b[39;00m \u001b[39mself\u001b[39m\u001b[39m.\u001b[39mapply_str()\n\u001b[1;32m   1122\u001b[0m \u001b[39m# self.f is Callable\u001b[39;00m\n\u001b[0;32m-> 1123\u001b[0m \u001b[39mreturn\u001b[39;00m \u001b[39mself\u001b[39;49m\u001b[39m.\u001b[39;49mapply_standard()\n",
      "File \u001b[0;32m~/miniconda3/envs/tensorflow_test/lib/python3.10/site-packages/pandas/core/apply.py:1174\u001b[0m, in \u001b[0;36mSeriesApply.apply_standard\u001b[0;34m(self)\u001b[0m\n\u001b[1;32m   1172\u001b[0m     \u001b[39melse\u001b[39;00m:\n\u001b[1;32m   1173\u001b[0m         values \u001b[39m=\u001b[39m obj\u001b[39m.\u001b[39mastype(\u001b[39mobject\u001b[39m)\u001b[39m.\u001b[39m_values\n\u001b[0;32m-> 1174\u001b[0m         mapped \u001b[39m=\u001b[39m lib\u001b[39m.\u001b[39;49mmap_infer(\n\u001b[1;32m   1175\u001b[0m             values,\n\u001b[1;32m   1176\u001b[0m             f,\n\u001b[1;32m   1177\u001b[0m             convert\u001b[39m=\u001b[39;49m\u001b[39mself\u001b[39;49m\u001b[39m.\u001b[39;49mconvert_dtype,\n\u001b[1;32m   1178\u001b[0m         )\n\u001b[1;32m   1180\u001b[0m \u001b[39mif\u001b[39;00m \u001b[39mlen\u001b[39m(mapped) \u001b[39mand\u001b[39;00m \u001b[39misinstance\u001b[39m(mapped[\u001b[39m0\u001b[39m], ABCSeries):\n\u001b[1;32m   1181\u001b[0m     \u001b[39m# GH#43986 Need to do list(mapped) in order to get treated as nested\u001b[39;00m\n\u001b[1;32m   1182\u001b[0m     \u001b[39m#  See also GH#25959 regarding EA support\u001b[39;00m\n\u001b[1;32m   1183\u001b[0m     \u001b[39mreturn\u001b[39;00m obj\u001b[39m.\u001b[39m_constructor_expanddim(\u001b[39mlist\u001b[39m(mapped), index\u001b[39m=\u001b[39mobj\u001b[39m.\u001b[39mindex)\n",
      "File \u001b[0;32m~/miniconda3/envs/tensorflow_test/lib/python3.10/site-packages/pandas/_libs/lib.pyx:2924\u001b[0m, in \u001b[0;36mpandas._libs.lib.map_infer\u001b[0;34m()\u001b[0m\n",
      "\u001b[1;32m/Users/joeljk/Documents/GitHub/Fintech-AI/backend/yahoo.ipynb Cell 5\u001b[0m line \u001b[0;36m4\n\u001b[1;32m      <a href='vscode-notebook-cell:/Users/joeljk/Documents/GitHub/Fintech-AI/backend/yahoo.ipynb#W5sZmlsZQ%3D%3D?line=0'>1</a>\u001b[0m \u001b[39m#remove all rows that are nan in percentChange\u001b[39;00m\n\u001b[1;32m      <a href='vscode-notebook-cell:/Users/joeljk/Documents/GitHub/Fintech-AI/backend/yahoo.ipynb#W5sZmlsZQ%3D%3D?line=1'>2</a>\u001b[0m \u001b[39m# remove all rows that are nan in percentChange\u001b[39;00m\n\u001b[1;32m      <a href='vscode-notebook-cell:/Users/joeljk/Documents/GitHub/Fintech-AI/backend/yahoo.ipynb#W5sZmlsZQ%3D%3D?line=2'>3</a>\u001b[0m dfInput \u001b[39m=\u001b[39m dfInput\u001b[39m.\u001b[39mdropna(subset\u001b[39m=\u001b[39m[\u001b[39m'\u001b[39m\u001b[39mpercentChange\u001b[39m\u001b[39m'\u001b[39m])\n\u001b[0;32m----> <a href='vscode-notebook-cell:/Users/joeljk/Documents/GitHub/Fintech-AI/backend/yahoo.ipynb#W5sZmlsZQ%3D%3D?line=3'>4</a>\u001b[0m dfInput[\u001b[39m'\u001b[39m\u001b[39mpercentChange1\u001b[39m\u001b[39m'\u001b[39m] \u001b[39m=\u001b[39m dfInput[\u001b[39m'\u001b[39m\u001b[39mpercentChange\u001b[39m\u001b[39m'\u001b[39m]\u001b[39m.\u001b[39mapply(\u001b[39mlambda\u001b[39;00m x: x[\u001b[39m0\u001b[39;49m])\n",
      "\u001b[0;31mIndexError\u001b[0m: list index out of range"
     ]
    }
   ],
   "source": [
    "#remove all rows that are nan in percentChange\n",
    "# remove all rows that are nan in percentChange\n",
    "dfInput = dfInput.dropna(subset=['percentChange'])\n",
    "dfInput['percentChange1'] = dfInput['percentChange'].apply(lambda x: x[0])\n"
   ]
  },
  {
   "cell_type": "code",
   "execution_count": null,
   "metadata": {},
   "outputs": [
    {
     "data": {
      "text/plain": [
       "-0.3326210764895274"
      ]
     },
     "execution_count": 19,
     "metadata": {},
     "output_type": "execute_result"
    }
   ],
   "source": [
    "dfInput['compound'].corr(dfInput['percentChange1'])"
   ]
  },
  {
   "cell_type": "code",
   "execution_count": null,
   "metadata": {},
   "outputs": [
    {
     "data": {
      "text/html": [
       "<div>\n",
       "<style scoped>\n",
       "    .dataframe tbody tr th:only-of-type {\n",
       "        vertical-align: middle;\n",
       "    }\n",
       "\n",
       "    .dataframe tbody tr th {\n",
       "        vertical-align: top;\n",
       "    }\n",
       "\n",
       "    .dataframe thead th {\n",
       "        text-align: right;\n",
       "    }\n",
       "</style>\n",
       "<table border=\"1\" class=\"dataframe\">\n",
       "  <thead>\n",
       "    <tr style=\"text-align: right;\">\n",
       "      <th></th>\n",
       "      <th>mention</th>\n",
       "      <th>source</th>\n",
       "      <th>time</th>\n",
       "      <th>compound</th>\n",
       "      <th>percentChange1</th>\n",
       "      <th>percentChange3</th>\n",
       "      <th>percentChange5</th>\n",
       "      <th>percentChange10</th>\n",
       "    </tr>\n",
       "  </thead>\n",
       "  <tbody>\n",
       "    <tr>\n",
       "      <th>0</th>\n",
       "      <td>msft</td>\n",
       "      <td>stockcharts</td>\n",
       "      <td>2023-11-07 10:01:35.688719</td>\n",
       "      <td>1</td>\n",
       "      <td>1</td>\n",
       "      <td>2.857546</td>\n",
       "      <td>3.024484</td>\n",
       "      <td>2.907627</td>\n",
       "    </tr>\n",
       "    <tr>\n",
       "      <th>1</th>\n",
       "      <td>mdlz</td>\n",
       "      <td>stockcharts</td>\n",
       "      <td>2023-11-07 10:01:35.688719</td>\n",
       "      <td>1</td>\n",
       "      <td>1</td>\n",
       "      <td>0.684634</td>\n",
       "      <td>2.112159</td>\n",
       "      <td>2.884189</td>\n",
       "    </tr>\n",
       "    <tr>\n",
       "      <th>2</th>\n",
       "      <td>xhb</td>\n",
       "      <td>stockcharts</td>\n",
       "      <td>2023-11-07 10:01:35.688719</td>\n",
       "      <td>1</td>\n",
       "      <td>1</td>\n",
       "      <td>1.492537</td>\n",
       "      <td>7.056821</td>\n",
       "      <td>7.894746</td>\n",
       "    </tr>\n",
       "    <tr>\n",
       "      <th>3</th>\n",
       "      <td>ief</td>\n",
       "      <td>stockcharts</td>\n",
       "      <td>2023-11-07 10:01:35.688719</td>\n",
       "      <td>0</td>\n",
       "      <td>0</td>\n",
       "      <td>-0.229783</td>\n",
       "      <td>1.214576</td>\n",
       "      <td>1.247401</td>\n",
       "    </tr>\n",
       "    <tr>\n",
       "      <th>4</th>\n",
       "      <td>nvda</td>\n",
       "      <td>stockcharts</td>\n",
       "      <td>2023-11-07 10:01:35.688719</td>\n",
       "      <td>1</td>\n",
       "      <td>1</td>\n",
       "      <td>5.721911</td>\n",
       "      <td>8.611298</td>\n",
       "      <td>7.828257</td>\n",
       "    </tr>\n",
       "    <tr>\n",
       "      <th>...</th>\n",
       "      <td>...</td>\n",
       "      <td>...</td>\n",
       "      <td>...</td>\n",
       "      <td>...</td>\n",
       "      <td>...</td>\n",
       "      <td>...</td>\n",
       "      <td>...</td>\n",
       "      <td>...</td>\n",
       "    </tr>\n",
       "    <tr>\n",
       "      <th>137</th>\n",
       "      <td>dish</td>\n",
       "      <td>Marketwatch / MarketPulse (up-to-the-minute ma...</td>\n",
       "      <td>2023-11-07 10:29:45.772448</td>\n",
       "      <td>1</td>\n",
       "      <td>1</td>\n",
       "      <td>2.077156</td>\n",
       "      <td>2.373892</td>\n",
       "      <td>5.934720</td>\n",
       "    </tr>\n",
       "    <tr>\n",
       "      <th>138</th>\n",
       "      <td>aig</td>\n",
       "      <td>Marketwatch / MarketPulse (up-to-the-minute ma...</td>\n",
       "      <td>2023-11-07 10:29:45.772448</td>\n",
       "      <td>1</td>\n",
       "      <td>0</td>\n",
       "      <td>-0.046983</td>\n",
       "      <td>0.563822</td>\n",
       "      <td>0.986695</td>\n",
       "    </tr>\n",
       "    <tr>\n",
       "      <th>139</th>\n",
       "      <td>crbg</td>\n",
       "      <td>Marketwatch / MarketPulse (up-to-the-minute ma...</td>\n",
       "      <td>2023-11-07 10:29:45.772448</td>\n",
       "      <td>1</td>\n",
       "      <td>0</td>\n",
       "      <td>-4.698977</td>\n",
       "      <td>-3.622123</td>\n",
       "      <td>-4.747926</td>\n",
       "    </tr>\n",
       "    <tr>\n",
       "      <th>140</th>\n",
       "      <td>gs</td>\n",
       "      <td>Marketwatch / MarketPulse (up-to-the-minute ma...</td>\n",
       "      <td>2023-11-07 10:29:45.772448</td>\n",
       "      <td>1</td>\n",
       "      <td>1</td>\n",
       "      <td>1.049267</td>\n",
       "      <td>5.150093</td>\n",
       "      <td>5.295998</td>\n",
       "    </tr>\n",
       "    <tr>\n",
       "      <th>141</th>\n",
       "      <td>jpm</td>\n",
       "      <td>Marketwatch / MarketPulse (up-to-the-minute ma...</td>\n",
       "      <td>2023-11-07 10:29:45.772448</td>\n",
       "      <td>1</td>\n",
       "      <td>1</td>\n",
       "      <td>2.034700</td>\n",
       "      <td>3.435306</td>\n",
       "      <td>6.487362</td>\n",
       "    </tr>\n",
       "  </tbody>\n",
       "</table>\n",
       "<p>118 rows × 8 columns</p>\n",
       "</div>"
      ],
      "text/plain": [
       "    mention                                             source  \\\n",
       "0      msft                                        stockcharts   \n",
       "1      mdlz                                        stockcharts   \n",
       "2       xhb                                        stockcharts   \n",
       "3       ief                                        stockcharts   \n",
       "4      nvda                                        stockcharts   \n",
       "..      ...                                                ...   \n",
       "137    dish  Marketwatch / MarketPulse (up-to-the-minute ma...   \n",
       "138     aig  Marketwatch / MarketPulse (up-to-the-minute ma...   \n",
       "139    crbg  Marketwatch / MarketPulse (up-to-the-minute ma...   \n",
       "140      gs  Marketwatch / MarketPulse (up-to-the-minute ma...   \n",
       "141     jpm  Marketwatch / MarketPulse (up-to-the-minute ma...   \n",
       "\n",
       "                           time  compound  percentChange1  percentChange3  \\\n",
       "0    2023-11-07 10:01:35.688719         1               1        2.857546   \n",
       "1    2023-11-07 10:01:35.688719         1               1        0.684634   \n",
       "2    2023-11-07 10:01:35.688719         1               1        1.492537   \n",
       "3    2023-11-07 10:01:35.688719         0               0       -0.229783   \n",
       "4    2023-11-07 10:01:35.688719         1               1        5.721911   \n",
       "..                          ...       ...             ...             ...   \n",
       "137  2023-11-07 10:29:45.772448         1               1        2.077156   \n",
       "138  2023-11-07 10:29:45.772448         1               0       -0.046983   \n",
       "139  2023-11-07 10:29:45.772448         1               0       -4.698977   \n",
       "140  2023-11-07 10:29:45.772448         1               1        1.049267   \n",
       "141  2023-11-07 10:29:45.772448         1               1        2.034700   \n",
       "\n",
       "     percentChange5  percentChange10  \n",
       "0          3.024484         2.907627  \n",
       "1          2.112159         2.884189  \n",
       "2          7.056821         7.894746  \n",
       "3          1.214576         1.247401  \n",
       "4          8.611298         7.828257  \n",
       "..              ...              ...  \n",
       "137        2.373892         5.934720  \n",
       "138        0.563822         0.986695  \n",
       "139       -3.622123        -4.747926  \n",
       "140        5.150093         5.295998  \n",
       "141        3.435306         6.487362  \n",
       "\n",
       "[118 rows x 8 columns]"
      ]
     },
     "execution_count": 33,
     "metadata": {},
     "output_type": "execute_result"
    }
   ],
   "source": [
    "dfInput"
   ]
  },
  {
   "cell_type": "code",
   "execution_count": null,
   "metadata": {},
   "outputs": [
    {
     "data": {
      "image/png": "[encoded data removed]",
      "text/plain": [
       "<Figure size 640x480 with 1 Axes>"
      ]
     },
     "metadata": {},
     "output_type": "display_data"
    }
   ],
   "source": [
    "plt.scatter(dfInput['compound'], dfInput['percentChange1'])\n",
    "plt.show()"
   ]
  },
  {
   "cell_type": "code",
   "execution_count": null,
   "metadata": {},
   "outputs": [
    {
     "data": {
      "text/html": [
       "<div>\n",
       "<style scoped>\n",
       "    .dataframe tbody tr th:only-of-type {\n",
       "        vertical-align: middle;\n",
       "    }\n",
       "\n",
       "    .dataframe tbody tr th {\n",
       "        vertical-align: top;\n",
       "    }\n",
       "\n",
       "    .dataframe thead th {\n",
       "        text-align: right;\n",
       "    }\n",
       "</style>\n",
       "<table border=\"1\" class=\"dataframe\">\n",
       "  <thead>\n",
       "    <tr style=\"text-align: right;\">\n",
       "      <th></th>\n",
       "      <th>mention</th>\n",
       "      <th>source</th>\n",
       "      <th>time</th>\n",
       "      <th>compound</th>\n",
       "      <th>percentChange1</th>\n",
       "      <th>percentChange3</th>\n",
       "      <th>percentChange5</th>\n",
       "      <th>percentChange10</th>\n",
       "    </tr>\n",
       "  </thead>\n",
       "  <tbody>\n",
       "    <tr>\n",
       "      <th>0</th>\n",
       "      <td>msft</td>\n",
       "      <td>stockcharts</td>\n",
       "      <td>2023-11-07 10:01:35.688719</td>\n",
       "      <td>1</td>\n",
       "      <td>1</td>\n",
       "      <td>2.857546</td>\n",
       "      <td>3.024484</td>\n",
       "      <td>2.907627</td>\n",
       "    </tr>\n",
       "    <tr>\n",
       "      <th>1</th>\n",
       "      <td>mdlz</td>\n",
       "      <td>stockcharts</td>\n",
       "      <td>2023-11-07 10:01:35.688719</td>\n",
       "      <td>1</td>\n",
       "      <td>1</td>\n",
       "      <td>0.684634</td>\n",
       "      <td>2.112159</td>\n",
       "      <td>2.884189</td>\n",
       "    </tr>\n",
       "    <tr>\n",
       "      <th>2</th>\n",
       "      <td>xhb</td>\n",
       "      <td>stockcharts</td>\n",
       "      <td>2023-11-07 10:01:35.688719</td>\n",
       "      <td>1</td>\n",
       "      <td>1</td>\n",
       "      <td>1.492537</td>\n",
       "      <td>7.056821</td>\n",
       "      <td>7.894746</td>\n",
       "    </tr>\n",
       "    <tr>\n",
       "      <th>3</th>\n",
       "      <td>ief</td>\n",
       "      <td>stockcharts</td>\n",
       "      <td>2023-11-07 10:01:35.688719</td>\n",
       "      <td>0</td>\n",
       "      <td>0</td>\n",
       "      <td>-0.229783</td>\n",
       "      <td>1.214576</td>\n",
       "      <td>1.247401</td>\n",
       "    </tr>\n",
       "    <tr>\n",
       "      <th>4</th>\n",
       "      <td>nvda</td>\n",
       "      <td>stockcharts</td>\n",
       "      <td>2023-11-07 10:01:35.688719</td>\n",
       "      <td>1</td>\n",
       "      <td>1</td>\n",
       "      <td>5.721911</td>\n",
       "      <td>8.611298</td>\n",
       "      <td>7.828257</td>\n",
       "    </tr>\n",
       "    <tr>\n",
       "      <th>...</th>\n",
       "      <td>...</td>\n",
       "      <td>...</td>\n",
       "      <td>...</td>\n",
       "      <td>...</td>\n",
       "      <td>...</td>\n",
       "      <td>...</td>\n",
       "      <td>...</td>\n",
       "      <td>...</td>\n",
       "    </tr>\n",
       "    <tr>\n",
       "      <th>137</th>\n",
       "      <td>dish</td>\n",
       "      <td>Marketwatch / MarketPulse (up-to-the-minute ma...</td>\n",
       "      <td>2023-11-07 10:29:45.772448</td>\n",
       "      <td>1</td>\n",
       "      <td>1</td>\n",
       "      <td>2.077156</td>\n",
       "      <td>2.373892</td>\n",
       "      <td>5.934720</td>\n",
       "    </tr>\n",
       "    <tr>\n",
       "      <th>138</th>\n",
       "      <td>aig</td>\n",
       "      <td>Marketwatch / MarketPulse (up-to-the-minute ma...</td>\n",
       "      <td>2023-11-07 10:29:45.772448</td>\n",
       "      <td>1</td>\n",
       "      <td>0</td>\n",
       "      <td>-0.046983</td>\n",
       "      <td>0.563822</td>\n",
       "      <td>0.986695</td>\n",
       "    </tr>\n",
       "    <tr>\n",
       "      <th>139</th>\n",
       "      <td>crbg</td>\n",
       "      <td>Marketwatch / MarketPulse (up-to-the-minute ma...</td>\n",
       "      <td>2023-11-07 10:29:45.772448</td>\n",
       "      <td>1</td>\n",
       "      <td>0</td>\n",
       "      <td>-4.698977</td>\n",
       "      <td>-3.622123</td>\n",
       "      <td>-4.747926</td>\n",
       "    </tr>\n",
       "    <tr>\n",
       "      <th>140</th>\n",
       "      <td>gs</td>\n",
       "      <td>Marketwatch / MarketPulse (up-to-the-minute ma...</td>\n",
       "      <td>2023-11-07 10:29:45.772448</td>\n",
       "      <td>1</td>\n",
       "      <td>1</td>\n",
       "      <td>1.049267</td>\n",
       "      <td>5.150093</td>\n",
       "      <td>5.295998</td>\n",
       "    </tr>\n",
       "    <tr>\n",
       "      <th>141</th>\n",
       "      <td>jpm</td>\n",
       "      <td>Marketwatch / MarketPulse (up-to-the-minute ma...</td>\n",
       "      <td>2023-11-07 10:29:45.772448</td>\n",
       "      <td>1</td>\n",
       "      <td>1</td>\n",
       "      <td>2.034700</td>\n",
       "      <td>3.435306</td>\n",
       "      <td>6.487362</td>\n",
       "    </tr>\n",
       "  </tbody>\n",
       "</table>\n",
       "<p>118 rows × 8 columns</p>\n",
       "</div>"
      ],
      "text/plain": [
       "    mention                                             source  \\\n",
       "0      msft                                        stockcharts   \n",
       "1      mdlz                                        stockcharts   \n",
       "2       xhb                                        stockcharts   \n",
       "3       ief                                        stockcharts   \n",
       "4      nvda                                        stockcharts   \n",
       "..      ...                                                ...   \n",
       "137    dish  Marketwatch / MarketPulse (up-to-the-minute ma...   \n",
       "138     aig  Marketwatch / MarketPulse (up-to-the-minute ma...   \n",
       "139    crbg  Marketwatch / MarketPulse (up-to-the-minute ma...   \n",
       "140      gs  Marketwatch / MarketPulse (up-to-the-minute ma...   \n",
       "141     jpm  Marketwatch / MarketPulse (up-to-the-minute ma...   \n",
       "\n",
       "                           time  compound  percentChange1  percentChange3  \\\n",
       "0    2023-11-07 10:01:35.688719         1               1        2.857546   \n",
       "1    2023-11-07 10:01:35.688719         1               1        0.684634   \n",
       "2    2023-11-07 10:01:35.688719         1               1        1.492537   \n",
       "3    2023-11-07 10:01:35.688719         0               0       -0.229783   \n",
       "4    2023-11-07 10:01:35.688719         1               1        5.721911   \n",
       "..                          ...       ...             ...             ...   \n",
       "137  2023-11-07 10:29:45.772448         1               1        2.077156   \n",
       "138  2023-11-07 10:29:45.772448         1               0       -0.046983   \n",
       "139  2023-11-07 10:29:45.772448         1               0       -4.698977   \n",
       "140  2023-11-07 10:29:45.772448         1               1        1.049267   \n",
       "141  2023-11-07 10:29:45.772448         1               1        2.034700   \n",
       "\n",
       "     percentChange5  percentChange10  \n",
       "0          3.024484         2.907627  \n",
       "1          2.112159         2.884189  \n",
       "2          7.056821         7.894746  \n",
       "3          1.214576         1.247401  \n",
       "4          8.611298         7.828257  \n",
       "..              ...              ...  \n",
       "137        2.373892         5.934720  \n",
       "138        0.563822         0.986695  \n",
       "139       -3.622123        -4.747926  \n",
       "140        5.150093         5.295998  \n",
       "141        3.435306         6.487362  \n",
       "\n",
       "[118 rows x 8 columns]"
      ]
     },
     "execution_count": 22,
     "metadata": {},
     "output_type": "execute_result"
    }
   ],
   "source": [
    "dfExp = dfInput\n",
    "#get a binary value for percentChange1 if it is positive or negative\n",
    "dfExp['percentChange1'] = dfExp['percentChange3'].apply(lambda x: 1 if x > 0 else 0)\n",
    "#get a binary value if compound is positive or negative with the average of the compound as the threshhold\n",
    "dfExp['compound'] = dfExp['compound'].apply(lambda x: 1 if x > dfExp['compound'].mean() else 0)\n",
    "dfExp\n"
   ]
  },
  {
   "cell_type": "code",
   "execution_count": null,
   "metadata": {},
   "outputs": [
    {
     "data": {
      "text/plain": [
       "array([[20, 28],\n",
       "       [30, 40]])"
      ]
     },
     "execution_count": 23,
     "metadata": {},
     "output_type": "execute_result"
    }
   ],
   "source": [
    "#create a confusion matrix\n",
    "from sklearn.metrics import confusion_matrix\n",
    "confusion_matrix(dfExp['compound'], dfExp['percentChange1'])\n",
    "\n"
   ]
  },
  {
   "cell_type": "code",
   "execution_count": null,
   "metadata": {},
   "outputs": [
    {
     "data": {
      "image/png": "[encoded data removed]",
      "text/plain": [
       "<Figure size 640x480 with 2 Axes>"
      ]
     },
     "metadata": {},
     "output_type": "display_data"
    },
    {
     "data": {
      "text/plain": [
       "<Figure size 640x480 with 0 Axes>"
      ]
     },
     "metadata": {},
     "output_type": "display_data"
    }
   ],
   "source": [
    "#explain which ones is true positive, true negative, false positive, false negative\n",
    "#true positive: 1,1\n",
    "#true negative: 0,0\n",
    "#false positive: 0,1\n",
    "#false negative: 1,0\n",
    "#and which ones is where\n",
    "#visualize the confusion matrix\n",
    "import seaborn as sns\n",
    "sns.heatmap(confusion_matrix(dfExp['compound'], dfExp['percentChange1']), annot=True, cmap='Blues')\n",
    "plt.ylabel('Measured')\n",
    "plt.xlabel('Predicted')\n",
    "#replace the 0,1 with the labels rise and fall\n",
    "tick_marks = [0.5,1.5]\n",
    "plt.xticks(tick_marks, ['fall', 'rise'])\n",
    "plt.yticks(tick_marks, ['fall', 'rise'])\n",
    "plt.show()\n",
    "\n",
    "plt.savefig('confusion_matrix.png', bbox_inches='tight')\n"
   ]
  },
  {
   "cell_type": "code",
   "execution_count": null,
   "metadata": {},
   "outputs": [],
   "source": [
    "#sum up the confusion matrix and calculate the accuracy\n",
    "from sklearn.metrics import accuracy_score\n",
    "accuracy_score(dfExp['compound'], dfExp['percentChange1'])\n"
   ]
  },
  {
   "cell_type": "code",
   "execution_count": null,
   "metadata": {},
   "outputs": [],
   "source": [
    "import time\n",
    "\n",
    "# Get the current time\n",
    "start_time = time.time()\n",
    "\n",
    "# Run intensive computations for 1 minute\n",
    "while time.time() - start_time < 60:\n",
    "    # Perform intensive computations here\n",
    "    # You can use nested loops or complex mathematical operations\n",
    "    import time\n",
    "    import multiprocessing\n",
    "\n",
    "\n",
    "# Print a message after 1 minute\n",
    "print(\"1 minute has passed.\")\n"
   ]
  },
  {
   "cell_type": "code",
   "execution_count": null,
   "metadata": {},
   "outputs": [
    {
     "ename": "TypeError",
     "evalue": "'numpy.ndarray' object is not callable",
     "output_type": "error",
     "traceback": [
      "\u001b[0;31m---------------------------------------------------------------------------\u001b[0m",
      "\u001b[0;31mTypeError\u001b[0m                                 Traceback (most recent call last)",
      "\u001b[1;32m/Users/joeljk/Documents/GitHub/Fintech-AI/backend/yahoo.ipynb Cell 14\u001b[0m line \u001b[0;36m2\n\u001b[1;32m      <a href='vscode-notebook-cell:/Users/joeljk/Documents/GitHub/Fintech-AI/backend/yahoo.ipynb#X40sZmlsZQ%3D%3D?line=0'>1</a>\u001b[0m \u001b[39m# Calculate confusion matrix\u001b[39;00m\n\u001b[0;32m----> <a href='vscode-notebook-cell:/Users/joeljk/Documents/GitHub/Fintech-AI/backend/yahoo.ipynb#X40sZmlsZQ%3D%3D?line=1'>2</a>\u001b[0m conf_matrix \u001b[39m=\u001b[39m confusion_matrix(dfExp[\u001b[39m'\u001b[39;49m\u001b[39mcompound\u001b[39;49m\u001b[39m'\u001b[39;49m], dfExp[\u001b[39m'\u001b[39;49m\u001b[39mpercentChange1\u001b[39;49m\u001b[39m'\u001b[39;49m])\n\u001b[1;32m      <a href='vscode-notebook-cell:/Users/joeljk/Documents/GitHub/Fintech-AI/backend/yahoo.ipynb#X40sZmlsZQ%3D%3D?line=3'>4</a>\u001b[0m \u001b[39m# Calculate true positive rate (TPR)\u001b[39;00m\n\u001b[1;32m      <a href='vscode-notebook-cell:/Users/joeljk/Documents/GitHub/Fintech-AI/backend/yahoo.ipynb#X40sZmlsZQ%3D%3D?line=4'>5</a>\u001b[0m TP \u001b[39m=\u001b[39m conf_matrix[\u001b[39m1\u001b[39m, \u001b[39m1\u001b[39m]\n",
      "\u001b[0;31mTypeError\u001b[0m: 'numpy.ndarray' object is not callable"
     ]
    }
   ],
   "source": []
  },
  {
   "cell_type": "code",
   "execution_count": null,
   "metadata": {},
   "outputs": [],
   "source": []
  }
 ],
 "metadata": {
  "kernelspec": {
   "display_name": "Python 3.11 (tensorflow_test)",
   "language": "python",
   "name": "tensorflow"
  },
  "language_info": {
   "codemirror_mode": {
    "name": "ipython",
    "version": 3
   },
   "file_extension": ".py",
   "mimetype": "text/x-python",
   "name": "python",
   "nbconvert_exporter": "python",
   "pygments_lexer": "ipython3",
   "version": "3.10.10"
  }
 },
 "nbformat": 4,
 "nbformat_minor": 2
}
