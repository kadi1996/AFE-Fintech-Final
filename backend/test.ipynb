{
 "cells": [
  {
   "cell_type": "code",
   "execution_count": 13,
   "metadata": {},
   "outputs": [
    {
     "name": "stdout",
     "output_type": "stream",
     "text": [
      "['Training and Knowledge of the Area', 'Training in Communication and Skills', 'Competitive landscape training', 'Training in Territory and Field Area', 'Medical product information', 'Sales and approach techniques training', 'Product Training', 'General Company Introduction', 'Area certification test', 'Conduct training', 'Simulation with External Medical Professionals', 'Field Accompaniment by DAFE', 'IT introduction', 'Compliance test', 'Regulatory test', 'Legal test', 'Introduction test']\n"
     ]
    }
   ],
   "source": [
    "import xml.etree.ElementTree as ET\n",
    "\n",
    "def extract_task_names(xml_file):\n",
    "    # Parse the XML file\n",
    "    tree = ET.parse(xml_file)\n",
    "    root = tree.getroot()\n",
    "\n",
    "    # Define the namespace\n",
    "    namespace = {'bpmn': 'http://www.omg.org/spec/BPMN/20100524/MODEL'}\n",
    "\n",
    "    # Extract names from 'task' tags\n",
    "    task_names = [task.get('name') for task in root.findall('.//bpmn:task', namespace)]\n",
    "\n",
    "    return task_names\n",
    "\n",
    "# Replace with the path to your XML file\n",
    "xml_file_path = 'Roche_Prozess_Slim.xml'\n",
    "\n",
    "# Extracting the task names\n",
    "names = extract_task_names(xml_file_path)\n",
    "print(names)\n"
   ]
  },
  {
   "cell_type": "code",
   "execution_count": 14,
   "metadata": {},
   "outputs": [
    {
     "name": "stdout",
     "output_type": "stream",
     "text": [
      "Training and Knowledge of the Area\n",
      "Training in Communication and Skills\n",
      "Competitive landscape training\n",
      "Training in Territory and Field Area\n",
      "Medical product information\n",
      "Sales and approach techniques training\n",
      "Product Training\n",
      "General Company Introduction\n",
      "Area certification test\n",
      "Conduct training\n",
      "Simulation with External Medical Professionals\n",
      "Field Accompaniment by DAFE\n",
      "IT introduction\n",
      "Compliance test\n",
      "Regulatory test\n",
      "Legal test\n",
      "Introduction test\n"
     ]
    }
   ],
   "source": [
    "for name in names:\n",
    "    print(name)"
   ]
  },
  {
   "cell_type": "code",
   "execution_count": null,
   "metadata": {},
   "outputs": [],
   "source": []
  }
 ],
 "metadata": {
  "kernelspec": {
   "display_name": "Python 3",
   "language": "python",
   "name": "python3"
  },
  "language_info": {
   "codemirror_mode": {
    "name": "ipython",
    "version": 3
   },
   "file_extension": ".py",
   "mimetype": "text/x-python",
   "name": "python",
   "nbconvert_exporter": "python",
   "pygments_lexer": "ipython3",
   "version": "3.10.12"
  }
 },
 "nbformat": 4,
 "nbformat_minor": 2
}
