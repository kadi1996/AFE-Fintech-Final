{
 "cells": [
  {
   "cell_type": "code",
   "execution_count": 1,
   "metadata": {},
   "outputs": [],
   "source": [
    "import feedparser\n",
    "import requests\n",
    "from bs4 import BeautifulSoup\n",
    "from config import Config\n",
    "import re\n",
    "# Import the os package\n",
    "import os\n",
    "\n",
    "# Import the openai package\n",
    "import openai\n"
   ]
  },
  {
   "cell_type": "code",
   "execution_count": 3,
   "metadata": {},
   "outputs": [
    {
     "ename": "IndexError",
     "evalue": "list index out of range",
     "output_type": "error",
     "traceback": [
      "\u001b[0;31m---------------------------------------------------------------------------\u001b[0m",
      "\u001b[0;31mIndexError\u001b[0m                                Traceback (most recent call last)",
      "\u001b[1;32m/Users/joeljk/Documents/GitHub/Fintech-AI/backend/RSSFeedDemo.ipynb Cell 2\u001b[0m line \u001b[0;36m1\n\u001b[1;32m      <a href='vscode-notebook-cell:/Users/joeljk/Documents/GitHub/Fintech-AI/backend/RSSFeedDemo.ipynb#W1sZmlsZQ%3D%3D?line=6'>7</a>\u001b[0m f\u001b[39m.\u001b[39mentries \u001b[39m=\u001b[39m f\u001b[39m.\u001b[39mentries[:\u001b[39m5\u001b[39m]\n\u001b[1;32m      <a href='vscode-notebook-cell:/Users/joeljk/Documents/GitHub/Fintech-AI/backend/RSSFeedDemo.ipynb#W1sZmlsZQ%3D%3D?line=8'>9</a>\u001b[0m \u001b[39m#f.entries[0].content[0].value\u001b[39;00m\n\u001b[1;32m     <a href='vscode-notebook-cell:/Users/joeljk/Documents/GitHub/Fintech-AI/backend/RSSFeedDemo.ipynb#W1sZmlsZQ%3D%3D?line=9'>10</a>\u001b[0m \u001b[39m# get the content via beautifulsoup from  f\u001b[39;00m\n\u001b[0;32m---> <a href='vscode-notebook-cell:/Users/joeljk/Documents/GitHub/Fintech-AI/backend/RSSFeedDemo.ipynb#W1sZmlsZQ%3D%3D?line=10'>11</a>\u001b[0m text \u001b[39m=\u001b[39m f\u001b[39m.\u001b[39;49mentries[\u001b[39m0\u001b[39;49m]\u001b[39m.\u001b[39mcontent[\u001b[39m0\u001b[39m]\u001b[39m.\u001b[39mvalue\n\u001b[1;32m     <a href='vscode-notebook-cell:/Users/joeljk/Documents/GitHub/Fintech-AI/backend/RSSFeedDemo.ipynb#W1sZmlsZQ%3D%3D?line=11'>12</a>\u001b[0m \u001b[39m#get just the text from the html and remove html tags\u001b[39;00m\n\u001b[1;32m     <a href='vscode-notebook-cell:/Users/joeljk/Documents/GitHub/Fintech-AI/backend/RSSFeedDemo.ipynb#W1sZmlsZQ%3D%3D?line=12'>13</a>\u001b[0m text \u001b[39m=\u001b[39m re\u001b[39m.\u001b[39msub(\u001b[39m'\u001b[39m\u001b[39m<[^<]+?>\u001b[39m\u001b[39m'\u001b[39m, \u001b[39m'\u001b[39m\u001b[39m'\u001b[39m, text)\n",
      "\u001b[0;31mIndexError\u001b[0m: list index out of range"
     ]
    }
   ],
   "source": [
    "url = 'http://feeds.bbci.co.uk/news/world/rss.xml'\n",
    "url = 'https://feeds.a.dj.com/rss/WSJcomUSBusiness.xml'\n",
    "url = 'https://stockcharts.com/articles/atom.xml'\n",
    "f = feedparser.parse(url)\n",
    "\n",
    "#cut feed down to 5 elements\n",
    "f.entries = f.entries[:5]\n",
    "\n",
    "#f.entries[0].content[0].value\n",
    "# get the content via beautifulsoup from  f\n",
    "text = f.entries[0].content[0].value\n",
    "#get just the text from the html and remove html tags\n",
    "text = re.sub('<[^<]+?>', '', text)\n",
    "soup = BeautifulSoup(text, 'html.parser')\n",
    "print(soup)"
   ]
  },
  {
   "cell_type": "code",
   "execution_count": null,
   "metadata": {},
   "outputs": [
    {
     "name": "stdout",
     "output_type": "stream",
     "text": [
      "In this edition of StockCharts TV's The Final Bar, Dave shares how growth over value is less about the types of companies and more about the market cap represented in the largest benchmark names. He breaks down today's pop-and-drop for Bitcoin and answers questions from the newly-added live Q&A!This video originally premiered on October 16, 2023. Watch on our dedicated Final Bar page on StockCharts TV, or click this link to watch on YouTube.New episodes of The Final Bar premiere every weekday afternoon LIVE at 4pm ET. You can view all previously recorded episodes at this link.\n"
     ]
    }
   ],
   "source": [
    "parsingType = 2\n",
    "\n",
    "# create a list of texts\n",
    "texts = []\n",
    "\n",
    "for entry in f.entries:\n",
    "    try:\n",
    "        if parsingType ==1:\n",
    "            #url = entry.link\n",
    "            #print(entry.link)\n",
    "            text = BeautifulSoup(requests.get(entry.link).text, 'html.parser').body.get_text()\n",
    "            text = re.sub(r'(?<=[a-zA-Z])([A-Z])', r' \\1', text).replace('  ', ' ')\n",
    "            #print(text)\n",
    "        elif parsingType == 2:\n",
    "    \n",
    "            text = entry.content[0].value\n",
    "            #get just the text from the html and remove html tags\n",
    "            text = re.sub('<[^<]+?>', '', text)\n",
    "            text = BeautifulSoup(text, 'html.parser')\n",
    "            #parse soup to text\n",
    "            text = text.get_text()\n",
    "            #print(text)\n",
    "        texts.append(text)\n",
    "    except Exception as e:\n",
    "        print(e)\n",
    "print(texts[0])"
   ]
  },
  {
   "cell_type": "code",
   "execution_count": 23,
   "metadata": {},
   "outputs": [],
   "source": [
    "#r = requests.get(url)\n",
    "#use beautifulsoup to extract the text from the html\n",
    "#soup = BeautifulSoup(r.text, 'html.parser')\n",
    "#get only body from soup\n",
    "#body = soup.body\n",
    "#only get the text from the body\n",
    "#text = body.get_text()\n",
    "\n",
    "#compact version\n"
   ]
  },
  {
   "cell_type": "code",
   "execution_count": 24,
   "metadata": {},
   "outputs": [
    {
     "data": {
      "text/plain": [
       "[\"In this edition of\\xa0StockCharts TV's\\xa0The Final Bar, Dave shares how growth over value is less about the types of companies and more about the market cap represented in the largest benchmark names. He breaks down today's pop-and-drop for Bitcoin and answers questions from the newly-added live Q&A!This video originally premiered on October 16, 2023. Watch on\\xa0our dedicated\\xa0Final Bar\\xa0page\\xa0on StockCharts TV, or click\\xa0this link\\xa0to watch on YouTube.New episodes of The Final Bar premiere every weekday afternoon LIVE at 4pm ET. You can view all previously recorded episodes\\xa0at this link. Apple Google Samsung\",\n",
       " 'Waking up to a new week of geopolitical stress, fake news (Blackrock spot ETF), higher yields, softer dollar, equities rally, I thought to myself: As far as the market goes, it feels like time is standing still. Why would I think that? After all, it may not last and certainly we have opposing forces. Seasonally, Q4 should be strong. Bank earnings were solid with many more earnings on tap. Inflation remains sticky. Nobody knows if the Hamas-Israel war will escalate, lateralize, or resolve.Buyers defended the major moving averages in small caps and retail sectors. Our risk gauges are more neutral, not bearish or bullish. Thus there is no better time to go and review our Economic Modern Family on a weekly timeframe to help us assess if time has stopped, for how long and what is next.Top left, Granny Retail (XRT), since the rally in late July, has not done much. It\\'s above 57, but below the major weekly moving averages; we could say the range to watch is 57-65 to alter time in perpetuity.Next is Gramps Russell 2000, Small Caps (IWM). Holding 170, IWM is stuck between major support and overhead resistance at 180. Even a move over 175 would be a good start to get things moving. And, clearly, a move under 170 would not be so healthy for time or investors.Biotech (IBB) has been stuck in time for the last 4 weeks. 120-125 is the best range to watch.Sister Semiconductors (SMH) is in a bull phase, is nonetheless stuck between 140-157. As a typical leader of the market, we\\'re watching her carefully.Transportation (IYT) had a great rally from June until late August. But since then, it\\'s sat at April, May, June lows, and now again at those same lows since late September. 220-235 a good range to watch.Prodigal Son Regional Banks (KRE) may need to be banished from the Family. Since March, the direction of regional banks is questionable, while big banks have the staying power.  Nonetheless, KRE, except for a couple of rallies and sell offs, sits between 40-45.Bitcoin, a new member of the Family, was featured over the weekend in our Daily. Now, a close over 28,000 could begin a decoupling of both the family and time standing still.This is for educational purposes only. Trading comes with risk.For more detailed trading information about our blended models, tools and trader education courses, contact Rob Quinn, our Chief Strategy Consultant, to learn more.If you find it difficult to execute the MarketGauge strategies or would like to explore how we can do it for you, please email Ben Scheibe at\\xa0Benny@MGAMLLC.com.\"I grew my money tree and so can you!\" - Mish SchneiderGet your copy of Plant Your Money Tree: A Guide to Growing Your Wealth and a special bonus here.Follow Mish on Twitter @marketminute for stock picks and more. Follow Mish on Instagram (mishschneider) for daily morning videos. To see updated media clips, click here.Mish in the MediaMish and Dale Pinkert discuss the disconnect between news and markets-and how to best invest right now in this video from ForexAnalytix\\'s pre-market show.In this video from CMC Markets, Mish shares her short-term forecast for USD/JPY and popular commodity instruments ahead of the US PPI announcement and September\\'s Fed meeting minutes, with recent dovish comments from Fed officials suggesting a potential shift in the committee\\'s policies.Mish joins Business First AM to discuss the market reaction to the war in Gaza in this video.Mish discusses what\\'s needed for a market bottom on the Financial Sense Newshour podcast with Jim Puplava.Mish takes over as guest host for David Keller, CMT on the Monday, October 9 edition of StockCharts TV\\'s The Final Bar, where she shares her thoughts in the daily Market Recap during a day of uncertain news.To quote Al Mendez, \"The smartest woman in Business Analysis @marketminute [Mish] impresses Charles with her \"deep dive\" to interpret the present Market direction.\" See Mish\\'s appearance on Fox Business\\' Making Money with Charles Payne here!Mish covers bonds, small caps, transports and commodities-dues for the next moves in this video from Yahoo! Finance.In this video from Real Vision, Mish joins Maggie Lake to share what her framework suggests about junk bonds and investment-grade bonds, what she\\'s watching in commodity markets, and how to structure a portfolio to navigate both bull and bear markets.Mish was interviewed by Kitco News for the article \"This Could Be the Last Gasp of the Bond Market Selloff, Which Will be Bullish for Gold Prices\", available to read here.Mish presents a warning in this appearance on BNN Bloomberg\\'s Opening Bell -- before loading up seasonality trades or growth stocks, watch the \"inside\" sectors of the US economy.Watch Mish and Nicole Petallides discuss how pros and cons working in tandem, plus why commodities are still a thing, in this video from Schwab.Coming Up:October 19: Live CoachingOctober 20: StockCharts TV\\'s Your Daily FiveOctober 23: BNN BloombergOctober 27: Live in-studio with Charles Payne, Fox BusinessOctober 29-31: The Money ShowWeekly: Business First AM, CMC MarketsETF SummaryS&P 500 (SPY): 440 resistance, 429 support.Russell 2000 (IWM): 177 resistance, 170 KEY support.Dow (DIA):\\xa0344 resistance, 332 support.Nasdaq (QQQ): 368 pivotal.Regional Banks (KRE): 39.80 -42.00 range.Semiconductors (SMH): 150 pivotal.Transportation (IYT): 237 resistance, 225 support.Biotechnology (IBB):\\xa0120-125 range.Retail (XRT): 57 key support if can climb over 61, better.Mish SchneiderMarketGauge.comDirector of Trading Research and Education Apple Google Samsung',\n",
       " 'In this edition of the GoNoGo Charts show, with US Equities delivering a streak of daily gains this week, Alex and Tyler examine the daily weak NoGo trend conditions against the weak Go trend conditions on the weekly timeframe. The model is calculated the exact same way, but longer timeframe data is showing the S&P holding a Go trend, while daily price action is still in weak NoGo conditions as price reaches a lower high.This video originally premiered on October 5, 2023. Click this link to watch on YouTube.Learn more about the GoNoGo ACP plug-in with the FREE starter plug-in or the full featured plug-in pack. Apple Google Samsung',\n",
       " \"In this week's edition of The DecisionPoint Trading Room, Carl discusses the war's effect on the market and looks closer at the effects of high mortgage rates, which have hit multiyear highs. These are pinching not only buyers, but sellers and homebuilders. Afterwards, he goes deeper into the Utilities sector. Erin piggybacks on a recent Seeking Alpha poll regarding which of four retailers are likely to go bankrupt first; she looks at the charts and gives you the results. They then finish with taking your symbol requests.This video was originally recorded on October 16, 2023. Click this link to watch on YouTube.New episodes of The DecisionPoint Trading Room premiere on the StockCharts TV YouTube channel on Mondays. Past videos will be available to watch here. Sign up to attend the trading room live Mondays at 12pm ET by clicking here! Apple Google Samsung\",\n",
       " \"On this episode of StockCharts TV's\\xa0Sector Spotlight, after two weeks of absence, Julius de Kempenaer is back with an in-depth look at the current state of asset class rotation and sector rotation. By slicing sectors into Offensive, Defensive, and Sensitive groups, he paints a picture with an outlook for coming weeks.This video was originally broadcast on October 16, 2023. Click anywhere on the\\xa0Sector Spotlight\\xa0logo above to view on\\xa0our dedicated\\xa0Sector Spotlight\\xa0page, or\\xa0click this link\\xa0to watch on YouTube.Past episodes of Sector Spotlight can be found\\xa0here.#StaySafe, -Julius Apple Google Samsung\"]"
      ]
     },
     "execution_count": 24,
     "metadata": {},
     "output_type": "execute_result"
    }
   ],
   "source": [
    "#add apple, google and samsung to the each string\n",
    "texts = [text + ' Apple Google Samsung' for text in texts]\n",
    "texts"
   ]
  },
  {
   "cell_type": "code",
   "execution_count": 25,
   "metadata": {},
   "outputs": [],
   "source": [
    "\n",
    "# From the IPython.display package, import display and Markdown\n",
    "#from IPython.display import display, Markdown\n",
    "\n",
    "# Import yfinance as yf\n",
    "\n",
    "#import yfinance as yf"
   ]
  },
  {
   "cell_type": "code",
   "execution_count": 30,
   "metadata": {},
   "outputs": [
    {
     "name": "stdout",
     "output_type": "stream",
     "text": [
      "no\n",
      "0\n",
      "no stocks mentioned in How Mega-Cap Names Dominate Through Market Cap\n",
      "no\n",
      "0\n",
      "no stocks mentioned in When News Moves So Fast, Stocks Can Stand Still\n",
      "no\n",
      "0\n",
      "no stocks mentioned in GNG TV: Looking at a Relief Rally or a Return to Go Trends?\n",
      "no\n",
      "0\n",
      "no stocks mentioned in DP Trading Room: Mortgage Rates Hit Multiyear High -- Who Goes Bankrupt First?\n",
      "no\n",
      "0\n",
      "no stocks mentioned in Sensitive Sectors Continue to Prop Up the S&P 500\n"
     ]
    }
   ],
   "source": [
    "openai.api_key = Config.API_KEY\n",
    "\n",
    "#create a dictionary for use in storing the data\n",
    "data = {}\n",
    "\n",
    "#loop through the texts\n",
    "for i in range(len(texts)):\n",
    "    prompt = \"\"\"You are an assistant to a financial advisor. She tasked you with reading the text and assessing weahter it mentions a stock. Also consider if any of the stock might be impacted, if not directly mentioned\n",
    "    If so provide a comma separated list of the stocks. If it does not simply respond 'no'\"\"\"\n",
    "\n",
    "    response = openai.ChatCompletion.create(\n",
    "        # = Config.API_KEY,\n",
    "        model=\"gpt-4-0314\",\n",
    "        messages=[{\"role\": \"system\", \"content\": prompt},\n",
    "                {\"role\": \"user\", \"content\": text}\n",
    "        ])\n",
    "    concludion = response.choices[0].message.content.lower()\n",
    "\n",
    "    #check if conclusion contains yes or no\n",
    "    print(concludion)\n",
    "    if 'no' in concludion:\n",
    "        print(0)\n",
    "        print('no stocks mentioned in ' + f.entries[i].title)\n",
    "    else:\n",
    "        try:\n",
    "            #parse the conclusion to get the list of stocks\n",
    "            stocks = concludion.split(',')\n",
    "            #remove any spaces and commas at beginning and end of each list entry\n",
    "            stocks = [stock.strip() for stock in stocks]\n",
    "            \n",
    "            data[i] = {}\n",
    "            #add the url to the dictionary\n",
    "            data[i]['url'] = url\n",
    "            #add the title to the dictionary\n",
    "            data[i]['title'] = f.entries[0].title\n",
    "            #add the text to the dictionary\n",
    "            data[i]['text'] = text\n",
    "            #add the stocks to the dictionary\n",
    "            data[i]['stocks'] = stocks\n",
    "        #catch any errors\n",
    "        except Exception as e:\n",
    "            stocks = []\n",
    "            print('error ' + str(e))\n",
    "        print (stocks)\n"
   ]
  },
  {
   "cell_type": "code",
   "execution_count": null,
   "metadata": {},
   "outputs": [],
   "source": []
  },
  {
   "cell_type": "code",
   "execution_count": 27,
   "metadata": {},
   "outputs": [],
   "source": [
    "#check if substring is in string\n",
    "#substring = 'yes'\n",
    "#string = concludion\n",
    "#if substring in string:\n",
    "#    print(1)\n",
    "#else:"
   ]
  },
  {
   "cell_type": "code",
   "execution_count": 28,
   "metadata": {},
   "outputs": [
    {
     "name": "stdout",
     "output_type": "stream",
     "text": [
      "<class 'feedparser.util.FeedParserDict'>\n"
     ]
    }
   ],
   "source": [
    "print(type(f.entries[0]))"
   ]
  },
  {
   "cell_type": "code",
   "execution_count": null,
   "metadata": {},
   "outputs": [],
   "source": []
  },
  {
   "cell_type": "code",
   "execution_count": 29,
   "metadata": {},
   "outputs": [
    {
     "data": {
      "text/plain": [
       "{}"
      ]
     },
     "execution_count": 29,
     "metadata": {},
     "output_type": "execute_result"
    }
   ],
   "source": [
    "data"
   ]
  },
  {
   "cell_type": "code",
   "execution_count": null,
   "metadata": {},
   "outputs": [],
   "source": []
  }
 ],
 "metadata": {
  "kernelspec": {
   "display_name": ".venv",
   "language": "python",
   "name": "python3"
  },
  "language_info": {
   "codemirror_mode": {
    "name": "ipython",
    "version": 3
   },
   "file_extension": ".py",
   "mimetype": "text/x-python",
   "name": "python",
   "nbconvert_exporter": "python",
   "pygments_lexer": "ipython3",
   "version": "3.10.12"
  },
  "orig_nbformat": 4
 },
 "nbformat": 4,
 "nbformat_minor": 2
}
